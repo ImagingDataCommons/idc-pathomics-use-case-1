{
 "cells": [
  {
   "cell_type": "code",
   "execution_count": null,
   "source": [
    "import os\n",
    "#%load_ext autoreload\n",
    "#%autoreload 2"
   ],
   "outputs": [],
   "metadata": {}
  },
  {
   "cell_type": "markdown",
   "source": [
    "# Preprocessing"
   ],
   "metadata": {}
  },
  {
   "cell_type": "code",
   "execution_count": null,
   "source": [
    "input_dir = os.environ['IDC_INPUT_DATA_DIR']\n",
    "slides_dir = os.path.join(input_dir, 'slides')\n",
    "tiles_dir = os.path.join(input_dir, 'tiles')"
   ],
   "outputs": [],
   "metadata": {}
  },
  {
   "cell_type": "code",
   "execution_count": null,
   "source": [
    "#from data.tile_generation import generate_tiles\n",
    "\n",
    "#generate_tiles(slides_dir, tiles_dir, desired_magnification=5.0)"
   ],
   "outputs": [],
   "metadata": {}
  },
  {
   "cell_type": "code",
   "execution_count": null,
   "source": [
    "#from data.tile_sorting import sort_tiles\n",
    "\n",
    "#metadata_file = os.path.join(input_dir, 'metadata.cart.2017-03-02T00_36_30.276824.json')\n",
    "#sort_tiles(tiles_dir, metadata_file, input_dir, 'norm_cancer', magnification=5.0)\n",
    "#sort_tiles(tiles_dir, metadata_file, input_dir, 'luad_lusc', magnification=5.0)\n",
    "#sort_tiles(tiles_dir, metadata_file, input_dir, 'norm_luad_lusc', magnification=5.0)"
   ],
   "outputs": [],
   "metadata": {}
  },
  {
   "cell_type": "code",
   "execution_count": null,
   "source": [
    "#from data.mutation_data_preparation import prepare_mutation_data, prepare_mutation_data_as_binary_problem\n",
    "\n",
    "#prepare_mutation_data(input_dir, os.path.join(input_dir, 'mutation_labels.csv'), os.path.join(input_dir, 'luad_tiles_predicted_by_original_coudray_code_acc_to_sorted_mutations_folder.csv'))\n",
    "#MUTATION_LABELS = {'stk11':0, 'egfr':1, 'setbp1':2, 'tp53':3, 'fat1':4, 'kras':5, 'keap1':6, 'lrp1b':7, 'fat4':8, 'nf1':9}\n",
    "#prepare_mutation_data_as_binary_problem(os.path.join(input_dir, 'csv_train_mutations_split1.csv'), 'tp53')\n",
    "#prepare_mutation_data_as_binary_problem(os.path.join(input_dir, 'csv_valid_mutations_split1.csv'), 'tp53')\n",
    "#prepare_mutation_data_as_binary_problem(os.path.join(input_dir, 'csv_test_mutations_split1.csv'), 'tp53')"
   ],
   "outputs": [],
   "metadata": {}
  }
 ],
 "metadata": {
  "environment": {
   "name": "tf2-gpu.2-1.m58",
   "type": "gcloud",
   "uri": "gcr.io/deeplearning-platform-release/tf2-gpu.2-1:m58"
  },
  "kernelspec": {
   "display_name": "Python 3",
   "language": "python",
   "name": "python3"
  },
  "language_info": {
   "codemirror_mode": {
    "name": "ipython",
    "version": 3
   },
   "file_extension": ".py",
   "mimetype": "text/x-python",
   "name": "python",
   "nbconvert_exporter": "python",
   "pygments_lexer": "ipython3",
   "version": "3.7.8"
  }
 },
 "nbformat": 4,
 "nbformat_minor": 4
}