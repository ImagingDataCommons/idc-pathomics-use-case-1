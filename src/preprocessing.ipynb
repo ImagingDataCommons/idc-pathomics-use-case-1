{
 "cells": [
  {
   "cell_type": "code",
   "execution_count": null,
   "metadata": {},
   "outputs": [],
   "source": [
    "%load_ext autoreload\n",
    "%autoreload 2"
   ]
  },
  {
   "cell_type": "markdown",
   "metadata": {},
   "source": [
    "# Preprocessing"
   ]
  },
  {
   "cell_type": "markdown",
   "metadata": {},
   "source": [
    "Original svs-files and a json-file with metadata are located at ?. This step produces patches from the images and metadata-files for the experiment."
   ]
  },
  {
   "cell_type": "code",
   "execution_count": null,
   "metadata": {},
   "outputs": [],
   "source": [
    "from data.tile_generation import run_tile_generation\n",
    "\n",
    "run_tile_generation('/input_data/slides', '/output_data/tiles')"
   ]
  },
  {
   "cell_type": "code",
   "execution_count": null,
   "metadata": {},
   "outputs": [],
   "source": [
    "from data.tile_sorting import run_tile_sorting\n",
    "\n",
    "run_tile_sorting('/output/tiles', '/input/slides/metadata.cart.2017-03-02T00_36_30.276824.json', \n",
    "                 '/output_data', 1)\n",
    "run_tile_sorting('/output/tiles', '/input/slides/metadata.cart.2017-03-02T00_36_30.276824.json',\n",
    "                 '/output', 2)\n",
    "run_tile_sorting('/output/tiles', '/input/slides/metadata.cart.2017-03-02T00_36_30.276824.json',\n",
    "                 '/output', 3)"
   ]
  }
 ],
 "metadata": {
  "environment": {
   "name": "tf2-gpu.2-1.m58",
   "type": "gcloud",
   "uri": "gcr.io/deeplearning-platform-release/tf2-gpu.2-1:m58"
  },
  "kernelspec": {
   "display_name": "Python 3",
   "language": "python",
   "name": "python3"
  },
  "language_info": {
   "codemirror_mode": {
    "name": "ipython",
    "version": 3
   },
   "file_extension": ".py",
   "mimetype": "text/x-python",
   "name": "python",
   "nbconvert_exporter": "python",
   "pygments_lexer": "ipython3",
   "version": "3.7.8"
  }
 },
 "nbformat": 4,
 "nbformat_minor": 4
}
