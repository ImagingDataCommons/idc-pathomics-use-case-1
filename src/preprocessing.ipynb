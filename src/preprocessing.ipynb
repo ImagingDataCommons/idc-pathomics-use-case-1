{
 "cells": [
  {
   "cell_type": "code",
   "execution_count": null,
   "metadata": {},
   "outputs": [],
   "source": [
    "import os\n",
    "#%load_ext autoreload\n",
    "#%autoreload 2"
   ]
  },
  {
   "cell_type": "markdown",
   "metadata": {},
   "source": [
    "# Preprocessing"
   ]
  },
  {
   "cell_type": "markdown",
   "metadata": {},
   "source": [
    "Original svs-files and a json-file with metadata are located at ?. This step produces patches from the images and metadata-files for the experiment."
   ]
  },
  {
   "cell_type": "code",
   "execution_count": null,
   "metadata": {},
   "outputs": [],
   "source": [
    "input_dir = os.environ['IDC_INPUT_DATA_DIR']\n",
    "output_dir = os.environ['IDC_OUTPUT_DATA_DIR']\n",
    "slides_dir = os.path.join(input_dir, 'slides')\n",
    "tiles_dir = os.path.join(output_dir, 'tiles')"
   ]
  },
  {
   "cell_type": "code",
   "execution_count": null,
   "metadata": {},
   "outputs": [],
   "source": [
    "#from data.tile_generation import generate_tiles\n",
    "\n",
    "#generate_tiles(slides_dir, tiles_dir, desired_magnification=5.0)"
   ]
  },
  {
   "cell_type": "code",
   "execution_count": null,
   "metadata": {},
   "outputs": [],
   "source": [
    "from data.tile_sorting import sort_tiles\n",
    "\n",
    "sort_tiles(tiles_dir, os.path.join(main_dir, 'metadata.cart.2017-03-02T00_36_30.276824.json'), \n",
    "            output_dir, 'norm_cancer')\n",
    "sort_tiles(tiles_dir, os.path.join(main_dir, 'metadata.cart.2017-03-02T00_36_30.276824.json'), \n",
    "            output_dir, 'luad_lusc')\n",
    "sort_tiles(tiles_dir, os.path.join(main_dir, 'metadata.cart.2017-03-02T00_36_30.276824.json'), \n",
    "            output_dir, 'norm_luad_lusc')"
   ]
  },
  {
   "cell_type": "code",
   "execution_count": null,
   "metadata": {},
   "outputs": [],
   "source": [
    "#from data.mutation_data_preparation import prepare_mutation_data, prepare_mutation_data_as_binary_problem\n",
    "\n",
    "#prepare_mutation_data(main_dir, os.path.join(main_dir, 'mutation_labels.csv'), os.path.join(main_dir, 'luad_tiles.csv'))\n",
    "#MUTATION_LABELS = {'stk11':0, 'egfr':1, 'setbp1':2, 'tp53':3, 'fat1':4, 'kras':5, 'keap1':6, 'lrp1b':7, 'fat4':8, 'nf1':9}\n",
    "#prepare_mutation_data_as_binary_problem(os.path.join(input_dir, 'csv_train_mutations_split1.csv'), 'egfr')\n",
    "#prepare_mutation_data_as_binary_problem(os.path.join(input_dir, 'csv_valid_mutations_split1.csv'), 'egfr')\n",
    "#prepare_mutation_data_as_binary_problem(os.path.join(input_dir, 'csv_test_mutations_split1.csv'), 'egfr')"
   ]
  }
 ],
 "metadata": {
  "environment": {
   "name": "tf2-gpu.2-1.m58",
   "type": "gcloud",
   "uri": "gcr.io/deeplearning-platform-release/tf2-gpu.2-1:m58"
  },
  "kernelspec": {
   "display_name": "Python 3",
   "language": "python",
   "name": "python3"
  },
  "language_info": {
   "codemirror_mode": {
    "name": "ipython",
    "version": 3
   },
   "file_extension": ".py",
   "mimetype": "text/x-python",
   "name": "python",
   "nbconvert_exporter": "python",
   "pygments_lexer": "ipython3",
   "version": "3.7.8"
  }
 },
 "nbformat": 4,
 "nbformat_minor": 4
}