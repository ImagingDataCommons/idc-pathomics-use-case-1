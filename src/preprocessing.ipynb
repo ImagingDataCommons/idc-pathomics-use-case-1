{
 "cells": [
  {
   "cell_type": "code",
   "execution_count": 1,
   "metadata": {},
   "outputs": [],
   "source": [
    "%load_ext autoreload\n",
    "%autoreload 2"
   ]
  },
  {
   "cell_type": "markdown",
   "metadata": {},
   "source": [
    "# Preprocessing"
   ]
  },
  {
   "cell_type": "markdown",
   "metadata": {},
   "source": [
    "Original svs-files and a json-file with metadata are located at ?. This step produces patches from the images and metadata-files for the experiment."
   ]
  },
  {
   "cell_type": "code",
   "execution_count": 2,
   "metadata": {},
   "outputs": [
    {
     "name": "stdout",
     "output_type": "stream",
     "text": [
      "Reading input data from /input_data/slides\n",
      "Slide TCGA-43-8115-01A-01-BS1.9ddf5647-9e2b-4f20-b6f6-4e22bb7798a8 already tiled\n",
      "Slide TCGA-55-A57B-01A-01-TS1.470598E9-1F33-4D37-8C93-21876A8C5F96 already tiled\n",
      "Slide TCGA-18-4083-01A-01-TS1.a0388938-dc73-4298-9e5a-b4db390cdff4 already tiled\n",
      "Slide TCGA-63-7023-01A-01-BS1.cf277f61-7e00-476e-9e1b-820dc885cf51 already tiled\n",
      "Slide TCGA-55-8514-01A-01-TS1.0e0f5cf3-96e9-4a35-aaed-4340df78d389 already tiled\n",
      "Sorting NORMAL vs. CANCER\n"
     ]
    }
   ],
   "source": [
    "from data.tile_generation import run_tile_generation\n",
    "\n",
    "run_tile_generation('/input_data/slides', '/output_data/tiles')"
   ]
  },
  {
   "cell_type": "code",
   "execution_count": null,
   "metadata": {},
   "outputs": [],
   "source": [
    "from data.tile_sorting import run_tile_sorting\n",
    "\n",
    "run_tile_sorting('/output/tiles', '/input/slides/metadata.cart.2017-03-02T00_36_30.276824.json', \n",
    "                 '/output_data', 1)\n",
    "run_tile_sorting('/output/tiles', '/input/slides/metadata.cart.2017-03-02T00_36_30.276824.json',\n",
    "                 '/output', 2)\n",
    "run_tile_sorting('/output/tiles', '/input/slides/metadata.cart.2017-03-02T00_36_30.276824.json',\n",
    "                 '/output', 3)"
   ]
  }
 ],
 "metadata": {
  "environment": {
   "name": "tf2-gpu.2-1.m58",
   "type": "gcloud",
   "uri": "gcr.io/deeplearning-platform-release/tf2-gpu.2-1:m58"
  },
  "kernelspec": {
   "display_name": "Python 3",
   "language": "python",
   "name": "python3"
  },
  "language_info": {
   "codemirror_mode": {
    "name": "ipython",
    "version": 3
   },
   "file_extension": ".py",
   "mimetype": "text/x-python",
   "name": "python",
   "nbconvert_exporter": "python",
   "pygments_lexer": "ipython3",
   "version": "3.7.8"
  }
 },
 "nbformat": 4,
 "nbformat_minor": 4
}