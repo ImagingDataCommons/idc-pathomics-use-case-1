{
 "cells": [
  {
   "cell_type": "code",
   "execution_count": null,
   "metadata": {},
   "outputs": [],
   "source": [
    "import os\n",
    "#%load_ext autoreload\n",
    "#%autoreload 2"
   ]
  },
  {
   "cell_type": "markdown",
   "metadata": {},
   "source": [
    "# Preprocessing"
   ]
  },
  {
   "cell_type": "markdown",
   "metadata": {},
   "source": [
    "Original svs-files and a json-file with metadata are located at ?. This step produces patches from the images and metadata-files for the experiment."
   ]
  },
  {
   "cell_type": "code",
   "execution_count": null,
   "metadata": {},
   "outputs": [],
   "source": [
    "input_dir = os.environ['IDC_INPUT_DATA_DIR']\n",
    "output_dir = os.environ['IDC_OUTPUT_DATA_DIR']\n",
    "slides_dir = os.path.join(input_dir, 'slides')\n",
    "tiles_dir = os.path.join(output_dir, 'tiles_5x')"
   ]
  },
  {
   "cell_type": "code",
   "execution_count": null,
   "metadata": {},
   "outputs": [],
   "source": [
    "from data.tile_generation import generate_tiles\n",
    "\n",
    "generate_tiles(slides_dir, tiles_dir, desired_magnification=5.0)"
   ]
  },
  {
   "cell_type": "code",
   "execution_count": null,
   "metadata": {},
   "outputs": [],
   "source": [
    "#from data.tile_sorting import sort_tiles\n",
    "\n",
    "#run_tile_sorting(tiles_dir, os.path.join(main_dir, 'metadata.cart.2017-03-02T00_36_30.276824.json'), \n",
    "#                 main_dir, 'norm_cancer')\n",
    "#run_tile_sorting(tiles_dir, os.path.join(main_dir, 'metadata.cart.2017-03-02T00_36_30.276824.json'), \n",
    "#                 main_dir, 'luad_lusc')\n",
    "#run_tile_sorting(tiles_dir, os.path.join(main_dir, 'metadata.cart.2017-03-02T00_36_30.276824.json'), \n",
    "#                 main_dir, 'norm_luad_lusc')"
   ]
  },
  {
   "cell_type": "code",
   "execution_count": null,
   "metadata": {},
   "outputs": [],
   "source": [
    "#from data.mutation_data_preparation import prepare_mutation_data\n",
    "\n",
    "#prepare_mutation_data(main_dir, os.path.join(main_dir, 'mutation_labels.csv'), os.path.join(main_dir, 'luad_tiles.csv'))"
   ]
  }
 ],
 "metadata": {
  "environment": {
   "name": "tf2-gpu.2-1.m58",
   "type": "gcloud",
   "uri": "gcr.io/deeplearning-platform-release/tf2-gpu.2-1:m58"
  },
  "kernelspec": {
   "display_name": "Python 3",
   "language": "python",
   "name": "python3"
  },
  "language_info": {
   "codemirror_mode": {
    "name": "ipython",
    "version": 3
   },
   "file_extension": ".py",
   "mimetype": "text/x-python",
   "name": "python",
   "nbconvert_exporter": "python",
   "pygments_lexer": "ipython3",
   "version": "3.7.8"
  }
 },
 "nbformat": 4,
 "nbformat_minor": 4
}