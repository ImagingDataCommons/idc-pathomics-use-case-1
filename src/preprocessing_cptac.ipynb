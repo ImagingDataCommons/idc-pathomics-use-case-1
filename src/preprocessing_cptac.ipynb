{
 "cells": [
  {
   "cell_type": "code",
   "execution_count": 1,
   "metadata": {},
   "outputs": [],
   "source": [
    "import os\n",
    "#%load_ext autoreload\n",
    "#%autoreload 2"
   ]
  },
  {
   "cell_type": "markdown",
   "metadata": {},
   "source": [
    "# Preprocessing"
   ]
  },
  {
   "cell_type": "code",
   "execution_count": 2,
   "metadata": {},
   "outputs": [
    {
     "name": "stdout",
     "output_type": "stream",
     "text": [
      "Hit:1 http://security.debian.org/debian-security buster/updates InRelease\n",
      "Hit:2 http://deb.debian.org/debian buster InRelease                            \n",
      "Hit:3 http://deb.debian.org/debian buster-updates InRelease                    \n",
      "Hit:4 http://deb.debian.org/debian buster-backports InRelease                  \n",
      "Hit:5 https://nvidia.github.io/libnvidia-container/stable/debian10/amd64  InRelease\n",
      "Hit:7 https://nvidia.github.io/nvidia-container-runtime/stable/debian10/amd64  InRelease\n",
      "Hit:8 https://download.docker.com/linux/debian buster InRelease                \n",
      "Hit:9 https://nvidia.github.io/nvidia-docker/debian10/amd64  InRelease\n",
      "Get:10 http://packages.cloud.google.com/apt cloud-sdk-buster InRelease [6774 B]\n",
      "Hit:11 https://packages.cloud.google.com/apt google-fast-socket InRelease\n",
      "Hit:12 http://packages.cloud.google.com/apt google-cloud-packages-archive-keyring-buster InRelease\n",
      "Hit:6 https://packages.cloud.google.com/apt kubernetes-xenial InRelease\n",
      "Hit:13 http://packages.cloud.google.com/apt gcsfuse-buster InRelease\n",
      "Get:14 http://packages.cloud.google.com/apt google-compute-engine-buster-stable InRelease [5526 B]\n",
      "Fetched 12.3 kB in 1s (8359 B/s)   \n",
      "Reading package lists... Done\n",
      "Reading package lists... Done\n",
      "Building dependency tree       \n",
      "Reading state information... Done\n",
      "python3-openslide is already the newest version (1.1.1-4).\n",
      "0 upgraded, 0 newly installed, 0 to remove and 1 not upgraded.\n",
      "Requirement already satisfied: openslide-wrapper==1.1.2 in /usr/local/lib/python3.7/dist-packages (from -r ../requirements.txt (line 1)) (1.1.2)\n",
      "Requirement already satisfied: numpy==1.19.1 in /usr/local/lib/python3.7/dist-packages (from -r ../requirements.txt (line 2)) (1.19.1)\n",
      "Requirement already satisfied: scikit-learn==0.24.1 in /usr/local/lib/python3.7/dist-packages (from -r ../requirements.txt (line 3)) (0.24.1)\n",
      "Requirement already satisfied: pandas==1.1.0 in /usr/local/lib/python3.7/dist-packages (from -r ../requirements.txt (line 4)) (1.1.0)\n",
      "Requirement already satisfied: seaborn in /usr/local/lib/python3.7/dist-packages (from -r ../requirements.txt (line 5)) (0.11.1)\n",
      "Requirement already satisfied: Pillow in /usr/lib/python3/dist-packages (from openslide-wrapper==1.1.2->-r ../requirements.txt (line 1)) (5.4.1)\n",
      "Requirement already satisfied: joblib>=0.11 in /usr/local/lib/python3.7/dist-packages (from scikit-learn==0.24.1->-r ../requirements.txt (line 3)) (1.0.1)\n",
      "Requirement already satisfied: scipy>=0.19.1 in /usr/local/lib/python3.7/dist-packages (from scikit-learn==0.24.1->-r ../requirements.txt (line 3)) (1.7.0)\n",
      "Requirement already satisfied: threadpoolctl>=2.0.0 in /usr/local/lib/python3.7/dist-packages (from scikit-learn==0.24.1->-r ../requirements.txt (line 3)) (2.2.0)\n",
      "Requirement already satisfied: python-dateutil>=2.7.3 in /usr/local/lib/python3.7/dist-packages (from pandas==1.1.0->-r ../requirements.txt (line 4)) (2.8.2)\n",
      "Requirement already satisfied: pytz>=2017.2 in /usr/local/lib/python3.7/dist-packages (from pandas==1.1.0->-r ../requirements.txt (line 4)) (2021.1)\n",
      "Requirement already satisfied: matplotlib>=2.2 in /usr/local/lib/python3.7/dist-packages (from seaborn->-r ../requirements.txt (line 5)) (3.4.2)\n",
      "Requirement already satisfied: six>=1.5 in /usr/local/lib/python3.7/dist-packages (from python-dateutil>=2.7.3->pandas==1.1.0->-r ../requirements.txt (line 4)) (1.16.0)\n",
      "Requirement already satisfied: kiwisolver>=1.0.1 in /usr/local/lib/python3.7/dist-packages (from matplotlib>=2.2->seaborn->-r ../requirements.txt (line 5)) (1.3.1)\n",
      "Requirement already satisfied: cycler>=0.10 in /usr/local/lib/python3.7/dist-packages (from matplotlib>=2.2->seaborn->-r ../requirements.txt (line 5)) (0.10.0)\n",
      "Requirement already satisfied: pyparsing>=2.2.1 in /usr/local/lib/python3.7/dist-packages (from matplotlib>=2.2->seaborn->-r ../requirements.txt (line 5)) (2.4.7)\n"
     ]
    }
   ],
   "source": [
    "!sudo apt-get update\n",
    "!sudo apt-get install --no-install-recommends -y python3-openslide\n",
    "!sudo pip3 install -r ../requirements.txt\n",
    "import sys\n",
    "sys.path.append('/usr/local/lib/python3.7/dist-packages')"
   ]
  },
  {
   "cell_type": "code",
   "execution_count": 3,
   "metadata": {},
   "outputs": [],
   "source": [
    "input_dir = '/home/jupyter/idc_input/'\n",
    "slides_dir = os.path.join(input_dir, 'cptac_slides')\n",
    "tiles_dir = os.path.join(input_dir, 'cptac_tiles')\n",
    "#mkdir respective folders? and afterwards delete slide folder, because it is empty?  "
   ]
  },
  {
   "cell_type": "code",
   "execution_count": null,
   "metadata": {},
   "outputs": [
    {
     "name": "stdout",
     "output_type": "stream",
     "text": [
      "Reading input data from /home/jupyter/idc_input/cptac_slides\n"
     ]
    },
    {
     "name": "stderr",
     "output_type": "stream",
     "text": [
      "Copying gs://idc_v3_cptac_lscc/79d63483-77aa-4b23-ab72-d7092dcf85fa.dcm...\n",
      "/ [1 files][177.8 MiB/177.8 MiB]                                                \n",
      "Operation completed over 1 objects/177.8 MiB.                                    \n"
     ]
    },
    {
     "name": "stdout",
     "output_type": "stream",
     "text": [
      "Processing: C3L-02629-26\n",
      "15\n"
     ]
    },
    {
     "name": "stderr",
     "output_type": "stream",
     "text": [
      "Copying gs://idc_v3_cptac_lscc/77b8a091-3e05-4bde-aeaf-03d3b17fff7b.dcm...\n",
      "| [1 files][436.4 MiB/436.4 MiB]                                                \n",
      "Operation completed over 1 objects/436.4 MiB.                                    \n"
     ]
    },
    {
     "name": "stdout",
     "output_type": "stream",
     "text": [
      "Processing: C3L-02660-24\n",
      "14\n"
     ]
    },
    {
     "name": "stderr",
     "output_type": "stream",
     "text": [
      "Copying gs://idc_v3_cptac_lscc/94b5b0bf-c514-4d74-9f84-d5ae6b328079.dcm...\n",
      "\\ [1 files][778.1 MiB/778.1 MiB]   57.5 MiB/s                                   \n",
      "Operation completed over 1 objects/778.1 MiB.                                    \n"
     ]
    },
    {
     "name": "stdout",
     "output_type": "stream",
     "text": [
      "Processing: C3L-04749-26\n",
      "15\n"
     ]
    },
    {
     "name": "stderr",
     "output_type": "stream",
     "text": [
      "Copying gs://idc_v3_cptac_lscc/0384023f-0ec9-4c9e-919b-a998dfc3a3d2.dcm...\n",
      "- [1 files][232.3 MiB/232.3 MiB]                                                \n",
      "Operation completed over 1 objects/232.3 MiB.                                    \n"
     ]
    },
    {
     "name": "stdout",
     "output_type": "stream",
     "text": [
      "Processing: C3N-03093-24\n",
      "14\n"
     ]
    },
    {
     "name": "stderr",
     "output_type": "stream",
     "text": [
      "Copying gs://idc_v3_cptac_luad/e1f9c5be-b90e-4ded-b0b9-838943b80a1e.dcm...\n",
      "- [1 files][272.4 MiB/272.4 MiB]                                                \n",
      "Operation completed over 1 objects/272.4 MiB.                                    \n"
     ]
    },
    {
     "name": "stdout",
     "output_type": "stream",
     "text": [
      "Processing: C3N-00175-27\n",
      "14\n"
     ]
    },
    {
     "name": "stderr",
     "output_type": "stream",
     "text": [
      "Copying gs://idc_v3_cptac_luad/3c31bd40-cad6-4e7d-87ef-eea943728e6f.dcm...\n",
      "\\ [1 files][331.1 MiB/331.1 MiB]                                                \n",
      "Operation completed over 1 objects/331.1 MiB.                                    \n"
     ]
    },
    {
     "name": "stdout",
     "output_type": "stream",
     "text": [
      "Processing: C3N-00550-23\n",
      "14\n"
     ]
    },
    {
     "name": "stderr",
     "output_type": "stream",
     "text": [
      "Copying gs://idc_v3_cptac_lscc/62461f62-7a2a-4d71-bec1-4743d5934223.dcm...\n",
      "\\ [1 files][322.7 MiB/322.7 MiB]                                                \n",
      "Operation completed over 1 objects/322.7 MiB.                                    \n"
     ]
    },
    {
     "name": "stdout",
     "output_type": "stream",
     "text": [
      "Processing: C3L-04889-23\n",
      "15\n"
     ]
    },
    {
     "name": "stderr",
     "output_type": "stream",
     "text": [
      "Copying gs://idc_v3_cptac_luad/9f392a0f-1853-44bb-bbc8-f4ceaa6fbd37.dcm...\n",
      "\\ [1 files][ 84.3 MiB/ 84.3 MiB]                                                \n",
      "Operation completed over 1 objects/84.3 MiB.                                     \n"
     ]
    },
    {
     "name": "stdout",
     "output_type": "stream",
     "text": [
      "Processing: C3L-02508-22\n",
      "13\n"
     ]
    },
    {
     "name": "stderr",
     "output_type": "stream",
     "text": [
      "Copying gs://idc_v3_cptac_lscc/d918af18-85a4-4e16-82c6-0c49d57206bd.dcm...\n",
      "- [1 files][502.3 MiB/502.3 MiB]                                                \n",
      "Operation completed over 1 objects/502.3 MiB.                                    \n"
     ]
    },
    {
     "name": "stdout",
     "output_type": "stream",
     "text": [
      "Processing: C3L-04883-24\n",
      "15\n"
     ]
    },
    {
     "name": "stderr",
     "output_type": "stream",
     "text": [
      "Copying gs://idc_v3_cptac_luad/5bbf129d-1852-4bfe-97ca-c095b789f3d9.dcm...\n",
      "| [1 files][246.9 MiB/246.9 MiB]                                                \n",
      "Operation completed over 1 objects/246.9 MiB.                                    \n"
     ]
    },
    {
     "name": "stdout",
     "output_type": "stream",
     "text": [
      "Processing: C3N-02380-21\n",
      "14\n"
     ]
    },
    {
     "name": "stderr",
     "output_type": "stream",
     "text": [
      "Copying gs://idc_v3_cptac_luad/63f10382-6da7-4f58-a906-eab22c7ea1de.dcm...\n",
      "/ [1 files][191.6 MiB/191.6 MiB]                                                \n",
      "Operation completed over 1 objects/191.6 MiB.                                    \n"
     ]
    },
    {
     "name": "stdout",
     "output_type": "stream",
     "text": [
      "Processing: C3N-02728-26\n",
      "14\n"
     ]
    },
    {
     "name": "stderr",
     "output_type": "stream",
     "text": [
      "Copying gs://idc_v3_cptac_luad/697ae484-8b33-43c7-86a6-9f55f5cfe03f.dcm...\n",
      "/ [1 files][179.5 MiB/179.5 MiB]                                                \n",
      "Operation completed over 1 objects/179.5 MiB.                                    \n"
     ]
    },
    {
     "name": "stdout",
     "output_type": "stream",
     "text": [
      "Processing: C3L-00263-23\n",
      "14\n"
     ]
    },
    {
     "name": "stderr",
     "output_type": "stream",
     "text": [
      "Copying gs://idc_v3_cptac_lscc/e012825f-e446-4045-9f65-d544372964c6.dcm...\n",
      "| [1 files][350.0 MiB/350.0 MiB]                                                \n",
      "Operation completed over 1 objects/350.0 MiB.                                    \n"
     ]
    },
    {
     "name": "stdout",
     "output_type": "stream",
     "text": [
      "Processing: C3L-04866-22\n",
      "14\n"
     ]
    },
    {
     "name": "stderr",
     "output_type": "stream",
     "text": [
      "Copying gs://idc_v3_cptac_luad/06271bca-6ce0-43f4-8650-3a207dfa4c09.dcm...\n",
      "\\ [1 files][106.4 MiB/106.4 MiB]                                                \n",
      "Operation completed over 1 objects/106.4 MiB.                                    \n"
     ]
    },
    {
     "name": "stdout",
     "output_type": "stream",
     "text": [
      "Processing: C3N-02451-26\n",
      "14\n"
     ]
    },
    {
     "name": "stderr",
     "output_type": "stream",
     "text": [
      "Copying gs://idc_v3_cptac_luad/9764c536-506d-4ce0-9b37-12d220705251.dcm...\n",
      "/ [1 files][197.2 MiB/197.2 MiB]                                                \n",
      "Operation completed over 1 objects/197.2 MiB.                                    \n"
     ]
    },
    {
     "name": "stdout",
     "output_type": "stream",
     "text": [
      "Processing: C3L-02169-24\n",
      "15\n"
     ]
    },
    {
     "name": "stderr",
     "output_type": "stream",
     "text": [
      "Copying gs://idc_v3_cptac_luad/f2a3864a-6a9f-4619-93cb-c0ab35a4dcbb.dcm...\n",
      "/ [1 files][764.8 MiB/764.8 MiB]   56.1 MiB/s                                   \n",
      "Operation completed over 1 objects/764.8 MiB.                                    \n"
     ]
    },
    {
     "name": "stdout",
     "output_type": "stream",
     "text": [
      "Processing: C3N-02090-23\n",
      "15\n"
     ]
    },
    {
     "name": "stderr",
     "output_type": "stream",
     "text": [
      "Copying gs://idc_v3_cptac_lscc/e4da713f-6af9-45c2-acbe-959cc4c61b78.dcm...\n",
      "\\ [1 files][535.4 MiB/535.4 MiB]                                                \n",
      "Operation completed over 1 objects/535.4 MiB.                                    \n"
     ]
    },
    {
     "name": "stdout",
     "output_type": "stream",
     "text": [
      "Processing: C3L-04013-22\n",
      "14\n"
     ]
    },
    {
     "name": "stderr",
     "output_type": "stream",
     "text": [
      "Copying gs://idc_v3_cptac_luad/374b5c68-6c45-41df-87d1-ea7619fe8bcc.dcm...\n",
      "/ [1 files][397.3 MiB/397.3 MiB]                                                \n",
      "Operation completed over 1 objects/397.3 MiB.                                    \n"
     ]
    },
    {
     "name": "stdout",
     "output_type": "stream",
     "text": [
      "Processing: C3L-04031-27\n",
      "15\n"
     ]
    },
    {
     "name": "stderr",
     "output_type": "stream",
     "text": [
      "Copying gs://idc_v3_cptac_lscc/d0dc2019-8e49-4e97-b282-4ce88f7a1f20.dcm...\n",
      "| [1 files][322.5 MiB/322.5 MiB]                                                \n",
      "Operation completed over 1 objects/322.5 MiB.                                    \n"
     ]
    },
    {
     "name": "stdout",
     "output_type": "stream",
     "text": [
      "Processing: C3L-05420-26\n",
      "14\n"
     ]
    },
    {
     "name": "stderr",
     "output_type": "stream",
     "text": [
      "Copying gs://idc_v3_cptac_luad/1fd49687-4d0b-4f02-82e1-a1dfb98d78e0.dcm...\n",
      "| [1 files][132.0 MiB/132.0 MiB]                                                \n",
      "Operation completed over 1 objects/132.0 MiB.                                    \n"
     ]
    },
    {
     "name": "stdout",
     "output_type": "stream",
     "text": [
      "Processing: C3N-03038-24\n",
      "14\n"
     ]
    },
    {
     "name": "stderr",
     "output_type": "stream",
     "text": [
      "Copying gs://idc_v3_cptac_lscc/7fb2cfb2-ff0e-4e65-b795-4765c9080cd0.dcm...\n",
      "/ [1 files][479.1 MiB/479.1 MiB]                                                \n",
      "Operation completed over 1 objects/479.1 MiB.                                    \n"
     ]
    },
    {
     "name": "stdout",
     "output_type": "stream",
     "text": [
      "Processing: C3L-05395-21\n",
      "15\n"
     ]
    },
    {
     "name": "stderr",
     "output_type": "stream",
     "text": [
      "Copying gs://idc_v3_cptac_lscc/3ecbed87-533c-4a3f-8813-1bfcefda13a5.dcm...\n",
      "- [1 files][489.7 MiB/489.7 MiB]                                                \n",
      "Operation completed over 1 objects/489.7 MiB.                                    \n"
     ]
    },
    {
     "name": "stdout",
     "output_type": "stream",
     "text": [
      "Processing: C3L-04746-22\n",
      "15\n"
     ]
    },
    {
     "name": "stderr",
     "output_type": "stream",
     "text": [
      "Copying gs://idc_v3_cptac_luad/2ce8de51-1389-412f-bfbc-f98ccfaacd66.dcm...\n",
      "- [1 files][690.3 MiB/690.3 MiB]   55.7 MiB/s                                   \n",
      "Operation completed over 1 objects/690.3 MiB.                                    \n"
     ]
    },
    {
     "name": "stdout",
     "output_type": "stream",
     "text": [
      "Processing: C3N-02230-23\n",
      "14\n"
     ]
    },
    {
     "name": "stderr",
     "output_type": "stream",
     "text": [
      "Copying gs://idc_v3_cptac_lscc/d0f72331-8d55-4553-8913-ead2028fe627.dcm...\n",
      "- [1 files][220.4 MiB/220.4 MiB]                                                \n",
      "Operation completed over 1 objects/220.4 MiB.                                    \n"
     ]
    },
    {
     "name": "stdout",
     "output_type": "stream",
     "text": [
      "Processing: C3L-03963-28\n",
      "14\n"
     ]
    },
    {
     "name": "stderr",
     "output_type": "stream",
     "text": [
      "Copying gs://idc_v3_cptac_luad/e00f143f-96f7-4f03-bc73-1593f141227a.dcm...\n",
      "/ [1 files][880.5 MiB/880.5 MiB]   53.4 MiB/s                                   \n",
      "Operation completed over 1 objects/880.5 MiB.                                    \n"
     ]
    },
    {
     "name": "stdout",
     "output_type": "stream",
     "text": [
      "Processing: C3N-02146-22\n",
      "14\n"
     ]
    },
    {
     "name": "stderr",
     "output_type": "stream",
     "text": [
      "Copying gs://idc_v3_cptac_lscc/98cf5c83-acfd-4c7e-9b35-667bc9e4b918.dcm...\n",
      "- [1 files][ 51.8 MiB/ 51.8 MiB]                                                \n",
      "Operation completed over 1 objects/51.8 MiB.                                     \n"
     ]
    },
    {
     "name": "stdout",
     "output_type": "stream",
     "text": [
      "Processing: C3L-00965-22\n",
      "13\n"
     ]
    },
    {
     "name": "stderr",
     "output_type": "stream",
     "text": [
      "Copying gs://idc_v3_cptac_lscc/6293a641-5870-48de-aa15-c444b088c595.dcm...\n",
      "/ [1 files][888.1 MiB/888.1 MiB]   53.9 MiB/s                                   \n",
      "Operation completed over 1 objects/888.1 MiB.                                    \n"
     ]
    },
    {
     "name": "stdout",
     "output_type": "stream",
     "text": [
      "Processing: C3L-05422-21\n",
      "15\n"
     ]
    },
    {
     "name": "stderr",
     "output_type": "stream",
     "text": [
      "Copying gs://idc_v3_cptac_luad/2f2f53c0-4a29-4af4-9c9b-906d3a2e35e4.dcm...\n",
      "| [1 files][405.9 MiB/405.9 MiB]                                                \n",
      "Operation completed over 1 objects/405.9 MiB.                                    \n"
     ]
    },
    {
     "name": "stdout",
     "output_type": "stream",
     "text": [
      "Processing: C3L-04037-27\n",
      "15\n"
     ]
    },
    {
     "name": "stderr",
     "output_type": "stream",
     "text": [
      "Copying gs://idc_v3_cptac_lscc/47d86f12-8c1c-4384-b67e-d7d668a61bc4.dcm...\n",
      "| [1 files][329.1 MiB/329.1 MiB]                                                \n",
      "Operation completed over 1 objects/329.1 MiB.                                    \n"
     ]
    },
    {
     "name": "stdout",
     "output_type": "stream",
     "text": [
      "Processing: C3L-04013-24\n",
      "14\n"
     ]
    },
    {
     "name": "stderr",
     "output_type": "stream",
     "text": [
      "Copying gs://idc_v3_cptac_lscc/d0a85ea7-bff1-45c4-8d0a-96572bf910a6.dcm...\n",
      "| [1 files][118.8 MiB/118.8 MiB]                                                \n",
      "Operation completed over 1 objects/118.8 MiB.                                    \n"
     ]
    },
    {
     "name": "stdout",
     "output_type": "stream",
     "text": [
      "Processing: C3N-04170-26\n",
      "14\n"
     ]
    },
    {
     "name": "stderr",
     "output_type": "stream",
     "text": [
      "Copying gs://idc_v3_cptac_lscc/139ed759-aa65-4122-9d50-69eda27a0755.dcm...\n",
      "| [1 files][600.7 MiB/600.7 MiB]   53.6 MiB/s                                   \n",
      "Operation completed over 1 objects/600.7 MiB.                                    \n"
     ]
    },
    {
     "name": "stdout",
     "output_type": "stream",
     "text": [
      "Processing: C3L-04863-25\n",
      "14\n"
     ]
    },
    {
     "name": "stderr",
     "output_type": "stream",
     "text": [
      "Copying gs://idc_v3_cptac_luad/c3ba5216-1fdf-457f-be70-ca07d8d7183e.dcm...\n",
      "\\ [1 files][701.4 MiB/701.4 MiB]   54.1 MiB/s                                   \n",
      "Operation completed over 1 objects/701.4 MiB.                                    \n"
     ]
    },
    {
     "name": "stdout",
     "output_type": "stream",
     "text": [
      "Processing: C3N-02087-24\n",
      "14\n"
     ]
    },
    {
     "name": "stderr",
     "output_type": "stream",
     "text": [
      "Copying gs://idc_v3_cptac_lscc/026ad6e2-0aec-4ea1-ab59-098957418c66.dcm...\n",
      "- [1 files][221.2 MiB/221.2 MiB]                                                \n",
      "Operation completed over 1 objects/221.2 MiB.                                    \n"
     ]
    },
    {
     "name": "stdout",
     "output_type": "stream",
     "text": [
      "Processing: C3L-00904-22\n",
      "13\n"
     ]
    },
    {
     "name": "stderr",
     "output_type": "stream",
     "text": [
      "Copying gs://idc_v3_cptac_lscc/7fbaf202-a73c-45f4-9a1b-46bdb72f5f80.dcm...\n",
      "/ [1 files][ 61.2 MiB/ 61.2 MiB]                                                \n",
      "Operation completed over 1 objects/61.2 MiB.                                     \n"
     ]
    },
    {
     "name": "stdout",
     "output_type": "stream",
     "text": [
      "Processing: C3L-05022-22\n",
      "13\n"
     ]
    },
    {
     "name": "stderr",
     "output_type": "stream",
     "text": [
      "Copying gs://idc_v3_cptac_luad/99b435f3-a7a3-4272-bad1-3898e3fdf293.dcm...\n",
      "/ [1 files][399.8 MiB/399.8 MiB]                                                \n",
      "Operation completed over 1 objects/399.8 MiB.                                    \n"
     ]
    },
    {
     "name": "stdout",
     "output_type": "stream",
     "text": [
      "Processing: C3N-00293-23\n",
      "15\n"
     ]
    },
    {
     "name": "stderr",
     "output_type": "stream",
     "text": [
      "Copying gs://idc_v3_cptac_lscc/760ed844-f749-4eb2-b94c-4fb0b7215ca6.dcm...\n",
      "- [1 files][272.8 MiB/272.8 MiB]                                                \n",
      "Operation completed over 1 objects/272.8 MiB.                                    \n"
     ]
    },
    {
     "name": "stdout",
     "output_type": "stream",
     "text": [
      "Processing: C3L-04410-21\n",
      "13\n"
     ]
    },
    {
     "name": "stderr",
     "output_type": "stream",
     "text": [
      "Copying gs://idc_v3_cptac_lscc/29192386-8847-4c3d-94ad-004d42c5a1a2.dcm...\n",
      "- [1 files][260.7 MiB/260.7 MiB]                                                \n",
      "Operation completed over 1 objects/260.7 MiB.                                    \n"
     ]
    },
    {
     "name": "stdout",
     "output_type": "stream",
     "text": [
      "Processing: C3L-04916-21\n",
      "14\n"
     ]
    },
    {
     "name": "stderr",
     "output_type": "stream",
     "text": [
      "Copying gs://idc_v3_cptac_lscc/b2f7ca23-55a6-4594-be57-d6154a66f2ea.dcm...\n",
      "\\ [1 files][930.6 MiB/930.6 MiB]   56.4 MiB/s                                   \n",
      "Operation completed over 1 objects/930.6 MiB.                                    \n"
     ]
    },
    {
     "name": "stdout",
     "output_type": "stream",
     "text": [
      "Processing: C3L-05150-22\n",
      "15\n"
     ]
    },
    {
     "name": "stderr",
     "output_type": "stream",
     "text": [
      "Copying gs://idc_v3_cptac_luad/960a82a4-b371-4906-ac71-0684fa0085d1.dcm...\n",
      "\\ [1 files][279.4 MiB/279.4 MiB]                                                \n",
      "Operation completed over 1 objects/279.4 MiB.                                    \n"
     ]
    },
    {
     "name": "stdout",
     "output_type": "stream",
     "text": [
      "Processing: C3N-01405-22\n",
      "14\n"
     ]
    },
    {
     "name": "stderr",
     "output_type": "stream",
     "text": [
      "Copying gs://idc_v3_cptac_lscc/056a0877-3093-4f7f-a0a7-c4479830aa9c.dcm...\n",
      "\\ [1 files][ 74.6 MiB/ 74.6 MiB]                                                \n",
      "Operation completed over 1 objects/74.6 MiB.                                     \n"
     ]
    },
    {
     "name": "stdout",
     "output_type": "stream",
     "text": [
      "Processing: C3L-02552-23\n",
      "13\n"
     ]
    },
    {
     "name": "stderr",
     "output_type": "stream",
     "text": [
      "Copying gs://idc_v3_cptac_luad/d3f622b0-9565-47cd-a6ed-297c4ce1cc1a.dcm...\n",
      "- [1 files][  1.1 GiB/  1.1 GiB]   58.6 MiB/s                                   \n",
      "Operation completed over 1 objects/1.1 GiB.                                      \n"
     ]
    },
    {
     "name": "stdout",
     "output_type": "stream",
     "text": [
      "Processing: C3L-02165-21\n",
      "15\n"
     ]
    },
    {
     "name": "stderr",
     "output_type": "stream",
     "text": [
      "Copying gs://idc_v3_cptac_lscc/2b47f96b-3c57-41fa-9f69-50c86d0722c8.dcm...\n",
      "/ [1 files][390.6 MiB/390.6 MiB]                                                \n",
      "Operation completed over 1 objects/390.6 MiB.                                    \n"
     ]
    },
    {
     "name": "stdout",
     "output_type": "stream",
     "text": [
      "Processing: C3L-05417-24\n",
      "14\n"
     ]
    },
    {
     "name": "stderr",
     "output_type": "stream",
     "text": [
      "Copying gs://idc_v3_cptac_luad/2483de36-c5a2-4416-9d2e-6141e10841e4.dcm...\n",
      "| [1 files][783.7 MiB/783.7 MiB]   59.6 MiB/s                                   \n",
      "Operation completed over 1 objects/783.7 MiB.                                    \n"
     ]
    },
    {
     "name": "stdout",
     "output_type": "stream",
     "text": [
      "Processing: C3N-01019-22\n",
      "14\n"
     ]
    },
    {
     "name": "stderr",
     "output_type": "stream",
     "text": [
      "Copying gs://idc_v3_cptac_lscc/c346031c-58a7-426b-88c6-bcee5b563540.dcm...\n",
      "\\ [1 files][105.0 MiB/105.0 MiB]                                                \n",
      "Operation completed over 1 objects/105.0 MiB.                                    \n"
     ]
    },
    {
     "name": "stdout",
     "output_type": "stream",
     "text": [
      "Processing: C3N-02300-23\n",
      "14\n"
     ]
    },
    {
     "name": "stderr",
     "output_type": "stream",
     "text": [
      "Copying gs://idc_v3_cptac_luad/06a0c1cd-831d-491b-b280-1ba40e115727.dcm...\n",
      "\\ [1 files][300.3 MiB/300.3 MiB]                                                \n",
      "Operation completed over 1 objects/300.3 MiB.                                    \n"
     ]
    },
    {
     "name": "stdout",
     "output_type": "stream",
     "text": [
      "Processing: C3N-00572-24\n",
      "14\n"
     ]
    },
    {
     "name": "stderr",
     "output_type": "stream",
     "text": [
      "Copying gs://idc_v3_cptac_lscc/deb3baac-59c5-4639-9379-236bc50683cd.dcm...\n",
      "- [1 files][495.3 MiB/495.3 MiB]                                                \n",
      "Operation completed over 1 objects/495.3 MiB.                                    \n"
     ]
    },
    {
     "name": "stdout",
     "output_type": "stream",
     "text": [
      "Processing: C3L-04334-24\n",
      "15\n"
     ]
    },
    {
     "name": "stderr",
     "output_type": "stream",
     "text": [
      "Copying gs://idc_v3_cptac_lscc/c1d2d01f-1771-4b19-aa54-e28237396d53.dcm...\n",
      "- [1 files][ 54.3 MiB/ 54.3 MiB]                                                \n",
      "Operation completed over 1 objects/54.3 MiB.                                     \n"
     ]
    },
    {
     "name": "stdout",
     "output_type": "stream",
     "text": [
      "Processing: C3L-05022-23\n",
      "13\n"
     ]
    },
    {
     "name": "stderr",
     "output_type": "stream",
     "text": [
      "Copying gs://idc_v3_cptac_luad/3d1a9c84-5f3a-484d-abb0-71aa3c73aec6.dcm...\n",
      "\\ [1 files][314.7 MiB/314.7 MiB]                                                \n",
      "Operation completed over 1 objects/314.7 MiB.                                    \n"
     ]
    },
    {
     "name": "stdout",
     "output_type": "stream",
     "text": [
      "Processing: C3N-03911-26\n",
      "14\n"
     ]
    },
    {
     "name": "stderr",
     "output_type": "stream",
     "text": [
      "Copying gs://idc_v3_cptac_luad/bcd5cd6d-a515-4e73-8dc1-9a7fef11d338.dcm...\n",
      "| [1 files][120.4 MiB/120.4 MiB]                                                \n",
      "Operation completed over 1 objects/120.4 MiB.                                    \n"
     ]
    },
    {
     "name": "stdout",
     "output_type": "stream",
     "text": [
      "Processing: C3L-00422-26\n",
      "13\n"
     ]
    },
    {
     "name": "stderr",
     "output_type": "stream",
     "text": [
      "Copying gs://idc_v3_cptac_luad/bde09f3d-0f72-421b-93cc-50a12eb49f10.dcm...\n",
      "| [1 files][372.3 MiB/372.3 MiB]                                                \n",
      "Operation completed over 1 objects/372.3 MiB.                                    \n"
     ]
    },
    {
     "name": "stdout",
     "output_type": "stream",
     "text": [
      "Processing: C3L-01683-28\n",
      "14\n"
     ]
    },
    {
     "name": "stderr",
     "output_type": "stream",
     "text": [
      "Copying gs://idc_v3_cptac_lscc/4894ea92-6183-41ff-bcf3-a21fe63e724d.dcm...\n",
      "/ [1 files][163.6 MiB/163.6 MiB]                                                \n",
      "Operation completed over 1 objects/163.6 MiB.                                    \n"
     ]
    },
    {
     "name": "stdout",
     "output_type": "stream",
     "text": [
      "Processing: C3L-04878-28\n",
      "13\n"
     ]
    },
    {
     "name": "stderr",
     "output_type": "stream",
     "text": [
      "Copying gs://idc_v3_cptac_lscc/0aa0f2d3-cae2-4a8f-a8bb-5884c87cb411.dcm...\n",
      "\\ [1 files][ 94.4 MiB/ 94.4 MiB]                                                \n",
      "Operation completed over 1 objects/94.4 MiB.                                     \n"
     ]
    },
    {
     "name": "stdout",
     "output_type": "stream",
     "text": [
      "Processing: C3N-03877-23\n",
      "14\n"
     ]
    },
    {
     "name": "stderr",
     "output_type": "stream",
     "text": [
      "Copying gs://idc_v3_cptac_luad/ad02e200-1cf9-44cd-b935-01f2b35b9e77.dcm...\n",
      "- [1 files][ 60.2 MiB/ 60.2 MiB]                                                \n",
      "Operation completed over 1 objects/60.2 MiB.                                     \n"
     ]
    },
    {
     "name": "stdout",
     "output_type": "stream",
     "text": [
      "Processing: C3L-02967-26\n",
      "13\n"
     ]
    },
    {
     "name": "stderr",
     "output_type": "stream",
     "text": [
      "Copying gs://idc_v3_cptac_lscc/624fc1be-4820-4fcc-b1bf-4211a18d4420.dcm...\n",
      "| [1 files][  1.0 GiB/  1.0 GiB]   55.8 MiB/s                                   \n",
      "Operation completed over 1 objects/1.0 GiB.                                      \n"
     ]
    },
    {
     "name": "stdout",
     "output_type": "stream",
     "text": [
      "Processing: C3L-04781-22\n",
      "15\n"
     ]
    },
    {
     "name": "stderr",
     "output_type": "stream",
     "text": [
      "Copying gs://idc_v3_cptac_luad/c9c2440f-aa4c-43cd-8cb1-e89bbf2d9ae4.dcm...\n",
      "- [1 files][ 45.2 MiB/ 45.2 MiB]                                                \n",
      "Operation completed over 1 objects/45.2 MiB.                                     \n"
     ]
    },
    {
     "name": "stdout",
     "output_type": "stream",
     "text": [
      "Processing: C3L-01682-23\n",
      "13\n"
     ]
    },
    {
     "name": "stderr",
     "output_type": "stream",
     "text": [
      "Copying gs://idc_v3_cptac_lscc/6c3e6b05-b272-4dbb-8e0b-61f491b28c92.dcm...\n",
      "- [1 files][500.0 MiB/500.0 MiB]                                                \n",
      "Operation completed over 1 objects/500.0 MiB.                                    \n"
     ]
    },
    {
     "name": "stdout",
     "output_type": "stream",
     "text": [
      "Processing: C3L-04912-26\n",
      "15\n"
     ]
    },
    {
     "name": "stderr",
     "output_type": "stream",
     "text": [
      "Copying gs://idc_v3_cptac_lscc/79f2d6e2-31d6-44f1-a41c-93052035405a.dcm...\n",
      "\\ [1 files][825.7 MiB/825.7 MiB]   52.9 MiB/s                                   \n",
      "Operation completed over 1 objects/825.7 MiB.                                    \n"
     ]
    },
    {
     "name": "stdout",
     "output_type": "stream",
     "text": [
      "Processing: C3L-05145-21\n",
      "15\n"
     ]
    },
    {
     "name": "stderr",
     "output_type": "stream",
     "text": [
      "Copying gs://idc_v3_cptac_lscc/2b50535c-9454-468c-99bb-a4efb906d820.dcm...\n",
      "- [1 files][246.3 MiB/246.3 MiB]                                                \n",
      "Operation completed over 1 objects/246.3 MiB.                                    \n"
     ]
    },
    {
     "name": "stdout",
     "output_type": "stream",
     "text": [
      "Processing: C3L-04216-24\n",
      "15\n"
     ]
    },
    {
     "name": "stderr",
     "output_type": "stream",
     "text": [
      "Copying gs://idc_v3_cptac_luad/1ca1e3e1-52fb-4f89-863d-527e04821dc5.dcm...\n",
      "| [1 files][425.2 MiB/425.2 MiB]                                                \n",
      "Operation completed over 1 objects/425.2 MiB.                                    \n"
     ]
    },
    {
     "name": "stdout",
     "output_type": "stream",
     "text": [
      "Processing: C3N-01415-27\n",
      "14\n"
     ]
    },
    {
     "name": "stderr",
     "output_type": "stream",
     "text": [
      "Copying gs://idc_v3_cptac_luad/79d79493-fb14-4ef3-ac43-9f4bf400bd16.dcm...\n",
      "| [1 files][320.1 MiB/320.1 MiB]                                                \n",
      "Operation completed over 1 objects/320.1 MiB.                                    \n"
     ]
    },
    {
     "name": "stdout",
     "output_type": "stream",
     "text": [
      "Processing: C3N-00180-26\n",
      "14\n"
     ]
    },
    {
     "name": "stderr",
     "output_type": "stream",
     "text": [
      "Copying gs://idc_v3_cptac_lscc/a9207798-04cc-4390-b8f5-393d5fbbe124.dcm...\n",
      "/ [1 files][390.1 MiB/390.1 MiB]                                                \n",
      "Operation completed over 1 objects/390.1 MiB.                                    \n"
     ]
    },
    {
     "name": "stdout",
     "output_type": "stream",
     "text": [
      "Processing: C3L-05399-27\n",
      "15\n"
     ]
    },
    {
     "name": "stderr",
     "output_type": "stream",
     "text": [
      "Copying gs://idc_v3_cptac_luad/6578f7a7-ec67-4fa7-9127-bd120145a0d1.dcm...\n",
      "| [1 files][136.1 MiB/136.1 MiB]                                                \n",
      "Operation completed over 1 objects/136.1 MiB.                                    \n"
     ]
    },
    {
     "name": "stdout",
     "output_type": "stream",
     "text": [
      "Processing: C3N-02588-22\n",
      "13\n"
     ]
    },
    {
     "name": "stderr",
     "output_type": "stream",
     "text": [
      "Copying gs://idc_v3_cptac_lscc/8fe1a1dc-f01a-42f0-aa5e-98d2fe373e2c.dcm...\n",
      "| [1 files][425.2 MiB/425.2 MiB]                                                \n",
      "Operation completed over 1 objects/425.2 MiB.                                    \n"
     ]
    },
    {
     "name": "stdout",
     "output_type": "stream",
     "text": [
      "Processing: C3N-04155-22\n",
      "14\n"
     ]
    },
    {
     "name": "stderr",
     "output_type": "stream",
     "text": [
      "Copying gs://idc_v3_cptac_luad/db55ef26-0314-4a2f-abe0-1dd57fe1c69e.dcm...\n",
      "/ [1 files][204.2 MiB/204.2 MiB]                                                \n",
      "Operation completed over 1 objects/204.2 MiB.                                    \n"
     ]
    },
    {
     "name": "stdout",
     "output_type": "stream",
     "text": [
      "Processing: C3N-02251-28\n",
      "15\n"
     ]
    },
    {
     "name": "stderr",
     "output_type": "stream",
     "text": [
      "Copying gs://idc_v3_cptac_luad/c9fb9a2d-43d9-445b-afdb-d8848a67561f.dcm...\n",
      "- [1 files][506.2 MiB/506.2 MiB]                                                \n",
      "Operation completed over 1 objects/506.2 MiB.                                    \n"
     ]
    },
    {
     "name": "stdout",
     "output_type": "stream",
     "text": [
      "Processing: C3N-00169-23\n",
      "14\n"
     ]
    },
    {
     "name": "stderr",
     "output_type": "stream",
     "text": [
      "Copying gs://idc_v3_cptac_luad/19ab6a78-00d3-43ff-a53c-f13a40330fa1.dcm...\n",
      "| [1 files][384.2 MiB/384.2 MiB]                                                \n",
      "Operation completed over 1 objects/384.2 MiB.                                    \n"
     ]
    },
    {
     "name": "stdout",
     "output_type": "stream",
     "text": [
      "Processing: C3N-00578-24\n",
      "14\n"
     ]
    },
    {
     "name": "stderr",
     "output_type": "stream",
     "text": [
      "Copying gs://idc_v3_cptac_lscc/e733ba2d-6bb7-4d96-9e51-f60f20feddb4.dcm...\n",
      "/ [1 files][783.0 MiB/783.0 MiB]   55.4 MiB/s                                   \n",
      "Operation completed over 1 objects/783.0 MiB.                                    \n"
     ]
    },
    {
     "name": "stdout",
     "output_type": "stream",
     "text": [
      "Processing: C3L-04379-27\n",
      "15\n"
     ]
    },
    {
     "name": "stderr",
     "output_type": "stream",
     "text": [
      "Copying gs://idc_v3_cptac_lscc/c182eed7-52a9-46b3-90b1-6732157ba883.dcm...\n",
      "\\ [1 files][307.6 MiB/307.6 MiB]                                                \n",
      "Operation completed over 1 objects/307.6 MiB.                                    \n"
     ]
    },
    {
     "name": "stdout",
     "output_type": "stream",
     "text": [
      "Processing: C3L-05398-27\n",
      "15\n"
     ]
    },
    {
     "name": "stderr",
     "output_type": "stream",
     "text": [
      "Copying gs://idc_v3_cptac_luad/a2869072-5fb1-4a05-b05a-78a0d18c1f14.dcm...\n",
      "\\ [1 files][756.8 MiB/756.8 MiB]   56.9 MiB/s                                   \n",
      "Operation completed over 1 objects/756.8 MiB.                                    \n"
     ]
    },
    {
     "name": "stdout",
     "output_type": "stream",
     "text": [
      "Processing: C3N-01408-24\n",
      "14\n"
     ]
    },
    {
     "name": "stderr",
     "output_type": "stream",
     "text": [
      "Copying gs://idc_v3_cptac_lscc/2bd69bdd-a6e5-4272-96af-b8adca2d7e37.dcm...\n",
      "- [1 files][ 43.3 MiB/ 43.3 MiB]                                                \n",
      "Operation completed over 1 objects/43.3 MiB.                                     \n"
     ]
    },
    {
     "name": "stdout",
     "output_type": "stream",
     "text": [
      "Processing: C3N-02435-23\n",
      "14\n"
     ]
    },
    {
     "name": "stderr",
     "output_type": "stream",
     "text": [
      "Copying gs://idc_v3_cptac_lscc/c9682655-1240-4ad3-86c4-547e0aa6a26d.dcm...\n",
      "/ [1 files][167.8 MiB/167.8 MiB]                                                \n",
      "Operation completed over 1 objects/167.8 MiB.                                    \n"
     ]
    },
    {
     "name": "stdout",
     "output_type": "stream",
     "text": [
      "Processing: C3L-04880-28\n",
      "13\n"
     ]
    },
    {
     "name": "stderr",
     "output_type": "stream",
     "text": [
      "Copying gs://idc_v3_cptac_lscc/4df3f928-a46a-43fe-ac82-e090eb3f91c3.dcm...\n",
      "\\ [1 files][778.4 MiB/778.4 MiB]   59.7 MiB/s                                   \n",
      "Operation completed over 1 objects/778.4 MiB.                                    \n"
     ]
    },
    {
     "name": "stdout",
     "output_type": "stream",
     "text": [
      "Processing: C3L-02168-24\n",
      "15\n"
     ]
    },
    {
     "name": "stderr",
     "output_type": "stream",
     "text": [
      "Copying gs://idc_v3_cptac_luad/e146db35-36d8-4440-96c3-580bbc1a0205.dcm...\n",
      "/ [1 files][188.5 MiB/188.5 MiB]                                                \n",
      "Operation completed over 1 objects/188.5 MiB.                                    \n"
     ]
    },
    {
     "name": "stdout",
     "output_type": "stream",
     "text": [
      "Processing: C3N-00223-26\n",
      "14\n"
     ]
    },
    {
     "name": "stderr",
     "output_type": "stream",
     "text": [
      "Copying gs://idc_v3_cptac_luad/fbff5294-cbe4-4399-ae18-2fa61d1af63b.dcm...\n",
      "| [1 files][401.3 MiB/401.3 MiB]                                                \n",
      "Operation completed over 1 objects/401.3 MiB.                                    \n"
     ]
    },
    {
     "name": "stdout",
     "output_type": "stream",
     "text": [
      "Processing: C3N-02088-26\n",
      "14\n"
     ]
    },
    {
     "name": "stderr",
     "output_type": "stream",
     "text": [
      "Copying gs://idc_v3_cptac_luad/10e41cc2-f35d-418b-9014-8c73e76d458a.dcm...\n",
      "/ [1 files][600.5 MiB/600.5 MiB]   57.1 MiB/s                                   \n",
      "Operation completed over 1 objects/600.5 MiB.                                    \n"
     ]
    },
    {
     "name": "stdout",
     "output_type": "stream",
     "text": [
      "Processing: C3N-02240-26\n",
      "15\n"
     ]
    },
    {
     "name": "stderr",
     "output_type": "stream",
     "text": [
      "Copying gs://idc_v3_cptac_luad/4d145619-3964-4f18-9f3c-89fed6216876.dcm...\n",
      "| [1 files][158.9 MiB/158.9 MiB]                                                \n",
      "Operation completed over 1 objects/158.9 MiB.                                    \n"
     ]
    },
    {
     "name": "stdout",
     "output_type": "stream",
     "text": [
      "Processing: C3L-00009-26\n",
      "13\n"
     ]
    },
    {
     "name": "stderr",
     "output_type": "stream",
     "text": [
      "Copying gs://idc_v3_cptac_lscc/79c09eb6-f317-4801-90a3-a38f6e1a05e3.dcm...\n",
      "\\ [1 files][107.5 MiB/107.5 MiB]                                                \n",
      "Operation completed over 1 objects/107.5 MiB.                                    \n"
     ]
    },
    {
     "name": "stdout",
     "output_type": "stream",
     "text": [
      "Processing: C3L-02625-23\n",
      "13\n"
     ]
    },
    {
     "name": "stderr",
     "output_type": "stream",
     "text": [
      "Copying gs://idc_v3_cptac_lscc/1d62430d-6dc7-4a6b-acff-96e566988bfc.dcm...\n",
      "- [1 files][674.5 MiB/674.5 MiB]   53.4 MiB/s                                   \n",
      "Operation completed over 1 objects/674.5 MiB.                                    \n"
     ]
    },
    {
     "name": "stdout",
     "output_type": "stream",
     "text": [
      "Processing: C3L-04871-27\n",
      "15\n"
     ]
    },
    {
     "name": "stderr",
     "output_type": "stream",
     "text": [
      "Copying gs://idc_v3_cptac_luad/86bf9439-a951-4880-ad7f-8f64ffeb8ac7.dcm...\n",
      "\\ [1 files][330.3 MiB/330.3 MiB]                                                \n",
      "Operation completed over 1 objects/330.3 MiB.                                    \n"
     ]
    },
    {
     "name": "stdout",
     "output_type": "stream",
     "text": [
      "Processing: C3N-01417-26\n",
      "14\n"
     ]
    },
    {
     "name": "stderr",
     "output_type": "stream",
     "text": [
      "Copying gs://idc_v3_cptac_luad/3631c192-15c0-4253-b014-9bb0380ffb83.dcm...\n",
      "\\ [1 files][743.9 MiB/743.9 MiB]   57.6 MiB/s                                   \n",
      "Operation completed over 1 objects/743.9 MiB.                                    \n"
     ]
    },
    {
     "name": "stdout",
     "output_type": "stream",
     "text": [
      "Processing: C3N-02149-23\n",
      "14\n"
     ]
    },
    {
     "name": "stderr",
     "output_type": "stream",
     "text": [
      "Copying gs://idc_v3_cptac_luad/7d018454-8792-4f13-9389-d44b9a5ddb83.dcm...\n",
      "- [1 files][ 27.2 MiB/ 27.2 MiB]                                                \n",
      "Operation completed over 1 objects/27.2 MiB.                                     \n"
     ]
    },
    {
     "name": "stdout",
     "output_type": "stream",
     "text": [
      "Processing: C3L-02834-26\n",
      "13\n"
     ]
    },
    {
     "name": "stderr",
     "output_type": "stream",
     "text": [
      "Copying gs://idc_v3_cptac_lscc/073d7f13-c5ac-45a5-9337-eeea635fe446.dcm...\n",
      "/ [1 files][465.6 MiB/465.6 MiB]                                                \n",
      "Operation completed over 1 objects/465.6 MiB.                                    \n"
     ]
    },
    {
     "name": "stdout",
     "output_type": "stream",
     "text": [
      "Processing: C3L-05399-26\n",
      "15\n"
     ]
    },
    {
     "name": "stderr",
     "output_type": "stream",
     "text": [
      "Copying gs://idc_v3_cptac_lscc/eb546c69-0a83-4a0f-b5a0-f25c804dcb1d.dcm...\n",
      "- [1 files][522.6 MiB/522.6 MiB]                                                \n",
      "Operation completed over 1 objects/522.6 MiB.                                    \n"
     ]
    },
    {
     "name": "stdout",
     "output_type": "stream",
     "text": [
      "Processing: C3L-02168-21\n",
      "15\n"
     ]
    },
    {
     "name": "stderr",
     "output_type": "stream",
     "text": [
      "Copying gs://idc_v3_cptac_lscc/323dff86-c92e-43b7-8e18-f369f5819e67.dcm...\n",
      "- [1 files][790.1 MiB/790.1 MiB]   54.8 MiB/s                                   \n",
      "Operation completed over 1 objects/790.1 MiB.                                    \n"
     ]
    },
    {
     "name": "stdout",
     "output_type": "stream",
     "text": [
      "Processing: C3N-01020-22\n",
      "14\n"
     ]
    },
    {
     "name": "stderr",
     "output_type": "stream",
     "text": [
      "Copying gs://idc_v3_cptac_luad/44c7fc3c-3f1f-4da1-89b9-ef3ccc238805.dcm...\n",
      "\\ [1 files][114.3 MiB/114.3 MiB]                                                \n",
      "Operation completed over 1 objects/114.3 MiB.                                    \n"
     ]
    },
    {
     "name": "stdout",
     "output_type": "stream",
     "text": [
      "Processing: C3L-01330-25\n",
      "14\n"
     ]
    },
    {
     "name": "stderr",
     "output_type": "stream",
     "text": [
      "Copying gs://idc_v3_cptac_luad/5ff403e8-c9d6-457a-a2d3-ac64540bac90.dcm...\n",
      "- [1 files][255.9 MiB/255.9 MiB]                                                \n",
      "Operation completed over 1 objects/255.9 MiB.                                    \n"
     ]
    },
    {
     "name": "stdout",
     "output_type": "stream",
     "text": [
      "Processing: C3L-04759-21\n",
      "14\n"
     ]
    },
    {
     "name": "stderr",
     "output_type": "stream",
     "text": [
      "Copying gs://idc_v3_cptac_lscc/9a1a2e92-b517-43a7-b38a-9b909e2a292d.dcm...\n",
      "| [1 files][172.2 MiB/172.2 MiB]                                                \n",
      "Operation completed over 1 objects/172.2 MiB.                                    \n"
     ]
    },
    {
     "name": "stdout",
     "output_type": "stream",
     "text": [
      "Processing: C3L-04874-21\n",
      "13\n"
     ]
    },
    {
     "name": "stderr",
     "output_type": "stream",
     "text": [
      "Copying gs://idc_v3_cptac_lscc/87486f16-c305-44ad-9b3e-c4c8d914b778.dcm...\n",
      "- [1 files][515.3 MiB/515.3 MiB]                                                \n",
      "Operation completed over 1 objects/515.3 MiB.                                    \n"
     ]
    },
    {
     "name": "stdout",
     "output_type": "stream",
     "text": [
      "Processing: C3L-04922-23\n",
      "15\n"
     ]
    },
    {
     "name": "stderr",
     "output_type": "stream",
     "text": [
      "Copying gs://idc_v3_cptac_luad/f5f45008-c64c-4f7b-aa3b-e8e1bd5ad606.dcm...\n",
      "- [1 files][808.2 MiB/808.2 MiB]   57.0 MiB/s                                   \n",
      "Operation completed over 1 objects/808.2 MiB.                                    \n"
     ]
    },
    {
     "name": "stdout",
     "output_type": "stream",
     "text": [
      "Processing: C3N-03911-21\n",
      "15\n"
     ]
    },
    {
     "name": "stderr",
     "output_type": "stream",
     "text": [
      "Copying gs://idc_v3_cptac_luad/0940accc-216f-4048-b3b6-b61b0d840b64.dcm...\n",
      "- [1 files][225.6 MiB/225.6 MiB]                                                \n",
      "Operation completed over 1 objects/225.6 MiB.                                    \n"
     ]
    },
    {
     "name": "stdout",
     "output_type": "stream",
     "text": [
      "Processing: C3N-01405-27\n",
      "14\n"
     ]
    },
    {
     "name": "stderr",
     "output_type": "stream",
     "text": [
      "Copying gs://idc_v3_cptac_lscc/b90b30f5-99d5-4e3f-bc5a-294a59febb65.dcm...\n",
      "| [1 files][166.5 MiB/166.5 MiB]                                                \n",
      "Operation completed over 1 objects/166.5 MiB.                                    \n"
     ]
    },
    {
     "name": "stdout",
     "output_type": "stream",
     "text": [
      "Processing: C3L-00923-23\n",
      "13\n"
     ]
    },
    {
     "name": "stderr",
     "output_type": "stream",
     "text": [
      "Copying gs://idc_v3_cptac_lscc/f43813e9-90ea-4ada-9487-a8c2fef1a735.dcm...\n",
      "\\ [1 files][563.7 MiB/563.7 MiB]                                                \n",
      "Operation completed over 1 objects/563.7 MiB.                                    \n"
     ]
    },
    {
     "name": "stdout",
     "output_type": "stream",
     "text": [
      "Processing: C3L-05221-21\n",
      "14\n"
     ]
    },
    {
     "name": "stderr",
     "output_type": "stream",
     "text": [
      "Copying gs://idc_v3_cptac_luad/35d31337-5f1b-4c97-85e0-dec0c4c87eac.dcm...\n",
      "/ [1 files][460.0 MiB/460.0 MiB]                                                \n",
      "Operation completed over 1 objects/460.0 MiB.                                    \n"
     ]
    },
    {
     "name": "stdout",
     "output_type": "stream",
     "text": [
      "Processing: C3N-01024-27\n",
      "14\n"
     ]
    },
    {
     "name": "stderr",
     "output_type": "stream",
     "text": [
      "Copying gs://idc_v3_cptac_luad/7179a62e-76c8-48b0-a253-12e751f4ae92.dcm...\n",
      "/ [1 files][185.7 MiB/185.7 MiB]                                                \n",
      "Operation completed over 1 objects/185.7 MiB.                                    \n"
     ]
    },
    {
     "name": "stdout",
     "output_type": "stream",
     "text": [
      "Processing: C3N-02424-22\n",
      "13\n"
     ]
    },
    {
     "name": "stderr",
     "output_type": "stream",
     "text": [
      "Copying gs://idc_v3_cptac_luad/30722278-837b-42c0-b593-e0993f89cd04.dcm...\n",
      "/ [1 files][198.9 MiB/198.9 MiB]                                                \n",
      "Operation completed over 1 objects/198.9 MiB.                                    \n"
     ]
    },
    {
     "name": "stdout",
     "output_type": "stream",
     "text": [
      "Processing: C3N-02672-28\n",
      "15\n"
     ]
    },
    {
     "name": "stderr",
     "output_type": "stream",
     "text": [
      "Copying gs://idc_v3_cptac_lscc/cb0808da-c8f6-4c48-b7f9-9ae96afaaf3d.dcm...\n",
      "| [1 files][375.6 MiB/375.6 MiB]                                                \n",
      "Operation completed over 1 objects/375.6 MiB.                                    \n"
     ]
    },
    {
     "name": "stdout",
     "output_type": "stream",
     "text": [
      "Processing: C3L-04873-27\n",
      "14\n"
     ]
    },
    {
     "name": "stderr",
     "output_type": "stream",
     "text": [
      "Copying gs://idc_v3_cptac_lscc/11f0e97f-d2ae-4e42-a0bb-7fdddc079ed6.dcm...\n",
      "- [1 files][552.6 MiB/552.6 MiB]                                                \n",
      "Operation completed over 1 objects/552.6 MiB.                                    \n"
     ]
    },
    {
     "name": "stdout",
     "output_type": "stream",
     "text": [
      "Processing: C3L-03963-21\n",
      "15\n"
     ]
    },
    {
     "name": "stderr",
     "output_type": "stream",
     "text": [
      "Copying gs://idc_v3_cptac_lscc/003bd55b-5b99-4b93-830c-8ba910952913.dcm...\n",
      "| [1 files][363.6 MiB/363.6 MiB]                                                \n",
      "Operation completed over 1 objects/363.6 MiB.                                    \n"
     ]
    },
    {
     "name": "stdout",
     "output_type": "stream",
     "text": [
      "Processing: C3L-04866-21\n",
      "14\n"
     ]
    },
    {
     "name": "stderr",
     "output_type": "stream",
     "text": [
      "Copying gs://idc_v3_cptac_lscc/0804ec80-f22d-445b-b1c1-5d0889d1ce44.dcm...\n",
      "| [1 files][327.6 MiB/327.6 MiB]                                                \n",
      "Operation completed over 1 objects/327.6 MiB.                                    \n"
     ]
    },
    {
     "name": "stdout",
     "output_type": "stream",
     "text": [
      "Processing: C3L-02170-24\n",
      "15\n"
     ]
    },
    {
     "name": "stderr",
     "output_type": "stream",
     "text": [
      "Copying gs://idc_v3_cptac_lscc/47ee952b-2282-45f4-bded-d9346bb76a43.dcm...\n",
      "| [1 files][434.6 MiB/434.6 MiB]                                                \n",
      "Operation completed over 1 objects/434.6 MiB.                                    \n"
     ]
    },
    {
     "name": "stdout",
     "output_type": "stream",
     "text": [
      "Processing: C3L-03982-25\n",
      "15\n"
     ]
    },
    {
     "name": "stderr",
     "output_type": "stream",
     "text": [
      "Copying gs://idc_v3_cptac_lscc/69276c71-303b-4e99-9ee1-8de23110907b.dcm...\n",
      "\\ [1 files][403.4 MiB/403.4 MiB]                                                \n",
      "Operation completed over 1 objects/403.4 MiB.                                    \n"
     ]
    },
    {
     "name": "stdout",
     "output_type": "stream",
     "text": [
      "Processing: C3N-00555-21\n",
      "14\n"
     ]
    },
    {
     "name": "stderr",
     "output_type": "stream",
     "text": [
      "Copying gs://idc_v3_cptac_lscc/65b5c8e7-0170-405a-9967-e931cbb49b1a.dcm...\n",
      "- [1 files][231.2 MiB/231.2 MiB]                                                \n",
      "Operation completed over 1 objects/231.2 MiB.                                    \n"
     ]
    },
    {
     "name": "stdout",
     "output_type": "stream",
     "text": [
      "Processing: C3L-04216-25\n",
      "15\n"
     ]
    },
    {
     "name": "stderr",
     "output_type": "stream",
     "text": [
      "Copying gs://idc_v3_cptac_lscc/0f1e5865-3261-4edc-bea9-6aac6c96d056.dcm...\n",
      "| [1 files][550.0 MiB/550.0 MiB]                                                \n",
      "Operation completed over 1 objects/550.0 MiB.                                    \n"
     ]
    },
    {
     "name": "stdout",
     "output_type": "stream",
     "text": [
      "Processing: C3L-05392-24\n",
      "15\n"
     ]
    },
    {
     "name": "stderr",
     "output_type": "stream",
     "text": [
      "Copying gs://idc_v3_cptac_luad/a45cf526-410e-4b3c-97dd-db7d10567d55.dcm...\n",
      "\\ [1 files][124.4 MiB/124.4 MiB]                                                \n",
      "Operation completed over 1 objects/124.4 MiB.                                    \n"
     ]
    },
    {
     "name": "stdout",
     "output_type": "stream",
     "text": [
      "Processing: C3N-02193-21\n",
      "14\n"
     ]
    },
    {
     "name": "stderr",
     "output_type": "stream",
     "text": [
      "Copying gs://idc_v3_cptac_luad/1ed5b652-d29b-45d0-908c-c11710b9aada.dcm...\n",
      "- [1 files][228.8 MiB/228.8 MiB]                                                \n",
      "Operation completed over 1 objects/228.8 MiB.                                    \n"
     ]
    },
    {
     "name": "stdout",
     "output_type": "stream",
     "text": [
      "Processing: C3L-00083-21\n",
      "13\n"
     ]
    },
    {
     "name": "stderr",
     "output_type": "stream",
     "text": [
      "Copying gs://idc_v3_cptac_lscc/494f4ca5-e613-409b-b2e1-796f6d5a6372.dcm...\n",
      "\\ [1 files][ 56.7 MiB/ 56.7 MiB]                                                \n",
      "Operation completed over 1 objects/56.7 MiB.                                     \n"
     ]
    },
    {
     "name": "stdout",
     "output_type": "stream",
     "text": [
      "Processing: C3L-03272-22\n",
      "13\n"
     ]
    },
    {
     "name": "stderr",
     "output_type": "stream",
     "text": [
      "Copying gs://idc_v3_cptac_luad/51d83a53-fe5e-487c-a5fb-c3df4f73a424.dcm...\n",
      "\\ [1 files][406.5 MiB/406.5 MiB]                                                \n",
      "Operation completed over 1 objects/406.5 MiB.                                    \n"
     ]
    },
    {
     "name": "stdout",
     "output_type": "stream",
     "text": [
      "Processing: C3L-02616-25\n",
      "14\n"
     ]
    },
    {
     "name": "stderr",
     "output_type": "stream",
     "text": [
      "Copying gs://idc_v3_cptac_lscc/8668fd61-fb80-44c8-befa-c0663d027141.dcm...\n",
      "/ [1 files][195.6 MiB/195.6 MiB]                                                \n",
      "Operation completed over 1 objects/195.6 MiB.                                    \n"
     ]
    },
    {
     "name": "stdout",
     "output_type": "stream",
     "text": [
      "Processing: C3L-04013-28\n",
      "14\n"
     ]
    },
    {
     "name": "stderr",
     "output_type": "stream",
     "text": [
      "Copying gs://idc_v3_cptac_luad/4e45ada6-1b63-48b8-b3cf-45f12f0300ad.dcm...\n",
      "- [1 files][706.6 MiB/706.6 MiB]   57.4 MiB/s                                   \n",
      "Operation completed over 1 objects/706.6 MiB.                                    \n"
     ]
    },
    {
     "name": "stdout",
     "output_type": "stream",
     "text": [
      "Processing: C3N-02240-23\n",
      "14\n"
     ]
    },
    {
     "name": "stderr",
     "output_type": "stream",
     "text": [
      "Copying gs://idc_v3_cptac_lscc/3f0c8219-e522-4b84-8524-e7bcb81e7803.dcm...\n",
      "| [1 files][341.7 MiB/341.7 MiB]                                                \n",
      "Operation completed over 1 objects/341.7 MiB.                                    \n"
     ]
    },
    {
     "name": "stdout",
     "output_type": "stream",
     "text": [
      "Processing: C3N-03093-26\n",
      "15\n"
     ]
    },
    {
     "name": "stderr",
     "output_type": "stream",
     "text": [
      "Copying gs://idc_v3_cptac_lscc/703af9d4-8a79-4da4-955f-baa33599d7cc.dcm...\n",
      "/ [1 files][468.6 MiB/468.6 MiB]                                                \n",
      "Operation completed over 1 objects/468.6 MiB.                                    \n"
     ]
    },
    {
     "name": "stdout",
     "output_type": "stream",
     "text": [
      "Processing: C3L-05428-26\n",
      "15\n"
     ]
    },
    {
     "name": "stderr",
     "output_type": "stream",
     "text": [
      "Copying gs://idc_v3_cptac_lscc/afb999b7-c188-4b6a-a709-e6254fb64906.dcm...\n",
      "| [1 files][136.7 MiB/136.7 MiB]                                                \n",
      "Operation completed over 1 objects/136.7 MiB.                                    \n"
     ]
    },
    {
     "name": "stdout",
     "output_type": "stream",
     "text": [
      "Processing: C3N-01846-23\n",
      "13\n"
     ]
    },
    {
     "name": "stderr",
     "output_type": "stream",
     "text": [
      "Copying gs://idc_v3_cptac_lscc/459db443-ecd3-48d8-b653-47fd89b16a5e.dcm...\n",
      "- [1 files][246.7 MiB/246.7 MiB]                                                \n",
      "Operation completed over 1 objects/246.7 MiB.                                    \n"
     ]
    },
    {
     "name": "stdout",
     "output_type": "stream",
     "text": [
      "Processing: C3N-02285-24\n",
      "15\n"
     ]
    },
    {
     "name": "stderr",
     "output_type": "stream",
     "text": [
      "Copying gs://idc_v3_cptac_luad/122350a4-700b-4c62-955c-49ce65809e1b.dcm...\n",
      "\\ [1 files][106.0 MiB/106.0 MiB]                                                \n",
      "Operation completed over 1 objects/106.0 MiB.                                    \n"
     ]
    },
    {
     "name": "stdout",
     "output_type": "stream",
     "text": [
      "Processing: C3L-00140-22\n",
      "13\n"
     ]
    },
    {
     "name": "stderr",
     "output_type": "stream",
     "text": [
      "Copying gs://idc_v3_cptac_luad/2ff5ad06-874c-4050-83f2-ad7f8e943102.dcm...\n",
      "\\ [1 files][ 92.8 MiB/ 92.8 MiB]                                                \n",
      "Operation completed over 1 objects/92.8 MiB.                                     \n"
     ]
    },
    {
     "name": "stdout",
     "output_type": "stream",
     "text": [
      "Processing: C3L-00893-22\n",
      "13\n"
     ]
    },
    {
     "name": "stderr",
     "output_type": "stream",
     "text": [
      "Copying gs://idc_v3_cptac_lscc/32ff5f49-4c67-40c6-be91-9517ce92416c.dcm...\n",
      "| [1 files][366.6 MiB/366.6 MiB]                                                \n",
      "Operation completed over 1 objects/366.6 MiB.                                    \n"
     ]
    },
    {
     "name": "stdout",
     "output_type": "stream",
     "text": [
      "Processing: C3N-02725-26\n",
      "15\n"
     ]
    },
    {
     "name": "stderr",
     "output_type": "stream",
     "text": [
      "Copying gs://idc_v3_cptac_luad/6cca7575-555d-42de-a21f-ce6d8a440de3.dcm...\n",
      "\\ [1 files][ 76.6 MiB/ 76.6 MiB]                                                \n",
      "Operation completed over 1 objects/76.6 MiB.                                     \n"
     ]
    },
    {
     "name": "stdout",
     "output_type": "stream",
     "text": [
      "Processing: C3N-00217-23\n",
      "13\n"
     ]
    },
    {
     "name": "stderr",
     "output_type": "stream",
     "text": [
      "Copying gs://idc_v3_cptac_luad/27a97a33-929c-4ca1-ac29-c38e0361d685.dcm...\n",
      "/ [1 files][393.1 MiB/393.1 MiB]                                                \n",
      "Operation completed over 1 objects/393.1 MiB.                                    \n"
     ]
    },
    {
     "name": "stdout",
     "output_type": "stream",
     "text": [
      "Processing: C3N-00169-24\n",
      "14\n"
     ]
    },
    {
     "name": "stderr",
     "output_type": "stream",
     "text": [
      "Copying gs://idc_v3_cptac_lscc/fb20e642-f248-45a5-8c0d-9a628ffc85e8.dcm...\n",
      "/ [1 files][219.6 MiB/219.6 MiB]                                                \n",
      "Operation completed over 1 objects/219.6 MiB.                                    \n"
     ]
    },
    {
     "name": "stdout",
     "output_type": "stream",
     "text": [
      "Processing: C3L-02619-24\n",
      "14\n"
     ]
    },
    {
     "name": "stderr",
     "output_type": "stream",
     "text": [
      "Copying gs://idc_v3_cptac_luad/622d88b0-c1eb-41ec-8cc2-1356a7eb957a.dcm...\n",
      "/ [1 files][204.0 MiB/204.0 MiB]                                                \n",
      "Operation completed over 1 objects/204.0 MiB.                                    \n"
     ]
    },
    {
     "name": "stdout",
     "output_type": "stream",
     "text": [
      "Processing: C3N-02728-21\n",
      "14\n"
     ]
    },
    {
     "name": "stderr",
     "output_type": "stream",
     "text": [
      "Copying gs://idc_v3_cptac_luad/53c0aa95-4e78-40f1-a0b6-61abf86328df.dcm...\n",
      "| [1 files][352.2 MiB/352.2 MiB]                                                \n",
      "Operation completed over 1 objects/352.2 MiB.                                    \n"
     ]
    },
    {
     "name": "stdout",
     "output_type": "stream",
     "text": [
      "Processing: C3L-03679-22\n",
      "14\n"
     ]
    },
    {
     "name": "stderr",
     "output_type": "stream",
     "text": [
      "Copying gs://idc_v3_cptac_luad/6d24e888-47ce-4274-89a1-ef4d30c8c694.dcm...\n",
      "- [1 files][537.1 MiB/537.1 MiB]                                                \n",
      "Operation completed over 1 objects/537.1 MiB.                                    \n"
     ]
    },
    {
     "name": "stdout",
     "output_type": "stream",
     "text": [
      "Processing: C3N-02149-27\n",
      "14\n"
     ]
    },
    {
     "name": "stderr",
     "output_type": "stream",
     "text": [
      "Copying gs://idc_v3_cptac_luad/5f4fcce8-3bf4-4f16-9db6-e0c68da19b94.dcm...\n",
      "| [1 files][156.2 MiB/156.2 MiB]                                                \n",
      "Operation completed over 1 objects/156.2 MiB.                                    \n"
     ]
    },
    {
     "name": "stdout",
     "output_type": "stream",
     "text": [
      "Processing: C3N-02379-23\n",
      "14\n"
     ]
    },
    {
     "name": "stderr",
     "output_type": "stream",
     "text": [
      "Copying gs://idc_v3_cptac_lscc/681b277e-56e5-492a-9d18-150c226599f0.dcm...\n",
      "- [1 files][ 33.8 MiB/ 33.8 MiB]                                                \n",
      "Operation completed over 1 objects/33.8 MiB.                                     \n"
     ]
    },
    {
     "name": "stdout",
     "output_type": "stream",
     "text": [
      "Processing: C3L-02650-30\n",
      "13\n"
     ]
    },
    {
     "name": "stderr",
     "output_type": "stream",
     "text": [
      "Copying gs://idc_v3_cptac_luad/ec6c9b67-d01a-4e21-9861-a84abf2733ab.dcm...\n",
      "| [1 files][153.7 MiB/153.7 MiB]                                                \n",
      "Operation completed over 1 objects/153.7 MiB.                                    \n"
     ]
    },
    {
     "name": "stdout",
     "output_type": "stream",
     "text": [
      "Processing: C3N-03225-21\n",
      "13\n"
     ]
    },
    {
     "name": "stderr",
     "output_type": "stream",
     "text": [
      "Copying gs://idc_v3_cptac_luad/6abffcd3-a819-45e9-889f-5ad084133968.dcm...\n",
      "/ [1 files][174.4 MiB/174.4 MiB]                                                \n",
      "Operation completed over 1 objects/174.4 MiB.                                    \n"
     ]
    },
    {
     "name": "stdout",
     "output_type": "stream",
     "text": [
      "Processing: C3N-01842-22\n",
      "14\n"
     ]
    },
    {
     "name": "stderr",
     "output_type": "stream",
     "text": [
      "Copying gs://idc_v3_cptac_lscc/fca2b611-275b-4b4d-9a69-1cf5237ee67b.dcm...\n",
      "- [1 files][685.0 MiB/685.0 MiB]   58.0 MiB/s                                   \n",
      "Operation completed over 1 objects/685.0 MiB.                                    \n"
     ]
    },
    {
     "name": "stdout",
     "output_type": "stream",
     "text": [
      "Processing: C3L-04871-21\n",
      "15\n"
     ]
    },
    {
     "name": "stderr",
     "output_type": "stream",
     "text": [
      "Copying gs://idc_v3_cptac_luad/8530b147-aa51-4241-b935-7f90e3c7ca3e.dcm...\n",
      "\\ [1 files][ 98.1 MiB/ 98.1 MiB]                                                \n",
      "Operation completed over 1 objects/98.1 MiB.                                     \n"
     ]
    },
    {
     "name": "stdout",
     "output_type": "stream",
     "text": [
      "Processing: C3N-02529-23\n",
      "13\n"
     ]
    },
    {
     "name": "stderr",
     "output_type": "stream",
     "text": [
      "Copying gs://idc_v3_cptac_lscc/ffc52860-b80b-49a1-bd58-71da9e5ba7d4.dcm...\n",
      "/ [1 files][419.1 MiB/419.1 MiB]                                                \n",
      "Operation completed over 1 objects/419.1 MiB.                                    \n"
     ]
    },
    {
     "name": "stdout",
     "output_type": "stream",
     "text": [
      "Processing: C3L-04336-27\n",
      "15\n"
     ]
    },
    {
     "name": "stderr",
     "output_type": "stream",
     "text": [
      "Copying gs://idc_v3_cptac_luad/651a315a-5b48-4a86-907d-4d6cc1ab88f2.dcm...\n",
      "/ [1 files][373.6 MiB/373.6 MiB]                                                \n",
      "Operation completed over 1 objects/373.6 MiB.                                    \n"
     ]
    },
    {
     "name": "stdout",
     "output_type": "stream",
     "text": [
      "Processing: C3N-02067-23\n",
      "14\n"
     ]
    },
    {
     "name": "stderr",
     "output_type": "stream",
     "text": [
      "Copying gs://idc_v3_cptac_luad/52c8f52d-7106-4722-9a0c-51e623c8345d.dcm...\n",
      "\\ [1 files][ 79.5 MiB/ 79.5 MiB]                                                \n",
      "Operation completed over 1 objects/79.5 MiB.                                     \n"
     ]
    },
    {
     "name": "stdout",
     "output_type": "stream",
     "text": [
      "Processing: C3L-01862-23\n",
      "13\n"
     ]
    },
    {
     "name": "stderr",
     "output_type": "stream",
     "text": [
      "Copying gs://idc_v3_cptac_lscc/1e921ebe-c980-4a5e-b25f-120a2b915377.dcm...\n",
      "\\ [1 files][ 85.8 MiB/ 85.8 MiB]                                                \n",
      "Operation completed over 1 objects/85.8 MiB.                                     \n"
     ]
    },
    {
     "name": "stdout",
     "output_type": "stream",
     "text": [
      "Processing: C3N-03076-21\n",
      "13\n"
     ]
    },
    {
     "name": "stderr",
     "output_type": "stream",
     "text": [
      "Copying gs://idc_v3_cptac_luad/2af99a8b-d140-463e-8abe-e478e08521dc.dcm...\n",
      "- [1 files][521.8 MiB/521.8 MiB]                                                \n",
      "Operation completed over 1 objects/521.8 MiB.                                    \n"
     ]
    },
    {
     "name": "stdout",
     "output_type": "stream",
     "text": [
      "Processing: C3L-00446-22\n",
      "15\n"
     ]
    },
    {
     "name": "stderr",
     "output_type": "stream",
     "text": [
      "Copying gs://idc_v3_cptac_lscc/df7e41f4-7a84-4b8c-819d-67eba093bfe0.dcm...\n",
      "\\ [1 files][509.9 MiB/509.9 MiB]                                                \n",
      "Operation completed over 1 objects/509.9 MiB.                                    \n"
     ]
    },
    {
     "name": "stdout",
     "output_type": "stream",
     "text": [
      "Processing: C3L-04912-22\n",
      "15\n"
     ]
    },
    {
     "name": "stderr",
     "output_type": "stream",
     "text": [
      "Copying gs://idc_v3_cptac_luad/8b6cb48a-012b-4269-8d28-8f1165ff16aa.dcm...\n",
      "| [1 files][153.2 MiB/153.2 MiB]                                                \n",
      "Operation completed over 1 objects/153.2 MiB.                                    \n"
     ]
    },
    {
     "name": "stdout",
     "output_type": "stream",
     "text": [
      "Processing: C3L-00093-26\n",
      "14\n"
     ]
    },
    {
     "name": "stderr",
     "output_type": "stream",
     "text": [
      "Copying gs://idc_v3_cptac_lscc/09cce457-d571-413c-a13c-2106a7ce8e48.dcm...\n",
      "| [1 files][445.0 MiB/445.0 MiB]                                                \n",
      "Operation completed over 1 objects/445.0 MiB.                                    \n"
     ]
    },
    {
     "name": "stdout",
     "output_type": "stream",
     "text": [
      "Processing: C3L-05176-26\n",
      "15\n"
     ]
    },
    {
     "name": "stderr",
     "output_type": "stream",
     "text": [
      "Copying gs://idc_v3_cptac_lscc/7cc4bba2-451a-4bac-a4b1-846cf8925695.dcm...\n",
      "| [1 files][410.6 MiB/410.6 MiB]                                                \n",
      "Operation completed over 1 objects/410.6 MiB.                                    \n"
     ]
    },
    {
     "name": "stdout",
     "output_type": "stream",
     "text": [
      "Processing: C3L-05420-25\n",
      "15\n"
     ]
    },
    {
     "name": "stderr",
     "output_type": "stream",
     "text": [
      "Copying gs://idc_v3_cptac_lscc/e02b1f9a-3cec-48e9-8b90-b917eac36a34.dcm...\n",
      "| [1 files][ 89.6 MiB/ 89.6 MiB]                                                \n",
      "Operation completed over 1 objects/89.6 MiB.                                     \n"
     ]
    },
    {
     "name": "stdout",
     "output_type": "stream",
     "text": [
      "Processing: C3N-03051-22\n",
      "13\n"
     ]
    },
    {
     "name": "stderr",
     "output_type": "stream",
     "text": [
      "Copying gs://idc_v3_cptac_luad/826902f1-d1df-4abe-b51d-b73aac024bcb.dcm...\n",
      "| [1 files][  2.1 GiB/  2.1 GiB]   52.8 MiB/s                                   \n",
      "Operation completed over 1 objects/2.1 GiB.                                      \n"
     ]
    },
    {
     "name": "stdout",
     "output_type": "stream",
     "text": [
      "Processing: C3L-03717-22\n",
      "15\n"
     ]
    },
    {
     "name": "stderr",
     "output_type": "stream",
     "text": [
      "Copying gs://idc_v3_cptac_lscc/7329f490-d1d8-42a2-ab58-5141cffe216e.dcm...\n",
      "| [1 files][172.4 MiB/172.4 MiB]                                                \n",
      "Operation completed over 1 objects/172.4 MiB.                                    \n"
     ]
    },
    {
     "name": "stdout",
     "output_type": "stream",
     "text": [
      "Processing: C3L-04856-28\n",
      "14\n"
     ]
    },
    {
     "name": "stderr",
     "output_type": "stream",
     "text": [
      "Copying gs://idc_v3_cptac_luad/797a454b-1cf2-4ac2-922a-5b1acc92dc04.dcm...\n",
      "/ [1 files][495.6 MiB/495.6 MiB]                                                \n",
      "Operation completed over 1 objects/495.6 MiB.                                    \n"
     ]
    },
    {
     "name": "stdout",
     "output_type": "stream",
     "text": [
      "Processing: C3N-02141-26\n",
      "14\n"
     ]
    },
    {
     "name": "stderr",
     "output_type": "stream",
     "text": [
      "Copying gs://idc_v3_cptac_luad/13bf0db1-8770-4072-b222-e63e140f1e19.dcm...\n",
      "| [1 files][118.7 MiB/118.7 MiB]                                                \n",
      "Operation completed over 1 objects/118.7 MiB.                                    \n"
     ]
    },
    {
     "name": "stdout",
     "output_type": "stream",
     "text": [
      "Processing: C3L-00083-26\n",
      "13\n"
     ]
    },
    {
     "name": "stderr",
     "output_type": "stream",
     "text": [
      "Copying gs://idc_v3_cptac_lscc/6d2829a4-71ce-4519-bac4-f168b99dc49f.dcm...\n",
      "\\ [1 files][538.8 MiB/538.8 MiB]                                                \n",
      "Operation completed over 1 objects/538.8 MiB.                                    \n"
     ]
    },
    {
     "name": "stdout",
     "output_type": "stream",
     "text": [
      "Processing: C3L-04871-26\n",
      "15\n"
     ]
    },
    {
     "name": "stderr",
     "output_type": "stream",
     "text": [
      "Copying gs://idc_v3_cptac_lscc/8c3d1ab1-2c64-417c-a85f-8b4cf5d4db0b.dcm...\n",
      "\\ [1 files][706.3 MiB/706.3 MiB]   53.8 MiB/s                                   \n",
      "Operation completed over 1 objects/706.3 MiB.                                    \n"
     ]
    },
    {
     "name": "stdout",
     "output_type": "stream",
     "text": [
      "Processing: C3L-05176-24\n",
      "15\n"
     ]
    },
    {
     "name": "stderr",
     "output_type": "stream",
     "text": [
      "Copying gs://idc_v3_cptac_lscc/c8a624f8-cbc4-4018-9729-3d10a671e8c3.dcm...\n",
      "/ [1 files][197.2 MiB/197.2 MiB]                                                \n",
      "Operation completed over 1 objects/197.2 MiB.                                    \n"
     ]
    },
    {
     "name": "stdout",
     "output_type": "stream",
     "text": [
      "Processing: C3L-00415-21\n",
      "14\n"
     ]
    },
    {
     "name": "stderr",
     "output_type": "stream",
     "text": [
      "Copying gs://idc_v3_cptac_luad/e62fa484-0e59-42d0-80a3-17ed988103fe.dcm...\n",
      "/ [1 files][384.7 MiB/384.7 MiB]                                                \n",
      "Operation completed over 1 objects/384.7 MiB.                                    \n"
     ]
    },
    {
     "name": "stdout",
     "output_type": "stream",
     "text": [
      "Processing: C3N-00572-26\n",
      "14\n"
     ]
    },
    {
     "name": "stderr",
     "output_type": "stream",
     "text": [
      "Copying gs://idc_v3_cptac_luad/48039bdc-6e32-4f1c-ba11-017e18f8161a.dcm...\n",
      "| [1 files][356.0 MiB/356.0 MiB]                                                \n",
      "Operation completed over 1 objects/356.0 MiB.                                    \n"
     ]
    },
    {
     "name": "stdout",
     "output_type": "stream",
     "text": [
      "Processing: C3N-00433-22\n",
      "14\n"
     ]
    }
   ],
   "source": [
    "from data.tile_generation_cptac import generate_tiles\n",
    "\n",
    "generate_tiles(slides_dir, os.path.join(input_dir, 'slides_metadata.csv'), tiles_dir, 'idc-pathomics-000')"
   ]
  },
  {
   "cell_type": "code",
   "execution_count": null,
   "metadata": {},
   "outputs": [],
   "source": [
    "#from data.tile_generation import generate_tiles\n",
    "\n",
    "#generate_tiles(slides_dir, tiles_dir, desired_magnification=5.0)"
   ]
  },
  {
   "cell_type": "code",
   "execution_count": null,
   "metadata": {},
   "outputs": [],
   "source": [
    "#from data.tile_sorting import sort_tiles\n",
    "\n",
    "#metadata_file = os.path.join(input_dir, 'metadata.cart.2017-03-02T00_36_30.276824.json')\n",
    "#sort_tiles(tiles_dir, metadata_file, input_dir, 'norm_cancer', magnification=5.0)\n",
    "#sort_tiles(tiles_dir, metadata_file, input_dir, 'luad_lusc', magnification=5.0)\n",
    "#sort_tiles(tiles_dir, metadata_file, input_dir, 'norm_luad_lusc', magnification=5.0)"
   ]
  },
  {
   "cell_type": "code",
   "execution_count": null,
   "metadata": {},
   "outputs": [],
   "source": [
    "#from data.mutation_data_preparation import prepare_mutation_data, prepare_mutation_data_as_binary_problem\n",
    "\n",
    "#prepare_mutation_data(input_dir, os.path.join(input_dir, 'mutation_labels.csv'), os.path.join(input_dir, 'luad_tiles_predicted_by_original_coudray_code_acc_to_sorted_mutations_folder.csv'))\n",
    "#MUTATION_LABELS = {'stk11':0, 'egfr':1, 'setbp1':2, 'tp53':3, 'fat1':4, 'kras':5, 'keap1':6, 'lrp1b':7, 'fat4':8, 'nf1':9}\n",
    "#prepare_mutation_data_as_binary_problem(os.path.join(input_dir, 'csv_train_mutations_split1.csv'), 'tp53')\n",
    "#prepare_mutation_data_as_binary_problem(os.path.join(input_dir, 'csv_valid_mutations_split1.csv'), 'tp53')\n",
    "#prepare_mutation_data_as_binary_problem(os.path.join(input_dir, 'csv_test_mutations_split1.csv'), 'tp53')"
   ]
  }
 ],
 "metadata": {
  "environment": {
   "name": "tf2-gpu.2-1.m75",
   "type": "gcloud",
   "uri": "gcr.io/deeplearning-platform-release/tf2-gpu.2-1:m75"
  },
  "kernelspec": {
   "display_name": "Python 3",
   "language": "python",
   "name": "python3"
  },
  "language_info": {
   "codemirror_mode": {
    "name": "ipython",
    "version": 3
   },
   "file_extension": ".py",
   "mimetype": "text/x-python",
   "name": "python",
   "nbconvert_exporter": "python",
   "pygments_lexer": "ipython3",
   "version": "3.7.10"
  }
 },
 "nbformat": 4,
 "nbformat_minor": 4
}
