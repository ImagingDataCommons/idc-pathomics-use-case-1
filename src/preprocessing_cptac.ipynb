{
 "cells": [
  {
   "cell_type": "code",
   "execution_count": 1,
   "metadata": {},
   "outputs": [],
   "source": [
    "import os\n",
    "#%load_ext autoreload\n",
    "#%autoreload 2"
   ]
  },
  {
   "cell_type": "markdown",
   "metadata": {},
   "source": [
    "# Preprocessing"
   ]
  },
  {
   "cell_type": "code",
   "execution_count": 2,
   "metadata": {},
   "outputs": [
    {
     "name": "stdout",
     "output_type": "stream",
     "text": [
      "Hit:1 http://security.debian.org/debian-security buster/updates InRelease\n",
      "Hit:2 http://deb.debian.org/debian buster InRelease                            \n",
      "Hit:3 http://deb.debian.org/debian buster-updates InRelease                    \n",
      "Hit:4 http://deb.debian.org/debian buster-backports InRelease                  \n",
      "Hit:5 https://nvidia.github.io/libnvidia-container/stable/debian10/amd64  InRelease\n",
      "Hit:7 https://nvidia.github.io/nvidia-container-runtime/stable/debian10/amd64  InRelease\n",
      "Hit:8 https://download.docker.com/linux/debian buster InRelease                \n",
      "Hit:9 https://nvidia.github.io/nvidia-docker/debian10/amd64  InRelease\n",
      "Get:10 http://packages.cloud.google.com/apt cloud-sdk-buster InRelease [6774 B]\n",
      "Hit:11 https://packages.cloud.google.com/apt google-fast-socket InRelease\n",
      "Hit:12 http://packages.cloud.google.com/apt google-cloud-packages-archive-keyring-buster InRelease\n",
      "Hit:6 https://packages.cloud.google.com/apt kubernetes-xenial InRelease\n",
      "Hit:13 http://packages.cloud.google.com/apt gcsfuse-buster InRelease\n",
      "Get:14 http://packages.cloud.google.com/apt google-compute-engine-buster-stable InRelease [5526 B]\n",
      "Fetched 12.3 kB in 1s (8359 B/s)   \n",
      "Reading package lists... Done\n",
      "Reading package lists... Done\n",
      "Building dependency tree       \n",
      "Reading state information... Done\n",
      "python3-openslide is already the newest version (1.1.1-4).\n",
      "0 upgraded, 0 newly installed, 0 to remove and 1 not upgraded.\n",
      "Requirement already satisfied: openslide-wrapper==1.1.2 in /usr/local/lib/python3.7/dist-packages (from -r ../requirements.txt (line 1)) (1.1.2)\n",
      "Requirement already satisfied: numpy==1.19.1 in /usr/local/lib/python3.7/dist-packages (from -r ../requirements.txt (line 2)) (1.19.1)\n",
      "Requirement already satisfied: scikit-learn==0.24.1 in /usr/local/lib/python3.7/dist-packages (from -r ../requirements.txt (line 3)) (0.24.1)\n",
      "Requirement already satisfied: pandas==1.1.0 in /usr/local/lib/python3.7/dist-packages (from -r ../requirements.txt (line 4)) (1.1.0)\n",
      "Requirement already satisfied: seaborn in /usr/local/lib/python3.7/dist-packages (from -r ../requirements.txt (line 5)) (0.11.1)\n",
      "Requirement already satisfied: Pillow in /usr/lib/python3/dist-packages (from openslide-wrapper==1.1.2->-r ../requirements.txt (line 1)) (5.4.1)\n",
      "Requirement already satisfied: joblib>=0.11 in /usr/local/lib/python3.7/dist-packages (from scikit-learn==0.24.1->-r ../requirements.txt (line 3)) (1.0.1)\n",
      "Requirement already satisfied: scipy>=0.19.1 in /usr/local/lib/python3.7/dist-packages (from scikit-learn==0.24.1->-r ../requirements.txt (line 3)) (1.7.0)\n",
      "Requirement already satisfied: threadpoolctl>=2.0.0 in /usr/local/lib/python3.7/dist-packages (from scikit-learn==0.24.1->-r ../requirements.txt (line 3)) (2.2.0)\n",
      "Requirement already satisfied: python-dateutil>=2.7.3 in /usr/local/lib/python3.7/dist-packages (from pandas==1.1.0->-r ../requirements.txt (line 4)) (2.8.2)\n",
      "Requirement already satisfied: pytz>=2017.2 in /usr/local/lib/python3.7/dist-packages (from pandas==1.1.0->-r ../requirements.txt (line 4)) (2021.1)\n",
      "Requirement already satisfied: matplotlib>=2.2 in /usr/local/lib/python3.7/dist-packages (from seaborn->-r ../requirements.txt (line 5)) (3.4.2)\n",
      "Requirement already satisfied: six>=1.5 in /usr/local/lib/python3.7/dist-packages (from python-dateutil>=2.7.3->pandas==1.1.0->-r ../requirements.txt (line 4)) (1.16.0)\n",
      "Requirement already satisfied: kiwisolver>=1.0.1 in /usr/local/lib/python3.7/dist-packages (from matplotlib>=2.2->seaborn->-r ../requirements.txt (line 5)) (1.3.1)\n",
      "Requirement already satisfied: cycler>=0.10 in /usr/local/lib/python3.7/dist-packages (from matplotlib>=2.2->seaborn->-r ../requirements.txt (line 5)) (0.10.0)\n",
      "Requirement already satisfied: pyparsing>=2.2.1 in /usr/local/lib/python3.7/dist-packages (from matplotlib>=2.2->seaborn->-r ../requirements.txt (line 5)) (2.4.7)\n"
     ]
    }
   ],
   "source": [
    "!sudo apt-get update\n",
    "!sudo apt-get install --no-install-recommends -y python3-openslide\n",
    "!sudo pip3 install -r ../requirements.txt\n",
    "import sys\n",
    "sys.path.append('/usr/local/lib/python3.7/dist-packages')"
   ]
  },
  {
   "cell_type": "code",
   "execution_count": 3,
   "metadata": {},
   "outputs": [],
   "source": [
    "input_dir = '/home/jupyter/idc_input/'\n",
    "slides_dir = os.path.join(input_dir, 'cptac_slides')\n",
    "tiles_dir = os.path.join(input_dir, 'cptac_tiles')\n",
    "#mkdir respective folders? and afterwards delete slide folder, because it is empty?  "
   ]
  },
  {
   "cell_type": "code",
   "execution_count": null,
   "metadata": {},
   "outputs": [
    {
     "name": "stdout",
     "output_type": "stream",
     "text": [
      "Reading input data from /home/jupyter/idc_input/cptac_slides\n",
      "Slide C3L-00415-26 already tiled\n"
     ]
    },
    {
     "name": "stderr",
     "output_type": "stream",
     "text": [
      "Copying gs://idc_v3_cptac_lscc/cf1a52ff-1a1b-41e3-9845-2d67c81f5453.dcm...\n",
      "- [1 files][ 70.9 MiB/ 70.9 MiB]                                                \n",
      "Operation completed over 1 objects/70.9 MiB.                                     \n"
     ]
    },
    {
     "name": "stdout",
     "output_type": "stream",
     "text": [
      "Processing: C3L-00503-26\n",
      "13\n"
     ]
    },
    {
     "name": "stderr",
     "output_type": "stream",
     "text": [
      "Copying gs://idc_v3_cptac_lscc/16dc6535-ff33-4ddf-937d-7fb5dfbcf626.dcm...\n",
      "\\ [1 files][ 76.5 MiB/ 76.5 MiB]                                                \n",
      "Operation completed over 1 objects/76.5 MiB.                                     \n"
     ]
    },
    {
     "name": "stdout",
     "output_type": "stream",
     "text": [
      "Processing: C3L-00568-22\n",
      "13\n"
     ]
    },
    {
     "name": "stderr",
     "output_type": "stream",
     "text": [
      "Copying gs://idc_v3_cptac_luad/ea1c7876-c547-4abf-ab99-ac55d91d5b0b.dcm...\n",
      "\\ [1 files][ 82.3 MiB/ 82.3 MiB]                                                \n",
      "Operation completed over 1 objects/82.3 MiB.                                     \n"
     ]
    },
    {
     "name": "stdout",
     "output_type": "stream",
     "text": [
      "Processing: C3L-00604-22\n",
      "13\n"
     ]
    },
    {
     "name": "stderr",
     "output_type": "stream",
     "text": [
      "Copying gs://idc_v3_cptac_lscc/770fd990-2125-4ec9-b518-61dfcea2f7bb.dcm...\n",
      "\\ [1 files][294.6 MiB/294.6 MiB]                                                \n",
      "Operation completed over 1 objects/294.6 MiB.                                    \n"
     ]
    },
    {
     "name": "stdout",
     "output_type": "stream",
     "text": [
      "Processing: C3L-00904-21\n",
      "14\n"
     ]
    },
    {
     "name": "stderr",
     "output_type": "stream",
     "text": [
      "Copying gs://idc_v3_cptac_lscc/608fa809-fa32-495b-ba28-f18bbd257879.dcm...\n",
      "\\ [1 files][293.1 MiB/293.1 MiB]                                                \n",
      "Operation completed over 1 objects/293.1 MiB.                                    \n"
     ]
    },
    {
     "name": "stdout",
     "output_type": "stream",
     "text": [
      "Processing: C3L-00993-24\n",
      "14\n"
     ]
    },
    {
     "name": "stderr",
     "output_type": "stream",
     "text": [
      "Copying gs://idc_v3_cptac_luad/02889d80-17ab-40fc-bc9f-8373166238b1.dcm...\n",
      "\\ [1 files][100.6 MiB/100.6 MiB]                                                \n",
      "Operation completed over 1 objects/100.6 MiB.                                    \n"
     ]
    },
    {
     "name": "stdout",
     "output_type": "stream",
     "text": [
      "Processing: C3L-01890-26\n",
      "13\n"
     ]
    },
    {
     "name": "stderr",
     "output_type": "stream",
     "text": [
      "Copying gs://idc_v3_cptac_luad/949aeb5c-39cc-4816-8443-f8cad8c0ef1a.dcm...\n",
      "| [1 files][158.2 MiB/158.2 MiB]                                                \n",
      "Operation completed over 1 objects/158.2 MiB.                                    \n"
     ]
    },
    {
     "name": "stdout",
     "output_type": "stream",
     "text": [
      "Processing: C3L-02129-22\n",
      "15\n"
     ]
    },
    {
     "name": "stderr",
     "output_type": "stream",
     "text": [
      "Copying gs://idc_v3_cptac_lscc/74ff5f49-c754-4340-a1eb-8a6430d35a04.dcm...\n",
      "\\ [1 files][695.9 MiB/695.9 MiB]   51.6 MiB/s                                   \n",
      "Operation completed over 1 objects/695.9 MiB.                                    \n"
     ]
    },
    {
     "name": "stdout",
     "output_type": "stream",
     "text": [
      "Processing: C3L-02130-22\n",
      "15\n"
     ]
    },
    {
     "name": "stderr",
     "output_type": "stream",
     "text": [
      "Copying gs://idc_v3_cptac_lscc/63f782ae-2214-4f29-98f0-af4cf83f70e6.dcm...\n",
      "| [1 files][134.4 MiB/134.4 MiB]                                                \n",
      "Operation completed over 1 objects/134.4 MiB.                                    \n"
     ]
    },
    {
     "name": "stdout",
     "output_type": "stream",
     "text": [
      "Processing: C3L-02358-21\n",
      "13\n"
     ]
    },
    {
     "name": "stderr",
     "output_type": "stream",
     "text": [
      "Copying gs://idc_v3_cptac_luad/3cecba53-e341-465f-b1bd-3b4e3c28c8aa.dcm...\n",
      "| [1 files][341.5 MiB/341.5 MiB]                                                \n",
      "Operation completed over 1 objects/341.5 MiB.                                    \n"
     ]
    },
    {
     "name": "stdout",
     "output_type": "stream",
     "text": [
      "Processing: C3L-02513-24\n",
      "13\n",
      "Slide C3L-02552-23 already tiled\n"
     ]
    },
    {
     "name": "stderr",
     "output_type": "stream",
     "text": [
      "Copying gs://idc_v3_cptac_luad/0567728b-bb23-4988-81ff-98b2b15320c5.dcm...\n",
      "\\ [1 files][ 84.5 MiB/ 84.5 MiB]                                                \n",
      "Operation completed over 1 objects/84.5 MiB.                                     \n"
     ]
    },
    {
     "name": "stdout",
     "output_type": "stream",
     "text": [
      "Processing: C3L-02560-21\n",
      "13\n"
     ]
    },
    {
     "name": "stderr",
     "output_type": "stream",
     "text": [
      "Copying gs://idc_v3_cptac_luad/62f9a5ba-5068-4f44-82d5-389bbb44070d.dcm...\n",
      "| [1 files][348.6 MiB/348.6 MiB]                                                \n",
      "Operation completed over 1 objects/348.6 MiB.                                    \n"
     ]
    },
    {
     "name": "stdout",
     "output_type": "stream",
     "text": [
      "Processing: C3L-02616-22\n",
      "14\n"
     ]
    },
    {
     "name": "stderr",
     "output_type": "stream",
     "text": [
      "Copying gs://idc_v3_cptac_lscc/f092e4de-24b7-4257-a721-2f11f2d82790.dcm...\n",
      "/ [1 files][178.9 MiB/178.9 MiB]                                                \n",
      "Operation completed over 1 objects/178.9 MiB.                                    \n"
     ]
    },
    {
     "name": "stdout",
     "output_type": "stream",
     "text": [
      "Processing: C3L-02624-26\n",
      "14\n"
     ]
    },
    {
     "name": "stderr",
     "output_type": "stream",
     "text": [
      "Copying gs://idc_v3_cptac_luad/aeff62aa-ba59-4858-942c-a477991b0def.dcm...\n",
      "| [1 files][369.7 MiB/369.7 MiB]                                                \n",
      "Operation completed over 1 objects/369.7 MiB.                                    \n"
     ]
    },
    {
     "name": "stdout",
     "output_type": "stream",
     "text": [
      "Processing: C3L-02643-25\n",
      "15\n"
     ]
    },
    {
     "name": "stderr",
     "output_type": "stream",
     "text": [
      "Copying gs://idc_v3_cptac_lscc/2d5f4dce-38a1-4067-a20b-8cc30ad2b406.dcm...\n",
      "| [1 files][343.8 MiB/343.8 MiB]                                                \n",
      "Operation completed over 1 objects/343.8 MiB.                                    \n"
     ]
    },
    {
     "name": "stdout",
     "output_type": "stream",
     "text": [
      "Processing: C3L-02650-26\n",
      "15\n"
     ]
    },
    {
     "name": "stderr",
     "output_type": "stream",
     "text": [
      "Copying gs://idc_v3_cptac_luad/09756573-b529-4e97-9994-f6f6e75f8e88.dcm...\n",
      "| [1 files][411.9 MiB/411.9 MiB]                                                \n",
      "Operation completed over 1 objects/411.9 MiB.                                    \n"
     ]
    },
    {
     "name": "stdout",
     "output_type": "stream",
     "text": [
      "Processing: C3L-02654-25\n",
      "15\n"
     ]
    },
    {
     "name": "stderr",
     "output_type": "stream",
     "text": [
      "Copying gs://idc_v3_cptac_lscc/08a0ea50-a46e-4db5-80f6-fd072ee23816.dcm...\n",
      "\\ [1 files][277.8 MiB/277.8 MiB]                                                \n",
      "Operation completed over 1 objects/277.8 MiB.                                    \n"
     ]
    },
    {
     "name": "stdout",
     "output_type": "stream",
     "text": [
      "Processing: C3L-02665-22\n",
      "15\n"
     ]
    },
    {
     "name": "stderr",
     "output_type": "stream",
     "text": [
      "Copying gs://idc_v3_cptac_luad/239bcd6c-19dc-4711-ba83-b23ecdfcfb1f.dcm...\n",
      "| [1 files][125.9 MiB/125.9 MiB]                                                \n",
      "Operation completed over 1 objects/125.9 MiB.                                    \n"
     ]
    },
    {
     "name": "stdout",
     "output_type": "stream",
     "text": [
      "Processing: C3L-02834-22\n",
      "13\n"
     ]
    },
    {
     "name": "stderr",
     "output_type": "stream",
     "text": [
      "Copying gs://idc_v3_cptac_luad/aa5446e5-a71a-4233-a265-77721b0e864f.dcm...\n",
      "- [1 files][ 35.4 MiB/ 35.4 MiB]                                                \n",
      "Operation completed over 1 objects/35.4 MiB.                                     \n"
     ]
    },
    {
     "name": "stdout",
     "output_type": "stream",
     "text": [
      "Processing: C3L-02967-21\n",
      "12\n"
     ]
    },
    {
     "name": "stderr",
     "output_type": "stream",
     "text": [
      "Copying gs://idc_v3_cptac_lscc/481b3a22-55a3-4c6b-9650-06ea3bbfe56f.dcm...\n",
      "- [1 files][ 44.4 MiB/ 44.4 MiB]                                                \n",
      "Operation completed over 1 objects/44.4 MiB.                                     \n"
     ]
    },
    {
     "name": "stdout",
     "output_type": "stream",
     "text": [
      "Processing: C3L-03272-26\n",
      "13\n"
     ]
    },
    {
     "name": "stderr",
     "output_type": "stream",
     "text": [
      "Copying gs://idc_v3_cptac_luad/d21f5fa0-b810-47ee-9510-eb496d2b900a.dcm...\n",
      "| [1 files][590.1 MiB/590.1 MiB]                                                \n",
      "Operation completed over 1 objects/590.1 MiB.                                    \n"
     ]
    },
    {
     "name": "stdout",
     "output_type": "stream",
     "text": [
      "Processing: C3L-03463-27\n",
      "14\n"
     ]
    },
    {
     "name": "stderr",
     "output_type": "stream",
     "text": [
      "Copying gs://idc_v3_cptac_luad/f465b01c-ae08-48cb-b14f-3f00da5ce1f9.dcm...\n",
      "| [1 files][  1.7 GiB/  1.7 GiB]   52.7 MiB/s                                   \n",
      "Operation completed over 1 objects/1.7 GiB.                                      \n"
     ]
    },
    {
     "name": "stdout",
     "output_type": "stream",
     "text": [
      "Processing: C3L-03721-21\n",
      "15\n",
      "Slide C3L-03985-27 already tiled\n"
     ]
    },
    {
     "name": "stderr",
     "output_type": "stream",
     "text": [
      "Copying gs://idc_v3_cptac_luad/5714179b-8d38-4397-bca6-57c22afe2e41.dcm...\n",
      "/ [1 files][372.2 MiB/372.2 MiB]                                                \n",
      "Operation completed over 1 objects/372.2 MiB.                                    \n"
     ]
    },
    {
     "name": "stdout",
     "output_type": "stream",
     "text": [
      "Processing: C3L-04033-28\n",
      "14\n",
      "Slide C3L-04216-21 already tiled\n"
     ]
    },
    {
     "name": "stderr",
     "output_type": "stream",
     "text": [
      "Copying gs://idc_v3_cptac_luad/974e46ec-c1bd-4a55-bfe0-1641b0b0449c.dcm...\n",
      "/ [1 files][210.8 MiB/210.8 MiB]                                                \n",
      "Operation completed over 1 objects/210.8 MiB.                                    \n"
     ]
    },
    {
     "name": "stdout",
     "output_type": "stream",
     "text": [
      "Processing: C3L-04365-27\n",
      "14\n"
     ]
    },
    {
     "name": "stderr",
     "output_type": "stream",
     "text": [
      "Copying gs://idc_v3_cptac_lscc/49b8773a-09e8-43bd-aadc-c84888ee62f5.dcm...\n",
      "- [1 files][490.5 MiB/490.5 MiB]                                                \n",
      "Operation completed over 1 objects/490.5 MiB.                                    \n"
     ]
    },
    {
     "name": "stdout",
     "output_type": "stream",
     "text": [
      "Processing: C3L-04746-26\n",
      "15\n"
     ]
    },
    {
     "name": "stderr",
     "output_type": "stream",
     "text": [
      "Copying gs://idc_v3_cptac_luad/caf0ff1c-2d44-4226-8b4c-f67c5afffe91.dcm...\n",
      "/ [1 files][178.4 MiB/178.4 MiB]                                                \n",
      "Operation completed over 1 objects/178.4 MiB.                                    \n"
     ]
    },
    {
     "name": "stdout",
     "output_type": "stream",
     "text": [
      "Processing: C3L-04757-26\n",
      "13\n"
     ]
    },
    {
     "name": "stderr",
     "output_type": "stream",
     "text": [
      "Copying gs://idc_v3_cptac_luad/7067e921-ca39-4264-882e-a15919768033.dcm...\n",
      "| [1 files][363.8 MiB/363.8 MiB]                                                \n",
      "Operation completed over 1 objects/363.8 MiB.                                    \n"
     ]
    },
    {
     "name": "stdout",
     "output_type": "stream",
     "text": [
      "Processing: C3L-04759-25\n",
      "14\n"
     ]
    },
    {
     "name": "stderr",
     "output_type": "stream",
     "text": [
      "Copying gs://idc_v3_cptac_lscc/8c5f0920-3277-42eb-87a8-b7e6dfc236de.dcm...\n",
      "| [1 files][608.1 MiB/608.1 MiB]   57.3 MiB/s                                   \n",
      "Operation completed over 1 objects/608.1 MiB.                                    \n"
     ]
    },
    {
     "name": "stdout",
     "output_type": "stream",
     "text": [
      "Processing: C3L-04786-28\n",
      "15\n"
     ]
    },
    {
     "name": "stderr",
     "output_type": "stream",
     "text": [
      "Copying gs://idc_v3_cptac_lscc/c25ab6f7-f1f1-4283-a217-20bdd9e3a5c3.dcm...\n",
      "- [1 files][225.9 MiB/225.9 MiB]                                                \n",
      "Operation completed over 1 objects/225.9 MiB.                                    \n"
     ]
    },
    {
     "name": "stdout",
     "output_type": "stream",
     "text": [
      "Processing: C3L-04854-25\n",
      "14\n"
     ]
    },
    {
     "name": "stderr",
     "output_type": "stream",
     "text": [
      "Copying gs://idc_v3_cptac_lscc/a0dbf4b0-5dae-4c19-a161-26d244ad63ef.dcm...\n",
      "- [1 files][511.1 MiB/511.1 MiB]                                                \n",
      "Operation completed over 1 objects/511.1 MiB.                                    \n"
     ]
    },
    {
     "name": "stdout",
     "output_type": "stream",
     "text": [
      "Processing: C3L-04858-25\n",
      "14\n"
     ]
    },
    {
     "name": "stderr",
     "output_type": "stream",
     "text": [
      "Copying gs://idc_v3_cptac_lscc/7ff152e1-9788-4bc5-a185-9500a4e6a24f.dcm...\n",
      "- [1 files][488.5 MiB/488.5 MiB]                                                \n",
      "Operation completed over 1 objects/488.5 MiB.                                    \n"
     ]
    },
    {
     "name": "stdout",
     "output_type": "stream",
     "text": [
      "Processing: C3L-04871-28\n",
      "15\n"
     ]
    },
    {
     "name": "stderr",
     "output_type": "stream",
     "text": [
      "Copying gs://idc_v3_cptac_lscc/c5502995-de2e-4bdd-9aa0-d52abcb7060c.dcm...\n",
      "- [1 files][237.3 MiB/237.3 MiB]                                                \n",
      "Operation completed over 1 objects/237.3 MiB.                                    \n"
     ]
    },
    {
     "name": "stdout",
     "output_type": "stream",
     "text": [
      "Processing: C3L-04874-25\n",
      "13\n",
      "Slide C3L-04880-23 already tiled\n"
     ]
    },
    {
     "name": "stderr",
     "output_type": "stream",
     "text": [
      "Copying gs://idc_v3_cptac_lscc/67c9797e-3221-4538-8b6a-6823ebc1c25f.dcm...\n",
      "/ [1 files][199.1 MiB/199.1 MiB]                                                \n",
      "Operation completed over 1 objects/199.1 MiB.                                    \n"
     ]
    },
    {
     "name": "stdout",
     "output_type": "stream",
     "text": [
      "Processing: C3L-04887-27\n",
      "13\n"
     ]
    },
    {
     "name": "stderr",
     "output_type": "stream",
     "text": [
      "Copying gs://idc_v3_cptac_lscc/7ca8c36d-b926-45cf-8ecc-76dea1397224.dcm...\n",
      "\\ [1 files][425.2 MiB/425.2 MiB]                                                \n",
      "Operation completed over 1 objects/425.2 MiB.                                    \n"
     ]
    },
    {
     "name": "stdout",
     "output_type": "stream",
     "text": [
      "Processing: C3L-04912-28\n",
      "15\n"
     ]
    },
    {
     "name": "stderr",
     "output_type": "stream",
     "text": [
      "Copying gs://idc_v3_cptac_lscc/64afa134-5c0b-4e1e-b57c-2a246ef0d010.dcm...\n",
      "\\ [1 files][737.3 MiB/737.3 MiB]   56.8 MiB/s                                   \n",
      "Operation completed over 1 objects/737.3 MiB.                                    \n"
     ]
    },
    {
     "name": "stdout",
     "output_type": "stream",
     "text": [
      "Processing: C3L-04912-24\n",
      "15\n"
     ]
    },
    {
     "name": "stderr",
     "output_type": "stream",
     "text": [
      "Copying gs://idc_v3_cptac_lscc/2a99310f-f76d-441d-9b9e-6f5438360dd1.dcm...\n",
      "| [1 files][160.0 MiB/160.0 MiB]                                                \n",
      "Operation completed over 1 objects/160.0 MiB.                                    \n"
     ]
    },
    {
     "name": "stdout",
     "output_type": "stream",
     "text": [
      "Processing: C3L-04921-27\n",
      "13\n"
     ]
    },
    {
     "name": "stderr",
     "output_type": "stream",
     "text": [
      "Copying gs://idc_v3_cptac_lscc/6fccf07f-4267-4cf8-8759-570aafb306c1.dcm...\n",
      "\\ [1 files][650.2 MiB/650.2 MiB]   60.2 MiB/s                                   \n",
      "Operation completed over 1 objects/650.2 MiB.                                    \n"
     ]
    },
    {
     "name": "stdout",
     "output_type": "stream",
     "text": [
      "Processing: C3L-04922-21\n",
      "15\n"
     ]
    },
    {
     "name": "stderr",
     "output_type": "stream",
     "text": [
      "Copying gs://idc_v3_cptac_lscc/675db2c4-b4fb-4a19-9af5-e4186132afcf.dcm...\n",
      "| [1 files][125.8 MiB/125.8 MiB]                                                \n",
      "Operation completed over 1 objects/125.8 MiB.                                    \n"
     ]
    },
    {
     "name": "stdout",
     "output_type": "stream",
     "text": [
      "Processing: C3L-05022-26\n",
      "13\n"
     ]
    },
    {
     "name": "stderr",
     "output_type": "stream",
     "text": [
      "Copying gs://idc_v3_cptac_lscc/a7126bc0-066a-4eee-9b6f-1a422e1fc44d.dcm...\n",
      "\\ [1 files][409.7 MiB/409.7 MiB]                                                \n",
      "Operation completed over 1 objects/409.7 MiB.                                    \n"
     ]
    },
    {
     "name": "stdout",
     "output_type": "stream",
     "text": [
      "Processing: C3L-05369-27\n",
      "15\n"
     ]
    },
    {
     "name": "stderr",
     "output_type": "stream",
     "text": [
      "Copying gs://idc_v3_cptac_lscc/9d5a8204-49d6-4d31-ba2c-79f6d39cc382.dcm...\n",
      "/ [1 files][495.3 MiB/495.3 MiB]                                                \n",
      "Operation completed over 1 objects/495.3 MiB.                                    \n"
     ]
    },
    {
     "name": "stdout",
     "output_type": "stream",
     "text": [
      "Processing: C3L-05369-25\n",
      "15\n"
     ]
    },
    {
     "name": "stderr",
     "output_type": "stream",
     "text": [
      "Copying gs://idc_v3_cptac_lscc/8dcafc27-c265-4c85-8314-2302bf390b1d.dcm...\n",
      "| [1 files][698.5 MiB/698.5 MiB]   45.7 MiB/s                                   \n",
      "Operation completed over 1 objects/698.5 MiB.                                    \n"
     ]
    },
    {
     "name": "stdout",
     "output_type": "stream",
     "text": [
      "Processing: C3L-05394-25\n",
      "15\n"
     ]
    },
    {
     "name": "stderr",
     "output_type": "stream",
     "text": [
      "Copying gs://idc_v3_cptac_lscc/6bded338-2e47-4007-83c2-106df0c12491.dcm...\n",
      "- [1 files][429.3 MiB/429.3 MiB]                                                \n",
      "Operation completed over 1 objects/429.3 MiB.                                    \n"
     ]
    },
    {
     "name": "stdout",
     "output_type": "stream",
     "text": [
      "Processing: C3L-05398-26\n",
      "15\n"
     ]
    },
    {
     "name": "stderr",
     "output_type": "stream",
     "text": [
      "Copying gs://idc_v3_cptac_lscc/37e9808e-e5fa-4d64-99e5-2b9bbd0d3823.dcm...\n",
      "/ [1 files][391.0 MiB/391.0 MiB]                                                \n",
      "Operation completed over 1 objects/391.0 MiB.                                    \n"
     ]
    },
    {
     "name": "stdout",
     "output_type": "stream",
     "text": [
      "Processing: C3L-05423-23\n",
      "14\n"
     ]
    },
    {
     "name": "stderr",
     "output_type": "stream",
     "text": [
      "Copying gs://idc_v3_cptac_lscc/54a3127f-3737-4fc9-9fa3-9ae9e2482bca.dcm...\n",
      "\\ [1 files][110.9 MiB/110.9 MiB]                                                \n",
      "Operation completed over 1 objects/110.9 MiB.                                    \n"
     ]
    },
    {
     "name": "stdout",
     "output_type": "stream",
     "text": [
      "Processing: C3L-05693-26\n",
      "13\n"
     ]
    },
    {
     "name": "stderr",
     "output_type": "stream",
     "text": [
      "Copying gs://idc_v3_cptac_luad/2abfd60f-30ee-4844-862c-368a821c2f36.dcm...\n",
      "\\ [1 files][414.5 MiB/414.5 MiB]                                                \n",
      "Operation completed over 1 objects/414.5 MiB.                                    \n"
     ]
    },
    {
     "name": "stdout",
     "output_type": "stream",
     "text": [
      "Processing: C3N-00180-22\n",
      "14\n"
     ]
    },
    {
     "name": "stderr",
     "output_type": "stream",
     "text": [
      "Copying gs://idc_v3_cptac_lscc/68435721-2ba7-4f92-8038-671e00d4ede9.dcm...\n",
      "| [1 files][161.3 MiB/161.3 MiB]                                                \n",
      "Operation completed over 1 objects/161.3 MiB.                                    \n"
     ]
    },
    {
     "name": "stdout",
     "output_type": "stream",
     "text": [
      "Processing: C3N-00221-26\n",
      "14\n"
     ]
    },
    {
     "name": "stderr",
     "output_type": "stream",
     "text": [
      "Copying gs://idc_v3_cptac_luad/dd7f6abf-e931-44a6-a4cb-e15c792d47b4.dcm...\n",
      "\\ [1 files][334.5 MiB/334.5 MiB]                                                \n",
      "Operation completed over 1 objects/334.5 MiB.                                    \n"
     ]
    },
    {
     "name": "stdout",
     "output_type": "stream",
     "text": [
      "Processing: C3N-00223-21\n",
      "15\n"
     ]
    },
    {
     "name": "stderr",
     "output_type": "stream",
     "text": [
      "Copying gs://idc_v3_cptac_luad/e46f8718-ec7d-4d24-b740-2e2e2e10937c.dcm...\n",
      "- [1 files][268.4 MiB/268.4 MiB]                                                \n",
      "Operation completed over 1 objects/268.4 MiB.                                    \n"
     ]
    },
    {
     "name": "stdout",
     "output_type": "stream",
     "text": [
      "Processing: C3N-00223-25\n",
      "15\n"
     ]
    },
    {
     "name": "stderr",
     "output_type": "stream",
     "text": [
      "Copying gs://idc_v3_cptac_luad/6a71c9a2-381d-48d2-81ac-d2517a86b30b.dcm...\n",
      "- [1 files][234.1 MiB/234.1 MiB]                                                \n",
      "Operation completed over 1 objects/234.1 MiB.                                    \n"
     ]
    },
    {
     "name": "stdout",
     "output_type": "stream",
     "text": [
      "Processing: C3N-00223-27\n",
      "15\n"
     ]
    },
    {
     "name": "stderr",
     "output_type": "stream",
     "text": [
      "Copying gs://idc_v3_cptac_luad/eaf8759d-6acd-483c-999f-adc18fa0f099.dcm...\n",
      "\\ [1 files][287.7 MiB/287.7 MiB]                                                \n",
      "Operation completed over 1 objects/287.7 MiB.                                    \n"
     ]
    },
    {
     "name": "stdout",
     "output_type": "stream",
     "text": [
      "Processing: C3N-00223-22\n",
      "15\n"
     ]
    },
    {
     "name": "stderr",
     "output_type": "stream",
     "text": [
      "Copying gs://idc_v3_cptac_luad/5d4da0c2-46b1-4a64-ba6e-09b7ef1c6ff2.dcm...\n",
      "| [1 files][426.5 MiB/426.5 MiB]                                                \n",
      "Operation completed over 1 objects/426.5 MiB.                                    \n"
     ]
    },
    {
     "name": "stdout",
     "output_type": "stream",
     "text": [
      "Processing: C3N-00552-24\n",
      "14\n"
     ]
    },
    {
     "name": "stderr",
     "output_type": "stream",
     "text": [
      "Copying gs://idc_v3_cptac_luad/d68d6908-c4a0-4c13-aeb2-b2193add569c.dcm...\n",
      "/ [1 files][229.0 MiB/229.0 MiB]                                                \n",
      "Operation completed over 1 objects/229.0 MiB.                                    \n"
     ]
    },
    {
     "name": "stdout",
     "output_type": "stream",
     "text": [
      "Processing: C3N-00552-27\n",
      "14\n"
     ]
    },
    {
     "name": "stderr",
     "output_type": "stream",
     "text": [
      "Copying gs://idc_v3_cptac_luad/7cd8baf6-e66a-45e0-b51a-92975c2f31ab.dcm...\n",
      "| [1 files][341.1 MiB/341.1 MiB]                                                \n",
      "Operation completed over 1 objects/341.1 MiB.                                    \n"
     ]
    },
    {
     "name": "stdout",
     "output_type": "stream",
     "text": [
      "Processing: C3N-00578-22\n",
      "14\n",
      "Slide C3N-00580-26 already tiled\n"
     ]
    },
    {
     "name": "stderr",
     "output_type": "stream",
     "text": [
      "Copying gs://idc_v3_cptac_luad/a2b35ff9-f376-4cb1-9205-80346c240d05.dcm...\n",
      "- [1 files][254.7 MiB/254.7 MiB]                                                \n",
      "Operation completed over 1 objects/254.7 MiB.                                    \n"
     ]
    },
    {
     "name": "stdout",
     "output_type": "stream",
     "text": [
      "Processing: C3N-00959-21\n",
      "15\n"
     ]
    },
    {
     "name": "stderr",
     "output_type": "stream",
     "text": [
      "Copying gs://idc_v3_cptac_luad/c31860fa-21d1-4b64-904b-fafe90dbfb85.dcm...\n",
      "| [1 files][171.8 MiB/171.8 MiB]                                                \n",
      "Operation completed over 1 objects/171.8 MiB.                                    \n"
     ]
    },
    {
     "name": "stdout",
     "output_type": "stream",
     "text": [
      "Processing: C3N-00959-27\n",
      "15\n"
     ]
    },
    {
     "name": "stderr",
     "output_type": "stream",
     "text": [
      "Copying gs://idc_v3_cptac_lscc/9e6cb3d7-e2e9-4c6f-a617-b50bc10dbb7a.dcm...\n",
      "| [1 files][369.4 MiB/369.4 MiB]                                                \n",
      "Operation completed over 1 objects/369.4 MiB.                                    \n"
     ]
    },
    {
     "name": "stdout",
     "output_type": "stream",
     "text": [
      "Processing: C3N-01017-24\n",
      "14\n"
     ]
    },
    {
     "name": "stderr",
     "output_type": "stream",
     "text": [
      "Copying gs://idc_v3_cptac_lscc/b83483af-b439-45f5-90fe-5e6143af0c65.dcm...\n",
      "/ [1 files][479.2 MiB/479.2 MiB]                                                \n",
      "Operation completed over 1 objects/479.2 MiB.                                    \n"
     ]
    },
    {
     "name": "stdout",
     "output_type": "stream",
     "text": [
      "Processing: C3N-01017-23\n",
      "14\n"
     ]
    },
    {
     "name": "stderr",
     "output_type": "stream",
     "text": [
      "Copying gs://idc_v3_cptac_luad/d3719191-fd78-4c29-94c4-ddca04e109c5.dcm...\n",
      "| [1 files][619.2 MiB/619.2 MiB]   56.4 MiB/s                                   \n",
      "Operation completed over 1 objects/619.2 MiB.                                    \n"
     ]
    },
    {
     "name": "stdout",
     "output_type": "stream",
     "text": [
      "Processing: C3N-01019-23\n",
      "14\n"
     ]
    },
    {
     "name": "stderr",
     "output_type": "stream",
     "text": [
      "Copying gs://idc_v3_cptac_luad/f265cb1f-53de-4d2e-87e6-c22775ba6f98.dcm...\n",
      "- [1 files][952.2 MiB/952.2 MiB]   65.8 MiB/s                                   \n",
      "Operation completed over 1 objects/952.2 MiB.                                    \n"
     ]
    },
    {
     "name": "stdout",
     "output_type": "stream",
     "text": [
      "Processing: C3N-01022-21\n",
      "14\n"
     ]
    },
    {
     "name": "stderr",
     "output_type": "stream",
     "text": [
      "Copying gs://idc_v3_cptac_lscc/51c62906-e5e4-4fba-a29e-60d2d1f9cf79.dcm...\n",
      "- [1 files][496.9 MiB/496.9 MiB]                                                \n",
      "Operation completed over 1 objects/496.9 MiB.                                    \n"
     ]
    },
    {
     "name": "stdout",
     "output_type": "stream",
     "text": [
      "Processing: C3N-01028-23\n",
      "14\n"
     ]
    },
    {
     "name": "stderr",
     "output_type": "stream",
     "text": [
      "Copying gs://idc_v3_cptac_luad/6fad99c4-77a2-45a4-bb44-0f08a8f57ff1.dcm...\n",
      "/ [1 files][369.8 MiB/369.8 MiB]                                                \n",
      "Operation completed over 1 objects/369.8 MiB.                                    \n"
     ]
    },
    {
     "name": "stdout",
     "output_type": "stream",
     "text": [
      "Processing: C3N-01071-24\n",
      "14\n"
     ]
    },
    {
     "name": "stderr",
     "output_type": "stream",
     "text": [
      "Copying gs://idc_v3_cptac_luad/c8aacb1f-9376-4036-b0e5-4a824baf3e85.dcm...\n",
      "| [1 files][167.0 MiB/167.0 MiB]                                                \n",
      "Operation completed over 1 objects/167.0 MiB.                                    \n"
     ]
    },
    {
     "name": "stdout",
     "output_type": "stream",
     "text": [
      "Processing: C3N-01071-27\n",
      "14\n"
     ]
    },
    {
     "name": "stderr",
     "output_type": "stream",
     "text": [
      "Copying gs://idc_v3_cptac_luad/936a2530-9ed0-4512-b180-d803a4972292.dcm...\n",
      "| [1 files][601.7 MiB/601.7 MiB]   52.6 MiB/s                                   \n",
      "Operation completed over 1 objects/601.7 MiB.                                    \n"
     ]
    },
    {
     "name": "stdout",
     "output_type": "stream",
     "text": [
      "Processing: C3N-01408-26\n",
      "14\n"
     ]
    },
    {
     "name": "stderr",
     "output_type": "stream",
     "text": [
      "Copying gs://idc_v3_cptac_luad/857f2ccb-a687-48c6-bf43-86c866589b5a.dcm...\n",
      "| [1 files][377.0 MiB/377.0 MiB]                                                \n",
      "Operation completed over 1 objects/377.0 MiB.                                    \n"
     ]
    },
    {
     "name": "stdout",
     "output_type": "stream",
     "text": [
      "Processing: C3N-01413-24\n",
      "14\n"
     ]
    },
    {
     "name": "stderr",
     "output_type": "stream",
     "text": [
      "Copying gs://idc_v3_cptac_luad/38b1d822-f7d5-472c-9d3e-7fe97763a05b.dcm...\n",
      "| [1 files][157.3 MiB/157.3 MiB]                                                \n",
      "Operation completed over 1 objects/157.3 MiB.                                    \n"
     ]
    },
    {
     "name": "stdout",
     "output_type": "stream",
     "text": [
      "Processing: C3N-01823-21\n",
      "13\n"
     ]
    },
    {
     "name": "stderr",
     "output_type": "stream",
     "text": [
      "Copying gs://idc_v3_cptac_lscc/2837bfaf-96b8-495b-8e78-c5b9cb589320.dcm...\n",
      "- [1 files][268.8 MiB/268.8 MiB]                                                \n",
      "Operation completed over 1 objects/268.8 MiB.                                    \n"
     ]
    },
    {
     "name": "stdout",
     "output_type": "stream",
     "text": [
      "Processing: C3N-01892-28\n",
      "15\n"
     ]
    },
    {
     "name": "stderr",
     "output_type": "stream",
     "text": [
      "Copying gs://idc_v3_cptac_luad/c1bb37d7-b924-49a5-8db0-aca96650115f.dcm...\n",
      "\\ [1 files][ 79.2 MiB/ 79.2 MiB]                                                \n",
      "Operation completed over 1 objects/79.2 MiB.                                     \n"
     ]
    },
    {
     "name": "stdout",
     "output_type": "stream",
     "text": [
      "Processing: C3N-02002-23\n",
      "13\n"
     ]
    },
    {
     "name": "stderr",
     "output_type": "stream",
     "text": [
      "Copying gs://idc_v3_cptac_luad/56312678-e9a7-4391-8f36-1a3c1d0f9039.dcm...\n",
      "/ [1 files][771.7 MiB/771.7 MiB]   53.0 MiB/s                                   \n",
      "Operation completed over 1 objects/771.7 MiB.                                    \n"
     ]
    },
    {
     "name": "stdout",
     "output_type": "stream",
     "text": [
      "Processing: C3N-02089-24\n",
      "14\n"
     ]
    },
    {
     "name": "stderr",
     "output_type": "stream",
     "text": [
      "Copying gs://idc_v3_cptac_luad/c368c56f-19d1-4325-b884-3cfcb02e5eb5.dcm...\n",
      "- [1 files][832.0 MiB/832.0 MiB]   57.4 MiB/s                                   \n",
      "Operation completed over 1 objects/832.0 MiB.                                    \n"
     ]
    },
    {
     "name": "stdout",
     "output_type": "stream",
     "text": [
      "Processing: C3N-02141-21\n",
      "14\n"
     ]
    },
    {
     "name": "stderr",
     "output_type": "stream",
     "text": [
      "Copying gs://idc_v3_cptac_luad/1d5b8a41-b85c-453a-bf29-4f40b509a63c.dcm...\n",
      "/ [1 files][924.0 MiB/924.0 MiB]   57.4 MiB/s                                   \n",
      "Operation completed over 1 objects/924.0 MiB.                                    \n"
     ]
    },
    {
     "name": "stdout",
     "output_type": "stream",
     "text": [
      "Processing: C3N-02143-24\n",
      "14\n"
     ]
    },
    {
     "name": "stderr",
     "output_type": "stream",
     "text": [
      "Copying gs://idc_v3_cptac_luad/404ac2a4-235f-4632-9c85-4f33f690ac5a.dcm...\n",
      "\\ [1 files][636.5 MiB/636.5 MiB]   63.6 MiB/s                                   \n",
      "Operation completed over 1 objects/636.5 MiB.                                    \n"
     ]
    },
    {
     "name": "stdout",
     "output_type": "stream",
     "text": [
      "Processing: C3N-02146-24\n",
      "14\n"
     ]
    },
    {
     "name": "stderr",
     "output_type": "stream",
     "text": [
      "Copying gs://idc_v3_cptac_luad/e9716bff-7c10-452b-9206-60864d72b4a6.dcm...\n",
      "/ [1 files][688.9 MiB/688.9 MiB]   58.8 MiB/s                                   \n",
      "Operation completed over 1 objects/688.9 MiB.                                    \n"
     ]
    },
    {
     "name": "stdout",
     "output_type": "stream",
     "text": [
      "Processing: C3N-02153-22\n",
      "15\n"
     ]
    },
    {
     "name": "stderr",
     "output_type": "stream",
     "text": [
      "Copying gs://idc_v3_cptac_luad/f021aad0-7e75-45c5-87f6-3fa807f5a3c2.dcm...\n",
      "| [1 files][586.4 MiB/586.4 MiB]                                                \n",
      "Operation completed over 1 objects/586.4 MiB.                                    \n"
     ]
    },
    {
     "name": "stdout",
     "output_type": "stream",
     "text": [
      "Processing: C3N-02158-27\n",
      "14\n"
     ]
    },
    {
     "name": "stderr",
     "output_type": "stream",
     "text": [
      "Copying gs://idc_v3_cptac_luad/11d37bb4-6fe7-4840-a217-da22b394a5e4.dcm...\n",
      "- [1 files][684.7 MiB/684.7 MiB]   53.6 MiB/s                                   \n",
      "Operation completed over 1 objects/684.7 MiB.                                    \n"
     ]
    },
    {
     "name": "stdout",
     "output_type": "stream",
     "text": [
      "Processing: C3N-02240-22\n",
      "15\n"
     ]
    },
    {
     "name": "stderr",
     "output_type": "stream",
     "text": [
      "Copying gs://idc_v3_cptac_luad/705f8d5c-8190-4780-85ef-e336086d0e02.dcm...\n",
      "- [1 files][503.2 MiB/503.2 MiB]                                                \n",
      "Operation completed over 1 objects/503.2 MiB.                                    \n"
     ]
    },
    {
     "name": "stdout",
     "output_type": "stream",
     "text": [
      "Processing: C3N-02240-27\n",
      "14\n"
     ]
    },
    {
     "name": "stderr",
     "output_type": "stream",
     "text": [
      "Copying gs://idc_v3_cptac_lscc/f1e7ed0d-78f6-4a99-8c62-da91e240ea4b.dcm...\n",
      "\\ [1 files][280.9 MiB/280.9 MiB]                                                \n",
      "Operation completed over 1 objects/280.9 MiB.                                    \n"
     ]
    },
    {
     "name": "stdout",
     "output_type": "stream",
     "text": [
      "Processing: C3N-02252-30\n",
      "15\n"
     ]
    },
    {
     "name": "stderr",
     "output_type": "stream",
     "text": [
      "Copying gs://idc_v3_cptac_luad/7466f68b-2963-4661-b8d0-c9de16eb7f57.dcm...\n",
      "/ [1 files][165.2 MiB/165.2 MiB]                                                \n",
      "Operation completed over 1 objects/165.2 MiB.                                    \n"
     ]
    },
    {
     "name": "stdout",
     "output_type": "stream",
     "text": [
      "Processing: C3N-02282-25\n",
      "14\n"
     ]
    },
    {
     "name": "stderr",
     "output_type": "stream",
     "text": [
      "Copying gs://idc_v3_cptac_lscc/afe5a90d-ef5b-4821-ae8f-9b7f4179a05a.dcm...\n",
      "| [1 files][148.6 MiB/148.6 MiB]                                                \n",
      "Operation completed over 1 objects/148.6 MiB.                                    \n"
     ]
    },
    {
     "name": "stdout",
     "output_type": "stream",
     "text": [
      "Processing: C3N-02300-22\n",
      "14\n",
      "Slide C3N-02380-22 already tiled\n"
     ]
    },
    {
     "name": "stderr",
     "output_type": "stream",
     "text": [
      "Copying gs://idc_v3_cptac_lscc/a538dd9a-73e7-4801-8484-622466a3b2a5.dcm...\n",
      "| [1 files][135.7 MiB/135.7 MiB]                                                \n",
      "Operation completed over 1 objects/135.7 MiB.                                    \n"
     ]
    },
    {
     "name": "stdout",
     "output_type": "stream",
     "text": [
      "Processing: C3N-02435-26\n",
      "14\n"
     ]
    },
    {
     "name": "stderr",
     "output_type": "stream",
     "text": [
      "Copying gs://idc_v3_cptac_luad/f7348cf1-fbf5-4cc0-8cc4-72b2715430b6.dcm...\n",
      "\\ [1 files][124.5 MiB/124.5 MiB]                                                \n",
      "Operation completed over 1 objects/124.5 MiB.                                    \n"
     ]
    },
    {
     "name": "stdout",
     "output_type": "stream",
     "text": [
      "Processing: C3N-02572-21\n",
      "13\n"
     ]
    },
    {
     "name": "stderr",
     "output_type": "stream",
     "text": [
      "Copying gs://idc_v3_cptac_luad/39854c8d-0ad7-4a13-b686-f9cfbf2135c1.dcm...\n",
      "- [1 files][ 51.0 MiB/ 51.0 MiB]                                                \n",
      "Operation completed over 1 objects/51.0 MiB.                                     \n"
     ]
    },
    {
     "name": "stdout",
     "output_type": "stream",
     "text": [
      "Processing: C3N-02586-21\n",
      "13\n"
     ]
    },
    {
     "name": "stderr",
     "output_type": "stream",
     "text": [
      "Copying gs://idc_v3_cptac_luad/d67ec0b7-856a-4f8a-8167-cd2600ba72d0.dcm...\n",
      "\\ [1 files][100.9 MiB/100.9 MiB]                                                \n",
      "Operation completed over 1 objects/100.9 MiB.                                    \n"
     ]
    },
    {
     "name": "stdout",
     "output_type": "stream",
     "text": [
      "Processing: C3N-02586-22\n",
      "13\n"
     ]
    },
    {
     "name": "stderr",
     "output_type": "stream",
     "text": [
      "Copying gs://idc_v3_cptac_lscc/7e1cc75a-3812-45b8-beb2-bf95a9c5a275.dcm...\n",
      "/ [1 files][223.2 MiB/223.2 MiB]                                                \n",
      "Operation completed over 1 objects/223.2 MiB.                                    \n"
     ]
    },
    {
     "name": "stdout",
     "output_type": "stream",
     "text": [
      "Processing: C3N-02725-21\n",
      "14\n"
     ]
    },
    {
     "name": "stderr",
     "output_type": "stream",
     "text": [
      "Copying gs://idc_v3_cptac_luad/b48a421c-7d9e-488f-ae97-d43c47ebb6dc.dcm...\n",
      "- [1 files][239.1 MiB/239.1 MiB]                                                \n",
      "Operation completed over 1 objects/239.1 MiB.                                    \n"
     ]
    },
    {
     "name": "stdout",
     "output_type": "stream",
     "text": [
      "Processing: C3N-02758-23\n",
      "14\n"
     ]
    },
    {
     "name": "stderr",
     "output_type": "stream",
     "text": [
      "Copying gs://idc_v3_cptac_luad/e46a62ad-7bac-4dce-8c6e-7f947bcb4394.dcm...\n",
      "\\ [1 files][570.0 MiB/570.0 MiB]                                                \n",
      "Operation completed over 1 objects/570.0 MiB.                                    \n"
     ]
    },
    {
     "name": "stdout",
     "output_type": "stream",
     "text": [
      "Processing: C3N-02828-21\n",
      "14\n"
     ]
    },
    {
     "name": "stderr",
     "output_type": "stream",
     "text": [
      "Copying gs://idc_v3_cptac_luad/e57452a8-6531-48da-928d-feb74ec6ebc1.dcm...\n",
      "/ [1 files][186.5 MiB/186.5 MiB]                                                \n",
      "Operation completed over 1 objects/186.5 MiB.                                    \n"
     ]
    },
    {
     "name": "stdout",
     "output_type": "stream",
     "text": [
      "Processing: C3N-02973-27\n",
      "14\n"
     ]
    },
    {
     "name": "stderr",
     "output_type": "stream",
     "text": [
      "Copying gs://idc_v3_cptac_luad/955ff626-7990-4349-b73e-6bf2085ce3bd.dcm...\n",
      "\\ [1 files][121.0 MiB/121.0 MiB]                                                \n",
      "Operation completed over 1 objects/121.0 MiB.                                    \n"
     ]
    },
    {
     "name": "stdout",
     "output_type": "stream",
     "text": [
      "Processing: C3N-03074-21\n",
      "13\n"
     ]
    },
    {
     "name": "stderr",
     "output_type": "stream",
     "text": [
      "Copying gs://idc_v3_cptac_lscc/138bdc46-14af-49c0-ae22-b3de87367c3f.dcm...\n",
      "\\ [1 files][118.8 MiB/118.8 MiB]                                                \n",
      "Operation completed over 1 objects/118.8 MiB.                                    \n"
     ]
    },
    {
     "name": "stdout",
     "output_type": "stream",
     "text": [
      "Processing: C3N-03093-25\n",
      "13\n",
      "Slide C3N-03212-21 already tiled\n"
     ]
    },
    {
     "name": "stderr",
     "output_type": "stream",
     "text": [
      "Copying gs://idc_v3_cptac_luad/ec1e981a-86a6-4a71-9b4c-b8d5cd43f03b.dcm...\n",
      "- [1 files][245.6 MiB/245.6 MiB]                                                \n",
      "Operation completed over 1 objects/245.6 MiB.                                    \n"
     ]
    },
    {
     "name": "stdout",
     "output_type": "stream",
     "text": [
      "Processing: C3N-03222-23\n",
      "14\n"
     ]
    },
    {
     "name": "stderr",
     "output_type": "stream",
     "text": [
      "Copying gs://idc_v3_cptac_lscc/36d5216b-510e-4f28-a20a-ab55a22e01b4.dcm...\n",
      "\\ [1 files][ 95.4 MiB/ 95.4 MiB]                                                \n",
      "Operation completed over 1 objects/95.4 MiB.                                     \n"
     ]
    },
    {
     "name": "stdout",
     "output_type": "stream",
     "text": [
      "Processing: C3N-03848-23\n",
      "13\n"
     ]
    },
    {
     "name": "stderr",
     "output_type": "stream",
     "text": [
      "Copying gs://idc_v3_cptac_lscc/085e8f51-b5db-43fa-87dc-5af65f2901f8.dcm...\n",
      "\\ [1 files][ 78.8 MiB/ 78.8 MiB]                                                \n",
      "Operation completed over 1 objects/78.8 MiB.                                     \n"
     ]
    },
    {
     "name": "stdout",
     "output_type": "stream",
     "text": [
      "Processing: C3N-03851-23\n",
      "13\n"
     ]
    },
    {
     "name": "stderr",
     "output_type": "stream",
     "text": [
      "Copying gs://idc_v3_cptac_lscc/e230cae8-1976-41ad-9361-3f64a4671d3f.dcm...\n",
      "/ [1 files][434.6 MiB/434.6 MiB]                                                \n",
      "Operation completed over 1 objects/434.6 MiB.                                    \n"
     ]
    },
    {
     "name": "stdout",
     "output_type": "stream",
     "text": [
      "Processing: C3N-03886-23\n",
      "14\n",
      "Slide C3N-04155-22 already tiled\n"
     ]
    },
    {
     "name": "stderr",
     "output_type": "stream",
     "text": [
      "Copying gs://idc_v3_cptac_luad/02f93d97-9422-469e-b050-f1a75c5a6dfa.dcm...\n",
      "/ [1 files][487.6 MiB/487.6 MiB]                                                \n",
      "Operation completed over 1 objects/487.6 MiB.                                    \n"
     ]
    },
    {
     "name": "stdout",
     "output_type": "stream",
     "text": [
      "Processing: C3N-04157-21\n",
      "14\n"
     ]
    },
    {
     "name": "stderr",
     "output_type": "stream",
     "text": [
      "Copying gs://idc_v3_cptac_lscc/652d0bbc-16f4-4f02-b3aa-c939c961c718.dcm...\n",
      "- [1 files][486.6 MiB/486.6 MiB]                                                \n",
      "Operation completed over 1 objects/486.6 MiB.                                    \n"
     ]
    },
    {
     "name": "stdout",
     "output_type": "stream",
     "text": [
      "Processing: C3N-04457-26\n",
      "15\n"
     ]
    },
    {
     "name": "stderr",
     "output_type": "stream",
     "text": [
      "Copying gs://idc_v3_cptac_lscc/7c44a757-ed49-4b0d-8495-df45dddea6cd.dcm...\n",
      "- [1 files][664.5 MiB/664.5 MiB]   53.2 MiB/s                                   \n",
      "Operation completed over 1 objects/664.5 MiB.                                    \n"
     ]
    },
    {
     "name": "stdout",
     "output_type": "stream",
     "text": [
      "Processing: C3N-04457-23\n",
      "15\n"
     ]
    },
    {
     "name": "stderr",
     "output_type": "stream",
     "text": [
      "Copying gs://idc_v3_cptac_lscc/9412aff7-dc18-4c91-b366-8b5c79f3af0d.dcm...\n",
      "/ [1 files][811.4 MiB/811.4 MiB]                                                \n",
      "Operation completed over 1 objects/811.4 MiB.                                    \n"
     ]
    },
    {
     "name": "stdout",
     "output_type": "stream",
     "text": [
      "Processing: C3N-04609-23\n",
      "14\n"
     ]
    },
    {
     "name": "stderr",
     "output_type": "stream",
     "text": [
      "Copying gs://idc_v3_cptac_luad/0c34fd04-4e15-4773-a5e4-9fa55e93c7e7.dcm...\n",
      "- [1 files][469.0 MiB/469.0 MiB]                                                \n",
      "Operation completed over 1 objects/469.0 MiB.                                    \n"
     ]
    },
    {
     "name": "stdout",
     "output_type": "stream",
     "text": [
      "Processing: 9f905736-f662-41d6-b3ac-16758d_D1_D1\n",
      "14\n"
     ]
    },
    {
     "name": "stderr",
     "output_type": "stream",
     "text": [
      "Copying gs://idc_v3_cptac_luad/f21cb8cf-fbdf-434d-923f-1533807234f6.dcm...\n",
      "| [1 files][140.8 MiB/140.8 MiB]                                                \n",
      "Operation completed over 1 objects/140.8 MiB.                                    \n"
     ]
    },
    {
     "name": "stdout",
     "output_type": "stream",
     "text": [
      "Processing: C3L-00279-22\n",
      "13\n"
     ]
    },
    {
     "name": "stderr",
     "output_type": "stream",
     "text": [
      "Copying gs://idc_v3_cptac_luad/6beb48b4-9f8f-49ba-a799-a044f1ee131a.dcm...\n",
      "/ [1 files][227.1 MiB/227.1 MiB]                                                \n",
      "Operation completed over 1 objects/227.1 MiB.                                    \n"
     ]
    },
    {
     "name": "stdout",
     "output_type": "stream",
     "text": [
      "Processing: C3L-00446-27\n",
      "15\n"
     ]
    },
    {
     "name": "stderr",
     "output_type": "stream",
     "text": [
      "Copying gs://idc_v3_cptac_luad/b97bd1e3-69fc-4058-a099-dfb4e9a5dbdc.dcm...\n",
      "\\ [1 files][103.6 MiB/103.6 MiB]                                                \n",
      "Operation completed over 1 objects/103.6 MiB.                                    \n"
     ]
    },
    {
     "name": "stdout",
     "output_type": "stream",
     "text": [
      "Processing: C3L-00510-25\n",
      "13\n"
     ]
    },
    {
     "name": "stderr",
     "output_type": "stream",
     "text": [
      "Copying gs://idc_v3_cptac_luad/0a58d296-0c2f-42bc-8a6c-eb3f6fe8af98.dcm...\n",
      "\\ [1 files][108.3 MiB/108.3 MiB]                                                \n",
      "Operation completed over 1 objects/108.3 MiB.                                    \n"
     ]
    },
    {
     "name": "stdout",
     "output_type": "stream",
     "text": [
      "Processing: C3L-00604-23\n",
      "13\n"
     ]
    },
    {
     "name": "stderr",
     "output_type": "stream",
     "text": [
      "Copying gs://idc_v3_cptac_lscc/b3be4e88-fd61-4117-958b-0839be730254.dcm...\n",
      "\\ [1 files][ 99.0 MiB/ 99.0 MiB]                                                \n",
      "Operation completed over 1 objects/99.0 MiB.                                     \n"
     ]
    },
    {
     "name": "stdout",
     "output_type": "stream",
     "text": [
      "Processing: C3L-01285-23\n",
      "13\n"
     ]
    },
    {
     "name": "stderr",
     "output_type": "stream",
     "text": [
      "Copying gs://idc_v3_cptac_luad/2b41fc66-a2ac-49c3-ae9c-a4a04067c229.dcm...\n",
      "\\ [1 files][122.0 MiB/122.0 MiB]                                                \n",
      "Operation completed over 1 objects/122.0 MiB.                                    \n"
     ]
    },
    {
     "name": "stdout",
     "output_type": "stream",
     "text": [
      "Processing: C3L-01683-26\n",
      "13\n"
     ]
    },
    {
     "name": "stderr",
     "output_type": "stream",
     "text": [
      "Copying gs://idc_v3_cptac_luad/d3371a0f-a869-476a-93a0-03b865fe10ed.dcm...\n",
      "| [1 files][159.0 MiB/159.0 MiB]                                                \n",
      "Operation completed over 1 objects/159.0 MiB.                                    \n"
     ]
    },
    {
     "name": "stdout",
     "output_type": "stream",
     "text": [
      "Processing: C3L-02513-22\n",
      "13\n"
     ]
    },
    {
     "name": "stderr",
     "output_type": "stream",
     "text": [
      "Copying gs://idc_v3_cptac_luad/249ec4a6-28bd-4f7c-aed7-a03f75f35b87.dcm...\n",
      "- [1 files][ 26.3 MiB/ 26.3 MiB]                                                \n",
      "Operation completed over 1 objects/26.3 MiB.                                     \n"
     ]
    },
    {
     "name": "stdout",
     "output_type": "stream",
     "text": [
      "Processing: C3L-02515-25\n",
      "12\n"
     ]
    },
    {
     "name": "stderr",
     "output_type": "stream",
     "text": [
      "Copying gs://idc_v3_cptac_luad/6eab38a5-c559-463f-8945-fdf974bb6977.dcm...\n",
      "\\ [1 files][ 71.6 MiB/ 71.6 MiB]                                                \n",
      "Operation completed over 1 objects/71.6 MiB.                                     \n"
     ]
    },
    {
     "name": "stdout",
     "output_type": "stream",
     "text": [
      "Processing: C3L-02601-26\n",
      "13\n"
     ]
    },
    {
     "name": "stderr",
     "output_type": "stream",
     "text": [
      "Copying gs://idc_v3_cptac_lscc/ded41616-fe5f-4f6f-b36e-38056ecc9df2.dcm...\n",
      "\\ [1 files][334.4 MiB/334.4 MiB]                                                \n",
      "Operation completed over 1 objects/334.4 MiB.                                    \n"
     ]
    },
    {
     "name": "stdout",
     "output_type": "stream",
     "text": [
      "Processing: C3L-02625-25\n",
      "14\n",
      "Slide C3L-02650-24 already tiled\n"
     ]
    },
    {
     "name": "stderr",
     "output_type": "stream",
     "text": [
      "Copying gs://idc_v3_cptac_luad/df1902f8-1a30-4a7e-a400-a8afbc89bedd.dcm...\n",
      "/ [1 files][462.0 MiB/462.0 MiB]                                                \n",
      "Operation completed over 1 objects/462.0 MiB.                                    \n"
     ]
    },
    {
     "name": "stdout",
     "output_type": "stream",
     "text": [
      "Processing: C3L-02661-25\n",
      "15\n"
     ]
    },
    {
     "name": "stderr",
     "output_type": "stream",
     "text": [
      "Copying gs://idc_v3_cptac_luad/ec855abe-90ec-4bcc-9106-d397de34738f.dcm...\n",
      "/ [1 files][217.8 MiB/217.8 MiB]                                                \n",
      "Operation completed over 1 objects/217.8 MiB.                                    \n"
     ]
    },
    {
     "name": "stdout",
     "output_type": "stream",
     "text": [
      "Processing: C3L-02661-23\n",
      "14\n"
     ]
    },
    {
     "name": "stderr",
     "output_type": "stream",
     "text": [
      "Copying gs://idc_v3_cptac_luad/1bd479c3-07ff-4812-939a-8dd0a65739db.dcm...\n",
      "\\ [1 files][310.2 MiB/310.2 MiB]                                                \n",
      "Operation completed over 1 objects/310.2 MiB.                                    \n"
     ]
    },
    {
     "name": "stdout",
     "output_type": "stream",
     "text": [
      "Processing: C3L-02957-23\n",
      "14\n"
     ]
    }
   ],
   "source": [
    "from data.tile_generation_cptac import generate_tiles\n",
    "\n",
    "generate_tiles(slides_dir, os.path.join(input_dir, 'slides_metadata.csv'), tiles_dir, 'idc-pathomics-000')"
   ]
  },
  {
   "cell_type": "code",
   "execution_count": null,
   "metadata": {},
   "outputs": [],
   "source": [
    "#from data.tile_generation import generate_tiles\n",
    "\n",
    "#generate_tiles(slides_dir, tiles_dir, desired_magnification=5.0)"
   ]
  },
  {
   "cell_type": "code",
   "execution_count": null,
   "metadata": {},
   "outputs": [],
   "source": [
    "#from data.tile_sorting import sort_tiles\n",
    "\n",
    "#metadata_file = os.path.join(input_dir, 'metadata.cart.2017-03-02T00_36_30.276824.json')\n",
    "#sort_tiles(tiles_dir, metadata_file, input_dir, 'norm_cancer', magnification=5.0)\n",
    "#sort_tiles(tiles_dir, metadata_file, input_dir, 'luad_lusc', magnification=5.0)\n",
    "#sort_tiles(tiles_dir, metadata_file, input_dir, 'norm_luad_lusc', magnification=5.0)"
   ]
  },
  {
   "cell_type": "code",
   "execution_count": null,
   "metadata": {},
   "outputs": [],
   "source": [
    "#from data.mutation_data_preparation import prepare_mutation_data, prepare_mutation_data_as_binary_problem\n",
    "\n",
    "#prepare_mutation_data(input_dir, os.path.join(input_dir, 'mutation_labels.csv'), os.path.join(input_dir, 'luad_tiles_predicted_by_original_coudray_code_acc_to_sorted_mutations_folder.csv'))\n",
    "#MUTATION_LABELS = {'stk11':0, 'egfr':1, 'setbp1':2, 'tp53':3, 'fat1':4, 'kras':5, 'keap1':6, 'lrp1b':7, 'fat4':8, 'nf1':9}\n",
    "#prepare_mutation_data_as_binary_problem(os.path.join(input_dir, 'csv_train_mutations_split1.csv'), 'tp53')\n",
    "#prepare_mutation_data_as_binary_problem(os.path.join(input_dir, 'csv_valid_mutations_split1.csv'), 'tp53')\n",
    "#prepare_mutation_data_as_binary_problem(os.path.join(input_dir, 'csv_test_mutations_split1.csv'), 'tp53')"
   ]
  }
 ],
 "metadata": {
  "environment": {
   "name": "tf2-gpu.2-1.m75",
   "type": "gcloud",
   "uri": "gcr.io/deeplearning-platform-release/tf2-gpu.2-1:m75"
  },
  "kernelspec": {
   "display_name": "Python 3",
   "language": "python",
   "name": "python3"
  },
  "language_info": {
   "codemirror_mode": {
    "name": "ipython",
    "version": 3
   },
   "file_extension": ".py",
   "mimetype": "text/x-python",
   "name": "python",
   "nbconvert_exporter": "python",
   "pygments_lexer": "ipython3",
   "version": "3.7.10"
  }
 },
 "nbformat": 4,
 "nbformat_minor": 4
}
