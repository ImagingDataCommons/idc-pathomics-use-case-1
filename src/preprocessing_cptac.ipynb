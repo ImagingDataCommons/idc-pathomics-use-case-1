{
 "cells": [
  {
   "cell_type": "code",
   "execution_count": null,
   "metadata": {},
   "outputs": [],
   "source": [
    "import os\n",
    "#%load_ext autoreload\n",
    "#%autoreload 2"
   ]
  },
  {
   "cell_type": "markdown",
   "metadata": {},
   "source": [
    "# Preprocessing"
   ]
  },
  {
   "cell_type": "code",
   "execution_count": null,
   "metadata": {},
   "outputs": [],
   "source": [
    "!sudo apt-get update\n",
    "!sudo apt-get install --no-install-recommends -y python3-openslide\n",
    "!sudo pip3 install -r ../requirements.txt\n",
    "import sys\n",
    "sys.path.append('/usr/local/lib/python3.7/dist-packages')"
   ]
  },
  {
   "cell_type": "code",
   "execution_count": null,
   "metadata": {},
   "outputs": [],
   "source": [
    "input_dir = '/home/jupyter/idc_input/'\n",
    "slides_dir = os.path.join(input_dir, 'cptac_slides')\n",
    "tiles_dir = os.path.join(input_dir, 'cptac_tiles')\n",
    "#mkdir respective folders? and afterwards delete slide folder, because it is empty?  "
   ]
  },
  {
   "cell_type": "code",
   "execution_count": null,
   "metadata": {},
   "outputs": [],
   "source": [
    "from data.tile_generation_cptac import generate_tiles\n",
    "\n",
    "generate_tiles(slides_dir, os.path.join(input_dir, 'slides_metadata.csv'), tiles_dir, 'idc-pathomics-000')"
   ]
  },
  {
   "cell_type": "code",
   "execution_count": null,
   "metadata": {},
   "outputs": [],
   "source": [
    "#from data.tile_generation import generate_tiles\n",
    "\n",
    "#generate_tiles(slides_dir, tiles_dir, desired_magnification=5.0)"
   ]
  },
  {
   "cell_type": "code",
   "execution_count": null,
   "metadata": {},
   "outputs": [],
   "source": [
    "#from data.tile_sorting import sort_tiles\n",
    "\n",
    "#metadata_file = os.path.join(input_dir, 'metadata.cart.2017-03-02T00_36_30.276824.json')\n",
    "#sort_tiles(tiles_dir, metadata_file, input_dir, 'norm_cancer', magnification=5.0)\n",
    "#sort_tiles(tiles_dir, metadata_file, input_dir, 'luad_lusc', magnification=5.0)\n",
    "#sort_tiles(tiles_dir, metadata_file, input_dir, 'norm_luad_lusc', magnification=5.0)"
   ]
  },
  {
   "cell_type": "code",
   "execution_count": null,
   "metadata": {},
   "outputs": [],
   "source": [
    "#from data.mutation_data_preparation import prepare_mutation_data, prepare_mutation_data_as_binary_problem\n",
    "\n",
    "#prepare_mutation_data(input_dir, os.path.join(input_dir, 'mutation_labels.csv'), os.path.join(input_dir, 'luad_tiles_predicted_by_original_coudray_code_acc_to_sorted_mutations_folder.csv'))\n",
    "#MUTATION_LABELS = {'stk11':0, 'egfr':1, 'setbp1':2, 'tp53':3, 'fat1':4, 'kras':5, 'keap1':6, 'lrp1b':7, 'fat4':8, 'nf1':9}\n",
    "#prepare_mutation_data_as_binary_problem(os.path.join(input_dir, 'csv_train_mutations_split1.csv'), 'tp53')\n",
    "#prepare_mutation_data_as_binary_problem(os.path.join(input_dir, 'csv_valid_mutations_split1.csv'), 'tp53')\n",
    "#prepare_mutation_data_as_binary_problem(os.path.join(input_dir, 'csv_test_mutations_split1.csv'), 'tp53')"
   ]
  }
 ],
 "metadata": {
  "environment": {
   "name": "tf2-gpu.2-1.m75",
   "type": "gcloud",
   "uri": "gcr.io/deeplearning-platform-release/tf2-gpu.2-1:m75"
  },
  "kernelspec": {
   "display_name": "Python 3",
   "language": "python",
   "name": "python3"
  },
  "language_info": {
   "codemirror_mode": {
    "name": "ipython",
    "version": 3
   },
   "file_extension": ".py",
   "mimetype": "text/x-python",
   "name": "python",
   "nbconvert_exporter": "python",
   "pygments_lexer": "ipython3",
   "version": "3.7.10"
  }
 },
 "nbformat": 4,
 "nbformat_minor": 4
}
