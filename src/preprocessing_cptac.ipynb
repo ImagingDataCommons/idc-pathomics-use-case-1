{
 "cells": [
  {
   "cell_type": "code",
   "execution_count": 1,
   "metadata": {},
   "outputs": [],
   "source": [
    "import os\n",
    "import sys\n",
    "sys.path.append('/usr/local/lib/python3.7/dist-packages')\n",
    "#%load_ext autoreload\n",
    "#%autoreload 2"
   ]
  },
  {
   "cell_type": "markdown",
   "metadata": {},
   "source": [
    "# Preprocessing"
   ]
  },
  {
   "cell_type": "code",
   "execution_count": 2,
   "metadata": {},
   "outputs": [],
   "source": [
    "#!sudo apt-get update\n",
    "#!sudo apt-get install --no-install-recommends -y python3-openslide\n",
    "#!sudo pip3 install -r ../requirements.txt"
   ]
  },
  {
   "cell_type": "code",
   "execution_count": 3,
   "metadata": {},
   "outputs": [],
   "source": [
    "input_dir = '/home/jupyter/idc_input/'\n",
    "slides_dir = os.path.join(input_dir, 'cptac_slides')\n",
    "tiles_dir = os.path.join(input_dir, 'cptac_tiles')"
   ]
  },
  {
   "cell_type": "code",
   "execution_count": null,
   "metadata": {},
   "outputs": [
    {
     "name": "stdout",
     "output_type": "stream",
     "text": [
      "Reading input data from /home/jupyter/idc_input/cptac_slides\n",
      "Slide 2f2e5477-42a4-4906-a943-bf7f80_D1_D1 already downloaded\n",
      "Slide C3L-00263-28 already downloaded\n",
      "Slide C3L-00503-25 already downloaded\n",
      "Slide C3L-00893-23 already downloaded\n",
      "Slide C3L-00904-26 already downloaded\n",
      "Slide C3L-00927-26 already downloaded\n",
      "Slide C3L-01330-22 already downloaded\n",
      "Slide C3L-01606-21 already downloaded\n",
      "Slide C3L-02127-21 already downloaded\n",
      "Slide C3L-02130-25 already downloaded\n",
      "Slide C3L-02601-21 already downloaded\n",
      "Slide C3L-02616-22 already downloaded\n",
      "Slide C3L-02619-26 already downloaded\n",
      "Slide C3L-02624-27 already downloaded\n",
      "Slide C3L-02650-26 already downloaded\n",
      "Slide C3L-02669-25 already downloaded\n",
      "Slide C3L-02954-26 already downloaded\n",
      "Slide C3L-03963-28 already downloaded\n",
      "Slide C3L-04365-24 already downloaded\n",
      "Slide C3L-04367-23 already downloaded\n",
      "Slide C3L-04367-21 already downloaded\n",
      "Slide C3L-04378-25 already downloaded\n",
      "Slide C3L-04786-26 already downloaded\n"
     ]
    },
    {
     "name": "stderr",
     "output_type": "stream",
     "text": [
      "Copying gs://idc_dev/6a0ebe11-345f-4fd8-95ca-d3e988634617.dcm...\n",
      "| [1 files][  1.1 GiB/  1.1 GiB]   70.0 MiB/s                                   \n",
      "Operation completed over 1 objects/1.1 GiB.                                      \n"
     ]
    },
    {
     "name": "stdout",
     "output_type": "stream",
     "text": [
      "Processing: C3L-04786-23\n"
     ]
    }
   ],
   "source": [
    "from data.tile_generation_cptac import generate_tiles\n",
    "\n",
    "generate_tiles(slides_dir, os.path.join(input_dir, 'slides_metadata.csv'), tiles_dir, 'idc-pathomics-000')"
   ]
  },
  {
   "cell_type": "code",
   "execution_count": null,
   "metadata": {},
   "outputs": [],
   "source": []
  }
 ],
 "metadata": {
  "environment": {
   "name": "tf2-gpu.2-1.m75",
   "type": "gcloud",
   "uri": "gcr.io/deeplearning-platform-release/tf2-gpu.2-1:m75"
  },
  "kernelspec": {
   "display_name": "Python 3",
   "language": "python",
   "name": "python3"
  },
  "language_info": {
   "codemirror_mode": {
    "name": "ipython",
    "version": 3
   },
   "file_extension": ".py",
   "mimetype": "text/x-python",
   "name": "python",
   "nbconvert_exporter": "python",
   "pygments_lexer": "ipython3",
   "version": "3.7.10"
  }
 },
 "nbformat": 4,
 "nbformat_minor": 4
}
