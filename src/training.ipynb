{
 "cells": [
  {
   "cell_type": "code",
   "execution_count": null,
   "metadata": {},
   "outputs": [],
   "source": [
    "%load_ext autoreload\n",
    "%autoreload 2"
   ]
  },
  {
   "cell_type": "markdown",
   "metadata": {},
   "source": [
    "# Training"
   ]
  },
  {
   "cell_type": "code",
   "execution_count": null,
   "metadata": {},
   "outputs": [],
   "source": [
    "import json\n",
    "from data.data_set import Dataset\n",
    "from model.inceptionv3_model import InceptionModel\n",
    "#from model.dummy_model import DummyModel\n",
    "\n",
    "dataset_train = Dataset('/home/dschacherer_fme/input/csv_train_norm_cancer.csv', num_classes=2)\n",
    "dataset_valid = Dataset('/home/dschacherer_fme/input/csv_valid_norm_cancer.csv', num_classes=2)\n",
    "model = InceptionModel(num_classes=2)\n",
    "#model = DummyModel()\n",
    "print(model)\n",
    "\n",
    "history = model.train(dataset_train, batch_size=16, epochs=300, output_path='/home/dschacherer_fme/output', validation_dataset=dataset_valid)\n",
    "\n",
    "# save final model and history\n",
    "model.save('/home/dschacherer_fme/output/trained_model')\n",
    "with open('/home/dschacherer_fme/output/training_history.json', 'w') as hist:\n",
    "    json.dump(history.history, hist)\n",
    "\n",
    "# some prediction\n",
    "data_point = dataset_valid.data_points[0]\n",
    "prediction = model.make_prediction(data_point)\n",
    "print('prediction on some sample: %f (reference is %d)' % (prediction, data_point.get_reference_value()))"
   ]
  },
  {
   "cell_type": "code",
   "execution_count": null,
   "metadata": {},
   "outputs": [],
   "source": []
  }
 ],
 "metadata": {
  "environment": {
   "name": "tf2-gpu.2-1.m58",
   "type": "gcloud",
   "uri": "gcr.io/deeplearning-platform-release/tf2-gpu.2-1:m58"
  },
  "kernelspec": {
   "display_name": "Python 3",
   "language": "python",
   "name": "python3"
  },
  "language_info": {
   "codemirror_mode": {
    "name": "ipython",
    "version": 3
   },
   "file_extension": ".py",
   "mimetype": "text/x-python",
   "name": "python",
   "nbconvert_exporter": "python",
   "pygments_lexer": "ipython3",
   "version": "3.7.8"
  }
 },
 "nbformat": 4,
 "nbformat_minor": 4
}