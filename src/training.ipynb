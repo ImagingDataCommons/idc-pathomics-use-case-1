{
 "cells": [
  {
   "cell_type": "code",
   "execution_count": null,
   "metadata": {},
   "outputs": [],
   "source": [
    "%load_ext autoreload\n",
    "%autoreload 2"
   ]
  },
  {
   "cell_type": "markdown",
   "metadata": {},
   "source": [
    "# Training"
   ]
  },
  {
   "cell_type": "code",
   "execution_count": null,
   "metadata": {},
   "outputs": [],
   "source": [
    "import json\n",
    "import os\n",
    "import time\n",
    "from data.data_set import Dataset\n",
    "from model.inceptionv3_model import InceptionModel\n",
    "#from model.dummy_model import DummyModel\n",
    "\n",
    "input_dir = os.environ['IDC_INPUT_DATA_DIR']\n",
    "output_dir = os.path.join(os.environ['IDC_OUTPUT_DATA_DIR'], time.strftime(\"%Y%m%d_%H%M%S\"))\n",
    "os.mkdir(output_dir)\n",
    "\n",
    "dataset_train = Dataset(os.path.join(input_dir, 'csv_train_norm_cancer_small.csv'), num_classes=2)\n",
    "dataset_valid = Dataset(os.path.join(input_dir, 'csv_valid_norm_cancer_small.csv'), num_classes=2)\n",
    "model = InceptionModel(num_classes=2, input_shape=(256, 256, 3))\n",
    "#model = DummyModel()\n",
    "print(model)\n",
    "\n",
    "history = model.train(dataset_train, batch_size=16, epochs=30, output_path=output_dir, validation_dataset=dataset_valid)\n",
    "\n",
    "# save final model and history\n",
    "model.save(os.path.join(output_dir, 'trained_model'))\n",
    "with open(os.path.join(output_dir, 'training_history.json'), 'w') as hist:\n",
    "    json.dump(history.history, hist)\n",
    "\n",
    "# some prediction\n",
    "data_point = dataset_valid.data_points[0]\n",
    "prediction = model.make_prediction(data_point)\n",
    "print('prediction on some sample: %f (reference is %d)' % (prediction, data_point.get_reference_value()))"
   ]
  },
  {
   "cell_type": "code",
   "execution_count": null,
   "metadata": {},
   "outputs": [],
   "source": []
  }
 ],
 "metadata": {
  "environment": {
   "name": "tf2-gpu.2-1.m58",
   "type": "gcloud",
   "uri": "gcr.io/deeplearning-platform-release/tf2-gpu.2-1:m58"
  },
  "kernelspec": {
   "display_name": "Python 3",
   "language": "python",
   "name": "python3"
  },
  "language_info": {
   "codemirror_mode": {
    "name": "ipython",
    "version": 3
   },
   "file_extension": ".py",
   "mimetype": "text/x-python",
   "name": "python",
   "nbconvert_exporter": "python",
   "pygments_lexer": "ipython3",
   "version": "3.7.8"
  }
 },
 "nbformat": 4,
 "nbformat_minor": 4
}