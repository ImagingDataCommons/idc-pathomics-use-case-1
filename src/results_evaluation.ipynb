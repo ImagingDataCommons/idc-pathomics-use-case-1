{
 "cells": [
  {
   "cell_type": "code",
   "execution_count": null,
   "metadata": {},
   "outputs": [
    {
     "ename": "Error",
     "evalue": "Jupyter cannot be started. Error attempting to locate jupyter: Data Science libraries jupyter and notebook are not installed in interpreter Python 3.6.9 64-bit.",
     "output_type": "error",
     "traceback": [
      "Error: Jupyter cannot be started. Error attempting to locate jupyter: Data Science libraries jupyter and notebook are not installed in interpreter Python 3.6.9 64-bit.",
      "at w.startServer (/home/dschacherer/.vscode/extensions/ms-toolsai.jupyter-2020.11.372831992/out/client/extension.js:49:383136)",
      "at async w.createServer (/home/dschacherer/.vscode/extensions/ms-toolsai.jupyter-2020.11.372831992/out/client/extension.js:49:382434)",
      "at async connect (/home/dschacherer/.vscode/extensions/ms-toolsai.jupyter-2020.11.372831992/out/client/extension.js:49:507754)",
      "at async f.ensureConnectionAndNotebookImpl (/home/dschacherer/.vscode/extensions/ms-toolsai.jupyter-2020.11.372831992/out/client/extension.js:32:569764)",
      "at async f.ensureConnectionAndNotebook (/home/dschacherer/.vscode/extensions/ms-toolsai.jupyter-2020.11.372831992/out/client/extension.js:32:568228)",
      "at async f.clearResult (/home/dschacherer/.vscode/extensions/ms-toolsai.jupyter-2020.11.372831992/out/client/extension.js:32:564008)",
      "at async f.reexecuteCell (/home/dschacherer/.vscode/extensions/ms-toolsai.jupyter-2020.11.372831992/out/client/extension.js:9:170425)",
      "at async f.reexecuteCells (/home/dschacherer/.vscode/extensions/ms-toolsai.jupyter-2020.11.372831992/out/client/extension.js:9:166755)"
     ]
    }
   ],
   "source": [
    "%load_ext autoreload\n",
    "%autoreload 2\n",
    "%matplotlib inline"
   ]
  },
  {
   "cell_type": "markdown",
   "metadata": {},
   "source": [
    "# Evaluation"
   ]
  },
  {
   "cell_type": "markdown",
   "metadata": {},
   "source": [
    "Performing slide-based evaluation of the trained model. Results are presented as ROC-Curves and ROC-AUC values for two different ways of aggregating the patch-wise prediction into slide-wise predictions."
   ]
  },
  {
   "cell_type": "code",
   "execution_count": null,
   "metadata": {},
   "outputs": [],
   "source": [
    "import os \n",
    "#from data.data_set import Dataset \n",
    "#from model.inceptionv3_model import InceptionModel\n",
    "#from evaluation.predictions import Predictions\n",
    "\n",
    "#commit = '20210325_091051_9b22dd2'\n",
    "#input_dir = os.environ['IDC_INPUT_DATA_DIR']\n",
    "#output_dir = os.environ['IDC_OUTPUT_DATA_DIR']\n",
    "#test_dataset = Dataset(os.path.join(input_dir, 'csv_test_mutations_split1_small.csv'), num_classes=10)\n",
    "\n",
    "#best_model = 'checkpoint_001'\n",
    "#model = InceptionModel.load(os.path.join(output_dir, commit, best_model))\n",
    "\n",
    "#predictions = Predictions(model, test_dataset) \n",
    "#predictions.save(os.path.join(output_dir, commit, 'predictions_testing.json'))"
   ]
  },
  {
   "cell_type": "code",
   "execution_count": null,
   "metadata": {},
   "outputs": [],
   "source": [
    "#predictions = Predictions.load(os.path.join(output_dir, commit, 'predictions_testing.json'))\n",
    "#from evaluation.luad_tiles_extraction import extract \n",
    "#luad_tiles = extract(predictions)\n",
    "#with open(os.path.join(output_dir, commit, 'luad_tiles.csv'), \"w\") as outfile:\n",
    "#    outfile.write(\"\\n\".join(str(item) for item in luad_tiles))\n"
   ]
  },
  {
   "cell_type": "code",
   "execution_count": null,
   "metadata": {},
   "outputs": [],
   "source": [
    "#from evaluation.roc import ROCAnalysis\n",
    "#roc_analysis = ROCAnalysis(predictions, experiment='mutations')\n",
    "#roc_analysis.plot(os.path.join(output_dir, commit))\n",
    "#roc_analysis.print_and_save_tabluar_results(os.path.join(output_dir, commit))"
   ]
  },
  {
   "cell_type": "code",
   "execution_count": null,
   "metadata": {},
   "outputs": [],
   "source": [
    "#from evaluation.heatmap import Heatmap \n",
    "#import matplotlib.pyplot as plt \n",
    "\n",
    "#colormaps=['coolwarm', 'coolwarm', 'coolwarm']\n",
    "#hm = Heatmap(predictions, 'TCGA-68-8250-01A-01-TS1.d6347fc6-c657-4d0f-bba9-09efde4991f3', colormaps)\n",
    "#hm.plot(os.path.join(output_dir, commit, 'heatmap.png'))"
   ]
  },
  {
   "cell_type": "code",
   "execution_count": null,
   "metadata": {},
   "outputs": [],
   "source": [
    "from evaluation.predictions import Predictions\n",
    "from evaluation.roc import ROCAnalysis\n",
    "\n",
    "predictions = Predictions.load(os.path.join(output_dir, '20210421_autogluon', 'autogluon_test_prediction_probabilities..json'))\n",
    "roc_analysis = ROCAnalysis(predictions, experiment='norm_cancer')\n",
    "roc_analysis.print_and_save_tabluar_results(os.path.join(output_dir, '20210421_autogluon'))"
   ]
  }
 ],
 "metadata": {
  "environment": {
   "name": "tf2-gpu.2-1.m58",
   "type": "gcloud",
   "uri": "gcr.io/deeplearning-platform-release/tf2-gpu.2-1:m58"
  },
  "kernelspec": {
   "display_name": "Python 3",
   "language": "python",
   "name": "python3"
  },
  "language_info": {
   "codemirror_mode": {
    "name": "ipython",
    "version": 3
   },
   "file_extension": ".py",
   "mimetype": "text/x-python",
   "name": "python",
   "nbconvert_exporter": "python",
   "pygments_lexer": "ipython3",
   "version": "3.7.8"
  }
 },
 "nbformat": 4,
 "nbformat_minor": 4
}