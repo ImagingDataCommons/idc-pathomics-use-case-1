{
 "cells": [
  {
   "cell_type": "markdown",
   "metadata": {},
   "source": [
    "# About"
   ]
  },
  {
   "cell_type": "code",
   "execution_count": 1,
   "metadata": {},
   "outputs": [],
   "source": [
    "# only for development, can be removed later\n",
    "%load_ext autoreload\n",
    "%autoreload 2"
   ]
  },
  {
   "cell_type": "code",
   "execution_count": 23,
   "metadata": {},
   "outputs": [
    {
     "name": "stdout",
     "output_type": "stream",
     "text": [
      "/home/jupyter/idc_output/20210812_124529/checkpoint_010/\n"
     ]
    }
   ],
   "source": [
    "import glob \n",
    "checkpoints = glob.glob('/home/jupyter/idc_output/20210812_124529/checkpoint*/')\n",
    "checkpoints.sort()\n",
    "print(checkpoints[-1])"
   ]
  },
  {
   "cell_type": "markdown",
   "metadata": {},
   "source": [
    "Text about organization of our code and this notebook"
   ]
  },
  {
   "cell_type": "markdown",
   "metadata": {},
   "source": [
    "# Prerequisites "
   ]
  },
  {
   "cell_type": "markdown",
   "metadata": {},
   "source": [
    "(tbd) This notebook assumes that you:\n",
    "\n",
    "- have internet access\n",
    "- have a Google identity\n",
    "- have configured a project under Google Cloud Platform (you can see how to complete this step in this tutorial)\n",
    "- replace ##MY_PROJECT_ID## in the cell below with the ID of the GCP project you have confugured under your account"
   ]
  },
  {
   "cell_type": "code",
   "execution_count": 2,
   "metadata": {},
   "outputs": [],
   "source": [
    "my_project_id = \"idc-pathomics-000\""
   ]
  },
  {
   "cell_type": "markdown",
   "metadata": {},
   "source": [
    "# Environment setup"
   ]
  },
  {
   "cell_type": "code",
   "execution_count": 3,
   "metadata": {},
   "outputs": [
    {
     "name": "stdout",
     "output_type": "stream",
     "text": [
      "Current directory : /home/jupyter/idc-pathomics-use-case-1/src\n",
      "Hostname          : idc-patho-vm\n",
      "Username          : jupyter\n"
     ]
    }
   ],
   "source": [
    "curr_dir = !pwd\n",
    "curr_droid = !hostname\n",
    "curr_pilot = !whoami\n",
    "\n",
    "print(\"Current directory :\", curr_dir[-1])\n",
    "print(\"Hostname          :\", curr_droid[-1])\n",
    "print(\"Username          :\", curr_pilot[-1])"
   ]
  },
  {
   "cell_type": "code",
   "execution_count": 26,
   "metadata": {
    "collapsed": true,
    "jupyter": {
     "outputs_hidden": true
    }
   },
   "outputs": [
    {
     "name": "stdout",
     "output_type": "stream",
     "text": [
      "Hit:1 http://security.debian.org/debian-security buster/updates InRelease\n",
      "Hit:2 http://deb.debian.org/debian buster InRelease                            \n",
      "Hit:3 http://deb.debian.org/debian buster-updates InRelease                    \n",
      "Hit:4 http://deb.debian.org/debian buster-backports InRelease                  \n",
      "Hit:5 https://nvidia.github.io/libnvidia-container/stable/debian10/amd64  InRelease\n",
      "Hit:6 https://download.docker.com/linux/debian buster InRelease                \n",
      "Hit:7 https://nvidia.github.io/nvidia-container-runtime/stable/debian10/amd64  InRelease\n",
      "Hit:8 https://nvidia.github.io/nvidia-docker/debian10/amd64  InRelease\n",
      "Hit:9 http://packages.cloud.google.com/apt cloud-sdk-buster InRelease\n",
      "Hit:11 https://packages.cloud.google.com/apt google-fast-socket InRelease\n",
      "Hit:12 http://packages.cloud.google.com/apt google-cloud-packages-archive-keyring-buster InRelease\n",
      "Get:10 https://packages.cloud.google.com/apt kubernetes-xenial InRelease [9383 B]\n",
      "Hit:13 http://packages.cloud.google.com/apt gcsfuse-buster InRelease\n",
      "Hit:14 http://packages.cloud.google.com/apt google-compute-engine-buster-stable InRelease\n",
      "Fetched 9383 B in 2s (6105 B/s)\n",
      "Reading package lists... Done\n",
      "Reading package lists... Done\n",
      "Building dependency tree       \n",
      "Reading state information... Done\n",
      "python3-openslide is already the newest version (1.1.1-4).\n",
      "0 upgraded, 0 newly installed, 0 to remove and 9 not upgraded.\n",
      "Requirement already satisfied: openslide-wrapper==1.1.2 in /usr/local/lib/python3.7/dist-packages (from -r ../requirements_cptac.txt (line 1)) (1.1.2)\n",
      "Requirement already satisfied: numpy==1.19.1 in /usr/local/lib/python3.7/dist-packages (from -r ../requirements_cptac.txt (line 2)) (1.19.1)\n",
      "Requirement already satisfied: scikit-learn==0.24.1 in /usr/local/lib/python3.7/dist-packages (from -r ../requirements_cptac.txt (line 3)) (0.24.1)\n",
      "Requirement already satisfied: pandas==1.1.0 in /usr/local/lib/python3.7/dist-packages (from -r ../requirements_cptac.txt (line 4)) (1.1.0)\n",
      "Requirement already satisfied: seaborn in /usr/local/lib/python3.7/dist-packages (from -r ../requirements_cptac.txt (line 5)) (0.11.1)\n",
      "Requirement already satisfied: Pillow in /usr/lib/python3/dist-packages (from openslide-wrapper==1.1.2->-r ../requirements_cptac.txt (line 1)) (5.4.1)\n",
      "Requirement already satisfied: joblib>=0.11 in /usr/local/lib/python3.7/dist-packages (from scikit-learn==0.24.1->-r ../requirements_cptac.txt (line 3)) (1.0.1)\n",
      "Requirement already satisfied: threadpoolctl>=2.0.0 in /usr/local/lib/python3.7/dist-packages (from scikit-learn==0.24.1->-r ../requirements_cptac.txt (line 3)) (2.2.0)\n",
      "Requirement already satisfied: scipy>=0.19.1 in /usr/local/lib/python3.7/dist-packages (from scikit-learn==0.24.1->-r ../requirements_cptac.txt (line 3)) (1.7.0)\n",
      "Requirement already satisfied: python-dateutil>=2.7.3 in /usr/local/lib/python3.7/dist-packages (from pandas==1.1.0->-r ../requirements_cptac.txt (line 4)) (2.8.2)\n",
      "Requirement already satisfied: pytz>=2017.2 in /usr/local/lib/python3.7/dist-packages (from pandas==1.1.0->-r ../requirements_cptac.txt (line 4)) (2021.1)\n",
      "Requirement already satisfied: matplotlib>=2.2 in /usr/local/lib/python3.7/dist-packages (from seaborn->-r ../requirements_cptac.txt (line 5)) (3.4.2)\n",
      "Requirement already satisfied: six>=1.5 in /usr/local/lib/python3.7/dist-packages (from python-dateutil>=2.7.3->pandas==1.1.0->-r ../requirements_cptac.txt (line 4)) (1.16.0)\n",
      "Requirement already satisfied: kiwisolver>=1.0.1 in /usr/local/lib/python3.7/dist-packages (from matplotlib>=2.2->seaborn->-r ../requirements_cptac.txt (line 5)) (1.3.1)\n",
      "Requirement already satisfied: cycler>=0.10 in /usr/local/lib/python3.7/dist-packages (from matplotlib>=2.2->seaborn->-r ../requirements_cptac.txt (line 5)) (0.10.0)\n",
      "Requirement already satisfied: pyparsing>=2.2.1 in /usr/local/lib/python3.7/dist-packages (from matplotlib>=2.2->seaborn->-r ../requirements_cptac.txt (line 5)) (2.4.7)\n"
     ]
    }
   ],
   "source": [
    "!sudo apt-get update\n",
    "!sudo apt-get install --no-install-recommends -y python3-openslide\n",
    "!sudo pip3 install -r ../requirements_cptac.txt # at the end, check whether all are required, maybe no requirement file needed, when only one/two things are installed\n",
    "!pip install wandb -qqq # monitoring tool "
   ]
  },
  {
   "cell_type": "code",
   "execution_count": 4,
   "metadata": {},
   "outputs": [],
   "source": [
    "# Import all required python libraries for this use case\n",
    "import os\n",
    "import sys\n",
    "sys.path.append('/usr/local/lib/python3.7/dist-packages') # otherwise Openslide can not be loaded. Maybe find a better solution?!\n",
    "import time\n",
    "import pandas as pd\n",
    "import matplotlib.pyplot as plt\n",
    "import seaborn as sns\n",
    "sns.set()\n",
    "import wandb"
   ]
  },
  {
   "cell_type": "code",
   "execution_count": 8,
   "metadata": {},
   "outputs": [],
   "source": [
    "# Create directories for input and output data \n",
    "input_dir = '/home/jupyter/idc_input/'\n",
    "output_dir = '/home/jupyter/idc_output/'\n",
    "#os.mkdir(input_dir)\n",
    "#os.mkdir(output_dir)"
   ]
  },
  {
   "cell_type": "markdown",
   "metadata": {},
   "source": [
    "# Dataset selection and exploration"
   ]
  },
  {
   "cell_type": "markdown",
   "metadata": {},
   "source": [
    "IDC relies on the Google Cloud Platform (GCP) for storage and management of DICOM data. The data are contained in so-called [storage buckets](https://cloud.google.com/storage/docs/key-terms#buckets), from which they are available for the user on a requester pays basis. Currently, all pathology whole-slide images (WSI) are located in the `tbd` bucket.\n",
    "**Metadata** for the DICOM files - including standard DICOM tags, but also non-DICOM metadata - are stored in BigQuery tables from which they can easily be accessed using standard SQL queries. This gives users the opportunity to explore available data by examining metadata without the need of downloading the DICOM data in the first place. Additional information on the organization of data can be found in the [IDC Documentation](https://learn.canceridc.dev/data/organization-of-data). \n",
    "\n",
    "The easiest way to acess BigQuery tables from within a Jupyter notebook is to use the [BigQuery cell magic](https://cloud.google.com/bigquery/docs/visualize-jupyter#querying-and-visualizing-bigquery-data) provided by the BigQuery client library for Python. \n",
    "Using the `%%bigquery` command as shown below, the results of the following SQL query are stored as pandas data frame `cohort_df`.   \n",
    "Further information on how to use BigQuery within the IDC, on the attributes available as well as examples can be found [here](https://learn.canceridc.dev/cookbook/bigquery). "
   ]
  },
  {
   "cell_type": "code",
   "execution_count": 42,
   "metadata": {},
   "outputs": [
    {
     "name": "stderr",
     "output_type": "stream",
     "text": [
      "Query complete after 0.00s: 100%|██████████| 4/4 [00:00<00:00, 2152.30query/s]                        \n",
      "Downloading: 100%|██████████| 2211/2211 [00:01<00:00, 1845.86rows/s]\n"
     ]
    }
   ],
   "source": [
    "%%bigquery cohort_df --project=$my_project_id \n",
    "\n",
    "WITH slide_images AS (\n",
    "    SELECT\n",
    "        ContainerIdentifier AS slide_id,\n",
    "        PatientID AS patient_id,\n",
    "        ClinicalTrialProtocolID AS dataset,\n",
    "        TotalPixelMatrixColumns AS width,\n",
    "        TotalPixelMatrixRows AS height,\n",
    "        gcs_url,\n",
    "        StudyInstanceUID AS viewer_id,\n",
    "        CAST(SharedFunctionalGroupsSequence[OFFSET(0)].\n",
    "             PixelMeasuresSequence[OFFSET(0)].\n",
    "             PixelSpacing[OFFSET(0)] AS FLOAT64) AS pixel_spacing,\n",
    "        CASE TransferSyntaxUID\n",
    "            WHEN '1.2.840.10008.1.2.4.50' THEN 'jpeg'\n",
    "            WHEN '1.2.840.10008.1.2.4.91' THEN 'jpeg2000'\n",
    "            ELSE 'other'\n",
    "        END AS compression\n",
    "    FROM idc-dev-etl.idc_v3.dicom_all\n",
    "    WHERE NOT (ContainerIdentifier IS NULL)\n",
    ")\n",
    "SELECT *\n",
    "FROM slide_images\n",
    "WHERE\n",
    "    (compression = \"jpeg\")\n",
    "    AND (dataset = \"CPTAC-LUAD\" OR dataset = \"CPTAC-LSCC\")\n",
    "    -- pixel spacing between 0.00025 and 0.00051 mm corresponds to 20x magnification\n",
    "    AND (pixel_spacing > 0.00025) AND (pixel_spacing < 0.00051)"
   ]
  },
  {
   "cell_type": "markdown",
   "metadata": {},
   "source": [
    "Since up to now the information about the slide's tissue type (tumor tissue or normal tissue) is missing in the BQ table, we have to extract those from the attached TCIA metadata file and add them to our cohort's metadata. We remove slides that have no tissue type information available from our cohort. "
   ]
  },
  {
   "cell_type": "code",
   "execution_count": 43,
   "metadata": {},
   "outputs": [],
   "source": [
    "from data.utils import attach_tissue_type_information\n",
    "\n",
    "tissue_type_data = pd.read_csv(os.path.join(input_dir, 'tissue_type_data_TCIA.csv'))\n",
    "slides_metadata = attach_tissue_type_information(cohort_df, tissue_type_data)\n",
    "#slides_metadata_path = os.path.join(input_dir, 'slides_metadata.csv')\n",
    "#slides_metadata.to_csv(slides_metadata_path, index=False) # Save slides metadata as csv for later use"
   ]
  },
  {
   "cell_type": "markdown",
   "metadata": {},
   "source": [
    "Using pandas and matplotlib functionality the user can quite easily have a look at the selected cohort's metadata and visualize some aspects of interest: "
   ]
  },
  {
   "cell_type": "code",
   "execution_count": 44,
   "metadata": {},
   "outputs": [
    {
     "name": "stdout",
     "output_type": "stream",
     "text": [
      "Total number of slides in this cohort:  2129\n",
      "--> 1056 slides from 229 LUAD patients\n",
      "--> 1073 slides from 211 LSCC patients\n"
     ]
    },
    {
     "data": {
      "text/html": [
       "<div>\n",
       "<style scoped>\n",
       "    .dataframe tbody tr th:only-of-type {\n",
       "        vertical-align: middle;\n",
       "    }\n",
       "\n",
       "    .dataframe tbody tr th {\n",
       "        vertical-align: top;\n",
       "    }\n",
       "\n",
       "    .dataframe thead th {\n",
       "        text-align: right;\n",
       "    }\n",
       "</style>\n",
       "<table border=\"1\" class=\"dataframe\">\n",
       "  <thead>\n",
       "    <tr style=\"text-align: right;\">\n",
       "      <th></th>\n",
       "      <th>slide_id</th>\n",
       "      <th>patient_id</th>\n",
       "      <th>cancer_subtype</th>\n",
       "      <th>tissue_type</th>\n",
       "      <th>width</th>\n",
       "      <th>height</th>\n",
       "      <th>gcs_url</th>\n",
       "      <th>viewer_id</th>\n",
       "      <th>pixel_spacing</th>\n",
       "      <th>compression</th>\n",
       "    </tr>\n",
       "  </thead>\n",
       "  <tbody>\n",
       "    <tr>\n",
       "      <th>0</th>\n",
       "      <td>9f905736-f662-41d6-b3ac-16758d_D1_D1</td>\n",
       "      <td>11LU013</td>\n",
       "      <td>luad</td>\n",
       "      <td>tumor</td>\n",
       "      <td>43823</td>\n",
       "      <td>36780</td>\n",
       "      <td>gs://idc_dev/0c34fd04-4e15-4773-a5e4-9fa55e93c...</td>\n",
       "      <td>1.3.6.1.4.1.5962.99.1.2435932643.165835131.162...</td>\n",
       "      <td>0.000494</td>\n",
       "      <td>jpeg</td>\n",
       "    </tr>\n",
       "    <tr>\n",
       "      <th>1</th>\n",
       "      <td>C3L-00263-21</td>\n",
       "      <td>C3L-00263</td>\n",
       "      <td>luad</td>\n",
       "      <td>tumor</td>\n",
       "      <td>35855</td>\n",
       "      <td>30785</td>\n",
       "      <td>gs://idc_dev/c2627b06-f2c8-4117-b091-44c143803...</td>\n",
       "      <td>1.3.6.1.4.1.5962.99.1.2436628514.852093794.162...</td>\n",
       "      <td>0.000494</td>\n",
       "      <td>jpeg</td>\n",
       "    </tr>\n",
       "    <tr>\n",
       "      <th>2</th>\n",
       "      <td>C3L-02164-27</td>\n",
       "      <td>C3L-02164</td>\n",
       "      <td>lscc</td>\n",
       "      <td>normal</td>\n",
       "      <td>25895</td>\n",
       "      <td>19845</td>\n",
       "      <td>gs://idc_dev/0c617846-9827-4a90-8901-923a1b34b...</td>\n",
       "      <td>1.3.6.1.4.1.5962.99.1.2453127407.449018993.162...</td>\n",
       "      <td>0.000494</td>\n",
       "      <td>jpeg</td>\n",
       "    </tr>\n",
       "    <tr>\n",
       "      <th>3</th>\n",
       "      <td>C3L-02546-21</td>\n",
       "      <td>C3L-02546</td>\n",
       "      <td>lscc</td>\n",
       "      <td>tumor</td>\n",
       "      <td>21911</td>\n",
       "      <td>17801</td>\n",
       "      <td>gs://idc_dev/c04d01a9-21dd-4409-bc1b-f3402e390...</td>\n",
       "      <td>1.3.6.1.4.1.5962.99.1.2451274294.1099842352.16...</td>\n",
       "      <td>0.000494</td>\n",
       "      <td>jpeg</td>\n",
       "    </tr>\n",
       "    <tr>\n",
       "      <th>4</th>\n",
       "      <td>C3L-02559-21</td>\n",
       "      <td>C3L-02559</td>\n",
       "      <td>luad</td>\n",
       "      <td>tumor</td>\n",
       "      <td>19919</td>\n",
       "      <td>17061</td>\n",
       "      <td>gs://idc_dev/1eefaea0-92b2-41f4-ab2c-c7b34ead2...</td>\n",
       "      <td>1.3.6.1.4.1.5962.99.1.2440032259.2033945654.16...</td>\n",
       "      <td>0.000494</td>\n",
       "      <td>jpeg</td>\n",
       "    </tr>\n",
       "  </tbody>\n",
       "</table>\n",
       "</div>"
      ],
      "text/plain": [
       "                               slide_id patient_id cancer_subtype tissue_type  \\\n",
       "0  9f905736-f662-41d6-b3ac-16758d_D1_D1    11LU013           luad       tumor   \n",
       "1                          C3L-00263-21  C3L-00263           luad       tumor   \n",
       "2                          C3L-02164-27  C3L-02164           lscc      normal   \n",
       "3                          C3L-02546-21  C3L-02546           lscc       tumor   \n",
       "4                          C3L-02559-21  C3L-02559           luad       tumor   \n",
       "\n",
       "   width  height                                            gcs_url  \\\n",
       "0  43823   36780  gs://idc_dev/0c34fd04-4e15-4773-a5e4-9fa55e93c...   \n",
       "1  35855   30785  gs://idc_dev/c2627b06-f2c8-4117-b091-44c143803...   \n",
       "2  25895   19845  gs://idc_dev/0c617846-9827-4a90-8901-923a1b34b...   \n",
       "3  21911   17801  gs://idc_dev/c04d01a9-21dd-4409-bc1b-f3402e390...   \n",
       "4  19919   17061  gs://idc_dev/1eefaea0-92b2-41f4-ab2c-c7b34ead2...   \n",
       "\n",
       "                                           viewer_id  pixel_spacing  \\\n",
       "0  1.3.6.1.4.1.5962.99.1.2435932643.165835131.162...       0.000494   \n",
       "1  1.3.6.1.4.1.5962.99.1.2436628514.852093794.162...       0.000494   \n",
       "2  1.3.6.1.4.1.5962.99.1.2453127407.449018993.162...       0.000494   \n",
       "3  1.3.6.1.4.1.5962.99.1.2451274294.1099842352.16...       0.000494   \n",
       "4  1.3.6.1.4.1.5962.99.1.2440032259.2033945654.16...       0.000494   \n",
       "\n",
       "  compression  \n",
       "0        jpeg  \n",
       "1        jpeg  \n",
       "2        jpeg  \n",
       "3        jpeg  \n",
       "4        jpeg  "
      ]
     },
     "execution_count": 44,
     "metadata": {},
     "output_type": "execute_result"
    }
   ],
   "source": [
    "print('Total number of slides in this cohort: ', len(slides_metadata))\n",
    "nr_slides_from_luad_patients = slides_metadata.groupby('cancer_subtype').size()['luad'] # or len(slides_metadata[slides_metadata['cancer_subtype'] == 'luad']) \n",
    "nr_slides_from_lscc_patients = slides_metadata.groupby('cancer_subtype').size()['lscc'] # or len(slides_metadata[slides_metadata['cancer_subtype'] == 'lscc'])\n",
    "nr_luad_patients = slides_metadata.drop_duplicates('patient_id').groupby('cancer_subtype').size()['luad']\n",
    "nr_lscc_patients = slides_metadata.drop_duplicates('patient_id').groupby('cancer_subtype').size()['lscc']\n",
    "print('--> %d slides from %d LUAD patients' %(nr_slides_from_luad_patients, nr_luad_patients))\n",
    "print('--> %d slides from %d LSCC patients' %(nr_slides_from_lscc_patients, nr_lscc_patients))\n",
    "\n",
    "slides_metadata.head()"
   ]
  },
  {
   "cell_type": "code",
   "execution_count": 35,
   "metadata": {},
   "outputs": [
    {
     "name": "stdout",
     "output_type": "stream",
     "text": [
      "cancer_subtype  tissue_type\n",
      "lscc            normal         384\n",
      "                tumor          689\n",
      "luad            normal         378\n",
      "                tumor          678\n",
      "dtype: int64\n"
     ]
    },
    {
     "data": {
      "image/png": "[encoded data removed]",
      "text/plain": [
       "<Figure size 1080x360 with 2 Axes>"
      ]
     },
     "metadata": {},
     "output_type": "display_data"
    }
   ],
   "source": [
    "fig, (ax1, ax2) = plt.subplots(1, 2, figsize=(15, 5))\n",
    "\n",
    "# How many slides per patient?\n",
    "slides_per_patient = slides_metadata.groupby(['patient_id']).size()\n",
    "sns.histplot(data=slides_per_patient, discrete=True, ax=ax1, shrink=0.9)\n",
    "ax1.set_title('Number of slides per patient')\n",
    "ax1.set_xlabel('Number of slides')\n",
    "ax1.set_ylabel('Number of patients')\n",
    "\n",
    "# Displaying tissue type distribution \n",
    "print(slides_metadata.groupby(['cancer_subtype', 'tissue_type']).size())\n",
    "plot = sns.histplot(data=slides_metadata, x='cancer_subtype', hue='tissue_type', palette=['r','g'], multiple='stack', ax=ax2, shrink=0.7)\n",
    "ax2.set_xlabel('Cancer subtype')\n",
    "ax2.set_ylabel('Number of slides')\n",
    "legend = plot.get_legend()\n",
    "legend.set_title('Tissue type')\n",
    "legend.set_bbox_to_anchor((1, 1))"
   ]
  },
  {
   "cell_type": "code",
   "execution_count": 45,
   "metadata": {},
   "outputs": [
    {
     "data": {
      "text/plain": [
       "'https://viewer.imaging.datacommons.cancer.gov/viewer/1.3.6.1.4.1.5962.99.1.2435932643.165835131.1625933603299.3.0'"
      ]
     },
     "execution_count": 45,
     "metadata": {},
     "output_type": "execute_result"
    }
   ],
   "source": [
    "# IDC viewer for some pathomics data? \n",
    "\n",
    "\n",
    "def get_idc_viewer_url(study_UID):\n",
    "    return \"https://viewer.imaging.datacommons.cancer.gov/viewer/\" + study_UID\n",
    "\n",
    "sid= slides_metadata.iloc[0]['viewer_id']\n",
    "get_idc_viewer_url(sid)"
   ]
  },
  {
   "cell_type": "markdown",
   "metadata": {},
   "source": [
    "# Pathomics use case"
   ]
  },
  {
   "cell_type": "markdown",
   "metadata": {},
   "source": [
    "Text about experiments we are going to perfom "
   ]
  },
  {
   "cell_type": "markdown",
   "metadata": {},
   "source": [
    "## Preprocessing"
   ]
  },
  {
   "cell_type": "code",
   "execution_count": 6,
   "metadata": {},
   "outputs": [],
   "source": [
    "from data.tile_generation_cptac import generate_tiles\n",
    "\n",
    "slides_dir = os.path.join(input_dir, 'cptac_slides')\n",
    "tiles_dir = os.path.join(input_dir, 'cptac_tiles')\n",
    "#os.makedir(slides_dir)\n",
    "#os.makedir(tiles_dir)\n",
    "\n",
    "#generate_tiles(slides_dir, os.path.join(input_dir, 'slides_metadata.csv'), tiles_dir, 'idc-pathomics-000')\n",
    "\n",
    "#os.remove(slides_dir) # delete because this directory is now empty and no longer required"
   ]
  },
  {
   "cell_type": "code",
   "execution_count": 24,
   "metadata": {},
   "outputs": [],
   "source": [
    "from data.tile_sorting_cptac import sort_tiles\n",
    "\n",
    "sort_tiles(tiles_dir, slides_metadata_path, input_dir, 'norm_cancer')\n",
    "sort_tiles(tiles_dir, slides_metadata_path, input_dir, 'luad_lscc')\n",
    "sort_tiles(tiles_dir, slides_metadata_path, input_dir, 'norm_luad_lscc')"
   ]
  },
  {
   "cell_type": "code",
   "execution_count": 138,
   "metadata": {
    "collapsed": true,
    "jupyter": {
     "outputs_hidden": true
    }
   },
   "outputs": [
    {
     "name": "stdout",
     "output_type": "stream",
     "text": [
      "Error in callback <function _WandbInit._resume_backend at 0x7fe3b360bdd0> (for pre_run_cell):\n"
     ]
    },
    {
     "ename": "Exception",
     "evalue": "The wandb backend process has shutdown",
     "output_type": "error",
     "traceback": [
      "\u001b[0;31m---------------------------------------------------------------------------\u001b[0m",
      "\u001b[0;31mException\u001b[0m                                 Traceback (most recent call last)",
      "\u001b[0;32m/opt/conda/lib/python3.7/site-packages/backcall/backcall.py\u001b[0m in \u001b[0;36madapted\u001b[0;34m(*args, **kwargs)\u001b[0m\n\u001b[1;32m    102\u001b[0m                 \u001b[0mkwargs\u001b[0m\u001b[0;34m.\u001b[0m\u001b[0mpop\u001b[0m\u001b[0;34m(\u001b[0m\u001b[0mname\u001b[0m\u001b[0;34m)\u001b[0m\u001b[0;34m\u001b[0m\u001b[0;34m\u001b[0m\u001b[0m\n\u001b[1;32m    103\u001b[0m \u001b[0;31m#            print(args, kwargs, unmatched_pos, cut_positional, unmatched_kw)\u001b[0m\u001b[0;34m\u001b[0m\u001b[0;34m\u001b[0m\u001b[0;34m\u001b[0m\u001b[0m\n\u001b[0;32m--> 104\u001b[0;31m             \u001b[0;32mreturn\u001b[0m \u001b[0mcallback\u001b[0m\u001b[0;34m(\u001b[0m\u001b[0;34m*\u001b[0m\u001b[0margs\u001b[0m\u001b[0;34m,\u001b[0m \u001b[0;34m**\u001b[0m\u001b[0mkwargs\u001b[0m\u001b[0;34m)\u001b[0m\u001b[0;34m\u001b[0m\u001b[0;34m\u001b[0m\u001b[0m\n\u001b[0m\u001b[1;32m    105\u001b[0m \u001b[0;34m\u001b[0m\u001b[0m\n\u001b[1;32m    106\u001b[0m         \u001b[0;32mreturn\u001b[0m \u001b[0madapted\u001b[0m\u001b[0;34m\u001b[0m\u001b[0;34m\u001b[0m\u001b[0m\n",
      "\u001b[0;32m/opt/conda/lib/python3.7/site-packages/wandb/sdk/wandb_init.py\u001b[0m in \u001b[0;36m_resume_backend\u001b[0;34m(self)\u001b[0m\n\u001b[1;32m    259\u001b[0m         \u001b[0;32mif\u001b[0m \u001b[0mself\u001b[0m\u001b[0;34m.\u001b[0m\u001b[0mbackend\u001b[0m \u001b[0;32mis\u001b[0m \u001b[0;32mnot\u001b[0m \u001b[0;32mNone\u001b[0m\u001b[0;34m:\u001b[0m\u001b[0;34m\u001b[0m\u001b[0;34m\u001b[0m\u001b[0m\n\u001b[1;32m    260\u001b[0m             \u001b[0mlogger\u001b[0m\u001b[0;34m.\u001b[0m\u001b[0minfo\u001b[0m\u001b[0;34m(\u001b[0m\u001b[0;34m\"resuming backend\"\u001b[0m\u001b[0;34m)\u001b[0m\u001b[0;34m\u001b[0m\u001b[0;34m\u001b[0m\u001b[0m\n\u001b[0;32m--> 261\u001b[0;31m             \u001b[0mself\u001b[0m\u001b[0;34m.\u001b[0m\u001b[0mbackend\u001b[0m\u001b[0;34m.\u001b[0m\u001b[0minterface\u001b[0m\u001b[0;34m.\u001b[0m\u001b[0mpublish_resume\u001b[0m\u001b[0;34m(\u001b[0m\u001b[0;34m)\u001b[0m\u001b[0;34m\u001b[0m\u001b[0;34m\u001b[0m\u001b[0m\n\u001b[0m\u001b[1;32m    262\u001b[0m \u001b[0;34m\u001b[0m\u001b[0m\n\u001b[1;32m    263\u001b[0m     \u001b[0;32mdef\u001b[0m \u001b[0m_jupyter_teardown\u001b[0m\u001b[0;34m(\u001b[0m\u001b[0mself\u001b[0m\u001b[0;34m)\u001b[0m\u001b[0;34m:\u001b[0m\u001b[0;34m\u001b[0m\u001b[0;34m\u001b[0m\u001b[0m\n",
      "\u001b[0;32m/opt/conda/lib/python3.7/site-packages/wandb/sdk/interface/interface.py\u001b[0m in \u001b[0;36mpublish_resume\u001b[0;34m(self)\u001b[0m\n\u001b[1;32m    602\u001b[0m         \u001b[0mresume\u001b[0m \u001b[0;34m=\u001b[0m \u001b[0mpb\u001b[0m\u001b[0;34m.\u001b[0m\u001b[0mResumeRequest\u001b[0m\u001b[0;34m(\u001b[0m\u001b[0;34m)\u001b[0m\u001b[0;34m\u001b[0m\u001b[0;34m\u001b[0m\u001b[0m\n\u001b[1;32m    603\u001b[0m         \u001b[0mrec\u001b[0m \u001b[0;34m=\u001b[0m \u001b[0mself\u001b[0m\u001b[0;34m.\u001b[0m\u001b[0m_make_request\u001b[0m\u001b[0;34m(\u001b[0m\u001b[0mresume\u001b[0m\u001b[0;34m=\u001b[0m\u001b[0mresume\u001b[0m\u001b[0;34m)\u001b[0m\u001b[0;34m\u001b[0m\u001b[0;34m\u001b[0m\u001b[0m\n\u001b[0;32m--> 604\u001b[0;31m         \u001b[0mself\u001b[0m\u001b[0;34m.\u001b[0m\u001b[0m_publish\u001b[0m\u001b[0;34m(\u001b[0m\u001b[0mrec\u001b[0m\u001b[0;34m)\u001b[0m\u001b[0;34m\u001b[0m\u001b[0;34m\u001b[0m\u001b[0m\n\u001b[0m\u001b[1;32m    605\u001b[0m \u001b[0;34m\u001b[0m\u001b[0m\n\u001b[1;32m    606\u001b[0m     \u001b[0;32mdef\u001b[0m \u001b[0m_publish_run\u001b[0m\u001b[0;34m(\u001b[0m\u001b[0mself\u001b[0m\u001b[0;34m,\u001b[0m \u001b[0mrun\u001b[0m\u001b[0;34m:\u001b[0m \u001b[0mpb\u001b[0m\u001b[0;34m.\u001b[0m\u001b[0mRunRecord\u001b[0m\u001b[0;34m)\u001b[0m \u001b[0;34m->\u001b[0m \u001b[0;32mNone\u001b[0m\u001b[0;34m:\u001b[0m\u001b[0;34m\u001b[0m\u001b[0;34m\u001b[0m\u001b[0m\n",
      "\u001b[0;32m/opt/conda/lib/python3.7/site-packages/wandb/sdk/interface/interface.py\u001b[0m in \u001b[0;36m_publish\u001b[0;34m(self, record, local)\u001b[0m\n\u001b[1;32m    533\u001b[0m     \u001b[0;32mdef\u001b[0m \u001b[0m_publish\u001b[0m\u001b[0;34m(\u001b[0m\u001b[0mself\u001b[0m\u001b[0;34m,\u001b[0m \u001b[0mrecord\u001b[0m\u001b[0;34m:\u001b[0m \u001b[0mpb\u001b[0m\u001b[0;34m.\u001b[0m\u001b[0mRecord\u001b[0m\u001b[0;34m,\u001b[0m \u001b[0mlocal\u001b[0m\u001b[0;34m:\u001b[0m \u001b[0mbool\u001b[0m \u001b[0;34m=\u001b[0m \u001b[0;32mNone\u001b[0m\u001b[0;34m)\u001b[0m \u001b[0;34m->\u001b[0m \u001b[0;32mNone\u001b[0m\u001b[0;34m:\u001b[0m\u001b[0;34m\u001b[0m\u001b[0;34m\u001b[0m\u001b[0m\n\u001b[1;32m    534\u001b[0m         \u001b[0;32mif\u001b[0m \u001b[0mself\u001b[0m\u001b[0;34m.\u001b[0m\u001b[0m_process\u001b[0m \u001b[0;32mand\u001b[0m \u001b[0;32mnot\u001b[0m \u001b[0mself\u001b[0m\u001b[0;34m.\u001b[0m\u001b[0m_process\u001b[0m\u001b[0;34m.\u001b[0m\u001b[0mis_alive\u001b[0m\u001b[0;34m(\u001b[0m\u001b[0;34m)\u001b[0m\u001b[0;34m:\u001b[0m\u001b[0;34m\u001b[0m\u001b[0;34m\u001b[0m\u001b[0m\n\u001b[0;32m--> 535\u001b[0;31m             \u001b[0;32mraise\u001b[0m \u001b[0mException\u001b[0m\u001b[0;34m(\u001b[0m\u001b[0;34m\"The wandb backend process has shutdown\"\u001b[0m\u001b[0;34m)\u001b[0m\u001b[0;34m\u001b[0m\u001b[0;34m\u001b[0m\u001b[0m\n\u001b[0m\u001b[1;32m    536\u001b[0m         \u001b[0;32mif\u001b[0m \u001b[0mlocal\u001b[0m\u001b[0;34m:\u001b[0m\u001b[0;34m\u001b[0m\u001b[0;34m\u001b[0m\u001b[0m\n\u001b[1;32m    537\u001b[0m             \u001b[0mrecord\u001b[0m\u001b[0;34m.\u001b[0m\u001b[0mcontrol\u001b[0m\u001b[0;34m.\u001b[0m\u001b[0mlocal\u001b[0m \u001b[0;34m=\u001b[0m \u001b[0mlocal\u001b[0m\u001b[0;34m\u001b[0m\u001b[0;34m\u001b[0m\u001b[0m\n",
      "\u001b[0;31mException\u001b[0m: The wandb backend process has shutdown"
     ]
    },
    {
     "name": "stdout",
     "output_type": "stream",
     "text": [
      "Error in callback <function _WandbInit._pause_backend at 0x7fe3b360bb90> (for post_run_cell):\n"
     ]
    },
    {
     "ename": "Exception",
     "evalue": "The wandb backend process has shutdown",
     "output_type": "error",
     "traceback": [
      "\u001b[0;31m---------------------------------------------------------------------------\u001b[0m",
      "\u001b[0;31mException\u001b[0m                                 Traceback (most recent call last)",
      "\u001b[0;32m/opt/conda/lib/python3.7/site-packages/backcall/backcall.py\u001b[0m in \u001b[0;36madapted\u001b[0;34m(*args, **kwargs)\u001b[0m\n\u001b[1;32m    102\u001b[0m                 \u001b[0mkwargs\u001b[0m\u001b[0;34m.\u001b[0m\u001b[0mpop\u001b[0m\u001b[0;34m(\u001b[0m\u001b[0mname\u001b[0m\u001b[0;34m)\u001b[0m\u001b[0;34m\u001b[0m\u001b[0;34m\u001b[0m\u001b[0m\n\u001b[1;32m    103\u001b[0m \u001b[0;31m#            print(args, kwargs, unmatched_pos, cut_positional, unmatched_kw)\u001b[0m\u001b[0;34m\u001b[0m\u001b[0;34m\u001b[0m\u001b[0;34m\u001b[0m\u001b[0m\n\u001b[0;32m--> 104\u001b[0;31m             \u001b[0;32mreturn\u001b[0m \u001b[0mcallback\u001b[0m\u001b[0;34m(\u001b[0m\u001b[0;34m*\u001b[0m\u001b[0margs\u001b[0m\u001b[0;34m,\u001b[0m \u001b[0;34m**\u001b[0m\u001b[0mkwargs\u001b[0m\u001b[0;34m)\u001b[0m\u001b[0;34m\u001b[0m\u001b[0;34m\u001b[0m\u001b[0m\n\u001b[0m\u001b[1;32m    105\u001b[0m \u001b[0;34m\u001b[0m\u001b[0m\n\u001b[1;32m    106\u001b[0m         \u001b[0;32mreturn\u001b[0m \u001b[0madapted\u001b[0m\u001b[0;34m\u001b[0m\u001b[0;34m\u001b[0m\u001b[0m\n",
      "\u001b[0;32m/opt/conda/lib/python3.7/site-packages/wandb/sdk/wandb_init.py\u001b[0m in \u001b[0;36m_pause_backend\u001b[0;34m(self)\u001b[0m\n\u001b[1;32m    254\u001b[0m                 \u001b[0mres\u001b[0m \u001b[0;34m=\u001b[0m \u001b[0mself\u001b[0m\u001b[0;34m.\u001b[0m\u001b[0mrun\u001b[0m\u001b[0;34m.\u001b[0m\u001b[0mlog_code\u001b[0m\u001b[0;34m(\u001b[0m\u001b[0mroot\u001b[0m\u001b[0;34m=\u001b[0m\u001b[0;32mNone\u001b[0m\u001b[0;34m)\u001b[0m\u001b[0;34m\u001b[0m\u001b[0;34m\u001b[0m\u001b[0m\n\u001b[1;32m    255\u001b[0m                 \u001b[0mlogger\u001b[0m\u001b[0;34m.\u001b[0m\u001b[0minfo\u001b[0m\u001b[0;34m(\u001b[0m\u001b[0;34m\"saved code: %s\"\u001b[0m\u001b[0;34m,\u001b[0m \u001b[0mres\u001b[0m\u001b[0;34m)\u001b[0m\u001b[0;34m\u001b[0m\u001b[0;34m\u001b[0m\u001b[0m\n\u001b[0;32m--> 256\u001b[0;31m             \u001b[0mself\u001b[0m\u001b[0;34m.\u001b[0m\u001b[0mbackend\u001b[0m\u001b[0;34m.\u001b[0m\u001b[0minterface\u001b[0m\u001b[0;34m.\u001b[0m\u001b[0mpublish_pause\u001b[0m\u001b[0;34m(\u001b[0m\u001b[0;34m)\u001b[0m\u001b[0;34m\u001b[0m\u001b[0;34m\u001b[0m\u001b[0m\n\u001b[0m\u001b[1;32m    257\u001b[0m \u001b[0;34m\u001b[0m\u001b[0m\n\u001b[1;32m    258\u001b[0m     \u001b[0;32mdef\u001b[0m \u001b[0m_resume_backend\u001b[0m\u001b[0;34m(\u001b[0m\u001b[0mself\u001b[0m\u001b[0;34m)\u001b[0m\u001b[0;34m:\u001b[0m\u001b[0;34m\u001b[0m\u001b[0;34m\u001b[0m\u001b[0m\n",
      "\u001b[0;32m/opt/conda/lib/python3.7/site-packages/wandb/sdk/interface/interface.py\u001b[0m in \u001b[0;36mpublish_pause\u001b[0;34m(self)\u001b[0m\n\u001b[1;32m    597\u001b[0m         \u001b[0mpause\u001b[0m \u001b[0;34m=\u001b[0m \u001b[0mpb\u001b[0m\u001b[0;34m.\u001b[0m\u001b[0mPauseRequest\u001b[0m\u001b[0;34m(\u001b[0m\u001b[0;34m)\u001b[0m\u001b[0;34m\u001b[0m\u001b[0;34m\u001b[0m\u001b[0m\n\u001b[1;32m    598\u001b[0m         \u001b[0mrec\u001b[0m \u001b[0;34m=\u001b[0m \u001b[0mself\u001b[0m\u001b[0;34m.\u001b[0m\u001b[0m_make_request\u001b[0m\u001b[0;34m(\u001b[0m\u001b[0mpause\u001b[0m\u001b[0;34m=\u001b[0m\u001b[0mpause\u001b[0m\u001b[0;34m)\u001b[0m\u001b[0;34m\u001b[0m\u001b[0;34m\u001b[0m\u001b[0m\n\u001b[0;32m--> 599\u001b[0;31m         \u001b[0mself\u001b[0m\u001b[0;34m.\u001b[0m\u001b[0m_publish\u001b[0m\u001b[0;34m(\u001b[0m\u001b[0mrec\u001b[0m\u001b[0;34m)\u001b[0m\u001b[0;34m\u001b[0m\u001b[0;34m\u001b[0m\u001b[0m\n\u001b[0m\u001b[1;32m    600\u001b[0m \u001b[0;34m\u001b[0m\u001b[0m\n\u001b[1;32m    601\u001b[0m     \u001b[0;32mdef\u001b[0m \u001b[0mpublish_resume\u001b[0m\u001b[0;34m(\u001b[0m\u001b[0mself\u001b[0m\u001b[0;34m)\u001b[0m \u001b[0;34m->\u001b[0m \u001b[0;32mNone\u001b[0m\u001b[0;34m:\u001b[0m\u001b[0;34m\u001b[0m\u001b[0;34m\u001b[0m\u001b[0m\n",
      "\u001b[0;32m/opt/conda/lib/python3.7/site-packages/wandb/sdk/interface/interface.py\u001b[0m in \u001b[0;36m_publish\u001b[0;34m(self, record, local)\u001b[0m\n\u001b[1;32m    533\u001b[0m     \u001b[0;32mdef\u001b[0m \u001b[0m_publish\u001b[0m\u001b[0;34m(\u001b[0m\u001b[0mself\u001b[0m\u001b[0;34m,\u001b[0m \u001b[0mrecord\u001b[0m\u001b[0;34m:\u001b[0m \u001b[0mpb\u001b[0m\u001b[0;34m.\u001b[0m\u001b[0mRecord\u001b[0m\u001b[0;34m,\u001b[0m \u001b[0mlocal\u001b[0m\u001b[0;34m:\u001b[0m \u001b[0mbool\u001b[0m \u001b[0;34m=\u001b[0m \u001b[0;32mNone\u001b[0m\u001b[0;34m)\u001b[0m \u001b[0;34m->\u001b[0m \u001b[0;32mNone\u001b[0m\u001b[0;34m:\u001b[0m\u001b[0;34m\u001b[0m\u001b[0;34m\u001b[0m\u001b[0m\n\u001b[1;32m    534\u001b[0m         \u001b[0;32mif\u001b[0m \u001b[0mself\u001b[0m\u001b[0;34m.\u001b[0m\u001b[0m_process\u001b[0m \u001b[0;32mand\u001b[0m \u001b[0;32mnot\u001b[0m \u001b[0mself\u001b[0m\u001b[0;34m.\u001b[0m\u001b[0m_process\u001b[0m\u001b[0;34m.\u001b[0m\u001b[0mis_alive\u001b[0m\u001b[0;34m(\u001b[0m\u001b[0;34m)\u001b[0m\u001b[0;34m:\u001b[0m\u001b[0;34m\u001b[0m\u001b[0;34m\u001b[0m\u001b[0m\n\u001b[0;32m--> 535\u001b[0;31m             \u001b[0;32mraise\u001b[0m \u001b[0mException\u001b[0m\u001b[0;34m(\u001b[0m\u001b[0;34m\"The wandb backend process has shutdown\"\u001b[0m\u001b[0;34m)\u001b[0m\u001b[0;34m\u001b[0m\u001b[0;34m\u001b[0m\u001b[0m\n\u001b[0m\u001b[1;32m    536\u001b[0m         \u001b[0;32mif\u001b[0m \u001b[0mlocal\u001b[0m\u001b[0;34m:\u001b[0m\u001b[0;34m\u001b[0m\u001b[0;34m\u001b[0m\u001b[0m\n\u001b[1;32m    537\u001b[0m             \u001b[0mrecord\u001b[0m\u001b[0;34m.\u001b[0m\u001b[0mcontrol\u001b[0m\u001b[0;34m.\u001b[0m\u001b[0mlocal\u001b[0m \u001b[0;34m=\u001b[0m \u001b[0mlocal\u001b[0m\u001b[0;34m\u001b[0m\u001b[0;34m\u001b[0m\u001b[0m\n",
      "\u001b[0;31mException\u001b[0m: The wandb backend process has shutdown"
     ]
    }
   ],
   "source": [
    "# Create smaller training sets (1/10 of the tiles)\n",
    "!sed -n '1p;0~20p' '/home/jupyter/idc_input/train_norm_luad_lscc.csv' > '/home/jupyter/idc_input/train_norm_luad_lscc_smaller.csv'\n",
    "!sed -n '1p;0~20p' '/home/jupyter/idc_input/test_norm_luad_lscc.csv' > '/home/jupyter/idc_input/test_norm_luad_lscc_smaller.csv'\n",
    "!sed -n '1p;0~20p' '/home/jupyter/idc_input/valid_norm_luad_lscc.csv' > '/home/jupyter/idc_input/valid_norm_luad_lscc_smaller.csv'"
   ]
  },
  {
   "cell_type": "code",
   "execution_count": null,
   "metadata": {},
   "outputs": [],
   "source": [
    "# Visualize distribution of tiles / tiles per patient"
   ]
  },
  {
   "cell_type": "markdown",
   "metadata": {},
   "source": [
    "## Training"
   ]
  },
  {
   "cell_type": "code",
   "execution_count": 174,
   "metadata": {},
   "outputs": [
    {
     "name": "stderr",
     "output_type": "stream",
     "text": [
      "2021-08-10 16:57:34.318499: I tensorflow/stream_executor/platform/default/dso_loader.cc:48] Successfully opened dynamic library libcudart.so.11.0\n",
      "2021-08-10 16:57:36.602222: I tensorflow/stream_executor/platform/default/dso_loader.cc:48] Successfully opened dynamic library libnvinfer.so.7\n",
      "2021-08-10 16:57:36.603548: I tensorflow/stream_executor/platform/default/dso_loader.cc:48] Successfully opened dynamic library libnvinfer_plugin.so.7\n"
     ]
    },
    {
     "data": {
      "text/html": [
       "\n",
       "                Tracking run with wandb version 0.11.2<br/>\n",
       "                Syncing run <strong style=\"color:#cdcd00\">playful-galaxy-17</strong> to <a href=\"https://wandb.ai\" target=\"_blank\">Weights & Biases</a> <a href=\"https://docs.wandb.com/integrations/jupyter.html\" target=\"_blank\">(Documentation)</a>.<br/>\n",
       "                Project page: <a href=\"https://wandb.ai/daniela_/idc-pathomics-use-case-1-src\" target=\"_blank\">https://wandb.ai/daniela_/idc-pathomics-use-case-1-src</a><br/>\n",
       "                Run page: <a href=\"https://wandb.ai/daniela_/idc-pathomics-use-case-1-src/runs/add0krso\" target=\"_blank\">https://wandb.ai/daniela_/idc-pathomics-use-case-1-src/runs/add0krso</a><br/>\n",
       "                Run data is saved locally in <code>/home/jupyter/idc-pathomics-use-case-1/src/wandb/run-20210810_165732-add0krso</code><br/><br/>\n",
       "            "
      ],
      "text/plain": [
       "<IPython.core.display.HTML object>"
      ]
     },
     "metadata": {},
     "output_type": "display_data"
    }
   ],
   "source": [
    "wandb.login()\n",
    "run = wandb.init()"
   ]
  },
  {
   "cell_type": "code",
   "execution_count": null,
   "metadata": {},
   "outputs": [
    {
     "name": "stderr",
     "output_type": "stream",
     "text": [
      "\n",
      "InvalidVersionSpec: Invalid version '1.0<2': invalid character(s)\n",
      "\n"
     ]
    },
    {
     "name": "stdout",
     "output_type": "stream",
     "text": [
      "Train for 1948 steps, validate for 55745 steps\n",
      "Epoch 1/10\n",
      "1947/1948 [============================>.] - ETA: 0s - loss: 0.7611 - auc_17: 0.8536"
     ]
    }
   ],
   "source": [
    "from data.data_set import Dataset\n",
    "from model.inceptionv3_model import InceptionModel\n",
    "\n",
    "output_dir_experiment = os.path.join(output_dir, time.strftime(\"%Y%m%d_%H%M%S\"))\n",
    "os.mkdir(output_dir_experiment)\n",
    "\n",
    "dataset_train = Dataset(os.path.join(input_dir, 'train_norm_luad_lscc_small.csv'), num_classes=3)\n",
    "dataset_valid = Dataset(os.path.join(input_dir, 'valid_norm_luad_lscc_small.csv'), num_classes=3)\n",
    "model = InceptionModel(num_classes=3, input_shape=(128,128,3), learning_rate=0.01)\n",
    "#print(model)\n",
    "\n",
    "model.train(dataset_train, batch_size=128, epochs=10, output_path=output_dir_experiment, validation_dataset=dataset_valid)\n",
    "model.save(output_dir_experiment)\n",
    "# how to select best model or simply take final model here? \n",
    "# best_model = "
   ]
  },
  {
   "cell_type": "code",
   "execution_count": 172,
   "metadata": {},
   "outputs": [],
   "source": [
    "run.finish()"
   ]
  },
  {
   "cell_type": "markdown",
   "metadata": {},
   "source": [
    "## Evaluation"
   ]
  },
  {
   "cell_type": "code",
   "execution_count": 12,
   "metadata": {},
   "outputs": [],
   "source": [
    "from data.data_set import Dataset\n",
    "from model.inceptionv3_model import InceptionModel\n",
    "output_dir_experiment = '/home/jupyter/idc_output/20210810_165740'\n",
    "best_model = 'checkpoint_003'\n",
    "model = InceptionModel.load(os.path.join(output_dir_experiment, best_model))"
   ]
  },
  {
   "cell_type": "code",
   "execution_count": null,
   "metadata": {},
   "outputs": [
    {
     "name": "stderr",
     "output_type": "stream",
     "text": [
      "2021-08-11 10:12:25.730913: I tensorflow/stream_executor/platform/default/dso_loader.cc:48] Successfully opened dynamic library libcudnn.so.8\n",
      "2021-08-11 10:12:35.785981: I tensorflow/stream_executor/platform/default/dso_loader.cc:48] Successfully opened dynamic library libcublas.so.11\n"
     ]
    }
   ],
   "source": [
    "from evaluation.predictions import Predictions\n",
    "\n",
    "test_dataset = Dataset(os.path.join(input_dir, 'test_norm_luad_lscc_small.csv'), num_classes=3)\n",
    "predictions = Predictions(model, test_dataset) \n",
    "predictions.save(os.path.join(output_dir, commit, 'predictions_testset.json'))"
   ]
  },
  {
   "cell_type": "code",
   "execution_count": null,
   "metadata": {},
   "outputs": [],
   "source": [
    "from evaluation.roc import ROCAnalysis\n",
    "\n",
    "roc_analysis = ROCAnalysis(predictions, experiment='norm_luad_lusc')\n",
    "roc_analysis.plot(os.path.join(output_dir, commit)) # make an inline plot\n",
    "roc_analysis.print_and_save_tabluar_results(os.path.join(output_dir, commit, 'results_table.html'))"
   ]
  },
  {
   "cell_type": "code",
   "execution_count": null,
   "metadata": {},
   "outputs": [],
   "source": [
    "from evaluation.heatmap import Heatmap \n",
    "\n",
    "colormaps=['coolwarm', 'coolwarm', 'coolwarm']\n",
    "hm = Heatmap(predictions, 'TCGA-68-8250-01A-01-TS1.d6347fc6-c657-4d0f-bba9-09efde4991f3', colormaps)\n",
    "hm.plot(os.path.join(output_dir, commit, 'heatmap.png'))"
   ]
  },
  {
   "cell_type": "markdown",
   "metadata": {},
   "source": [
    "## Notes for improvement\n",
    "- vielleicht ueberall funktionsparameter benennen zur besseren verstaendlichkeit**\n",
    "- when displaying attributes of the dataset explain that from all patients we have healthy and tumor slide. \n",
    "- where to explain that we use gcl_url to download slides and tile them then? "
   ]
  },
  {
   "cell_type": "code",
   "execution_count": null,
   "metadata": {},
   "outputs": [],
   "source": []
  }
 ],
 "metadata": {
  "environment": {
   "name": "tf2-gpu.2-1.m75",
   "type": "gcloud",
   "uri": "gcr.io/deeplearning-platform-release/tf2-gpu.2-1:m75"
  },
  "kernelspec": {
   "display_name": "Python 3",
   "language": "python",
   "name": "python3"
  },
  "language_info": {
   "codemirror_mode": {
    "name": "ipython",
    "version": 3
   },
   "file_extension": ".py",
   "mimetype": "text/x-python",
   "name": "python",
   "nbconvert_exporter": "python",
   "pygments_lexer": "ipython3",
   "version": "3.7.10"
  }
 },
 "nbformat": 4,
 "nbformat_minor": 4
}
