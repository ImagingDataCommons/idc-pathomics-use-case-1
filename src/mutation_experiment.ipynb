{
 "cells": [
  {
   "cell_type": "code",
   "execution_count": null,
   "metadata": {},
   "outputs": [],
   "source": [
    "import os\n",
    "%load_ext autoreload\n",
    "%autoreload 2"
   ]
  },
  {
   "cell_type": "markdown",
   "metadata": {},
   "source": [
    "# Preprocessing"
   ]
  },
  {
   "cell_type": "code",
   "execution_count": null,
   "metadata": {},
   "outputs": [],
   "source": [
    "main_dir = os.environ['IDC_INPUT_DATA_DIR']\n",
    "tiles_dir = os.path.join(os.environ['IDC_INPUT_DATA_DIR'], 'tiles')"
   ]
  },
  {
   "cell_type": "code",
   "execution_count": null,
   "metadata": {},
   "outputs": [],
   "source": [
    "from data.mutation_data_preparation import prepare_mutation_data\n",
    "\n",
    "#prepare_mutation_data(main_dir, os.path.join(main_dir, 'mutation_labels.csv'))\n",
    "\n"
   ]
  },
  {
   "cell_type": "code",
   "execution_count": null,
   "metadata": {},
   "outputs": [],
   "source": [
    "# Training"
   ]
  },
  {
   "cell_type": "code",
   "execution_count": null,
   "metadata": {},
   "outputs": [],
   "source": [
    "import json\n",
    "import os\n",
    "import time\n",
    "from data.data_set import Dataset\n",
    "from model.inceptionv3_model import InceptionModel\n",
    "\n",
    "input_dir = os.environ['IDC_INPUT_DATA_DIR']\n",
    "output_folder_name = time.strftime(\"%Y%m%d_%H%M%S\") + ('_'+os.environ['GIT_COMMIT'] if 'GIT_COMMIT' in os.environ else '')\n",
    "output_dir = os.path.join(os.environ['IDC_OUTPUT_DATA_DIR'], output_folder_name)\n",
    "os.mkdir(output_dir)\n",
    "\n",
    "dataset_train = Dataset(os.path.join(input_dir, 'csv_train_mutations.csv'), num_classes=10)\n",
    "dataset_valid = Dataset(os.path.join(input_dir, 'csv_valid_mutations.csv'), num_classes=10)\n",
    "model = InceptionModel(num_classes=10, input_shape=(128,128,3), learning_rate=0.01)\n",
    "print(model)\n",
    "\n",
    "model.train(dataset_train, batch_size=32, epochs=300, output_path=output_dir, validation_dataset=dataset_valid)\n",
    "\n",
    "# save final model\n",
    "model.save(os.path.join(output_dir, 'trained_model'))\n",
    "\n",
    "# some prediction\n",
    "data_point = dataset_valid.data_points[0]\n",
    "prediction = model.make_prediction(data_point)\n",
    "print('prediction on some sample: ', prediction, '(reference is ', data_point.get_reference_value(), ')')"
   ]
  }
 ],
 "metadata": {
  "environment": {
   "name": "tf2-gpu.2-1.m58",
   "type": "gcloud",
   "uri": "gcr.io/deeplearning-platform-release/tf2-gpu.2-1:m58"
  },
  "kernelspec": {
   "display_name": "Python 3",
   "language": "python",
   "name": "python3"
  },
  "language_info": {
   "codemirror_mode": {
    "name": "ipython",
    "version": 3
   },
   "file_extension": ".py",
   "mimetype": "text/x-python",
   "name": "python",
   "nbconvert_exporter": "python",
   "pygments_lexer": "ipython3",
   "version": "3.7.8"
  }
 },
 "nbformat": 4,
 "nbformat_minor": 4
}