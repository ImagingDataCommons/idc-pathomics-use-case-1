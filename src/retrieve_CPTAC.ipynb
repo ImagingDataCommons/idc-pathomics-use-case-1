{
 "cells": [
  {
   "cell_type": "code",
   "execution_count": 1,
   "metadata": {},
   "outputs": [],
   "source": [
    "# Script to retrievve CPTAC data using BigQuery tables\n",
    "!pip install google-colab # this throws a warning, I have to revisit later "
   ]
  },
  {
   "cell_type": "code",
   "execution_count": null,
   "metadata": {},
   "outputs": [],
   "source": [
    "from google.colab import auth\n",
    "auth.authenticate_user()"
   ]
  },
  {
   "cell_type": "code",
   "execution_count": null,
   "metadata": {},
   "outputs": [],
   "source": [
    "# Check whether gsutil is installed and check login data\n",
    "!gcloud auth login"
   ]
  },
  {
   "cell_type": "code",
   "execution_count": null,
   "metadata": {},
   "outputs": [],
   "source": [
    "# Check content of IDC CPTAC bucket with gsutil \n",
    "!gsutil ls gs://af-dac-wsi-conversion-results  "
   ]
  },
  {
   "cell_type": "code",
   "execution_count": null,
   "metadata": {},
   "outputs": [],
   "source": [
    "%%bigquery --project=idc-pathomics-000 cohort_df\n",
    "\n",
    "WITH\n",
    "  ct_series AS (\n",
    "  SELECT\n",
    "    DISTINCT(PatientID),\n",
    "    StudyInstanceUID AS ctStudyInstanceUID,\n",
    "    SeriesInstanceUID AS ctSeriesInstanceUID\n",
    "  FROM\n",
    "    `canceridc-data.idc_views.dicom_all`\n",
    "  WHERE\n",
    "    Source_DOI = \"10.7937/K9/TCIA.2015.PF0M9REI\"\n",
    "    AND Modality = \"CT\"\n",
    "  ORDER BY\n",
    "    PatientID),\n",
    "  rtstruct_series AS (\n",
    "  SELECT\n",
    "    DISTINCT(PatientID),\n",
    "    StudyInstanceUID AS rtstructStudyInstanceUID,\n",
    "    SeriesInstanceUID AS rtstructSeriesInstanceUID\n",
    "  FROM\n",
    "    `canceridc-data.idc_views.dicom_all`\n",
    "  WHERE\n",
    "    Source_DOI = \"10.7937/K9/TCIA.2015.PF0M9REI\"\n",
    "    AND Modality = \"RTSTRUCT\"\n",
    "  ORDER BY\n",
    "    PatientID),\n",
    "  seg_series AS (\n",
    "  SELECT\n",
    "    DISTINCT(PatientID),\n",
    "    StudyInstanceUID AS segStudyInstanceUID,\n",
    "    SeriesInstanceUID AS segSeriesInstanceUID\n",
    "  FROM\n",
    "    `canceridc-data.idc_views.dicom_all`\n",
    "  WHERE\n",
    "    Source_DOI = \"10.7937/K9/TCIA.2015.PF0M9REI\"\n",
    "    AND Modality = \"SEG\"\n",
    "  ORDER BY\n",
    "    PatientID)\n",
    "SELECT\n",
    "  PatientID,\n",
    "  ctStudyInstanceUID,\n",
    "  ctSeriesInstanceUID,\n",
    "  rtstructStudyInstanceUID,\n",
    "  rtstructSeriesInstanceUID,\n",
    "  segStudyInstanceUID,\n",
    "  segSeriesInstanceUID\n",
    "FROM\n",
    "  ct_series\n",
    "JOIN\n",
    "  rtstruct_series\n",
    "using (PatientID)\n",
    "JOIN\n",
    "  seg_series\n",
    "USING\n",
    "  (PatientID)\n",
    "ORDER BY\n",
    "  PatientID"
   ]
  },
  {
   "cell_type": "code",
   "execution_count": null,
   "metadata": {},
   "outputs": [],
   "source": []
  }
 ],
 "metadata": {
  "environment": {
   "name": "tf2-gpu.2-1.m58",
   "type": "gcloud",
   "uri": "gcr.io/deeplearning-platform-release/tf2-gpu.2-1:m58"
  },
  "interpreter": {
   "hash": "31f2aee4e71d21fbe5cf8b01ff0e069b9275f58929596ceb00d14d90e3e16cd6"
  },
  "kernelspec": {
   "display_name": "Python 3",
   "language": "python",
   "name": "python3"
  },
  "language_info": {
   "codemirror_mode": {
    "name": "ipython",
    "version": 3
   },
   "file_extension": ".py",
   "mimetype": "text/x-python",
   "name": "python",
   "nbconvert_exporter": "python",
   "pygments_lexer": "ipython3",
   "version": "3.7.8"
  }
 },
 "nbformat": 4,
 "nbformat_minor": 4
}
