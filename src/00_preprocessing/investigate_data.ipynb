{
 "cells": [
  {
   "cell_type": "markdown",
   "metadata": {},
   "source": [
    "## First Investigation of the Coudray Data"
   ]
  },
  {
   "cell_type": "code",
   "execution_count": 1,
   "metadata": {},
   "outputs": [],
   "source": [
    "# Import libraries\n",
    "import openslide \n",
    "import openslide.deepzoom\n",
    "import matplotlib.pyplot as plt\n",
    "import numpy as np "
   ]
  },
  {
   "cell_type": "code",
   "execution_count": 6,
   "metadata": {},
   "outputs": [],
   "source": [
    "# Read a svs file with openslide into a DeepZoomGenerator \n",
    "\n",
    "# here parameters like the number of levels and the downsampling factor can be specified\n",
    "image = openslide.OpenSlide('/mnt/gaia/ICIDC/data_coudray/858bf199-5962-4d6e-a059-4d33b04edc17/TCGA-18-3415-01A-01-TS1.d922ab4a-e5c2-4b49-a173-964e569e3985.svs')\n",
    "\n",
    "# here parameters like the tile size can be specified\n",
    "image_slide = openslide.deepzoom.DeepZoomGenerator(image)"
   ]
  },
  {
   "cell_type": "code",
   "execution_count": 5,
   "metadata": {},
   "outputs": [
    {
     "name": "stdout",
     "output_type": "stream",
     "text": [
      "(1.0, 4.000118849536487, 8.001188777936282)\n",
      "16\n",
      "5042\n",
      "((1, 1), (1, 1), (1, 1), (1, 1), (1, 1), (1, 1), (1, 1), (1, 1), (1, 1), (1, 2), (2, 3), (4, 5), (7, 9), (14, 17), (28, 34), (56, 67))\n",
      "((1, 1), (1, 2), (2, 3), (4, 5), (7, 9), (14, 17), (28, 33), (55, 66), (110, 132), (219, 263), (438, 526), (875, 1052), (1750, 2104), (3500, 4208), (7000, 8415), (14000, 16829))\n",
      "<Image Format=\"png\" Overlap=\"1\" TileSize=\"254\" xmlns=\"http://schemas.microsoft.com/deepzoom/2008\"><Size Height=\"16829\" Width=\"14000\" /></Image>\n",
      "<PIL.Image.Image image mode=RGB size=1x1 at 0x7EFEEA146ED0>\n",
      "((0, 0), 2, (1750, 2103))\n",
      "(1, 2)\n"
     ]
    }
   ],
   "source": [
    "# Print some information about the observed image\n",
    "print(image.level_downsamples)\n",
    "print(image_slide.level_count) # number of deepzoom levels for the slide\n",
    "print(image_slide.tile_count) # number of tiles for the slide\n",
    "print(image_slide.level_tiles) # (tiles_x, tiles_y) for each zoom level\n",
    "print(image_slide.level_dimensions) # (pixel_x, pixel_y) for each zoom level\n",
    "print(image_slide.get_dzi('png')) \n",
    "print(image_slide.get_tile(level=1, address=(0,0)))\n",
    "print(image_slide.get_tile_coordinates(level=1, address=(0,0)))\n",
    "print(image_slide.get_tile_dimensions(level=1, address=(0,0)))\n"
   ]
  },
  {
   "cell_type": "code",
   "execution_count": 50,
   "metadata": {},
   "outputs": [
    {
     "name": "stdout",
     "output_type": "stream",
     "text": [
      "average background 0.4781144781144781\n"
     ]
    },
    {
     "data": {
      "image/png": "[encoded data removed]",
      "text/plain": [
       "<Figure size 432x288 with 1 Axes>"
      ]
     },
     "metadata": {
      "needs_background": "light"
     },
     "output_type": "display_data"
    }
   ],
   "source": [
    "# Visualize a single tile \n",
    "tile = image_slide.get_tile(level=6, address=(0,0))\n",
    "grey = tile.convert('L')\n",
    "bw = grey.point(lambda x: 0 if x < 220 else 1, mode='F') # F -> 32-bit floating point values\n",
    "bw_visualize = grey.point(lambda x: 0 if x < 220 else 1, mode='1') # 1 -> 1-bit pixels\n",
    "\n",
    "plt.imshow(bw_visualize)\n",
    "print('average background', np.average(np.array(np.asarray(bw_visualize))))"
   ]
  },
  {
   "cell_type": "code",
   "execution_count": 46,
   "metadata": {},
   "outputs": [
    {
     "name": "stdout",
     "output_type": "stream",
     "text": [
      "[[1. 1. 1. 1. 1. 1. 1. 1. 1. 1. 1. 1. 1. 1. 1. 1. 1. 1. 1. 1. 1. 1. 1. 1.\n",
      "  1. 1. 1.]\n",
      " [1. 1. 1. 1. 1. 1. 1. 1. 1. 1. 1. 1. 1. 1. 1. 1. 1. 1. 0. 0. 0. 0. 1. 1.\n",
      "  1. 1. 1.]\n",
      " [1. 1. 1. 1. 1. 1. 1. 1. 1. 1. 1. 1. 1. 1. 1. 0. 0. 0. 0. 0. 0. 1. 1. 1.\n",
      "  1. 1. 1.]\n",
      " [1. 1. 1. 1. 1. 1. 1. 1. 1. 1. 1. 1. 1. 0. 0. 0. 0. 0. 0. 0. 0. 1. 1. 1.\n",
      "  1. 1. 1.]\n",
      " [1. 1. 1. 1. 1. 1. 1. 1. 1. 1. 0. 0. 0. 0. 0. 0. 0. 0. 0. 0. 0. 0. 1. 1.\n",
      "  1. 1. 1.]\n",
      " [1. 1. 1. 1. 1. 1. 1. 1. 0. 0. 0. 0. 0. 0. 0. 0. 0. 0. 0. 0. 0. 0. 1. 1.\n",
      "  1. 1. 1.]\n",
      " [1. 1. 1. 1. 1. 0. 0. 0. 0. 0. 0. 0. 0. 0. 0. 0. 0. 0. 0. 0. 0. 0. 1. 1.\n",
      "  1. 1. 1.]\n",
      " [1. 1. 1. 0. 0. 0. 0. 0. 0. 0. 0. 0. 0. 0. 0. 0. 0. 0. 0. 0. 0. 0. 1. 1.\n",
      "  1. 1. 1.]\n",
      " [1. 0. 0. 0. 0. 0. 0. 0. 0. 0. 0. 0. 0. 0. 0. 0. 0. 0. 0. 0. 0. 0. 1. 1.\n",
      "  1. 1. 1.]\n",
      " [1. 0. 0. 0. 0. 0. 0. 0. 0. 0. 0. 0. 0. 0. 0. 0. 0. 0. 0. 0. 0. 0. 0. 1.\n",
      "  1. 1. 1.]\n",
      " [1. 1. 0. 0. 0. 0. 0. 0. 0. 0. 0. 0. 0. 0. 0. 0. 0. 0. 0. 0. 0. 0. 0. 1.\n",
      "  1. 1. 1.]\n",
      " [1. 1. 0. 0. 0. 0. 0. 0. 0. 0. 0. 0. 0. 0. 0. 0. 0. 0. 0. 0. 0. 0. 0. 1.\n",
      "  1. 1. 1.]\n",
      " [1. 1. 0. 0. 0. 0. 0. 0. 0. 0. 0. 0. 0. 0. 0. 0. 0. 0. 0. 0. 0. 0. 0. 1.\n",
      "  1. 1. 1.]\n",
      " [1. 1. 1. 0. 0. 0. 0. 0. 0. 0. 0. 0. 0. 0. 0. 0. 0. 0. 0. 0. 0. 0. 0. 1.\n",
      "  1. 1. 1.]\n",
      " [1. 1. 1. 0. 0. 0. 0. 0. 0. 0. 0. 0. 0. 0. 0. 0. 0. 0. 0. 0. 0. 0. 0. 1.\n",
      "  1. 1. 1.]\n",
      " [1. 1. 1. 0. 0. 0. 0. 0. 0. 0. 0. 0. 0. 0. 0. 0. 0. 0. 0. 0. 0. 0. 0. 1.\n",
      "  1. 1. 1.]\n",
      " [1. 1. 1. 1. 0. 0. 0. 0. 0. 0. 0. 0. 0. 0. 0. 0. 0. 0. 0. 0. 0. 0. 0. 1.\n",
      "  1. 1. 1.]\n",
      " [1. 1. 1. 1. 0. 0. 0. 0. 0. 0. 0. 0. 0. 0. 0. 0. 0. 0. 0. 0. 0. 0. 1. 1.\n",
      "  1. 1. 1.]\n",
      " [1. 1. 1. 1. 0. 0. 0. 0. 0. 0. 0. 0. 0. 0. 0. 0. 0. 0. 0. 0. 0. 0. 0. 1.\n",
      "  1. 1. 1.]\n",
      " [1. 1. 1. 1. 0. 0. 0. 0. 0. 0. 0. 0. 0. 0. 0. 0. 0. 0. 0. 0. 0. 0. 1. 1.\n",
      "  1. 1. 1.]\n",
      " [1. 1. 1. 1. 1. 0. 0. 0. 0. 0. 0. 0. 0. 0. 0. 0. 0. 0. 0. 0. 0. 0. 0. 1.\n",
      "  1. 1. 1.]\n",
      " [1. 1. 1. 1. 1. 0. 0. 0. 0. 0. 0. 0. 0. 0. 0. 0. 0. 1. 1. 0. 0. 0. 0. 1.\n",
      "  1. 1. 1.]\n",
      " [1. 1. 1. 1. 1. 0. 0. 0. 0. 0. 0. 0. 0. 0. 0. 0. 1. 1. 1. 0. 0. 0. 0. 0.\n",
      "  1. 1. 1.]\n",
      " [1. 1. 1. 1. 1. 1. 0. 0. 0. 0. 0. 0. 0. 0. 0. 0. 0. 1. 0. 0. 0. 0. 0. 0.\n",
      "  1. 1. 1.]\n",
      " [1. 1. 1. 1. 1. 1. 0. 0. 0. 0. 0. 0. 0. 0. 0. 0. 0. 0. 0. 0. 0. 0. 0. 0.\n",
      "  1. 1. 1.]\n",
      " [1. 1. 1. 1. 1. 1. 1. 1. 0. 0. 0. 0. 0. 0. 0. 0. 0. 0. 0. 0. 0. 0. 0. 1.\n",
      "  1. 1. 1.]\n",
      " [1. 1. 1. 1. 1. 1. 1. 1. 0. 0. 0. 0. 0. 0. 0. 0. 0. 0. 0. 0. 0. 1. 1. 1.\n",
      "  1. 1. 1.]\n",
      " [1. 1. 1. 1. 1. 1. 1. 1. 0. 0. 0. 0. 0. 0. 0. 0. 0. 0. 0. 0. 1. 1. 1. 1.\n",
      "  1. 1. 1.]\n",
      " [1. 1. 1. 1. 1. 1. 1. 1. 1. 1. 0. 0. 0. 0. 0. 0. 0. 0. 1. 1. 1. 1. 1. 1.\n",
      "  1. 1. 1.]\n",
      " [1. 1. 1. 1. 1. 1. 1. 1. 1. 1. 0. 0. 0. 0. 0. 0. 0. 1. 1. 1. 1. 1. 1. 1.\n",
      "  1. 1. 1.]\n",
      " [1. 1. 1. 1. 1. 1. 1. 1. 1. 1. 1. 1. 0. 0. 0. 0. 1. 1. 1. 1. 1. 1. 1. 1.\n",
      "  1. 1. 1.]\n",
      " [1. 1. 1. 1. 1. 1. 1. 1. 1. 1. 1. 1. 1. 0. 1. 1. 1. 1. 1. 1. 1. 1. 1. 1.\n",
      "  1. 1. 1.]\n",
      " [1. 1. 1. 1. 1. 1. 1. 1. 1. 1. 1. 1. 1. 1. 1. 1. 1. 1. 1. 1. 1. 1. 1. 1.\n",
      "  1. 1. 1.]]\n",
      "[[ True  True  True  True  True  True  True  True  True  True  True  True\n",
      "   True  True  True  True  True  True  True  True  True  True  True  True\n",
      "   True  True  True]\n",
      " [ True  True  True  True  True  True  True  True  True  True  True  True\n",
      "   True  True  True  True  True  True False False False False  True  True\n",
      "   True  True  True]\n",
      " [ True  True  True  True  True  True  True  True  True  True  True  True\n",
      "   True  True  True False False False False False False  True  True  True\n",
      "   True  True  True]\n",
      " [ True  True  True  True  True  True  True  True  True  True  True  True\n",
      "   True False False False False False False False False  True  True  True\n",
      "   True  True  True]\n",
      " [ True  True  True  True  True  True  True  True  True  True False False\n",
      "  False False False False False False False False False False  True  True\n",
      "   True  True  True]\n",
      " [ True  True  True  True  True  True  True  True False False False False\n",
      "  False False False False False False False False False False  True  True\n",
      "   True  True  True]\n",
      " [ True  True  True  True  True False False False False False False False\n",
      "  False False False False False False False False False False  True  True\n",
      "   True  True  True]\n",
      " [ True  True  True False False False False False False False False False\n",
      "  False False False False False False False False False False  True  True\n",
      "   True  True  True]\n",
      " [ True False False False False False False False False False False False\n",
      "  False False False False False False False False False False  True  True\n",
      "   True  True  True]\n",
      " [ True False False False False False False False False False False False\n",
      "  False False False False False False False False False False False  True\n",
      "   True  True  True]\n",
      " [ True  True False False False False False False False False False False\n",
      "  False False False False False False False False False False False  True\n",
      "   True  True  True]\n",
      " [ True  True False False False False False False False False False False\n",
      "  False False False False False False False False False False False  True\n",
      "   True  True  True]\n",
      " [ True  True False False False False False False False False False False\n",
      "  False False False False False False False False False False False  True\n",
      "   True  True  True]\n",
      " [ True  True  True False False False False False False False False False\n",
      "  False False False False False False False False False False False  True\n",
      "   True  True  True]\n",
      " [ True  True  True False False False False False False False False False\n",
      "  False False False False False False False False False False False  True\n",
      "   True  True  True]\n",
      " [ True  True  True False False False False False False False False False\n",
      "  False False False False False False False False False False False  True\n",
      "   True  True  True]\n",
      " [ True  True  True  True False False False False False False False False\n",
      "  False False False False False False False False False False False  True\n",
      "   True  True  True]\n",
      " [ True  True  True  True False False False False False False False False\n",
      "  False False False False False False False False False False  True  True\n",
      "   True  True  True]\n",
      " [ True  True  True  True False False False False False False False False\n",
      "  False False False False False False False False False False False  True\n",
      "   True  True  True]\n",
      " [ True  True  True  True False False False False False False False False\n",
      "  False False False False False False False False False False  True  True\n",
      "   True  True  True]\n",
      " [ True  True  True  True  True False False False False False False False\n",
      "  False False False False False False False False False False False  True\n",
      "   True  True  True]\n",
      " [ True  True  True  True  True False False False False False False False\n",
      "  False False False False False  True  True False False False False  True\n",
      "   True  True  True]\n",
      " [ True  True  True  True  True False False False False False False False\n",
      "  False False False False  True  True  True False False False False False\n",
      "   True  True  True]\n",
      " [ True  True  True  True  True  True False False False False False False\n",
      "  False False False False False  True False False False False False False\n",
      "   True  True  True]\n",
      " [ True  True  True  True  True  True False False False False False False\n",
      "  False False False False False False False False False False False False\n",
      "   True  True  True]\n",
      " [ True  True  True  True  True  True  True  True False False False False\n",
      "  False False False False False False False False False False False  True\n",
      "   True  True  True]\n",
      " [ True  True  True  True  True  True  True  True False False False False\n",
      "  False False False False False False False False False  True  True  True\n",
      "   True  True  True]\n",
      " [ True  True  True  True  True  True  True  True False False False False\n",
      "  False False False False False False False False  True  True  True  True\n",
      "   True  True  True]\n",
      " [ True  True  True  True  True  True  True  True  True  True False False\n",
      "  False False False False False False  True  True  True  True  True  True\n",
      "   True  True  True]\n",
      " [ True  True  True  True  True  True  True  True  True  True False False\n",
      "  False False False False False  True  True  True  True  True  True  True\n",
      "   True  True  True]\n",
      " [ True  True  True  True  True  True  True  True  True  True  True  True\n",
      "  False False False False  True  True  True  True  True  True  True  True\n",
      "   True  True  True]\n",
      " [ True  True  True  True  True  True  True  True  True  True  True  True\n",
      "   True False  True  True  True  True  True  True  True  True  True  True\n",
      "   True  True  True]\n",
      " [ True  True  True  True  True  True  True  True  True  True  True  True\n",
      "   True  True  True  True  True  True  True  True  True  True  True  True\n",
      "   True  True  True]]\n"
     ]
    }
   ],
   "source": [
    "print(np.array(np.asarray(bw)))\n",
    "print(np.array(np.asarray(bw_visualize)))"
   ]
  },
  {
   "cell_type": "code",
   "execution_count": null,
   "metadata": {},
   "outputs": [],
   "source": []
  }
 ],
 "metadata": {
  "kernelspec": {
   "display_name": "Python 3",
   "language": "python",
   "name": "python3"
  },
  "language_info": {
   "codemirror_mode": {
    "name": "ipython",
    "version": 3
   },
   "file_extension": ".py",
   "mimetype": "text/x-python",
   "name": "python",
   "nbconvert_exporter": "python",
   "pygments_lexer": "ipython3",
   "version": "3.7.6"
  }
 },
 "nbformat": 4,
 "nbformat_minor": 4
}
