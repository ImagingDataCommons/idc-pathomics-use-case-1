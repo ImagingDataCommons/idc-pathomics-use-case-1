{
 "cells": [
  {
   "cell_type": "code",
   "execution_count": 34,
   "metadata": {},
   "outputs": [
    {
     "name": "stdout",
     "output_type": "stream",
     "text": [
      "The autoreload extension is already loaded. To reload it, use:\n",
      "  %reload_ext autoreload\n"
     ]
    }
   ],
   "source": [
    "%load_ext autoreload\n",
    "%autoreload 2\n",
    "%matplotlib inline"
   ]
  },
  {
   "cell_type": "markdown",
   "metadata": {},
   "source": [
    "# Evaluation"
   ]
  },
  {
   "cell_type": "markdown",
   "metadata": {},
   "source": [
    "Performing slide-based evaluation of the trained model. Results are presented as ROC-Curves and ROC-AUC values for two different ways of aggregating the patch-wise prediction into slide-wise predictions."
   ]
  },
  {
   "cell_type": "code",
   "execution_count": 36,
   "metadata": {},
   "outputs": [
    {
     "name": "stdout",
     "output_type": "stream",
     "text": [
      "<class 'numpy.ndarray'>\n",
      "<class 'numpy.ndarray'>\n",
      "<class 'numpy.ndarray'>\n",
      "<class 'numpy.ndarray'>\n",
      "<class 'numpy.ndarray'>\n"
     ]
    }
   ],
   "source": [
    "import matplotlib.pyplot as plt\n",
    "from data.data_set import Dataset\n",
    "from data.data_point import DataPoint \n",
    "from model.inceptionv3_model import InceptionModel\n",
    "from evaluation.evaluation import Predictions\n",
    "from evaluation.roc import evaluate_by_roc_curve\n",
    "import matplotlib.pyplot as plt\n",
    "\n",
    "test_dataset = Dataset('/home/dschacherer_fme/input/csv_test_norm_cancer_small.csv', num_classes=2)\n",
    "model = InceptionModel(load_trained_model_from='/home/dschacherer_fme/output_test/trained_model')\n",
    "\n",
    "predictions = Predictions(model, test_dataset) "
   ]
  },
  {
   "cell_type": "code",
   "execution_count": 71,
   "metadata": {},
   "outputs": [
    {
     "name": "stderr",
     "output_type": "stream",
     "text": [
      "/home/jupyter/idc-pathomics-use-case-1/src/evaluation/evaluation.py:41: MatplotlibDeprecationWarning: You are modifying the state of a globally registered colormap. In future versions, you will not be able to modify a registered colormap in-place. To remove this warning, you can make a copy of the colormap first. cmap = copy.copy(mpl.cm.get_cmap(\"Oranges\"))\n",
      "  cmap.set_over(alpha=0)\n",
      "/home/jupyter/idc-pathomics-use-case-1/src/evaluation/evaluation.py:42: MatplotlibDeprecationWarning: You are modifying the state of a globally registered colormap. In future versions, you will not be able to modify a registered colormap in-place. To remove this warning, you can make a copy of the colormap first. cmap = copy.copy(mpl.cm.get_cmap(\"Oranges\"))\n",
      "  cmap.set_under(alpha=0)\n",
      "Clipping input data to the valid range for imshow with RGB data ([0..1] for floats or [0..255] for integers).\n"
     ]
    },
    {
     "data": {
      "text/plain": [
       "<matplotlib.image.AxesImage at 0x7f49c4bf2150>"
      ]
     },
     "execution_count": 71,
     "metadata": {},
     "output_type": "execute_result"
    },
    {
     "data": {
      "image/png": "[encoded data removed]",
      "text/plain": [
       "<Figure size 432x288 with 1 Axes>"
      ]
     },
     "metadata": {
      "needs_background": "light"
     },
     "output_type": "display_data"
    }
   ],
   "source": [
    "colormaps=[plt.get_cmap('coolwarm'), plt.get_cmap('coolwarm'), plt.get_cmap('Oranges')]\n",
    "hm=predictions.create_heatmap_for_slide('TCGA-18-3415-01A-01-TS1.d922ab4a-e5c2-4b49-a173-964e569e3985', colormaps)\n",
    "#cmap = plt.get_cmap('coolwarm')\n",
    "#cmap.set_under('k', alpha=0)\n",
    "plt.imshow(hm)\n",
    "#cmap(1)\n",
    "\n",
    "#result_df = per_slide_evaluation(model, test_dataset)\n",
    "#fig = plt.figure(figsize=(10, 7))\n",
    "#evaluate_by_roc_curve(fig, result_df)\n",
    "#plt.savefig('/home/dschacherer_fme/output_test/roc.png')"
   ]
  },
  {
   "cell_type": "code",
   "execution_count": 83,
   "metadata": {},
   "outputs": [
    {
     "name": "stdout",
     "output_type": "stream",
     "text": [
      "TCGA-55-8299-11A-01-TS1.ee910b9a-5cbe-46b3-8731-c6a72654e28b\n",
      "TCGA-66-2734-11A-01-TS1.b901548f-84a1-4edf-b218-b35ed2116334\n",
      "TCGA-94-7033-01A-01-TS1.d38f20aa-3a65-4af3-a58d-5837a5a4a631\n",
      "TCGA-18-3415-01A-01-TS1.d922ab4a-e5c2-4b49-a173-964e569e3985\n",
      "TCGA-38-7271-11A-01-TS1.0125556f-24d6-4976-94fa-f092ebaa418a\n",
      "  TCGA-55-8299-11A-01-TS1.ee910b9a-5cbe-46b3-8731-c6a72654e28b  \\\n",
      "0                                                  0             \n",
      "1                                        [0.8802585]             \n",
      "2                                              [1.0]             \n",
      "\n",
      "  TCGA-66-2734-11A-01-TS1.b901548f-84a1-4edf-b218-b35ed2116334  \\\n",
      "0                                                  0             \n",
      "1                                        [0.8802585]             \n",
      "2                                              [1.0]             \n",
      "\n",
      "  TCGA-94-7033-01A-01-TS1.d38f20aa-3a65-4af3-a58d-5837a5a4a631  \\\n",
      "0                                                  1             \n",
      "1                                        [0.8802585]             \n",
      "2                                              [1.0]             \n",
      "\n",
      "  TCGA-18-3415-01A-01-TS1.d922ab4a-e5c2-4b49-a173-964e569e3985  \\\n",
      "0                                                  1             \n",
      "1                                        [0.8802585]             \n",
      "2                                              [1.0]             \n",
      "\n",
      "  TCGA-38-7271-11A-01-TS1.0125556f-24d6-4976-94fa-f092ebaa418a  \n",
      "0                                                  0            \n",
      "1                                        [0.8802585]            \n",
      "2                                              [1.0]            \n"
     ]
    }
   ],
   "source": [
    "rd=predictions._prepare_data_for_roc_curves()\n",
    "print(rd.head())"
   ]
  },
  {
   "cell_type": "code",
   "execution_count": 4,
   "metadata": {},
   "outputs": [
    {
     "name": "stdout",
     "output_type": "stream",
     "text": [
      "[[-1.  -1.  -1.  -1.  -1. ]\n",
      " [-1.  -1.  -1.  -1.  -1. ]\n",
      " [-1.  -1.  -1.  -1.   0.6]] [[-1. -1. -1. -1. -1.]\n",
      " [-1. -1. -1. -1. -1.]\n",
      " [-1. -1. -1. -1. -1.]] [[-1.  -1.  -1.  -1.  -1. ]\n",
      " [-1.  -1.  -1.  -1.  -1. ]\n",
      " [-1.  -1.  -1.   0.4 -1. ]]\n"
     ]
    },
    {
     "name": "stderr",
     "output_type": "stream",
     "text": [
      "/opt/conda/lib/python3.7/site-packages/ipykernel_launcher.py:13: MatplotlibDeprecationWarning: You are modifying the state of a globally registered colormap. In future versions, you will not be able to modify a registered colormap in-place. To remove this warning, you can make a copy of the colormap first. cmap = copy.copy(mpl.cm.get_cmap(\"Oranges\"))\n",
      "  del sys.path[0]\n",
      "/opt/conda/lib/python3.7/site-packages/ipykernel_launcher.py:14: MatplotlibDeprecationWarning: You are modifying the state of a globally registered colormap. In future versions, you will not be able to modify a registered colormap in-place. To remove this warning, you can make a copy of the colormap first. cmap = copy.copy(mpl.cm.get_cmap(\"Blues\"))\n",
      "  \n",
      "/opt/conda/lib/python3.7/site-packages/ipykernel_launcher.py:15: MatplotlibDeprecationWarning: You are modifying the state of a globally registered colormap. In future versions, you will not be able to modify a registered colormap in-place. To remove this warning, you can make a copy of the colormap first. cmap = copy.copy(mpl.cm.get_cmap(\"Greys\"))\n",
      "  from ipykernel import kernelapp as app\n"
     ]
    },
    {
     "data": {
      "image/png": "[encoded data removed]",
      "text/plain": [
       "<Figure size 432x288 with 1 Axes>"
      ]
     },
     "metadata": {
      "needs_background": "light"
     },
     "output_type": "display_data"
    }
   ],
   "source": [
    "import pandas as pd\n",
    "from evaluation.heatmaps import create_heatmap_for_slide_3class\n",
    "import matplotlib.pyplot as plt\n",
    "\n",
    "data = {'slide_id': ['a','a', 'b', 'b'], 'predictions': [[0.6,0.6,0.0], [0.05,0.25,0.4], 0.9, 0.4], 'coordinates': [(4,2), (3,2),(3,3),(32,2)], 'reference_value':[1,1,0,0]}\n",
    "df = pd.DataFrame.from_dict(data)\n",
    "hm0, hm1, hm2 = create_heatmap_for_slide_3class(df, 'a', 'd')\n",
    "print(hm0, hm1, hm2)\n",
    "\n",
    "cmap0 = plt.get_cmap('Oranges')\n",
    "cmap1 = plt.get_cmap('Blues')\n",
    "cmap2 = plt.get_cmap('Greys')\n",
    "cmap0.set_under('k', alpha=0)\n",
    "cmap1.set_under('k', alpha=0)\n",
    "cmap2.set_under('k', alpha=0)\n",
    "plt.figure()\n",
    "plt.imshow(hm0, cmap=cmap0, vmin=0.0)\n",
    "#plt.imshow(hm1, cmap=cmap1, vmin=0.0)\n",
    "plt.imshow(hm2, cmap=cmap2, vmin=0.0)\n",
    "plt.show()"
   ]
  },
  {
   "cell_type": "code",
   "execution_count": null,
   "metadata": {},
   "outputs": [],
   "source": []
  }
 ],
 "metadata": {
  "environment": {
   "name": "tf2-gpu.2-1.m58",
   "type": "gcloud",
   "uri": "gcr.io/deeplearning-platform-release/tf2-gpu.2-1:m58"
  },
  "kernelspec": {
   "display_name": "Python 3",
   "language": "python",
   "name": "python3"
  },
  "language_info": {
   "codemirror_mode": {
    "name": "ipython",
    "version": 3
   },
   "file_extension": ".py",
   "mimetype": "text/x-python",
   "name": "python",
   "nbconvert_exporter": "python",
   "pygments_lexer": "ipython3",
   "version": "3.7.8"
  }
 },
 "nbformat": 4,
 "nbformat_minor": 4
}
