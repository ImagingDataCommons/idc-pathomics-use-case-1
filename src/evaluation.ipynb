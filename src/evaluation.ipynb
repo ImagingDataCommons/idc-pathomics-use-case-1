{
 "cells": [
  {
   "cell_type": "code",
   "execution_count": null,
   "metadata": {},
   "outputs": [
    {
     "output_type": "error",
     "ename": "Error",
     "evalue": "Jupyter cannot be started. Error attempting to locate jupyter: Data Science libraries jupyter and notebook are not installed in interpreter Python 3.6.9 64-bit.",
     "traceback": [
      "Error: Jupyter cannot be started. Error attempting to locate jupyter: Data Science libraries jupyter and notebook are not installed in interpreter Python 3.6.9 64-bit.",
      "at w.startServer (/home/dschacherer/.vscode/extensions/ms-toolsai.jupyter-2020.11.372831992/out/client/extension.js:49:383136)",
      "at async w.createServer (/home/dschacherer/.vscode/extensions/ms-toolsai.jupyter-2020.11.372831992/out/client/extension.js:49:382434)",
      "at async connect (/home/dschacherer/.vscode/extensions/ms-toolsai.jupyter-2020.11.372831992/out/client/extension.js:49:507754)",
      "at async f.ensureConnectionAndNotebookImpl (/home/dschacherer/.vscode/extensions/ms-toolsai.jupyter-2020.11.372831992/out/client/extension.js:32:569764)",
      "at async f.ensureConnectionAndNotebook (/home/dschacherer/.vscode/extensions/ms-toolsai.jupyter-2020.11.372831992/out/client/extension.js:32:568228)",
      "at async f.clearResult (/home/dschacherer/.vscode/extensions/ms-toolsai.jupyter-2020.11.372831992/out/client/extension.js:32:564008)",
      "at async f.reexecuteCell (/home/dschacherer/.vscode/extensions/ms-toolsai.jupyter-2020.11.372831992/out/client/extension.js:9:170425)",
      "at async f.reexecuteCells (/home/dschacherer/.vscode/extensions/ms-toolsai.jupyter-2020.11.372831992/out/client/extension.js:9:166755)"
     ]
    }
   ],
   "source": [
    "%load_ext autoreload\n",
    "%autoreload 2\n",
    "%matplotlib inline"
   ]
  },
  {
   "cell_type": "markdown",
   "metadata": {},
   "source": [
    "# Evaluation"
   ]
  },
  {
   "cell_type": "markdown",
   "metadata": {},
   "source": [
    "Performing slide-based evaluation of the trained model. Results are presented as ROC-Curves and ROC-AUC values for two different ways of aggregating the patch-wise prediction into slide-wise predictions."
   ]
  },
  {
   "cell_type": "code",
   "execution_count": null,
   "metadata": {},
   "outputs": [],
   "source": [
    "from data.data_set import Dataset \n",
    "from model.inceptionv3_model import InceptionModel\n",
    "from evaluation.predictions import Predictions \n",
    "\n",
    "commit = ''\n",
    "input_dir = os.environ['IDC_INPUT_DATA_DIR']\n",
    "output_dir = os.environ['IDC_OUTPUT_DATA_DIR']\n",
    "test_dataset = Dataset(os.path.join(input_dir, 'csv_test_norm_cancer.csv'), num_classes=2)\n",
    "\n",
    "best_model = 'todo'\n",
    "model = InceptionModel.load(os.path.join(output_dir, commit, 'trained_model'))\n",
    "\n",
    "predictions = Predictions(model, test_dataset) \n",
    "predictions.save(os.path.join(output_dir, commit, 'predictions.json'))"
   ]
  },
  {
   "cell_type": "code",
   "execution_count": null,
   "metadata": {},
   "outputs": [],
   "source": [
    "#predictions = Predictions.load('/home/dschacherer_fme/output_test/predictions.json')"
   ]
  },
  {
   "cell_type": "code",
   "execution_count": null,
   "metadata": {},
   "outputs": [],
   "source": [
    "#colormaps=['coolwarm', 'coolwarm', 'Oranges']\n",
    "#hm = predictions.generate_heatmap_for_slide('TCGA-18-3415-01A-01-TS1.d922ab4a-e5c2-4b49-a173-964e569e3985', colormaps)\n",
    "#plt.imshow(hm)"
   ]
  },
  {
   "cell_type": "code",
   "execution_count": null,
   "metadata": {},
   "outputs": [],
   "source": [
    "#predictions.perform_roc_analysis()"
   ]
  },
  {
   "cell_type": "code",
   "execution_count": null,
   "metadata": {},
   "outputs": [],
   "source": []
  }
 ],
 "metadata": {
  "environment": {
   "name": "tf2-gpu.2-1.m58",
   "type": "gcloud",
   "uri": "gcr.io/deeplearning-platform-release/tf2-gpu.2-1:m58"
  },
  "kernelspec": {
   "display_name": "Python 3",
   "language": "python",
   "name": "python3"
  },
  "language_info": {
   "codemirror_mode": {
    "name": "ipython",
    "version": 3
   },
   "file_extension": ".py",
   "mimetype": "text/x-python",
   "name": "python",
   "nbconvert_exporter": "python",
   "pygments_lexer": "ipython3",
   "version": "3.7.8"
  }
 },
 "nbformat": 4,
 "nbformat_minor": 4
}