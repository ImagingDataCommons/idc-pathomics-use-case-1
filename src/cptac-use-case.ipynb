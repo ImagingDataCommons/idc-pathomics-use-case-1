{
 "cells": [
  {
   "cell_type": "markdown",
   "metadata": {},
   "source": [
    "# About"
   ]
  },
  {
   "cell_type": "markdown",
   "metadata": {},
   "source": [
    "# Prerequisites"
   ]
  },
  {
   "cell_type": "code",
   "execution_count": 1,
   "metadata": {},
   "outputs": [],
   "source": [
    "my_project_id = \"idc-pathomics-000\""
   ]
  },
  {
   "cell_type": "code",
   "execution_count": 5,
   "metadata": {},
   "outputs": [
    {
     "name": "stdout",
     "output_type": "stream",
     "text": [
      "Requirement already satisfied: pydata_google_auth in /opt/conda/lib/python3.7/site-packages (1.2.0)\n",
      "Requirement already satisfied: google-auth-oauthlib in /opt/conda/lib/python3.7/site-packages (from pydata_google_auth) (0.4.4)\n",
      "Requirement already satisfied: setuptools in /opt/conda/lib/python3.7/site-packages (from pydata_google_auth) (49.6.0.post20210108)\n",
      "Requirement already satisfied: google-auth in /opt/conda/lib/python3.7/site-packages (from pydata_google_auth) (1.32.1)\n",
      "Requirement already satisfied: pyasn1-modules>=0.2.1 in /opt/conda/lib/python3.7/site-packages (from google-auth->pydata_google_auth) (0.2.7)\n",
      "Requirement already satisfied: rsa<5,>=3.1.4 in /opt/conda/lib/python3.7/site-packages (from google-auth->pydata_google_auth) (4.7.2)\n",
      "Requirement already satisfied: six>=1.9.0 in /opt/conda/lib/python3.7/site-packages (from google-auth->pydata_google_auth) (1.16.0)\n",
      "Requirement already satisfied: cachetools<5.0,>=2.0.0 in /opt/conda/lib/python3.7/site-packages (from google-auth->pydata_google_auth) (4.2.2)\n",
      "Requirement already satisfied: pyasn1<0.5.0,>=0.4.6 in /opt/conda/lib/python3.7/site-packages (from pyasn1-modules>=0.2.1->google-auth->pydata_google_auth) (0.4.8)\n",
      "Requirement already satisfied: requests-oauthlib>=0.7.0 in /opt/conda/lib/python3.7/site-packages (from google-auth-oauthlib->pydata_google_auth) (1.3.0)\n",
      "Requirement already satisfied: oauthlib>=3.0.0 in /opt/conda/lib/python3.7/site-packages (from requests-oauthlib>=0.7.0->google-auth-oauthlib->pydata_google_auth) (3.1.1)\n",
      "Requirement already satisfied: requests>=2.0.0 in /opt/conda/lib/python3.7/site-packages (from requests-oauthlib>=0.7.0->google-auth-oauthlib->pydata_google_auth) (2.25.1)\n",
      "Requirement already satisfied: idna<3,>=2.5 in /opt/conda/lib/python3.7/site-packages (from requests>=2.0.0->requests-oauthlib>=0.7.0->google-auth-oauthlib->pydata_google_auth) (2.10)\n",
      "Requirement already satisfied: certifi>=2017.4.17 in /opt/conda/lib/python3.7/site-packages (from requests>=2.0.0->requests-oauthlib>=0.7.0->google-auth-oauthlib->pydata_google_auth) (2021.5.30)\n",
      "Requirement already satisfied: urllib3<1.27,>=1.21.1 in /opt/conda/lib/python3.7/site-packages (from requests>=2.0.0->requests-oauthlib>=0.7.0->google-auth-oauthlib->pydata_google_auth) (1.26.6)\n",
      "Requirement already satisfied: chardet<5,>=3.0.2 in /opt/conda/lib/python3.7/site-packages (from requests>=2.0.0->requests-oauthlib>=0.7.0->google-auth-oauthlib->pydata_google_auth) (4.0.0)\n"
     ]
    }
   ],
   "source": [
    "# Import all required python libraries for this use case\n",
    "import os\n",
    "import pandas as pd\n",
    "\n",
    "!pip install pydata_google_auth\n",
    "import pydata_google_auth\n",
    "from google.cloud.bigquery import magics "
   ]
  },
  {
   "cell_type": "code",
   "execution_count": 3,
   "metadata": {},
   "outputs": [
    {
     "name": "stdout",
     "output_type": "stream",
     "text": [
      "                   Credentialed Accounts\n",
      "ACTIVE  ACCOUNT\n",
      "*       1020787117084-compute@developer.gserviceaccount.com\n",
      "        dschacherer.fme@gmail.com\n",
      "\n",
      "To set the active account, run:\n",
      "    $ gcloud config set account `ACCOUNT`\n",
      "\n",
      "Updated property [core/account].\n",
      "                   Credentialed Accounts\n",
      "ACTIVE  ACCOUNT\n",
      "        1020787117084-compute@developer.gserviceaccount.com\n",
      "*       dschacherer.fme@gmail.com\n",
      "\n",
      "To set the active account, run:\n",
      "    $ gcloud config set account `ACCOUNT`\n",
      "\n"
     ]
    }
   ],
   "source": [
    "!gcloud auth list\n",
    "!gcloud config set account dschacherer.fme@gmail.com\n",
    "!gcloud auth list"
   ]
  },
  {
   "cell_type": "code",
   "execution_count": 6,
   "metadata": {},
   "outputs": [],
   "source": [
    "# need to get the right scope here: https://developers.google.com/identity/protocols/oauth2/scopes, pydata Documentation: https://pydata-google-auth.readthedocs.io/_/downloads/en/latest/pdf/\n",
    "credentials = pydata_google_auth.get_user_credentials(['https://www.googleapis.com/auth/bigquery', 'https://www.googleapis.com/auth/devstorage.full_control'],)\n",
    "magics.context.credentials = credentials # credentials will be used later for BiqQuery queries"
   ]
  },
  {
   "cell_type": "code",
   "execution_count": 4,
   "metadata": {},
   "outputs": [],
   "source": [
    "# BigQuery Authentification: https://cloud.google.com/docs/authentication/getting-started --> umgebungsvariable festlegen \n",
    "# https://medium.com/john-lewis-software-engineering/authenticating-jupyter-notebook-against-bigquery-957884f78527\n",
    "# from command line\n",
    "#!gcloud auth application-default login --yes\n",
    "# when using google.colab\n",
    "#from google.colab import auth \n",
    "#auth.authenticate_user()"
   ]
  },
  {
   "cell_type": "markdown",
   "metadata": {},
   "source": [
    "# Environment setup"
   ]
  },
  {
   "cell_type": "code",
   "execution_count": 5,
   "metadata": {},
   "outputs": [
    {
     "name": "stdout",
     "output_type": "stream",
     "text": [
      "Current directory : /home/jupyter/idc-pathomics-use-case-1/src\n",
      "Hostname          : idc-patho-vm\n",
      "Username          : jupyter\n"
     ]
    }
   ],
   "source": [
    "curr_dir = !pwd\n",
    "curr_droid = !hostname\n",
    "curr_pilot = !whoami\n",
    "\n",
    "print(\"Current directory :\", curr_dir[-1])\n",
    "print(\"Hostname          :\", curr_droid[-1])\n",
    "print(\"Username          :\", curr_pilot[-1])"
   ]
  },
  {
   "cell_type": "code",
   "execution_count": 12,
   "metadata": {},
   "outputs": [
    {
     "name": "stdout",
     "output_type": "stream",
     "text": [
      "Hit:1 http://deb.debian.org/debian buster InRelease\n",
      "Hit:2 http://security.debian.org/debian-security buster/updates InRelease\n",
      "Hit:3 http://deb.debian.org/debian buster-updates InRelease                    \n",
      "Hit:4 http://deb.debian.org/debian buster-backports InRelease                  \n",
      "Hit:5 https://nvidia.github.io/libnvidia-container/stable/debian10/amd64  InRelease\n",
      "Hit:6 https://nvidia.github.io/nvidia-container-runtime/stable/debian10/amd64  InRelease\n",
      "Hit:7 https://download.docker.com/linux/debian buster InRelease                \n",
      "Hit:8 https://nvidia.github.io/nvidia-docker/debian10/amd64  InRelease\n",
      "Hit:10 http://packages.cloud.google.com/apt cloud-sdk-buster InRelease\n",
      "Hit:11 https://packages.cloud.google.com/apt google-fast-socket InRelease\n",
      "Hit:12 http://packages.cloud.google.com/apt google-cloud-packages-archive-keyring-buster InRelease\n",
      "Hit:13 http://packages.cloud.google.com/apt gcsfuse-buster InRelease\n",
      "Hit:9 https://packages.cloud.google.com/apt kubernetes-xenial InRelease\n",
      "Hit:14 http://packages.cloud.google.com/apt google-compute-engine-buster-stable InRelease\n",
      "Reading package lists... Done\n",
      "Reading package lists... Done\n",
      "Building dependency tree       \n",
      "Reading state information... Done\n",
      "python3-openslide is already the newest version (1.1.1-4).\n",
      "0 upgraded, 0 newly installed, 0 to remove and 2 not upgraded.\n"
     ]
    }
   ],
   "source": [
    "!sudo apt-get update\n",
    "!sudo apt-get install --no-install-recommends -y python3-openslide"
   ]
  },
  {
   "cell_type": "code",
   "execution_count": 13,
   "metadata": {},
   "outputs": [
    {
     "name": "stdout",
     "output_type": "stream",
     "text": [
      "Requirement already satisfied: openslide-wrapper==1.1.2 in /usr/local/lib/python3.7/dist-packages (from -r ../requirements.txt (line 1)) (1.1.2)\n",
      "Requirement already satisfied: numpy==1.19.1 in /usr/local/lib/python3.7/dist-packages (from -r ../requirements.txt (line 2)) (1.19.1)\n",
      "Requirement already satisfied: scikit-learn==0.24.1 in /usr/local/lib/python3.7/dist-packages (from -r ../requirements.txt (line 3)) (0.24.1)\n",
      "Requirement already satisfied: pandas==1.1.0 in /usr/local/lib/python3.7/dist-packages (from -r ../requirements.txt (line 4)) (1.1.0)\n",
      "Requirement already satisfied: seaborn in /usr/local/lib/python3.7/dist-packages (from -r ../requirements.txt (line 5)) (0.11.1)\n",
      "Requirement already satisfied: Pillow in /usr/lib/python3/dist-packages (from openslide-wrapper==1.1.2->-r ../requirements.txt (line 1)) (5.4.1)\n",
      "Requirement already satisfied: scipy>=0.19.1 in /usr/local/lib/python3.7/dist-packages (from scikit-learn==0.24.1->-r ../requirements.txt (line 3)) (1.7.0)\n",
      "Requirement already satisfied: joblib>=0.11 in /usr/local/lib/python3.7/dist-packages (from scikit-learn==0.24.1->-r ../requirements.txt (line 3)) (1.0.1)\n",
      "Requirement already satisfied: threadpoolctl>=2.0.0 in /usr/local/lib/python3.7/dist-packages (from scikit-learn==0.24.1->-r ../requirements.txt (line 3)) (2.2.0)\n",
      "Requirement already satisfied: pytz>=2017.2 in /usr/local/lib/python3.7/dist-packages (from pandas==1.1.0->-r ../requirements.txt (line 4)) (2021.1)\n",
      "Requirement already satisfied: python-dateutil>=2.7.3 in /usr/local/lib/python3.7/dist-packages (from pandas==1.1.0->-r ../requirements.txt (line 4)) (2.8.2)\n",
      "Requirement already satisfied: matplotlib>=2.2 in /usr/local/lib/python3.7/dist-packages (from seaborn->-r ../requirements.txt (line 5)) (3.4.2)\n",
      "Requirement already satisfied: six>=1.5 in /usr/local/lib/python3.7/dist-packages (from python-dateutil>=2.7.3->pandas==1.1.0->-r ../requirements.txt (line 4)) (1.16.0)\n",
      "Requirement already satisfied: kiwisolver>=1.0.1 in /usr/local/lib/python3.7/dist-packages (from matplotlib>=2.2->seaborn->-r ../requirements.txt (line 5)) (1.3.1)\n",
      "Requirement already satisfied: cycler>=0.10 in /usr/local/lib/python3.7/dist-packages (from matplotlib>=2.2->seaborn->-r ../requirements.txt (line 5)) (0.10.0)\n",
      "Requirement already satisfied: pyparsing>=2.2.1 in /usr/local/lib/python3.7/dist-packages (from matplotlib>=2.2->seaborn->-r ../requirements.txt (line 5)) (2.4.7)\n"
     ]
    }
   ],
   "source": [
    "# Install other requirements or are these already available? Check!\n",
    "!sudo pip3 install -r ../requirements.txt"
   ]
  },
  {
   "cell_type": "code",
   "execution_count": 14,
   "metadata": {},
   "outputs": [],
   "source": [
    "# otherwise Openslide can not be loaded. \n",
    "import sys\n",
    "sys.path.append('/usr/local/lib/python3.7/dist-packages')"
   ]
  },
  {
   "cell_type": "markdown",
   "metadata": {},
   "source": [
    "# Dataset selection and exploration using BiqQuery"
   ]
  },
  {
   "cell_type": "code",
   "execution_count": 18,
   "metadata": {},
   "outputs": [],
   "source": [
    "# Explanation where Attributes are obtained from etc. pp., explain BigQuery magic, alternative: BigQuery client see https://cloud.google.com/bigquery/docs/visualize-jupyter?hl=de#pip"
   ]
  },
  {
   "cell_type": "code",
   "execution_count": 7,
   "metadata": {},
   "outputs": [
    {
     "name": "stderr",
     "output_type": "stream",
     "text": [
      "Query complete after 0.00s: 100%|██████████| 1/1 [00:00<00:00, 1078.50query/s]\n",
      "Downloading: 100%|██████████| 2218/2218 [00:01<00:00, 1252.47rows/s]\n"
     ]
    }
   ],
   "source": [
    "%%bigquery cohort_df --project=$my_project_id \n",
    "\n",
    "SELECT\n",
    "    b.ContainerIdentifier AS slide_id,\n",
    "    b.PatientID AS patient_id,\n",
    "    b.ClinicalTrialProtocolID AS tumor_subtype,\n",
    "    b.TotalPixelMatrixColumns AS width,\n",
    "    b.TotalPixelMatrixRows AS height,\n",
    "    b.gcs_url\n",
    "FROM\n",
    "    -- ContainerIdentifier is not unique if slide was scanned twice.\n",
    "    -- Therefore, identify slides by both ContainerIdentifier and FrameOfReferenceUID.\n",
    "    (\n",
    "        SELECT\n",
    "            ContainerIdentifier,\n",
    "            FrameOfReferenceUID,\n",
    "            MAX(TotalPixelMatrixColumns * TotalPixelMatrixRows) AS max_size\n",
    "        FROM idc-dev-etl.idc_v3.dicom_metadata\n",
    "        WHERE\n",
    "            NOT (ContainerIdentifier IS NULL)\n",
    "            AND (ClinicalTrialProtocolID = \"CPTAC-LUAD\"\n",
    "                OR ClinicalTrialProtocolID = \"CPTAC-LSCC\")\n",
    "        GROUP BY ContainerIdentifier, FrameOfReferenceUID \n",
    "    ) AS a\n",
    "    JOIN idc-dev-etl.idc_v3.dicom_all AS b ON\n",
    "        b.ContainerIdentifier = a.ContainerIdentifier\n",
    "        AND b.FrameOfReferenceUID = a.FrameOfReferenceUID\n",
    "WHERE a.max_size = b.TotalPixelMatrixColumns * b.TotalPixelMatrixRows"
   ]
  },
  {
   "cell_type": "code",
   "execution_count": 20,
   "metadata": {},
   "outputs": [
    {
     "name": "stdout",
     "output_type": "stream",
     "text": [
      "       slide_id patient_id tumor_subtype  width  height  \\\n",
      "0  C3L-04784-27  C3L-04784    CPTAC-LUAD  73704   34427   \n",
      "1  C3N-04457-21  C3N-04457    CPTAC-LSCC  73704   33679   \n",
      "2  C3L-02627-27  C3L-02627    CPTAC-LSCC  69719   22057   \n",
      "3  C3N-02434-26  C3N-02434    CPTAC-LSCC  51791   21419   \n",
      "4  C3N-02285-30  C3N-02285    CPTAC-LSCC  19919   21038   \n",
      "\n",
      "                                             gcs_url  \n",
      "0  gs://idc_v3_cptac_luad/0eb19c55-3bb1-4448-8302...  \n",
      "1  gs://idc_v3_cptac_lscc/46e1a340-c7f0-434e-ac5c...  \n",
      "2  gs://idc_v3_cptac_lscc/b8e15005-14bd-4c2b-83c6...  \n",
      "3  gs://idc_v3_cptac_lscc/4285b4ed-01d6-45b1-b7aa...  \n",
      "4  gs://idc_v3_cptac_lscc/86f1e27d-34f2-41f9-9414...   2218\n"
     ]
    }
   ],
   "source": [
    "print(cohort_df.head(), len(cohort_df))"
   ]
  },
  {
   "cell_type": "code",
   "execution_count": 21,
   "metadata": {},
   "outputs": [],
   "source": [
    "cohort_df.to_csv('/home/jupyter/idc_input/cohort.csv', index=False)"
   ]
  },
  {
   "cell_type": "code",
   "execution_count": 25,
   "metadata": {},
   "outputs": [],
   "source": [
    "tissue_type_data = pd.read_csv('/home/jupyter/idc_input/CPTAC_LUAD-LSCC_metadata_from_TCIA.csv')"
   ]
  },
  {
   "cell_type": "code",
   "execution_count": 27,
   "metadata": {},
   "outputs": [],
   "source": [
    "def add_tissue_type_information(cohort_df, tissue_type_data):\n",
    "    tissue_types = []\n",
    "    for i, row in cohort_df.iterrows():\n",
    "        slide_id = row['slide_id']\n",
    "        try: \n",
    "            tissue_type = tissue_type_data[tissue_type_data['Slide_ID'] == slide_id]['Specimen_Type'].item()\n",
    "            tissue_types.append(tissue_type)\n",
    "        except: \n",
    "            cohort_df = cohort_df.drop(index=i)\n",
    "    complete_df = _add_column_to_dataframe(cohort_df, tissue_types)\n",
    "    \n",
    "    # Replace certain column values for clarity\n",
    "    complete_df.replace({'tumor_subtype': 'CPTAC-LSCC'}, 'LSCC', inplace=True)\n",
    "    complete_df.replace({'tumor_subtype': 'CPTAC-LUAD'}, 'LUAD', inplace=True)\n",
    "    complete_df.replace({'tissue_type': 'normal_tissue'}, 'normal', inplace=True)\n",
    "    complete_df.replace({'tissue_type': 'tumor_tissue'}, 'tumor', inplace=True)\n",
    "    return complete_df\n",
    "\n",
    "def _add_column_to_dataframe(dataframe, column): \n",
    "    assert len(dataframe) == len(column), 'Number of new column values not matching length of dataframe.'\n",
    "    dataframe.insert(3, 'tissue_type', column)\n",
    "    return dataframe    "
   ]
  },
  {
   "cell_type": "code",
   "execution_count": 28,
   "metadata": {},
   "outputs": [],
   "source": [
    "slides_metadata = add_tissue_type_information(cohort_df, tissue_type_data)\n",
    "slides_metadata.to_csv('/home/jupyter/idc_input/slides_metadata.csv', index=False)"
   ]
  },
  {
   "cell_type": "code",
   "execution_count": 29,
   "metadata": {},
   "outputs": [
    {
     "data": {
      "text/html": [
       "<div>\n",
       "<style scoped>\n",
       "    .dataframe tbody tr th:only-of-type {\n",
       "        vertical-align: middle;\n",
       "    }\n",
       "\n",
       "    .dataframe tbody tr th {\n",
       "        vertical-align: top;\n",
       "    }\n",
       "\n",
       "    .dataframe thead th {\n",
       "        text-align: right;\n",
       "    }\n",
       "</style>\n",
       "<table border=\"1\" class=\"dataframe\">\n",
       "  <thead>\n",
       "    <tr style=\"text-align: right;\">\n",
       "      <th></th>\n",
       "      <th>slide_id</th>\n",
       "      <th>patient_id</th>\n",
       "      <th>tumor_subtype</th>\n",
       "      <th>tissue_type</th>\n",
       "      <th>width</th>\n",
       "      <th>height</th>\n",
       "      <th>gcs_url</th>\n",
       "    </tr>\n",
       "  </thead>\n",
       "  <tbody>\n",
       "    <tr>\n",
       "      <th>1</th>\n",
       "      <td>C3N-04457-21</td>\n",
       "      <td>C3N-04457</td>\n",
       "      <td>LSCC</td>\n",
       "      <td>tumor</td>\n",
       "      <td>73704</td>\n",
       "      <td>33679</td>\n",
       "      <td>gs://idc_v3_cptac_lscc/46e1a340-c7f0-434e-ac5c...</td>\n",
       "    </tr>\n",
       "    <tr>\n",
       "      <th>2</th>\n",
       "      <td>C3L-02627-27</td>\n",
       "      <td>C3L-02627</td>\n",
       "      <td>LSCC</td>\n",
       "      <td>normal</td>\n",
       "      <td>69719</td>\n",
       "      <td>22057</td>\n",
       "      <td>gs://idc_v3_cptac_lscc/b8e15005-14bd-4c2b-83c6...</td>\n",
       "    </tr>\n",
       "    <tr>\n",
       "      <th>3</th>\n",
       "      <td>C3N-02434-26</td>\n",
       "      <td>C3N-02434</td>\n",
       "      <td>LSCC</td>\n",
       "      <td>normal</td>\n",
       "      <td>51791</td>\n",
       "      <td>21419</td>\n",
       "      <td>gs://idc_v3_cptac_lscc/4285b4ed-01d6-45b1-b7aa...</td>\n",
       "    </tr>\n",
       "    <tr>\n",
       "      <th>4</th>\n",
       "      <td>C3N-02285-30</td>\n",
       "      <td>C3N-02285</td>\n",
       "      <td>LSCC</td>\n",
       "      <td>normal</td>\n",
       "      <td>19919</td>\n",
       "      <td>21038</td>\n",
       "      <td>gs://idc_v3_cptac_lscc/86f1e27d-34f2-41f9-9414...</td>\n",
       "    </tr>\n",
       "    <tr>\n",
       "      <th>5</th>\n",
       "      <td>C3N-03441-21</td>\n",
       "      <td>C3N-03441</td>\n",
       "      <td>LSCC</td>\n",
       "      <td>tumor</td>\n",
       "      <td>59759</td>\n",
       "      <td>19141</td>\n",
       "      <td>gs://idc_v3_cptac_lscc/111e0317-009c-4167-8d43...</td>\n",
       "    </tr>\n",
       "  </tbody>\n",
       "</table>\n",
       "</div>"
      ],
      "text/plain": [
       "       slide_id patient_id tumor_subtype tissue_type  width  height  \\\n",
       "1  C3N-04457-21  C3N-04457          LSCC       tumor  73704   33679   \n",
       "2  C3L-02627-27  C3L-02627          LSCC      normal  69719   22057   \n",
       "3  C3N-02434-26  C3N-02434          LSCC      normal  51791   21419   \n",
       "4  C3N-02285-30  C3N-02285          LSCC      normal  19919   21038   \n",
       "5  C3N-03441-21  C3N-03441          LSCC       tumor  59759   19141   \n",
       "\n",
       "                                             gcs_url  \n",
       "1  gs://idc_v3_cptac_lscc/46e1a340-c7f0-434e-ac5c...  \n",
       "2  gs://idc_v3_cptac_lscc/b8e15005-14bd-4c2b-83c6...  \n",
       "3  gs://idc_v3_cptac_lscc/4285b4ed-01d6-45b1-b7aa...  \n",
       "4  gs://idc_v3_cptac_lscc/86f1e27d-34f2-41f9-9414...  \n",
       "5  gs://idc_v3_cptac_lscc/111e0317-009c-4167-8d43...  "
      ]
     },
     "execution_count": 29,
     "metadata": {},
     "output_type": "execute_result"
    }
   ],
   "source": [
    "slides_metadata.head()"
   ]
  },
  {
   "cell_type": "code",
   "execution_count": null,
   "metadata": {},
   "outputs": [],
   "source": [
    "# IDC viewer for some pathomics data? \n",
    "def get_idc_viewer_url(study_UID):\n",
    "    return \"https://viewer.imaging.datacommons.cancer.gov/viewer/\" + study_UID"
   ]
  },
  {
   "cell_type": "markdown",
   "metadata": {},
   "source": [
    "# Temporary Data Download "
   ]
  },
  {
   "cell_type": "code",
   "execution_count": 8,
   "metadata": {},
   "outputs": [
    {
     "name": "stdout",
     "output_type": "stream",
     "text": [
      "gs://idc_v3_cptac_luad/0eb19c55-3bb1-4448-8302-1c432c69a653.dcm\n",
      "gs://idc_v3_cptac_lscc/46e1a340-c7f0-434e-ac5c-59390f960a63.dcm\n",
      "gs://idc_v3_cptac_lscc/b8e15005-14bd-4c2b-83c6-fe6e63daff42.dcm\n",
      "gs://idc_v3_cptac_lscc/4285b4ed-01d6-45b1-b7aa-143ee31f0647.dcm\n",
      "gs://idc_v3_cptac_lscc/86f1e27d-34f2-41f9-9414-093f049d3f3f.dcm\n",
      "gs://idc_v3_cptac_lscc/111e0317-009c-4167-8d43-a07faa6a9251.dcm\n",
      "gs://idc_v3_cptac_lscc/a9f76626-12e0-4a91-9ed4-e89f5e418c26.dcm\n",
      "gs://idc_v3_cptac_luad/264ab7ce-a9d0-41a1-8c0d-faf19f013232.dcm\n",
      "gs://idc_v3_cptac_luad/e08b9910-bdb8-4829-8048-e04e295c4780.dcm\n",
      "gs://idc_v3_cptac_luad/8324067b-7036-46b6-ab23-5755437da523.dcm\n"
     ]
    }
   ],
   "source": [
    "cohort_df['gcs_url'][:10].to_csv('/home/jupyter/gcs_paths.txt', header=False, index=False)\n",
    "!cat /home/jupyter/gcs_paths.txt"
   ]
  },
  {
   "cell_type": "code",
   "execution_count": 9,
   "metadata": {},
   "outputs": [
    {
     "name": "stdout",
     "output_type": "stream",
     "text": [
      "mkdir: cannot create directory ‘/home/jupyter/downloaded_cohort’: File exists\n",
      "Copying gs://idc_v3_cptac_luad/0eb19c55-3bb1-4448-8302-1c432c69a653.dcm...\n",
      "Copying gs://idc_v3_cptac_lscc/46e1a340-c7f0-434e-ac5c-59390f960a63.dcm...      \n",
      "Copying gs://idc_v3_cptac_lscc/b8e15005-14bd-4c2b-83c6-fe6e63daff42.dcm...      \n",
      "Copying gs://idc_v3_cptac_lscc/4285b4ed-01d6-45b1-b7aa-143ee31f0647.dcm...      \n",
      "Copying gs://idc_v3_cptac_lscc/86f1e27d-34f2-41f9-9414-093f049d3f3f.dcm...      \n",
      "Copying gs://idc_v3_cptac_lscc/111e0317-009c-4167-8d43-a07faa6a9251.dcm...      \n",
      "Copying gs://idc_v3_cptac_lscc/a9f76626-12e0-4a91-9ed4-e89f5e418c26.dcm...      \n",
      "Copying gs://idc_v3_cptac_luad/264ab7ce-a9d0-41a1-8c0d-faf19f013232.dcm...      \n",
      "Copying gs://idc_v3_cptac_luad/e08b9910-bdb8-4829-8048-e04e295c4780.dcm...      \n",
      "Copying gs://idc_v3_cptac_luad/8324067b-7036-46b6-ab23-5755437da523.dcm...\n",
      "^C[2/10 files][  1.2 GiB/  3.0 GiB]  38% Done                                   \n"
     ]
    }
   ],
   "source": [
    "!mkdir /home/jupyter/downloaded_cohort\n",
    "!cat /home/jupyter/gcs_paths.txt | gsutil -u $my_project_id -m cp -I /home/jupyter/downloaded_cohort\n",
    "# make use of dicomsort??? "
   ]
  },
  {
   "cell_type": "markdown",
   "metadata": {},
   "source": [
    "# Pathomics use case\n",
    "## Preprocessing"
   ]
  },
  {
   "cell_type": "code",
   "execution_count": 16,
   "metadata": {},
   "outputs": [],
   "source": [
    "#input_dir = os.environ['IDC_INPUT_DATA_DIR']\n",
    "input_dir = '/home/jupyter/idc_input/'\n",
    "slides_dir = os.path.join(input_dir, 'cptac_slides')\n",
    "tiles_dir = os.path.join(input_dir, 'cptac_tiles')\n",
    "#mkdir respective folders? and afterwards delete slide folder, because it is empty?  "
   ]
  },
  {
   "cell_type": "code",
   "execution_count": 17,
   "metadata": {
    "collapsed": true,
    "jupyter": {
     "outputs_hidden": true
    }
   },
   "outputs": [
    {
     "name": "stdout",
     "output_type": "stream",
     "text": [
      "Reading input data from /home/jupyter/idc_input/cptac_slides\n",
      "Slide C3N-04457-21 already tiled\n",
      "['gsutil -u idc-pathomics-000  cp gs://idc_v3_cptac_lscc/b8e15005-14bd-4c2b-83c6-fe6e63daff42.dcm /home/jupyter/idc_input/cptac_slides']\n"
     ]
    },
    {
     "name": "stderr",
     "output_type": "stream",
     "text": [
      "Copying gs://idc_v3_cptac_lscc/b8e15005-14bd-4c2b-83c6-fe6e63daff42.dcm...\n",
      "- [1 files][236.6 MiB/236.6 MiB]                                                \n",
      "Operation completed over 1 objects/236.6 MiB.                                    \n"
     ]
    },
    {
     "name": "stdout",
     "output_type": "stream",
     "text": [
      "Processing: C3L-02627-27\n",
      "20235 20235\n",
      "['gsutil -u idc-pathomics-000  cp gs://idc_v3_cptac_lscc/4285b4ed-01d6-45b1-b7aa-143ee31f0647.dcm /home/jupyter/idc_input/cptac_slides']\n"
     ]
    },
    {
     "name": "stderr",
     "output_type": "stream",
     "text": [
      "Copying gs://idc_v3_cptac_lscc/4285b4ed-01d6-45b1-b7aa-143ee31f0647.dcm...\n",
      "| [1 files][144.9 MiB/144.9 MiB]                                                \n",
      "Operation completed over 1 objects/144.9 MiB.                                    \n"
     ]
    },
    {
     "name": "stdout",
     "output_type": "stream",
     "text": [
      "Processing: C3N-02434-26\n",
      "20235 20235\n",
      "['gsutil -u idc-pathomics-000  cp gs://idc_v3_cptac_lscc/86f1e27d-34f2-41f9-9414-093f049d3f3f.dcm /home/jupyter/idc_input/cptac_slides']\n"
     ]
    },
    {
     "name": "stderr",
     "output_type": "stream",
     "text": [
      "Copying gs://idc_v3_cptac_lscc/86f1e27d-34f2-41f9-9414-093f049d3f3f.dcm...\n",
      "- [1 files][ 64.6 MiB/ 64.6 MiB]                                                \n",
      "Operation completed over 1 objects/64.6 MiB.                                     \n"
     ]
    },
    {
     "name": "stdout",
     "output_type": "stream",
     "text": [
      "Processing: C3N-02285-30\n",
      "20235 20235\n",
      "['gsutil -u idc-pathomics-000  cp gs://idc_v3_cptac_lscc/111e0317-009c-4167-8d43-a07faa6a9251.dcm /home/jupyter/idc_input/cptac_slides']\n"
     ]
    },
    {
     "name": "stderr",
     "output_type": "stream",
     "text": [
      "Copying gs://idc_v3_cptac_lscc/111e0317-009c-4167-8d43-a07faa6a9251.dcm...\n",
      "\\ [1 files][129.1 MiB/129.1 MiB]                                                \n",
      "Operation completed over 1 objects/129.1 MiB.                                    \n"
     ]
    },
    {
     "name": "stdout",
     "output_type": "stream",
     "text": [
      "Processing: C3N-03441-21\n",
      "20235 20235\n",
      "['gsutil -u idc-pathomics-000  cp gs://idc_v3_cptac_lscc/a9f76626-12e0-4a91-9ed4-e89f5e418c26.dcm /home/jupyter/idc_input/cptac_slides']\n"
     ]
    },
    {
     "name": "stderr",
     "output_type": "stream",
     "text": [
      "Copying gs://idc_v3_cptac_lscc/a9f76626-12e0-4a91-9ed4-e89f5e418c26.dcm...\n",
      "- [1 files][531.5 MiB/531.5 MiB]                                                \n",
      "Operation completed over 1 objects/531.5 MiB.                                    \n"
     ]
    },
    {
     "name": "stdout",
     "output_type": "stream",
     "text": [
      "Processing: C3L-05423-24\n",
      "19877 19877\n",
      "['gsutil -u idc-pathomics-000  cp gs://idc_v3_cptac_luad/264ab7ce-a9d0-41a1-8c0d-faf19f013232.dcm /home/jupyter/idc_input/cptac_slides']\n"
     ]
    },
    {
     "name": "stderr",
     "output_type": "stream",
     "text": [
      "Copying gs://idc_v3_cptac_luad/264ab7ce-a9d0-41a1-8c0d-faf19f013232.dcm...\n",
      "| [1 files][934.1 MiB/934.1 MiB]   60.7 MiB/s                                   \n",
      "Operation completed over 1 objects/934.1 MiB.                                    \n"
     ]
    },
    {
     "name": "stdout",
     "output_type": "stream",
     "text": [
      "Processing: C3N-02920-23\n",
      "20235 20235\n",
      "['gsutil -u idc-pathomics-000  cp gs://idc_v3_cptac_luad/e08b9910-bdb8-4829-8048-e04e295c4780.dcm /home/jupyter/idc_input/cptac_slides']\n"
     ]
    },
    {
     "name": "stderr",
     "output_type": "stream",
     "text": [
      "Copying gs://idc_v3_cptac_luad/e08b9910-bdb8-4829-8048-e04e295c4780.dcm...\n",
      "\\ [1 files][117.4 MiB/117.4 MiB]                                                \n",
      "Operation completed over 1 objects/117.4 MiB.                                    \n"
     ]
    },
    {
     "name": "stdout",
     "output_type": "stream",
     "text": [
      "Processing: C3N-03063-22\n",
      "20235 20235\n",
      "['gsutil -u idc-pathomics-000  cp gs://idc_v3_cptac_luad/8324067b-7036-46b6-ab23-5755437da523.dcm /home/jupyter/idc_input/cptac_slides']\n"
     ]
    },
    {
     "name": "stderr",
     "output_type": "stream",
     "text": [
      "Copying gs://idc_v3_cptac_luad/8324067b-7036-46b6-ab23-5755437da523.dcm...\n",
      "/ [1 files][ 12.1 MiB/ 12.1 MiB]                                                \n",
      "Operation completed over 1 objects/12.1 MiB.                                     \n"
     ]
    },
    {
     "name": "stdout",
     "output_type": "stream",
     "text": [
      "Processing: C3L-03262-22\n",
      "20235 20235\n",
      "['gsutil -u idc-pathomics-000  cp gs://idc_v3_cptac_luad/4b4881d1-3b22-4f31-a373-b623e5b76a12.dcm /home/jupyter/idc_input/cptac_slides']\n"
     ]
    },
    {
     "name": "stderr",
     "output_type": "stream",
     "text": [
      "Copying gs://idc_v3_cptac_luad/4b4881d1-3b22-4f31-a373-b623e5b76a12.dcm...\n",
      "/ [1 files][180.4 MiB/180.4 MiB]                                                \n",
      "Operation completed over 1 objects/180.4 MiB.                                    \n"
     ]
    },
    {
     "name": "stdout",
     "output_type": "stream",
     "text": [
      "Processing: C3N-02423-23\n",
      "20235 20235\n",
      "['gsutil -u idc-pathomics-000  cp gs://idc_v3_cptac_luad/c2fac6cd-ed5f-4910-a776-71f161b5034d.dcm /home/jupyter/idc_input/cptac_slides']\n"
     ]
    },
    {
     "name": "stderr",
     "output_type": "stream",
     "text": [
      "Copying gs://idc_v3_cptac_luad/c2fac6cd-ed5f-4910-a776-71f161b5034d.dcm...\n",
      "\\ [1 files][538.2 MiB/538.2 MiB]                                                \n",
      "Operation completed over 1 objects/538.2 MiB.                                    \n"
     ]
    },
    {
     "name": "stdout",
     "output_type": "stream",
     "text": [
      "Processing: C3N-02919-26\n",
      "20235 20235\n",
      "['gsutil -u idc-pathomics-000  cp gs://idc_v3_cptac_lscc/c0c552bb-8bbb-47c3-9203-3b1b008a0e93.dcm /home/jupyter/idc_input/cptac_slides']\n"
     ]
    },
    {
     "name": "stderr",
     "output_type": "stream",
     "text": [
      "Copying gs://idc_v3_cptac_lscc/c0c552bb-8bbb-47c3-9203-3b1b008a0e93.dcm...\n",
      "| [1 files][347.7 MiB/347.7 MiB]                                                \n",
      "Operation completed over 1 objects/347.7 MiB.                                    \n"
     ]
    },
    {
     "name": "stdout",
     "output_type": "stream",
     "text": [
      "Processing: C3L-05417-27\n",
      "19877 19877\n",
      "['gsutil -u idc-pathomics-000  cp gs://idc_v3_cptac_luad/3189c082-60e5-4d56-906b-4365b13fbd6d.dcm /home/jupyter/idc_input/cptac_slides']\n"
     ]
    },
    {
     "name": "stderr",
     "output_type": "stream",
     "text": [
      "Copying gs://idc_v3_cptac_luad/3189c082-60e5-4d56-906b-4365b13fbd6d.dcm...\n",
      "/ [1 files][470.4 MiB/470.4 MiB]                                                \n",
      "Operation completed over 1 objects/470.4 MiB.                                    \n"
     ]
    },
    {
     "name": "stdout",
     "output_type": "stream",
     "text": [
      "Processing: C3N-02155-26\n",
      "20235 20235\n"
     ]
    },
    {
     "ename": "KeyboardInterrupt",
     "evalue": "",
     "output_type": "error",
     "traceback": [
      "\u001b[0;31m---------------------------------------------------------------------------\u001b[0m",
      "\u001b[0;31mKeyboardInterrupt\u001b[0m                         Traceback (most recent call last)",
      "\u001b[0;32m/tmp/ipykernel_13405/3988966402.py\u001b[0m in \u001b[0;36m<module>\u001b[0;34m\u001b[0m\n\u001b[1;32m      1\u001b[0m \u001b[0;32mfrom\u001b[0m \u001b[0mdata\u001b[0m\u001b[0;34m.\u001b[0m\u001b[0mtile_generation_cptac\u001b[0m \u001b[0;32mimport\u001b[0m \u001b[0mgenerate_tiles\u001b[0m\u001b[0;34m\u001b[0m\u001b[0;34m\u001b[0m\u001b[0m\n\u001b[1;32m      2\u001b[0m \u001b[0;34m\u001b[0m\u001b[0m\n\u001b[0;32m----> 3\u001b[0;31m \u001b[0mgenerate_tiles\u001b[0m\u001b[0;34m(\u001b[0m\u001b[0mslides_dir\u001b[0m\u001b[0;34m,\u001b[0m \u001b[0mos\u001b[0m\u001b[0;34m.\u001b[0m\u001b[0mpath\u001b[0m\u001b[0;34m.\u001b[0m\u001b[0mjoin\u001b[0m\u001b[0;34m(\u001b[0m\u001b[0minput_dir\u001b[0m\u001b[0;34m,\u001b[0m \u001b[0;34m'slides_metadata.csv'\u001b[0m\u001b[0;34m)\u001b[0m\u001b[0;34m,\u001b[0m \u001b[0mtiles_dir\u001b[0m\u001b[0;34m,\u001b[0m \u001b[0;34m'idc-pathomics-000'\u001b[0m\u001b[0;34m)\u001b[0m\u001b[0;34m\u001b[0m\u001b[0;34m\u001b[0m\u001b[0m\n\u001b[0m",
      "\u001b[0;32m~/idc-pathomics-use-case-1/src/data/tile_generation_cptac.py\u001b[0m in \u001b[0;36mgenerate_tiles\u001b[0;34m(slides_folder, metadata_path, output_folder, google_cloud_project_id)\u001b[0m\n\u001b[1;32m     28\u001b[0m         \u001b[0mpath_to_slide\u001b[0m \u001b[0;34m=\u001b[0m \u001b[0m_get_path_to_slide_from_gcs_url\u001b[0m\u001b[0;34m(\u001b[0m\u001b[0mrow\u001b[0m\u001b[0;34m[\u001b[0m\u001b[0;34m'gcs_url'\u001b[0m\u001b[0;34m]\u001b[0m\u001b[0;34m,\u001b[0m \u001b[0mslides_folder\u001b[0m\u001b[0;34m)\u001b[0m\u001b[0;34m\u001b[0m\u001b[0;34m\u001b[0m\u001b[0m\n\u001b[1;32m     29\u001b[0m         \u001b[0mslide_id\u001b[0m \u001b[0;34m=\u001b[0m \u001b[0mrow\u001b[0m\u001b[0;34m[\u001b[0m\u001b[0;34m'slide_id'\u001b[0m\u001b[0;34m]\u001b[0m\u001b[0;34m\u001b[0m\u001b[0;34m\u001b[0m\u001b[0m\n\u001b[0;32m---> 30\u001b[0;31m         \u001b[0mgcs_url\u001b[0m \u001b[0;34m=\u001b[0m \u001b[0mrow\u001b[0m\u001b[0;34m[\u001b[0m\u001b[0;34m'gcs_url'\u001b[0m\u001b[0;34m]\u001b[0m\u001b[0;34m\u001b[0m\u001b[0;34m\u001b[0m\u001b[0m\n\u001b[0m\u001b[1;32m     31\u001b[0m         \u001b[0m_generate_tiles_for_slide\u001b[0m\u001b[0;34m(\u001b[0m\u001b[0mpath_to_slide\u001b[0m\u001b[0;34m,\u001b[0m \u001b[0mslide_id\u001b[0m\u001b[0;34m,\u001b[0m \u001b[0mgcs_url\u001b[0m\u001b[0;34m,\u001b[0m \u001b[0moutput_folder\u001b[0m\u001b[0;34m,\u001b[0m \u001b[0mgoogle_cloud_project_id\u001b[0m\u001b[0;34m)\u001b[0m\u001b[0;34m\u001b[0m\u001b[0;34m\u001b[0m\u001b[0m\n\u001b[1;32m     32\u001b[0m \u001b[0;34m\u001b[0m\u001b[0m\n",
      "\u001b[0;32m~/idc-pathomics-use-case-1/src/data/tile_generation_cptac.py\u001b[0m in \u001b[0;36m_generate_tiles_for_slide\u001b[0;34m(path_to_slide, slide_id, gcs_url, output_folder, google_cloud_project_id)\u001b[0m\n\u001b[1;32m     66\u001b[0m \u001b[0;34m\u001b[0m\u001b[0m\n\u001b[1;32m     67\u001b[0m     \u001b[0;31m# After tiling delete the WSI to save disk space\u001b[0m\u001b[0;34m\u001b[0m\u001b[0;34m\u001b[0m\u001b[0;34m\u001b[0m\u001b[0m\n\u001b[0;32m---> 68\u001b[0;31m     \u001b[0mos\u001b[0m\u001b[0;34m.\u001b[0m\u001b[0mremove\u001b[0m\u001b[0;34m(\u001b[0m\u001b[0mpath_to_slide\u001b[0m\u001b[0;34m)\u001b[0m\u001b[0;34m\u001b[0m\u001b[0;34m\u001b[0m\u001b[0m\n\u001b[0m\u001b[1;32m     69\u001b[0m \u001b[0;34m\u001b[0m\u001b[0m\n\u001b[1;32m     70\u001b[0m \u001b[0;34m\u001b[0m\u001b[0m\n",
      "\u001b[0;32m~/idc-pathomics-use-case-1/src/data/tile_generation_cptac.py\u001b[0m in \u001b[0;36m_get_amount_of_background\u001b[0;34m(tile)\u001b[0m\n\u001b[1;32m     78\u001b[0m     \u001b[0mbw\u001b[0m \u001b[0;34m=\u001b[0m \u001b[0mgrey\u001b[0m\u001b[0;34m.\u001b[0m\u001b[0mpoint\u001b[0m\u001b[0;34m(\u001b[0m\u001b[0;32mlambda\u001b[0m \u001b[0mx\u001b[0m\u001b[0;34m:\u001b[0m \u001b[0;36m0\u001b[0m \u001b[0;32mif\u001b[0m \u001b[0mx\u001b[0m \u001b[0;34m<\u001b[0m \u001b[0;36m220\u001b[0m \u001b[0;32melse\u001b[0m \u001b[0;36m1\u001b[0m\u001b[0;34m,\u001b[0m \u001b[0mmode\u001b[0m\u001b[0;34m=\u001b[0m\u001b[0;34m'F'\u001b[0m\u001b[0;34m)\u001b[0m\u001b[0;34m\u001b[0m\u001b[0;34m\u001b[0m\u001b[0m\n\u001b[1;32m     79\u001b[0m     \u001b[0mavg_bkg\u001b[0m \u001b[0;34m=\u001b[0m \u001b[0mnp\u001b[0m\u001b[0;34m.\u001b[0m\u001b[0maverage\u001b[0m\u001b[0;34m(\u001b[0m\u001b[0mnp\u001b[0m\u001b[0;34m.\u001b[0m\u001b[0marray\u001b[0m\u001b[0;34m(\u001b[0m\u001b[0mnp\u001b[0m\u001b[0;34m.\u001b[0m\u001b[0masarray\u001b[0m\u001b[0;34m(\u001b[0m\u001b[0mbw\u001b[0m\u001b[0;34m)\u001b[0m\u001b[0;34m)\u001b[0m\u001b[0;34m)\u001b[0m\u001b[0;34m\u001b[0m\u001b[0;34m\u001b[0m\u001b[0m\n\u001b[0;32m---> 80\u001b[0;31m     \u001b[0;32mreturn\u001b[0m \u001b[0mavg_bkg\u001b[0m\u001b[0;34m\u001b[0m\u001b[0;34m\u001b[0m\u001b[0m\n\u001b[0m",
      "\u001b[0;32m/opt/conda/lib/python3.7/site-packages/PIL/Image.py\u001b[0m in \u001b[0;36mpoint\u001b[0;34m(self, lut, mode)\u001b[0m\n\u001b[1;32m   1674\u001b[0m             \u001b[0;32mraise\u001b[0m \u001b[0mValueError\u001b[0m\u001b[0;34m(\u001b[0m\u001b[0;34m\"point operation not supported for this mode\"\u001b[0m\u001b[0;34m)\u001b[0m\u001b[0;34m\u001b[0m\u001b[0;34m\u001b[0m\u001b[0m\n\u001b[1;32m   1675\u001b[0m \u001b[0;34m\u001b[0m\u001b[0m\n\u001b[0;32m-> 1676\u001b[0;31m         \u001b[0;32mreturn\u001b[0m \u001b[0mself\u001b[0m\u001b[0;34m.\u001b[0m\u001b[0m_new\u001b[0m\u001b[0;34m(\u001b[0m\u001b[0mself\u001b[0m\u001b[0;34m.\u001b[0m\u001b[0mim\u001b[0m\u001b[0;34m.\u001b[0m\u001b[0mpoint\u001b[0m\u001b[0;34m(\u001b[0m\u001b[0mlut\u001b[0m\u001b[0;34m,\u001b[0m \u001b[0mmode\u001b[0m\u001b[0;34m)\u001b[0m\u001b[0;34m)\u001b[0m\u001b[0;34m\u001b[0m\u001b[0;34m\u001b[0m\u001b[0m\n\u001b[0m\u001b[1;32m   1677\u001b[0m \u001b[0;34m\u001b[0m\u001b[0m\n\u001b[1;32m   1678\u001b[0m     \u001b[0;32mdef\u001b[0m \u001b[0mputalpha\u001b[0m\u001b[0;34m(\u001b[0m\u001b[0mself\u001b[0m\u001b[0;34m,\u001b[0m \u001b[0malpha\u001b[0m\u001b[0;34m)\u001b[0m\u001b[0;34m:\u001b[0m\u001b[0;34m\u001b[0m\u001b[0;34m\u001b[0m\u001b[0m\n",
      "\u001b[0;31mKeyboardInterrupt\u001b[0m: "
     ]
    }
   ],
   "source": [
    "# SLOW :( \n",
    "from data.tile_generation_cptac import generate_tiles\n",
    "\n",
    "generate_tiles(slides_dir, os.path.join(input_dir, 'slides_metadata.csv'), tiles_dir, 'idc-pathomics-000')"
   ]
  },
  {
   "cell_type": "code",
   "execution_count": null,
   "metadata": {},
   "outputs": [],
   "source": [
    "from data.tile_sorting_cptac import sort_tiles\n",
    "\n",
    "#metadata_file = os.path.join(input_dir, 'metadata.cart.2017-03-02T00_36_30.276824.json')\n",
    "#sort_tiles(tiles_dir, metadata_file, input_dir, 'norm_cancer', magnification=5.0)\n",
    "#sort_tiles(tiles_dir, metadata_file, input_dir, 'luad_lusc', magnification=5.0)\n",
    "#sort_tiles(tiles_dir, metadata_file, input_dir, 'norm_luad_lusc', magnification=5.0)"
   ]
  },
  {
   "cell_type": "markdown",
   "metadata": {},
   "source": [
    "## Training\n",
    "## Evaluation"
   ]
  },
  {
   "cell_type": "markdown",
   "metadata": {},
   "source": []
  }
 ],
 "metadata": {
  "environment": {
   "name": "tf2-gpu.2-1.m75",
   "type": "gcloud",
   "uri": "gcr.io/deeplearning-platform-release/tf2-gpu.2-1:m75"
  },
  "kernelspec": {
   "display_name": "Python 3",
   "language": "python",
   "name": "python3"
  },
  "language_info": {
   "codemirror_mode": {
    "name": "ipython",
    "version": 3
   },
   "file_extension": ".py",
   "mimetype": "text/x-python",
   "name": "python",
   "nbconvert_exporter": "python",
   "pygments_lexer": "ipython3",
   "version": "3.7.10"
  }
 },
 "nbformat": 4,
 "nbformat_minor": 4
}
