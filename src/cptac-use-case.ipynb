{
 "cells": [
  {
   "cell_type": "markdown",
   "metadata": {},
   "source": [
    "# About"
   ]
  },
  {
   "cell_type": "markdown",
   "metadata": {},
   "source": [
    "# Prerequisites"
   ]
  },
  {
   "cell_type": "code",
   "execution_count": 6,
   "metadata": {},
   "outputs": [],
   "source": [
    "my_project_id = \"idc-pathomics-000\""
   ]
  },
  {
   "cell_type": "code",
   "execution_count": 7,
   "metadata": {},
   "outputs": [],
   "source": [
    "# Import all required python libraries for this use case\n",
    "import os\n",
    "import pandas as pd\n",
    "import pydata_google_auth\n",
    "from google.cloud.bigquery import magics "
   ]
  },
  {
   "cell_type": "code",
   "execution_count": 8,
   "metadata": {},
   "outputs": [],
   "source": [
    "credentials = pydata_google_auth.get_user_credentials(['https://www.googleapis.com/auth/bigquery'],)\n",
    "magics.context.credentials = credentials # credentials will be used later for BiqQuery queries"
   ]
  },
  {
   "cell_type": "code",
   "execution_count": 9,
   "metadata": {},
   "outputs": [],
   "source": [
    "# BigQuery Authentification: https://cloud.google.com/docs/authentication/getting-started --> umgebungsvariable festlegen \n",
    "# https://medium.com/john-lewis-software-engineering/authenticating-jupyter-notebook-against-bigquery-957884f78527\n",
    "# from command line\n",
    "#!gcloud auth application-default login --yes\n",
    "# when using google.colab\n",
    "#from google.colab import auth \n",
    "#auth.authenticate_user()"
   ]
  },
  {
   "cell_type": "markdown",
   "metadata": {},
   "source": [
    "# Environment setup"
   ]
  },
  {
   "cell_type": "code",
   "execution_count": 10,
   "metadata": {},
   "outputs": [
    {
     "name": "stdout",
     "output_type": "stream",
     "text": [
      "Current directory : /home/jupyter/idc-pathomics-use-case-1/src\n",
      "Hostname          : idc-patho-vm-02\n",
      "Username          : jupyter\n"
     ]
    }
   ],
   "source": [
    "curr_dir = !pwd\n",
    "curr_droid = !hostname\n",
    "curr_pilot = !whoami\n",
    "\n",
    "print(\"Current directory :\", curr_dir[-1])\n",
    "print(\"Hostname          :\", curr_droid[-1])\n",
    "print(\"Username          :\", curr_pilot[-1])"
   ]
  },
  {
   "cell_type": "code",
   "execution_count": 11,
   "metadata": {},
   "outputs": [],
   "source": [
    "%%capture\n",
    "!sudo apt-get update\n",
    "!sudo apt-get install --no-install-recommends -y python3-openslide\n",
    "\n",
    "# Install other requirements or are these already available? "
   ]
  },
  {
   "cell_type": "markdown",
   "metadata": {},
   "source": [
    "# Dataset selection and exploration using BiqQuery"
   ]
  },
  {
   "cell_type": "code",
   "execution_count": 12,
   "metadata": {},
   "outputs": [],
   "source": [
    "# Explanation where Attributes are obtained from etc. pp., explain BigQuery magic, alternative: BigQuery client see https://cloud.google.com/bigquery/docs/visualize-jupyter?hl=de#pip"
   ]
  },
  {
   "cell_type": "code",
   "execution_count": 13,
   "metadata": {},
   "outputs": [
    {
     "name": "stderr",
     "output_type": "stream",
     "text": [
      "Query complete after 0.00s: 100%|██████████| 1/1 [00:00<00:00, 736.10query/s] \n",
      "Downloading: 100%|██████████| 2218/2218 [00:02<00:00, 876.97rows/s] \n"
     ]
    }
   ],
   "source": [
    "%%bigquery cohort_df --project=$my_project_id \n",
    "\n",
    "SELECT\n",
    "    b.ContainerIdentifier AS slide_id,\n",
    "    b.PatientID AS patient_id,\n",
    "    b.ClinicalTrialProtocolID AS tumor_subtype,\n",
    "    b.TotalPixelMatrixColumns AS width,\n",
    "    b.TotalPixelMatrixRows AS height,\n",
    "    b.gcs_url\n",
    "FROM\n",
    "    -- ContainerIdentifier is not unique if slide was scanned twice.\n",
    "    -- Therefore, identify slides by both ContainerIdentifier and FrameOfReferenceUID.\n",
    "    (\n",
    "        SELECT\n",
    "            ContainerIdentifier,\n",
    "            FrameOfReferenceUID,\n",
    "            MAX(TotalPixelMatrixColumns * TotalPixelMatrixRows) AS max_size\n",
    "        FROM idc-dev-etl.idc_v3.dicom_metadata\n",
    "        WHERE\n",
    "            NOT (ContainerIdentifier IS NULL)\n",
    "            AND (ClinicalTrialProtocolID = \"CPTAC-LUAD\"\n",
    "                OR ClinicalTrialProtocolID = \"CPTAC-LSCC\")\n",
    "        GROUP BY ContainerIdentifier, FrameOfReferenceUID \n",
    "    ) AS a\n",
    "    JOIN idc-dev-etl.idc_v3.dicom_all AS b ON\n",
    "        b.ContainerIdentifier = a.ContainerIdentifier\n",
    "        AND b.FrameOfReferenceUID = a.FrameOfReferenceUID\n",
    "WHERE a.max_size = b.TotalPixelMatrixColumns * b.TotalPixelMatrixRows"
   ]
  },
  {
   "cell_type": "code",
   "execution_count": 14,
   "metadata": {},
   "outputs": [
    {
     "name": "stdout",
     "output_type": "stream",
     "text": [
      "       slide_id patient_id tumor_subtype  width  height  \\\n",
      "0  C3L-04784-27  C3L-04784    CPTAC-LUAD  73704   34427   \n",
      "1  C3N-04457-21  C3N-04457    CPTAC-LSCC  73704   33679   \n",
      "2  C3L-02627-27  C3L-02627    CPTAC-LSCC  69719   22057   \n",
      "3  C3N-02434-26  C3N-02434    CPTAC-LSCC  51791   21419   \n",
      "4  C3N-02285-30  C3N-02285    CPTAC-LSCC  19919   21038   \n",
      "\n",
      "                                             gcs_url  \n",
      "0  gs://idc_v3_cptac_luad/0eb19c55-3bb1-4448-8302...  \n",
      "1  gs://idc_v3_cptac_lscc/46e1a340-c7f0-434e-ac5c...  \n",
      "2  gs://idc_v3_cptac_lscc/b8e15005-14bd-4c2b-83c6...  \n",
      "3  gs://idc_v3_cptac_lscc/4285b4ed-01d6-45b1-b7aa...  \n",
      "4  gs://idc_v3_cptac_lscc/86f1e27d-34f2-41f9-9414...   2218\n"
     ]
    }
   ],
   "source": [
    "print(cohort_df.head(), len(cohort_df))"
   ]
  },
  {
   "cell_type": "code",
   "execution_count": 15,
   "metadata": {},
   "outputs": [],
   "source": [
    "cohort_df.to_csv('/home/jupyter/cohort.csv', index=False)"
   ]
  },
  {
   "cell_type": "code",
   "execution_count": 16,
   "metadata": {},
   "outputs": [],
   "source": [
    "tissue_type_data = pd.read_csv('/home/jupyter/CPTAC_LUAD-LSCC_metadata_from_TCIA.csv')"
   ]
  },
  {
   "cell_type": "code",
   "execution_count": 19,
   "metadata": {},
   "outputs": [],
   "source": [
    "def add_tissue_type_information(cohort_df, tissue_type_data):\n",
    "    tissue_types = []\n",
    "    for i, row in cohort_df.iterrows():\n",
    "        slide_id = row['slide_id']\n",
    "        try: \n",
    "            tissue_type = tissue_type_data[tissue_type_data['Slide_ID'] == slide_id]['Specimen_Type'].item()\n",
    "            tissue_types.append(tissue_type)\n",
    "        except: \n",
    "            cohort_df = cohort_df.drop(index=i)\n",
    "    complete_df = _add_column_to_dataframe(cohort_df, tissue_types)\n",
    "    \n",
    "    # Replace certain column values for clarity\n",
    "    complete_df.replace({'tumor_subtype': 'CPTAC-LSCC'}, 'LSCC', inplace=True)\n",
    "    complete_df.replace({'tumor_subtype': 'CPTAC-LUAD'}, 'LUAD', inplace=True)\n",
    "    complete_df.replace({'tissue_type': 'normal_tissue'}, 'normal', inplace=True)\n",
    "    complete_df.replace({'tissue_type': 'tumor_tissue'}, 'tumor', inplace=True)\n",
    "    return complete_df\n",
    "\n",
    "def _add_column_to_dataframe(dataframe, column): \n",
    "    assert len(dataframe) == len(column), 'Number of new column values not matching length of dataframe.'\n",
    "    dataframe.insert(3, 'tissue_type', column)\n",
    "    return dataframe    "
   ]
  },
  {
   "cell_type": "code",
   "execution_count": 20,
   "metadata": {},
   "outputs": [],
   "source": [
    "slides_metadata = add_tissue_type_information(cohort_df, tissue_type_data)\n",
    "slides_metadata.to_csv('/home/jupyter/slides_metadata.csv', index=False)"
   ]
  },
  {
   "cell_type": "code",
   "execution_count": 22,
   "metadata": {},
   "outputs": [
    {
     "data": {
      "text/html": [
       "<div>\n",
       "<style scoped>\n",
       "    .dataframe tbody tr th:only-of-type {\n",
       "        vertical-align: middle;\n",
       "    }\n",
       "\n",
       "    .dataframe tbody tr th {\n",
       "        vertical-align: top;\n",
       "    }\n",
       "\n",
       "    .dataframe thead th {\n",
       "        text-align: right;\n",
       "    }\n",
       "</style>\n",
       "<table border=\"1\" class=\"dataframe\">\n",
       "  <thead>\n",
       "    <tr style=\"text-align: right;\">\n",
       "      <th></th>\n",
       "      <th>slide_id</th>\n",
       "      <th>patient_id</th>\n",
       "      <th>tumor_subtype</th>\n",
       "      <th>tissue_type</th>\n",
       "      <th>width</th>\n",
       "      <th>height</th>\n",
       "      <th>gcs_url</th>\n",
       "    </tr>\n",
       "  </thead>\n",
       "  <tbody>\n",
       "    <tr>\n",
       "      <th>2212</th>\n",
       "      <td>C3L-04888-28</td>\n",
       "      <td>C3L-04888</td>\n",
       "      <td>LSCC</td>\n",
       "      <td>normal</td>\n",
       "      <td>39840</td>\n",
       "      <td>45168</td>\n",
       "      <td>gs://idc_v3_cptac_lscc/15eb8461-ca86-4fd8-be1e...</td>\n",
       "    </tr>\n",
       "    <tr>\n",
       "      <th>2213</th>\n",
       "      <td>C3L-05022-26</td>\n",
       "      <td>C3L-05022</td>\n",
       "      <td>LSCC</td>\n",
       "      <td>normal</td>\n",
       "      <td>21912</td>\n",
       "      <td>19502</td>\n",
       "      <td>gs://idc_v3_cptac_lscc/675db2c4-b4fb-4a19-9af5...</td>\n",
       "    </tr>\n",
       "    <tr>\n",
       "      <th>2214</th>\n",
       "      <td>C3L-02669-25</td>\n",
       "      <td>C3L-02669</td>\n",
       "      <td>LSCC</td>\n",
       "      <td>tumor</td>\n",
       "      <td>77687</td>\n",
       "      <td>20030</td>\n",
       "      <td>gs://idc_v3_cptac_lscc/d291390c-20a6-46e5-946f...</td>\n",
       "    </tr>\n",
       "    <tr>\n",
       "      <th>2216</th>\n",
       "      <td>C3L-00993-26</td>\n",
       "      <td>C3L-00993</td>\n",
       "      <td>LSCC</td>\n",
       "      <td>normal</td>\n",
       "      <td>37847</td>\n",
       "      <td>36071</td>\n",
       "      <td>gs://idc_v3_cptac_lscc/4f477204-3ecc-4c2e-ad17...</td>\n",
       "    </tr>\n",
       "    <tr>\n",
       "      <th>2217</th>\n",
       "      <td>C3N-03038-21</td>\n",
       "      <td>C3N-03038</td>\n",
       "      <td>LUAD</td>\n",
       "      <td>tumor</td>\n",
       "      <td>41831</td>\n",
       "      <td>16268</td>\n",
       "      <td>gs://idc_v3_cptac_luad/0252539c-a4aa-46e0-863e...</td>\n",
       "    </tr>\n",
       "  </tbody>\n",
       "</table>\n",
       "</div>"
      ],
      "text/plain": [
       "          slide_id patient_id tumor_subtype tissue_type  width  height  \\\n",
       "2212  C3L-04888-28  C3L-04888          LSCC      normal  39840   45168   \n",
       "2213  C3L-05022-26  C3L-05022          LSCC      normal  21912   19502   \n",
       "2214  C3L-02669-25  C3L-02669          LSCC       tumor  77687   20030   \n",
       "2216  C3L-00993-26  C3L-00993          LSCC      normal  37847   36071   \n",
       "2217  C3N-03038-21  C3N-03038          LUAD       tumor  41831   16268   \n",
       "\n",
       "                                                gcs_url  \n",
       "2212  gs://idc_v3_cptac_lscc/15eb8461-ca86-4fd8-be1e...  \n",
       "2213  gs://idc_v3_cptac_lscc/675db2c4-b4fb-4a19-9af5...  \n",
       "2214  gs://idc_v3_cptac_lscc/d291390c-20a6-46e5-946f...  \n",
       "2216  gs://idc_v3_cptac_lscc/4f477204-3ecc-4c2e-ad17...  \n",
       "2217  gs://idc_v3_cptac_luad/0252539c-a4aa-46e0-863e...  "
      ]
     },
     "execution_count": 22,
     "metadata": {},
     "output_type": "execute_result"
    }
   ],
   "source": [
    "slides_metadata.head()"
   ]
  },
  {
   "cell_type": "code",
   "execution_count": null,
   "metadata": {},
   "outputs": [],
   "source": [
    "# IDC viewer for some pathomics data? \n",
    "def get_idc_viewer_url(study_UID):\n",
    "    return \"https://viewer.imaging.datacommons.cancer.gov/viewer/\" + study_UID"
   ]
  },
  {
   "cell_type": "markdown",
   "metadata": {},
   "source": [
    "# Temporary Data Download "
   ]
  },
  {
   "cell_type": "code",
   "execution_count": 72,
   "metadata": {},
   "outputs": [
    {
     "name": "stdout",
     "output_type": "stream",
     "text": [
      "gs://idc_v3_cptac_lscc/cf647e08-1b9c-4e5d-8ee1-5abf166560a2.dcm\n",
      "gs://idc_v3_cptac_lscc/457c48a2-6392-4ff1-92d4-7baff70561a2.dcm\n",
      "gs://idc_v3_cptac_lscc/5ec9dd12-432a-416b-a196-c0d0f9819b5f.dcm\n",
      "gs://idc_v3_cptac_lscc/4423f531-e087-4e39-b865-1b95ccc85ee8.dcm\n",
      "gs://idc_v3_cptac_luad/38db2080-5cf5-4799-9724-786decfffb27.dcm\n",
      "gs://idc_v3_cptac_lscc/d45a691e-3510-480b-a1b1-d19b0da9c23d.dcm\n",
      "gs://idc_v3_cptac_lscc/d905d5f8-04ce-413a-8a7c-528361b30757.dcm\n",
      "gs://idc_v3_cptac_lscc/1523696b-949e-4da1-9996-4f1855ac836a.dcm\n",
      "gs://idc_v3_cptac_lscc/2b431901-91d1-4e58-8d38-6c48abdd6e27.dcm\n",
      "gs://idc_v3_cptac_luad/de63298e-4bbb-460c-8a76-1fee1e91fd4c.dcm\n"
     ]
    }
   ],
   "source": [
    "cohort_df['gcs_url'][:10].to_csv('/home/jupyter/gcs_paths.txt', header=False, index=False)\n",
    "!cat /home/jupyter/gcs_paths.txt"
   ]
  },
  {
   "cell_type": "code",
   "execution_count": 73,
   "metadata": {},
   "outputs": [
    {
     "name": "stdout",
     "output_type": "stream",
     "text": [
      "Copying gs://idc_v3_cptac_lscc/cf647e08-1b9c-4e5d-8ee1-5abf166560a2.dcm...\n",
      "Copying gs://idc_v3_cptac_lscc/457c48a2-6392-4ff1-92d4-7baff70561a2.dcm...      \n",
      "Copying gs://idc_v3_cptac_lscc/5ec9dd12-432a-416b-a196-c0d0f9819b5f.dcm...      \n",
      "Copying gs://idc_v3_cptac_lscc/4423f531-e087-4e39-b865-1b95ccc85ee8.dcm...      \n",
      "Copying gs://idc_v3_cptac_luad/38db2080-5cf5-4799-9724-786decfffb27.dcm...      \n",
      "Copying gs://idc_v3_cptac_lscc/d45a691e-3510-480b-a1b1-d19b0da9c23d.dcm...      \n",
      "Copying gs://idc_v3_cptac_lscc/d905d5f8-04ce-413a-8a7c-528361b30757.dcm...      \n",
      "Copying gs://idc_v3_cptac_lscc/1523696b-949e-4da1-9996-4f1855ac836a.dcm...      \n",
      "Copying gs://idc_v3_cptac_lscc/2b431901-91d1-4e58-8d38-6c48abdd6e27.dcm...      \n",
      "Copying gs://idc_v3_cptac_luad/de63298e-4bbb-460c-8a76-1fee1e91fd4c.dcm...      \n",
      "| [10/10 files][  3.4 GiB/  3.4 GiB] 100% Done  49.7 MiB/s ETA 00:00:00         \n",
      "Operation completed over 10 objects/3.4 GiB.                                     \n"
     ]
    }
   ],
   "source": [
    "!mkdir /home/jupyter/downloaded_cohort\n",
    "!cat /home/jupyter/gcs_paths.txt | gsutil -u $my_project_id -m cp -I /home/jupyter/downloaded_cohort\n",
    "# make use of dicomsort??? "
   ]
  },
  {
   "cell_type": "markdown",
   "metadata": {},
   "source": [
    "# Pathomics use case\n",
    "## Preprocessing"
   ]
  },
  {
   "cell_type": "code",
   "execution_count": null,
   "metadata": {},
   "outputs": [],
   "source": [
    "input_dir = os.environ['IDC_INPUT_DATA_DIR']\n",
    "slides_dir = os.path.join(input_dir, 'cptac_slides')\n",
    "tiles_dir = os.path.join(input_dir, 'cptac_tiles')"
   ]
  },
  {
   "cell_type": "code",
   "execution_count": null,
   "metadata": {},
   "outputs": [],
   "source": [
    "from data.tile_generation_cptac import generate_tiles\n",
    "\n",
    "generate_tiles(slides_dir, tiles_dir)"
   ]
  },
  {
   "cell_type": "code",
   "execution_count": null,
   "metadata": {},
   "outputs": [],
   "source": [
    "#from data.tile_sorting import sort_tiles\n",
    "\n",
    "#metadata_file = os.path.join(input_dir, 'metadata.cart.2017-03-02T00_36_30.276824.json')\n",
    "#sort_tiles(tiles_dir, metadata_file, input_dir, 'norm_cancer', magnification=5.0)\n",
    "#sort_tiles(tiles_dir, metadata_file, input_dir, 'luad_lusc', magnification=5.0)\n",
    "#sort_tiles(tiles_dir, metadata_file, input_dir, 'norm_luad_lusc', magnification=5.0)"
   ]
  },
  {
   "cell_type": "markdown",
   "metadata": {},
   "source": [
    "## Training\n",
    "## Evaluation"
   ]
  },
  {
   "cell_type": "markdown",
   "metadata": {},
   "source": []
  }
 ],
 "metadata": {
  "environment": {
   "name": "tf2-gpu.2-1.m75",
   "type": "gcloud",
   "uri": "gcr.io/deeplearning-platform-release/tf2-gpu.2-1:m75"
  },
  "kernelspec": {
   "display_name": "Python 3",
   "language": "python",
   "name": "python3"
  },
  "language_info": {
   "codemirror_mode": {
    "name": "ipython",
    "version": 3
   },
   "file_extension": ".py",
   "mimetype": "text/x-python",
   "name": "python",
   "nbconvert_exporter": "python",
   "pygments_lexer": "ipython3",
   "version": "3.7.10"
  }
 },
 "nbformat": 4,
 "nbformat_minor": 4
}
