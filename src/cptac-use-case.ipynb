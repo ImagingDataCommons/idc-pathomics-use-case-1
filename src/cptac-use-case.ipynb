{
 "cells": [
  {
   "cell_type": "markdown",
   "metadata": {},
   "source": [
    "# About"
   ]
  },
  {
   "cell_type": "markdown",
   "metadata": {},
   "source": [
    "# Prerequisites"
   ]
  },
  {
   "cell_type": "code",
   "execution_count": 1,
   "metadata": {},
   "outputs": [],
   "source": [
    "my_project_id = \"idc-pathomics-000\""
   ]
  },
  {
   "cell_type": "code",
   "execution_count": 2,
   "metadata": {},
   "outputs": [],
   "source": [
    "# Import all required python libraries for this use case\n",
    "import os\n",
    "import pandas as pd\n",
    "import pydata_google_auth\n",
    "from google.cloud.bigquery import magics "
   ]
  },
  {
   "cell_type": "code",
   "execution_count": 3,
   "metadata": {},
   "outputs": [],
   "source": [
    "credentials = pydata_google_auth.get_user_credentials(['https://www.googleapis.com/auth/bigquery'],)\n",
    "magics.context.credentials = credentials # credentials will be used later for BiqQuery queries"
   ]
  },
  {
   "cell_type": "code",
   "execution_count": 4,
   "metadata": {},
   "outputs": [],
   "source": [
    "# BigQuery Authentification: https://cloud.google.com/docs/authentication/getting-started --> umgebungsvariable festlegen \n",
    "# https://medium.com/john-lewis-software-engineering/authenticating-jupyter-notebook-against-bigquery-957884f78527\n",
    "# from command line\n",
    "#!gcloud auth application-default login --yes\n",
    "# when using google.colab\n",
    "#from google.colab import auth \n",
    "#auth.authenticate_user()"
   ]
  },
  {
   "cell_type": "markdown",
   "metadata": {},
   "source": [
    "# Environment setup"
   ]
  },
  {
   "cell_type": "code",
   "execution_count": 5,
   "metadata": {},
   "outputs": [
    {
     "name": "stdout",
     "output_type": "stream",
     "text": [
      "Current directory : /home/jupyter/idc-pathomics-use-case-1/src\n",
      "Hostname          : idc-patho-vm-02\n",
      "Username          : jupyter\n"
     ]
    }
   ],
   "source": [
    "curr_dir = !pwd\n",
    "curr_droid = !hostname\n",
    "curr_pilot = !whoami\n",
    "\n",
    "print(\"Current directory :\", curr_dir[-1])\n",
    "print(\"Hostname          :\", curr_droid[-1])\n",
    "print(\"Username          :\", curr_pilot[-1])"
   ]
  },
  {
   "cell_type": "code",
   "execution_count": 6,
   "metadata": {},
   "outputs": [],
   "source": [
    "%%capture\n",
    "!sudo apt-get update\n",
    "!sudo apt-get install --no-install-recommends -y python3-openslide\n",
    "\n",
    "# Install other requirements or are these already available? "
   ]
  },
  {
   "cell_type": "markdown",
   "metadata": {},
   "source": [
    "# Dataset selection and exploration using BiqQuery"
   ]
  },
  {
   "cell_type": "code",
   "execution_count": 7,
   "metadata": {},
   "outputs": [],
   "source": [
    "# Explanation where Attributes are obtained from etc. pp., explain BigQuery magic, alternative: BigQuery client see https://cloud.google.com/bigquery/docs/visualize-jupyter?hl=de#pip"
   ]
  },
  {
   "cell_type": "code",
   "execution_count": 4,
   "metadata": {},
   "outputs": [
    {
     "name": "stderr",
     "output_type": "stream",
     "text": [
      "Query complete after 0.00s: 100%|██████████| 1/1 [00:00<00:00, 902.97query/s] \n",
      "Downloading: 100%|██████████| 2218/2218 [00:02<00:00, 1069.55rows/s]\n"
     ]
    }
   ],
   "source": [
    "%%bigquery cohort_df --project=$my_project_id \n",
    "\n",
    "SELECT\n",
    "    b.ContainerIdentifier AS slide_id,\n",
    "    b.PatientID AS patient_id,\n",
    "    b.ClinicalTrialProtocolID AS tumor_subtype,\n",
    "    b.TotalPixelMatrixColumns AS width,\n",
    "    b.TotalPixelMatrixRows AS height,\n",
    "    b.gcs_url\n",
    "FROM\n",
    "    (SELECT\n",
    "        ContainerIdentifier,\n",
    "        MAX(TotalPixelMatrixColumns * TotalPixelMatrixRows) AS max_size\n",
    "    FROM idc-dev-etl.idc_v3.dicom_metadata\n",
    "    WHERE\n",
    "        NOT (ContainerIdentifier IS NULL)\n",
    "        AND (ClinicalTrialProtocolID = \"CPTAC-LUAD\"\n",
    "            OR ClinicalTrialProtocolID = \"CPTAC-LSCC\")\n",
    "    GROUP BY ContainerIdentifier) AS a\n",
    "    JOIN idc-dev-etl.idc_v3.dicom_all AS b ON b.ContainerIdentifier = a.ContainerIdentifier\n",
    "WHERE a.max_size = b.TotalPixelMatrixColumns * b.TotalPixelMatrixRows"
   ]
  },
  {
   "cell_type": "code",
   "execution_count": 9,
   "metadata": {},
   "outputs": [
    {
     "name": "stdout",
     "output_type": "stream",
     "text": [
      "       slide_id patient_id tumor_subtype  width  height  \\\n",
      "0  C3L-02650-22  C3L-02650    CPTAC-LSCC  77687   29127   \n",
      "1  C3L-04863-26  C3L-04863    CPTAC-LSCC  49800   38400   \n",
      "2  C3L-01663-26  C3L-01663    CPTAC-LSCC  27887   20078   \n",
      "3  C3L-04873-24  C3L-04873    CPTAC-LSCC  83664   41490   \n",
      "4  C3L-02616-23  C3L-02616    CPTAC-LUAD  59759   29816   \n",
      "\n",
      "                                             gcs_url  \n",
      "0  gs://idc_v3_cptac_lscc/2ac6fcc6-c424-4401-bf9a...  \n",
      "1  gs://idc_v3_cptac_lscc/5ce6ce44-986a-4f90-82d7...  \n",
      "2  gs://idc_v3_cptac_lscc/5ac6c7a8-7369-4ab5-b3c7...  \n",
      "3  gs://idc_v3_cptac_lscc/07f1d820-01d2-495d-b350...  \n",
      "4  gs://idc_v3_cptac_luad/379ea225-b8cc-4f45-9d1b...  \n"
     ]
    }
   ],
   "source": [
    "print(cohort_df.head())"
   ]
  },
  {
   "cell_type": "code",
   "execution_count": null,
   "metadata": {},
   "outputs": [],
   "source": [
    "# IDC viewer for some pathomics data? \n",
    "def get_idc_viewer_url(study_UID):\n",
    "    return \"https://viewer.imaging.datacommons.cancer.gov/viewer/\" + study_UID"
   ]
  },
  {
   "cell_type": "markdown",
   "metadata": {},
   "source": [
    "# Pathomics use case\n",
    "## Preprocessing"
   ]
  },
  {
   "cell_type": "code",
   "execution_count": null,
   "metadata": {},
   "outputs": [],
   "source": [
    "input_dir = os.environ['IDC_INPUT_DATA_DIR']\n",
    "slides_dir = os.path.join(input_dir, 'cptac_slides')\n",
    "tiles_dir = os.path.join(input_dir, 'cptac_tiles')"
   ]
  },
  {
   "cell_type": "code",
   "execution_count": null,
   "metadata": {},
   "outputs": [],
   "source": [
    "from data.tile_generation_cptac import generate_tiles\n",
    "\n",
    "generate_tiles(slides_dir, tiles_dir, desired_magnification=20.0)"
   ]
  },
  {
   "cell_type": "code",
   "execution_count": null,
   "metadata": {},
   "outputs": [],
   "source": [
    "#from data.tile_sorting import sort_tiles\n",
    "\n",
    "#metadata_file = os.path.join(input_dir, 'metadata.cart.2017-03-02T00_36_30.276824.json')\n",
    "#sort_tiles(tiles_dir, metadata_file, input_dir, 'norm_cancer', magnification=5.0)\n",
    "#sort_tiles(tiles_dir, metadata_file, input_dir, 'luad_lusc', magnification=5.0)\n",
    "#sort_tiles(tiles_dir, metadata_file, input_dir, 'norm_luad_lusc', magnification=5.0)"
   ]
  },
  {
   "cell_type": "markdown",
   "metadata": {},
   "source": [
    "## Training\n",
    "## Evaluation"
   ]
  },
  {
   "cell_type": "markdown",
   "metadata": {},
   "source": []
  }
 ],
 "metadata": {
  "environment": {
   "name": "tf2-gpu.2-1.m75",
   "type": "gcloud",
   "uri": "gcr.io/deeplearning-platform-release/tf2-gpu.2-1:m75"
  },
  "kernelspec": {
   "display_name": "Python 3",
   "language": "python",
   "name": "python3"
  },
  "language_info": {
   "codemirror_mode": {
    "name": "ipython",
    "version": 3
   },
   "file_extension": ".py",
   "mimetype": "text/x-python",
   "name": "python",
   "nbconvert_exporter": "python",
   "pygments_lexer": "ipython3",
   "version": "3.7.10"
  }
 },
 "nbformat": 4,
 "nbformat_minor": 4
}
