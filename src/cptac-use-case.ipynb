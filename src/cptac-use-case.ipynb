{
 "cells": [
  {
   "cell_type": "markdown",
   "metadata": {},
   "source": [
    "# About"
   ]
  },
  {
   "cell_type": "markdown",
   "metadata": {},
   "source": [
    "# Prerequisites"
   ]
  },
  {
   "cell_type": "code",
   "execution_count": 20,
   "metadata": {},
   "outputs": [],
   "source": [
    "my_project_id = \"idc-pathomics-000\""
   ]
  },
  {
   "cell_type": "code",
   "execution_count": 21,
   "metadata": {},
   "outputs": [],
   "source": [
    "# Import all required python libraries for this use case\n",
    "import os\n",
    "import pandas as pd"
   ]
  },
  {
   "cell_type": "code",
   "execution_count": 4,
   "metadata": {},
   "outputs": [],
   "source": [
    "# BigQuery Authentification: https://cloud.google.com/docs/authentication/getting-started --> umgebungsvariable festlegen \n",
    "# https://medium.com/john-lewis-software-engineering/authenticating-jupyter-notebook-against-bigquery-957884f78527\n",
    "# from command line\n",
    "#!gcloud auth application-default login --yes\n",
    "# when using google.colab\n",
    "#from google.colab import auth \n",
    "#auth.authenticate_user()\n",
    "\n",
    "#!gcloud auth list\n",
    "#!gcloud config set account dschacherer.fme@gmail.com\n",
    "#!gcloud auth list\n",
    "\n",
    "# need to get the right scope here: https://developers.google.com/identity/protocols/oauth2/scopes, pydata Documentation: https://pydata-google-auth.readthedocs.io/_/downloads/en/latest/pdf/\n",
    "#credentials = pydata_google_auth.get_user_credentials(['https://www.googleapis.com/auth/bigquery', 'https://www.googleapis.com/auth/devstorage.full_control'],)\n",
    "#magics.context.credentials = credentials # credentials will be used later for BiqQuery queries"
   ]
  },
  {
   "cell_type": "markdown",
   "metadata": {},
   "source": [
    "# Environment setup"
   ]
  },
  {
   "cell_type": "code",
   "execution_count": 22,
   "metadata": {},
   "outputs": [
    {
     "name": "stdout",
     "output_type": "stream",
     "text": [
      "Current directory : /home/jupyter/idc-pathomics-use-case-1/src\n",
      "Hostname          : idc-patho-vm\n",
      "Username          : jupyter\n"
     ]
    }
   ],
   "source": [
    "curr_dir = !pwd\n",
    "curr_droid = !hostname\n",
    "curr_pilot = !whoami\n",
    "\n",
    "print(\"Current directory :\", curr_dir[-1])\n",
    "print(\"Hostname          :\", curr_droid[-1])\n",
    "print(\"Username          :\", curr_pilot[-1])"
   ]
  },
  {
   "cell_type": "code",
   "execution_count": 23,
   "metadata": {},
   "outputs": [
    {
     "name": "stdout",
     "output_type": "stream",
     "text": [
      "Hit:1 http://security.debian.org/debian-security buster/updates InRelease\n",
      "Hit:2 http://deb.debian.org/debian buster InRelease                            \n",
      "Hit:3 http://deb.debian.org/debian buster-updates InRelease                    \n",
      "Hit:4 http://deb.debian.org/debian buster-backports InRelease                  \n",
      "Hit:6 https://nvidia.github.io/libnvidia-container/stable/debian10/amd64  InRelease\n",
      "Hit:7 https://nvidia.github.io/nvidia-container-runtime/stable/debian10/amd64  InRelease\n",
      "Hit:8 https://nvidia.github.io/nvidia-docker/debian10/amd64  InRelease         \n",
      "Hit:9 https://download.docker.com/linux/debian buster InRelease     \n",
      "Hit:10 http://packages.cloud.google.com/apt cloud-sdk-buster InRelease\n",
      "Hit:11 https://packages.cloud.google.com/apt google-fast-socket InRelease\n",
      "Get:12 http://packages.cloud.google.com/apt google-cloud-packages-archive-keyring-buster InRelease [5553 B]\n",
      "Hit:5 https://packages.cloud.google.com/apt kubernetes-xenial InRelease\n",
      "Hit:13 http://packages.cloud.google.com/apt gcsfuse-buster InRelease\n",
      "Hit:14 http://packages.cloud.google.com/apt google-compute-engine-buster-stable InRelease\n",
      "Fetched 5553 B in 2s (3598 B/s)\n",
      "Reading package lists... Done\n",
      "Reading package lists... Done\n",
      "Building dependency tree       \n",
      "Reading state information... Done\n",
      "python3-openslide is already the newest version (1.1.1-4).\n",
      "0 upgraded, 0 newly installed, 0 to remove and 1 not upgraded.\n"
     ]
    }
   ],
   "source": [
    "!sudo apt-get update\n",
    "!sudo apt-get install --no-install-recommends -y python3-openslide"
   ]
  },
  {
   "cell_type": "code",
   "execution_count": 24,
   "metadata": {},
   "outputs": [
    {
     "name": "stdout",
     "output_type": "stream",
     "text": [
      "Collecting openslide-wrapper==1.1.2 (from -r ../requirements.txt (line 1))\n",
      "  Using cached https://files.pythonhosted.org/packages/1e/29/22477784edf81464a8fd1e30b712bc7912ff3a69d80150f08e8409a3759f/openslide-wrapper-1.1.2.tar.gz\n",
      "Collecting numpy==1.19.1 (from -r ../requirements.txt (line 2))\n",
      "\u001b[?25l  Downloading https://files.pythonhosted.org/packages/3d/d1/90cd7e0b27ee86d77f5386d38b74520486100286d50772377791b6ef22ff/numpy-1.19.1-cp37-cp37m-manylinux1_x86_64.whl (13.4MB)\n",
      "\u001b[K    100% |████████████████████████████████| 13.4MB 109kB/s eta 0:00:01\n",
      "\u001b[?25hCollecting scikit-learn==0.24.1 (from -r ../requirements.txt (line 3))\n",
      "\u001b[?25l  Downloading https://files.pythonhosted.org/packages/5f/b8/2ca252447f2ada6dd6b35f6211b9b5562ff5d03e8a8159292a83006eff12/scikit_learn-0.24.1-cp37-cp37m-manylinux1_x86_64.whl (19.9MB)\n",
      "\u001b[K    100% |████████████████████████████████| 19.9MB 73kB/s  eta 0:00:01\n",
      "\u001b[?25hCollecting pandas==1.1.0 (from -r ../requirements.txt (line 4))\n",
      "\u001b[?25l  Downloading https://files.pythonhosted.org/packages/94/b1/f77f49cc7cc538b247f30c2ae7e3a50f29e44f0b1af32ff4869d7de3c762/pandas-1.1.0-cp37-cp37m-manylinux1_x86_64.whl (10.5MB)\n",
      "\u001b[K    100% |████████████████████████████████| 10.5MB 136kB/s eta 0:00:01\n",
      "\u001b[?25hCollecting seaborn (from -r ../requirements.txt (line 5))\n",
      "\u001b[?25l  Downloading https://files.pythonhosted.org/packages/68/ad/6c2406ae175f59ec616714e408979b674fe27b9587f79d59a528ddfbcd5b/seaborn-0.11.1-py3-none-any.whl (285kB)\n",
      "\u001b[K    100% |████████████████████████████████| 286kB 4.6MB/s eta 0:00:01\n",
      "\u001b[?25hRequirement already satisfied: Pillow in /usr/lib/python3/dist-packages (from openslide-wrapper==1.1.2->-r ../requirements.txt (line 1)) (5.4.1)\n",
      "Collecting joblib>=0.11 (from scikit-learn==0.24.1->-r ../requirements.txt (line 3))\n",
      "\u001b[?25l  Downloading https://files.pythonhosted.org/packages/55/85/70c6602b078bd9e6f3da4f467047e906525c355a4dacd4f71b97a35d9897/joblib-1.0.1-py3-none-any.whl (303kB)\n",
      "\u001b[K    100% |████████████████████████████████| 307kB 4.8MB/s eta 0:00:01\n",
      "\u001b[?25hCollecting scipy>=0.19.1 (from scikit-learn==0.24.1->-r ../requirements.txt (line 3))\n",
      "\u001b[?25l  Downloading https://files.pythonhosted.org/packages/b2/85/b00f13b52d079b5625e1a12330fc6453c947a482ff667a907c7bc60ed220/scipy-1.7.0-cp37-cp37m-manylinux_2_5_x86_64.manylinux1_x86_64.whl (28.5MB)\n",
      "\u001b[K    100% |████████████████████████████████| 28.5MB 48kB/s  eta 0:00:01\n",
      "\u001b[?25hCollecting threadpoolctl>=2.0.0 (from scikit-learn==0.24.1->-r ../requirements.txt (line 3))\n",
      "  Downloading https://files.pythonhosted.org/packages/c6/e8/c216b9b60cbba4642d3ca1bae7a53daa0c24426f662e0e3ce3dc7f6caeaa/threadpoolctl-2.2.0-py3-none-any.whl\n",
      "Collecting python-dateutil>=2.7.3 (from pandas==1.1.0->-r ../requirements.txt (line 4))\n",
      "\u001b[?25l  Downloading https://files.pythonhosted.org/packages/36/7a/87837f39d0296e723bb9b62bbb257d0355c7f6128853c78955f57342a56d/python_dateutil-2.8.2-py2.py3-none-any.whl (247kB)\n",
      "\u001b[K    100% |████████████████████████████████| 256kB 5.1MB/s eta 0:00:01\n",
      "\u001b[?25hCollecting pytz>=2017.2 (from pandas==1.1.0->-r ../requirements.txt (line 4))\n",
      "\u001b[?25l  Downloading https://files.pythonhosted.org/packages/70/94/784178ca5dd892a98f113cdd923372024dc04b8d40abe77ca76b5fb90ca6/pytz-2021.1-py2.py3-none-any.whl (510kB)\n",
      "\u001b[K    100% |████████████████████████████████| 512kB 2.9MB/s eta 0:00:01\n",
      "\u001b[?25hCollecting matplotlib>=2.2 (from seaborn->-r ../requirements.txt (line 5))\n",
      "\u001b[?25l  Downloading https://files.pythonhosted.org/packages/24/33/5568d443ba438d95d4db635dd69958056f087e57e1026bee56f959d53f9d/matplotlib-3.4.2-cp37-cp37m-manylinux1_x86_64.whl (10.3MB)\n",
      "\u001b[K    100% |████████████████████████████████| 10.3MB 135kB/s eta 0:00:01\n",
      "\u001b[?25hCollecting six>=1.5 (from python-dateutil>=2.7.3->pandas==1.1.0->-r ../requirements.txt (line 4))\n",
      "  Downloading https://files.pythonhosted.org/packages/d9/5a/e7c31adbe875f2abbb91bd84cf2dc52d792b5a01506781dbcf25c91daf11/six-1.16.0-py2.py3-none-any.whl\n",
      "Collecting pyparsing>=2.2.1 (from matplotlib>=2.2->seaborn->-r ../requirements.txt (line 5))\n",
      "\u001b[?25l  Downloading https://files.pythonhosted.org/packages/8a/bb/488841f56197b13700afd5658fc279a2025a39e22449b7cf29864669b15d/pyparsing-2.4.7-py2.py3-none-any.whl (67kB)\n",
      "\u001b[K    100% |████████████████████████████████| 71kB 10.5MB/s ta 0:00:01\n",
      "\u001b[?25hCollecting cycler>=0.10 (from matplotlib>=2.2->seaborn->-r ../requirements.txt (line 5))\n",
      "  Downloading https://files.pythonhosted.org/packages/f7/d2/e07d3ebb2bd7af696440ce7e754c59dd546ffe1bbe732c8ab68b9c834e61/cycler-0.10.0-py2.py3-none-any.whl\n",
      "Collecting kiwisolver>=1.0.1 (from matplotlib>=2.2->seaborn->-r ../requirements.txt (line 5))\n",
      "\u001b[?25l  Downloading https://files.pythonhosted.org/packages/d2/46/231de802ade4225b76b96cffe419cf3ce52bbe92e3b092cf12db7d11c207/kiwisolver-1.3.1-cp37-cp37m-manylinux1_x86_64.whl (1.1MB)\n",
      "\u001b[K    100% |████████████████████████████████| 1.1MB 1.2MB/s eta 0:00:01\n",
      "\u001b[?25hBuilding wheels for collected packages: openslide-wrapper\n",
      "  Running setup.py bdist_wheel for openslide-wrapper ... \u001b[?25lerror\n",
      "  Complete output from command /usr/bin/python3 -u -c \"import setuptools, tokenize;__file__='/tmp/pip-install-m95w83hx/openslide-wrapper/setup.py';f=getattr(tokenize, 'open', open)(__file__);code=f.read().replace('\\r\\n', '\\n');f.close();exec(compile(code, __file__, 'exec'))\" bdist_wheel -d /tmp/pip-wheel-2dndb4zo --python-tag cp37:\n",
      "  usage: -c [global_opts] cmd1 [cmd1_opts] [cmd2 [cmd2_opts] ...]\n",
      "     or: -c --help [cmd1 cmd2 ...]\n",
      "     or: -c --help-commands\n",
      "     or: -c cmd --help\n",
      "  \n",
      "  error: invalid command 'bdist_wheel'\n",
      "  \n",
      "  ----------------------------------------\n",
      "\u001b[31m  Failed building wheel for openslide-wrapper\u001b[0m\n",
      "\u001b[?25h  Running setup.py clean for openslide-wrapper\n",
      "Failed to build openslide-wrapper\n",
      "\u001b[31mmatplotlib 3.4.2 has requirement pillow>=6.2.0, but you'll have pillow 5.4.1 which is incompatible.\u001b[0m\n",
      "Installing collected packages: openslide-wrapper, numpy, joblib, scipy, threadpoolctl, scikit-learn, six, python-dateutil, pytz, pandas, pyparsing, cycler, kiwisolver, matplotlib, seaborn\n",
      "  Running setup.py install for openslide-wrapper ... \u001b[?25ldone\n",
      "\u001b[?25hSuccessfully installed cycler-0.10.0 joblib-1.0.1 kiwisolver-1.3.1 matplotlib-3.4.2 numpy-1.19.1 openslide-wrapper-1.1.2 pandas-1.1.0 pyparsing-2.4.7 python-dateutil-2.8.2 pytz-2021.1 scikit-learn-0.24.1 scipy-1.7.0 seaborn-0.11.1 six-1.16.0 threadpoolctl-2.2.0\n"
     ]
    }
   ],
   "source": [
    "# Install other requirements or are these already available? Check!\n",
    "!sudo pip3 install -r ../requirements.txt"
   ]
  },
  {
   "cell_type": "code",
   "execution_count": 25,
   "metadata": {},
   "outputs": [],
   "source": [
    "# otherwise Openslide can not be loaded. \n",
    "import sys\n",
    "sys.path.append('/usr/local/lib/python3.7/dist-packages')"
   ]
  },
  {
   "cell_type": "markdown",
   "metadata": {},
   "source": [
    "# Dataset selection and exploration using BiqQuery"
   ]
  },
  {
   "cell_type": "code",
   "execution_count": 26,
   "metadata": {},
   "outputs": [],
   "source": [
    "# Explanation where Attributes are obtained from etc. pp., explain BigQuery magic, alternative: BigQuery client see https://cloud.google.com/bigquery/docs/visualize-jupyter?hl=de#pip"
   ]
  },
  {
   "cell_type": "code",
   "execution_count": 27,
   "metadata": {},
   "outputs": [
    {
     "name": "stderr",
     "output_type": "stream",
     "text": [
      "Query complete after 0.00s: 100%|██████████| 1/1 [00:00<00:00, 726.54query/s] \n",
      "Downloading: 100%|██████████| 2218/2218 [00:01<00:00, 1586.79rows/s]\n"
     ]
    }
   ],
   "source": [
    "%%bigquery cohort_df --project=$my_project_id \n",
    "\n",
    "SELECT\n",
    "    b.ContainerIdentifier AS slide_id,\n",
    "    b.PatientID AS patient_id,\n",
    "    b.ClinicalTrialProtocolID AS tumor_subtype,\n",
    "    b.TotalPixelMatrixColumns AS width,\n",
    "    b.TotalPixelMatrixRows AS height,\n",
    "    b.gcs_url\n",
    "FROM\n",
    "    -- ContainerIdentifier is not unique if slide was scanned twice.\n",
    "    -- Therefore, identify slides by both ContainerIdentifier and FrameOfReferenceUID.\n",
    "    (\n",
    "        SELECT\n",
    "            ContainerIdentifier,\n",
    "            FrameOfReferenceUID,\n",
    "            MAX(TotalPixelMatrixColumns * TotalPixelMatrixRows) AS max_size\n",
    "        FROM idc-dev-etl.idc_v3.dicom_metadata\n",
    "        WHERE\n",
    "            NOT (ContainerIdentifier IS NULL)\n",
    "            AND (ClinicalTrialProtocolID = \"CPTAC-LUAD\"\n",
    "                OR ClinicalTrialProtocolID = \"CPTAC-LSCC\")\n",
    "        GROUP BY ContainerIdentifier, FrameOfReferenceUID \n",
    "    ) AS a\n",
    "    JOIN idc-dev-etl.idc_v3.dicom_all AS b ON\n",
    "        b.ContainerIdentifier = a.ContainerIdentifier\n",
    "        AND b.FrameOfReferenceUID = a.FrameOfReferenceUID\n",
    "WHERE a.max_size = b.TotalPixelMatrixColumns * b.TotalPixelMatrixRows"
   ]
  },
  {
   "cell_type": "code",
   "execution_count": 28,
   "metadata": {},
   "outputs": [
    {
     "name": "stdout",
     "output_type": "stream",
     "text": [
      "       slide_id patient_id tumor_subtype  width  height  \\\n",
      "0  C3L-02629-26  C3L-02629    CPTAC-LSCC  73703   20873   \n",
      "1  C3L-02660-24  C3L-02660    CPTAC-LSCC  59759   28076   \n",
      "2  C3L-04086-27  C3L-04086    CPTAC-LSCC  13944   17721   \n",
      "3  C3L-04749-26  C3L-04749    CPTAC-LSCC  75696   35827   \n",
      "4  C3N-03093-24  C3N-03093    CPTAC-LSCC  35855   30619   \n",
      "\n",
      "                                             gcs_url  \n",
      "0  gs://idc_v3_cptac_lscc/79d63483-77aa-4b23-ab72...  \n",
      "1  gs://idc_v3_cptac_lscc/77b8a091-3e05-4bde-aeaf...  \n",
      "2  gs://idc_v3_cptac_lscc/ec1fed8c-be3d-49bb-9cb4...  \n",
      "3  gs://idc_v3_cptac_lscc/94b5b0bf-c514-4d74-9f84...  \n",
      "4  gs://idc_v3_cptac_lscc/0384023f-0ec9-4c9e-919b...   2218\n"
     ]
    }
   ],
   "source": [
    "print(cohort_df.head(), len(cohort_df))"
   ]
  },
  {
   "cell_type": "code",
   "execution_count": 29,
   "metadata": {},
   "outputs": [],
   "source": [
    "cohort_df.to_csv('/home/jupyter/idc_input/cohort.csv', index=False)"
   ]
  },
  {
   "cell_type": "code",
   "execution_count": 30,
   "metadata": {},
   "outputs": [],
   "source": [
    "tissue_type_data = pd.read_csv('/home/jupyter/idc_input/CPTAC_LUAD-LSCC_metadata_from_TCIA.csv')"
   ]
  },
  {
   "cell_type": "code",
   "execution_count": 31,
   "metadata": {},
   "outputs": [],
   "source": [
    "def add_tissue_type_information(cohort_df, tissue_type_data):\n",
    "    tissue_types = []\n",
    "    for i, row in cohort_df.iterrows():\n",
    "        slide_id = row['slide_id']\n",
    "        try: \n",
    "            tissue_type = tissue_type_data[tissue_type_data['Slide_ID'] == slide_id]['Specimen_Type'].item()\n",
    "            tissue_types.append(tissue_type)\n",
    "        except: \n",
    "            cohort_df = cohort_df.drop(index=i)\n",
    "    complete_df = _add_column_to_dataframe(cohort_df, tissue_types)\n",
    "    \n",
    "    # Replace certain column values for clarity\n",
    "    complete_df.replace({'tumor_subtype': 'CPTAC-LSCC'}, 'LSCC', inplace=True)\n",
    "    complete_df.replace({'tumor_subtype': 'CPTAC-LUAD'}, 'LUAD', inplace=True)\n",
    "    complete_df.replace({'tissue_type': 'normal_tissue'}, 'normal', inplace=True)\n",
    "    complete_df.replace({'tissue_type': 'tumor_tissue'}, 'tumor', inplace=True)\n",
    "    return complete_df\n",
    "\n",
    "def _add_column_to_dataframe(dataframe, column): \n",
    "    assert len(dataframe) == len(column), 'Number of new column values not matching length of dataframe.'\n",
    "    dataframe.insert(3, 'tissue_type', column)\n",
    "    return dataframe    "
   ]
  },
  {
   "cell_type": "code",
   "execution_count": 32,
   "metadata": {},
   "outputs": [],
   "source": [
    "slides_metadata = add_tissue_type_information(cohort_df, tissue_type_data)\n",
    "slides_metadata_path = '/home/jupyter/idc_input/slides_metadata.csv'\n",
    "slides_metadata.to_csv(slides_metadata_path, index=False)"
   ]
  },
  {
   "cell_type": "code",
   "execution_count": 33,
   "metadata": {},
   "outputs": [
    {
     "data": {
      "text/html": [
       "<div>\n",
       "<style scoped>\n",
       "    .dataframe tbody tr th:only-of-type {\n",
       "        vertical-align: middle;\n",
       "    }\n",
       "\n",
       "    .dataframe tbody tr th {\n",
       "        vertical-align: top;\n",
       "    }\n",
       "\n",
       "    .dataframe thead th {\n",
       "        text-align: right;\n",
       "    }\n",
       "</style>\n",
       "<table border=\"1\" class=\"dataframe\">\n",
       "  <thead>\n",
       "    <tr style=\"text-align: right;\">\n",
       "      <th></th>\n",
       "      <th>slide_id</th>\n",
       "      <th>patient_id</th>\n",
       "      <th>tumor_subtype</th>\n",
       "      <th>tissue_type</th>\n",
       "      <th>width</th>\n",
       "      <th>height</th>\n",
       "      <th>gcs_url</th>\n",
       "    </tr>\n",
       "  </thead>\n",
       "  <tbody>\n",
       "    <tr>\n",
       "      <th>0</th>\n",
       "      <td>C3L-02629-26</td>\n",
       "      <td>C3L-02629</td>\n",
       "      <td>LSCC</td>\n",
       "      <td>normal</td>\n",
       "      <td>73703</td>\n",
       "      <td>20873</td>\n",
       "      <td>gs://idc_v3_cptac_lscc/79d63483-77aa-4b23-ab72...</td>\n",
       "    </tr>\n",
       "    <tr>\n",
       "      <th>1</th>\n",
       "      <td>C3L-02660-24</td>\n",
       "      <td>C3L-02660</td>\n",
       "      <td>LSCC</td>\n",
       "      <td>tumor</td>\n",
       "      <td>59759</td>\n",
       "      <td>28076</td>\n",
       "      <td>gs://idc_v3_cptac_lscc/77b8a091-3e05-4bde-aeaf...</td>\n",
       "    </tr>\n",
       "    <tr>\n",
       "      <th>3</th>\n",
       "      <td>C3L-04749-26</td>\n",
       "      <td>C3L-04749</td>\n",
       "      <td>LSCC</td>\n",
       "      <td>normal</td>\n",
       "      <td>75696</td>\n",
       "      <td>35827</td>\n",
       "      <td>gs://idc_v3_cptac_lscc/94b5b0bf-c514-4d74-9f84...</td>\n",
       "    </tr>\n",
       "    <tr>\n",
       "      <th>4</th>\n",
       "      <td>C3N-03093-24</td>\n",
       "      <td>C3N-03093</td>\n",
       "      <td>LSCC</td>\n",
       "      <td>tumor</td>\n",
       "      <td>35855</td>\n",
       "      <td>30619</td>\n",
       "      <td>gs://idc_v3_cptac_lscc/0384023f-0ec9-4c9e-919b...</td>\n",
       "    </tr>\n",
       "    <tr>\n",
       "      <th>5</th>\n",
       "      <td>C3N-00175-27</td>\n",
       "      <td>C3N-00175</td>\n",
       "      <td>LUAD</td>\n",
       "      <td>normal</td>\n",
       "      <td>43823</td>\n",
       "      <td>35540</td>\n",
       "      <td>gs://idc_v3_cptac_luad/e1f9c5be-b90e-4ded-b0b9...</td>\n",
       "    </tr>\n",
       "  </tbody>\n",
       "</table>\n",
       "</div>"
      ],
      "text/plain": [
       "       slide_id patient_id tumor_subtype tissue_type  width  height  \\\n",
       "0  C3L-02629-26  C3L-02629          LSCC      normal  73703   20873   \n",
       "1  C3L-02660-24  C3L-02660          LSCC       tumor  59759   28076   \n",
       "3  C3L-04749-26  C3L-04749          LSCC      normal  75696   35827   \n",
       "4  C3N-03093-24  C3N-03093          LSCC       tumor  35855   30619   \n",
       "5  C3N-00175-27  C3N-00175          LUAD      normal  43823   35540   \n",
       "\n",
       "                                             gcs_url  \n",
       "0  gs://idc_v3_cptac_lscc/79d63483-77aa-4b23-ab72...  \n",
       "1  gs://idc_v3_cptac_lscc/77b8a091-3e05-4bde-aeaf...  \n",
       "3  gs://idc_v3_cptac_lscc/94b5b0bf-c514-4d74-9f84...  \n",
       "4  gs://idc_v3_cptac_lscc/0384023f-0ec9-4c9e-919b...  \n",
       "5  gs://idc_v3_cptac_luad/e1f9c5be-b90e-4ded-b0b9...  "
      ]
     },
     "execution_count": 33,
     "metadata": {},
     "output_type": "execute_result"
    }
   ],
   "source": [
    "slides_metadata.head()"
   ]
  },
  {
   "cell_type": "code",
   "execution_count": null,
   "metadata": {},
   "outputs": [],
   "source": [
    "# IDC viewer for some pathomics data? \n",
    "def get_idc_viewer_url(study_UID):\n",
    "    return \"https://viewer.imaging.datacommons.cancer.gov/viewer/\" + study_UID"
   ]
  },
  {
   "cell_type": "markdown",
   "metadata": {},
   "source": [
    "# Temporary Data Download "
   ]
  },
  {
   "cell_type": "code",
   "execution_count": 8,
   "metadata": {
    "collapsed": true,
    "jupyter": {
     "outputs_hidden": true
    }
   },
   "outputs": [
    {
     "name": "stdout",
     "output_type": "stream",
     "text": [
      "gs://idc_v3_cptac_luad/0eb19c55-3bb1-4448-8302-1c432c69a653.dcm\n",
      "gs://idc_v3_cptac_lscc/46e1a340-c7f0-434e-ac5c-59390f960a63.dcm\n",
      "gs://idc_v3_cptac_lscc/b8e15005-14bd-4c2b-83c6-fe6e63daff42.dcm\n",
      "gs://idc_v3_cptac_lscc/4285b4ed-01d6-45b1-b7aa-143ee31f0647.dcm\n",
      "gs://idc_v3_cptac_lscc/86f1e27d-34f2-41f9-9414-093f049d3f3f.dcm\n",
      "gs://idc_v3_cptac_lscc/111e0317-009c-4167-8d43-a07faa6a9251.dcm\n",
      "gs://idc_v3_cptac_lscc/a9f76626-12e0-4a91-9ed4-e89f5e418c26.dcm\n",
      "gs://idc_v3_cptac_luad/264ab7ce-a9d0-41a1-8c0d-faf19f013232.dcm\n",
      "gs://idc_v3_cptac_luad/e08b9910-bdb8-4829-8048-e04e295c4780.dcm\n",
      "gs://idc_v3_cptac_luad/8324067b-7036-46b6-ab23-5755437da523.dcm\n"
     ]
    }
   ],
   "source": [
    "cohort_df['gcs_url'][:10].to_csv('/home/jupyter/gcs_paths.txt', header=False, index=False)\n",
    "!cat /home/jupyter/gcs_paths.txt"
   ]
  },
  {
   "cell_type": "code",
   "execution_count": 9,
   "metadata": {
    "collapsed": true,
    "jupyter": {
     "outputs_hidden": true,
     "source_hidden": true
    }
   },
   "outputs": [
    {
     "name": "stdout",
     "output_type": "stream",
     "text": [
      "mkdir: cannot create directory ‘/home/jupyter/downloaded_cohort’: File exists\n",
      "Copying gs://idc_v3_cptac_luad/0eb19c55-3bb1-4448-8302-1c432c69a653.dcm...\n",
      "Copying gs://idc_v3_cptac_lscc/46e1a340-c7f0-434e-ac5c-59390f960a63.dcm...      \n",
      "Copying gs://idc_v3_cptac_lscc/b8e15005-14bd-4c2b-83c6-fe6e63daff42.dcm...      \n",
      "Copying gs://idc_v3_cptac_lscc/4285b4ed-01d6-45b1-b7aa-143ee31f0647.dcm...      \n",
      "Copying gs://idc_v3_cptac_lscc/86f1e27d-34f2-41f9-9414-093f049d3f3f.dcm...      \n",
      "Copying gs://idc_v3_cptac_lscc/111e0317-009c-4167-8d43-a07faa6a9251.dcm...      \n",
      "Copying gs://idc_v3_cptac_lscc/a9f76626-12e0-4a91-9ed4-e89f5e418c26.dcm...      \n",
      "Copying gs://idc_v3_cptac_luad/264ab7ce-a9d0-41a1-8c0d-faf19f013232.dcm...      \n",
      "Copying gs://idc_v3_cptac_luad/e08b9910-bdb8-4829-8048-e04e295c4780.dcm...      \n",
      "Copying gs://idc_v3_cptac_luad/8324067b-7036-46b6-ab23-5755437da523.dcm...\n",
      "^C[2/10 files][  1.2 GiB/  3.0 GiB]  38% Done                                   \n"
     ]
    }
   ],
   "source": [
    "!mkdir /home/jupyter/downloaded_cohort\n",
    "!cat /home/jupyter/gcs_paths.txt | gsutil -u $my_project_id -m cp -I /home/jupyter/downloaded_cohort\n",
    "# make use of dicomsort??? "
   ]
  },
  {
   "cell_type": "markdown",
   "metadata": {},
   "source": [
    "# Pathomics use case\n",
    "## Preprocessing"
   ]
  },
  {
   "cell_type": "code",
   "execution_count": 34,
   "metadata": {},
   "outputs": [],
   "source": [
    "#input_dir = os.environ['IDC_INPUT_DATA_DIR']\n",
    "input_dir = '/home/jupyter/idc_input/'\n",
    "slides_dir = os.path.join(input_dir, 'cptac_slides')\n",
    "tiles_dir = os.path.join(input_dir, 'cptac_tiles')\n",
    "#mkdir respective folders? and afterwards delete slide folder, because it is empty?  "
   ]
  },
  {
   "cell_type": "code",
   "execution_count": 35,
   "metadata": {
    "collapsed": true,
    "jupyter": {
     "outputs_hidden": true
    }
   },
   "outputs": [
    {
     "name": "stdout",
     "output_type": "stream",
     "text": [
      "Reading input data from /home/jupyter/idc_input/cptac_slides\n"
     ]
    },
    {
     "name": "stderr",
     "output_type": "stream",
     "text": [
      "Copying gs://idc_v3_cptac_lscc/79d63483-77aa-4b23-ab72-d7092dcf85fa.dcm...\n",
      "/ [1 files][177.8 MiB/177.8 MiB]                                                \n",
      "Operation completed over 1 objects/177.8 MiB.                                    \n"
     ]
    },
    {
     "name": "stdout",
     "output_type": "stream",
     "text": [
      "Processing: C3L-02629-26\n"
     ]
    },
    {
     "name": "stderr",
     "output_type": "stream",
     "text": [
      "Copying gs://idc_v3_cptac_lscc/77b8a091-3e05-4bde-aeaf-03d3b17fff7b.dcm...\n",
      "- [1 files][436.4 MiB/436.4 MiB]                                                \n",
      "Operation completed over 1 objects/436.4 MiB.                                    \n"
     ]
    },
    {
     "name": "stdout",
     "output_type": "stream",
     "text": [
      "Processing: C3L-02660-24\n"
     ]
    },
    {
     "name": "stderr",
     "output_type": "stream",
     "text": [
      "Copying gs://idc_v3_cptac_lscc/94b5b0bf-c514-4d74-9f84-d5ae6b328079.dcm...\n",
      "\\ [1 files][778.1 MiB/778.1 MiB]   51.3 MiB/s                                   \n",
      "Operation completed over 1 objects/778.1 MiB.                                    \n"
     ]
    },
    {
     "name": "stdout",
     "output_type": "stream",
     "text": [
      "Processing: C3L-04749-26\n"
     ]
    },
    {
     "name": "stderr",
     "output_type": "stream",
     "text": [
      "Copying gs://idc_v3_cptac_lscc/0384023f-0ec9-4c9e-919b-a998dfc3a3d2.dcm...\n",
      "- [1 files][232.3 MiB/232.3 MiB]                                                \n",
      "Operation completed over 1 objects/232.3 MiB.                                    \n"
     ]
    },
    {
     "name": "stdout",
     "output_type": "stream",
     "text": [
      "Processing: C3N-03093-24\n"
     ]
    },
    {
     "name": "stderr",
     "output_type": "stream",
     "text": [
      "Copying gs://idc_v3_cptac_luad/e1f9c5be-b90e-4ded-b0b9-838943b80a1e.dcm...\n",
      "- [1 files][272.4 MiB/272.4 MiB]                                                \n",
      "Operation completed over 1 objects/272.4 MiB.                                    \n"
     ]
    },
    {
     "name": "stdout",
     "output_type": "stream",
     "text": [
      "Processing: C3N-00175-27\n"
     ]
    },
    {
     "name": "stderr",
     "output_type": "stream",
     "text": [
      "Copying gs://idc_v3_cptac_luad/3c31bd40-cad6-4e7d-87ef-eea943728e6f.dcm...\n",
      "\\ [1 files][331.1 MiB/331.1 MiB]                                                \n",
      "Operation completed over 1 objects/331.1 MiB.                                    \n"
     ]
    },
    {
     "name": "stdout",
     "output_type": "stream",
     "text": [
      "Processing: C3N-00550-23\n"
     ]
    },
    {
     "name": "stderr",
     "output_type": "stream",
     "text": [
      "Copying gs://idc_v3_cptac_lscc/62461f62-7a2a-4d71-bec1-4743d5934223.dcm...\n",
      "\\ [1 files][322.7 MiB/322.7 MiB]                                                \n",
      "Operation completed over 1 objects/322.7 MiB.                                    \n"
     ]
    },
    {
     "name": "stdout",
     "output_type": "stream",
     "text": [
      "Processing: C3L-04889-23\n"
     ]
    },
    {
     "name": "stderr",
     "output_type": "stream",
     "text": [
      "Copying gs://idc_v3_cptac_luad/9f392a0f-1853-44bb-bbc8-f4ceaa6fbd37.dcm...\n",
      "\\ [1 files][ 84.3 MiB/ 84.3 MiB]                                                \n",
      "Operation completed over 1 objects/84.3 MiB.                                     \n"
     ]
    },
    {
     "name": "stdout",
     "output_type": "stream",
     "text": [
      "Processing: C3L-02508-22\n"
     ]
    },
    {
     "name": "stderr",
     "output_type": "stream",
     "text": [
      "Copying gs://idc_v3_cptac_lscc/d918af18-85a4-4e16-82c6-0c49d57206bd.dcm...\n",
      "- [1 files][502.3 MiB/502.3 MiB]                                                \n",
      "Operation completed over 1 objects/502.3 MiB.                                    \n"
     ]
    },
    {
     "name": "stdout",
     "output_type": "stream",
     "text": [
      "Processing: C3L-04883-24\n"
     ]
    },
    {
     "name": "stderr",
     "output_type": "stream",
     "text": [
      "Copying gs://idc_v3_cptac_luad/5bbf129d-1852-4bfe-97ca-c095b789f3d9.dcm...\n",
      "- [1 files][246.9 MiB/246.9 MiB]                                                \n",
      "Operation completed over 1 objects/246.9 MiB.                                    \n"
     ]
    },
    {
     "name": "stdout",
     "output_type": "stream",
     "text": [
      "Processing: C3N-02380-21\n"
     ]
    },
    {
     "name": "stderr",
     "output_type": "stream",
     "text": [
      "Copying gs://idc_v3_cptac_luad/63f10382-6da7-4f58-a906-eab22c7ea1de.dcm...\n",
      "/ [1 files][191.6 MiB/191.6 MiB]                                                \n",
      "Operation completed over 1 objects/191.6 MiB.                                    \n"
     ]
    },
    {
     "name": "stdout",
     "output_type": "stream",
     "text": [
      "Processing: C3N-02728-26\n"
     ]
    },
    {
     "name": "stderr",
     "output_type": "stream",
     "text": [
      "Copying gs://idc_v3_cptac_luad/697ae484-8b33-43c7-86a6-9f55f5cfe03f.dcm...\n",
      "/ [1 files][179.5 MiB/179.5 MiB]                                                \n",
      "Operation completed over 1 objects/179.5 MiB.                                    \n"
     ]
    },
    {
     "name": "stdout",
     "output_type": "stream",
     "text": [
      "Processing: C3L-00263-23\n"
     ]
    },
    {
     "name": "stderr",
     "output_type": "stream",
     "text": [
      "Copying gs://idc_v3_cptac_lscc/e012825f-e446-4045-9f65-d544372964c6.dcm...\n",
      "| [1 files][350.0 MiB/350.0 MiB]                                                \n",
      "Operation completed over 1 objects/350.0 MiB.                                    \n"
     ]
    },
    {
     "name": "stdout",
     "output_type": "stream",
     "text": [
      "Processing: C3L-04866-22\n"
     ]
    },
    {
     "name": "stderr",
     "output_type": "stream",
     "text": [
      "Copying gs://idc_v3_cptac_luad/06271bca-6ce0-43f4-8650-3a207dfa4c09.dcm...\n",
      "\\ [1 files][106.4 MiB/106.4 MiB]                                                \n",
      "Operation completed over 1 objects/106.4 MiB.                                    \n"
     ]
    },
    {
     "name": "stdout",
     "output_type": "stream",
     "text": [
      "Processing: C3N-02451-26\n"
     ]
    },
    {
     "name": "stderr",
     "output_type": "stream",
     "text": [
      "Copying gs://idc_v3_cptac_luad/9764c536-506d-4ce0-9b37-12d220705251.dcm...\n",
      "/ [1 files][197.2 MiB/197.2 MiB]                                                \n",
      "Operation completed over 1 objects/197.2 MiB.                                    \n"
     ]
    },
    {
     "name": "stdout",
     "output_type": "stream",
     "text": [
      "Processing: C3L-02169-24\n"
     ]
    },
    {
     "name": "stderr",
     "output_type": "stream",
     "text": [
      "Copying gs://idc_v3_cptac_luad/f2a3864a-6a9f-4619-93cb-c0ab35a4dcbb.dcm...\n",
      "| [1 files][764.8 MiB/764.8 MiB]   53.0 MiB/s                                   \n",
      "Operation completed over 1 objects/764.8 MiB.                                    \n"
     ]
    },
    {
     "name": "stdout",
     "output_type": "stream",
     "text": [
      "Processing: C3N-02090-23\n"
     ]
    },
    {
     "name": "stderr",
     "output_type": "stream",
     "text": [
      "Copying gs://idc_v3_cptac_lscc/e4da713f-6af9-45c2-acbe-959cc4c61b78.dcm...\n",
      "| [1 files][535.4 MiB/535.4 MiB]                                                \n",
      "Operation completed over 1 objects/535.4 MiB.                                    \n"
     ]
    },
    {
     "name": "stdout",
     "output_type": "stream",
     "text": [
      "Processing: C3L-04013-22\n"
     ]
    },
    {
     "name": "stderr",
     "output_type": "stream",
     "text": [
      "Copying gs://idc_v3_cptac_luad/374b5c68-6c45-41df-87d1-ea7619fe8bcc.dcm...\n",
      "/ [1 files][397.3 MiB/397.3 MiB]                                                \n",
      "Operation completed over 1 objects/397.3 MiB.                                    \n"
     ]
    },
    {
     "name": "stdout",
     "output_type": "stream",
     "text": [
      "Processing: C3L-04031-27\n"
     ]
    },
    {
     "name": "stderr",
     "output_type": "stream",
     "text": [
      "Copying gs://idc_v3_cptac_lscc/d0dc2019-8e49-4e97-b282-4ce88f7a1f20.dcm...\n",
      "\\ [1 files][322.5 MiB/322.5 MiB]                                                \n",
      "Operation completed over 1 objects/322.5 MiB.                                    \n"
     ]
    },
    {
     "name": "stdout",
     "output_type": "stream",
     "text": [
      "Processing: C3L-05420-26\n"
     ]
    },
    {
     "name": "stderr",
     "output_type": "stream",
     "text": [
      "Copying gs://idc_v3_cptac_luad/1fd49687-4d0b-4f02-82e1-a1dfb98d78e0.dcm...\n",
      "\\ [1 files][132.0 MiB/132.0 MiB]                                                \n",
      "Operation completed over 1 objects/132.0 MiB.                                    \n"
     ]
    },
    {
     "name": "stdout",
     "output_type": "stream",
     "text": [
      "Processing: C3N-03038-24\n"
     ]
    },
    {
     "name": "stderr",
     "output_type": "stream",
     "text": [
      "Copying gs://idc_v3_cptac_lscc/7fb2cfb2-ff0e-4e65-b795-4765c9080cd0.dcm...\n",
      "/ [1 files][479.1 MiB/479.1 MiB]                                                \n",
      "Operation completed over 1 objects/479.1 MiB.                                    \n"
     ]
    },
    {
     "name": "stdout",
     "output_type": "stream",
     "text": [
      "Processing: C3L-05395-21\n"
     ]
    },
    {
     "name": "stderr",
     "output_type": "stream",
     "text": [
      "Copying gs://idc_v3_cptac_lscc/3ecbed87-533c-4a3f-8813-1bfcefda13a5.dcm...\n",
      "- [1 files][489.7 MiB/489.7 MiB]                                                \n",
      "Operation completed over 1 objects/489.7 MiB.                                    \n"
     ]
    },
    {
     "name": "stdout",
     "output_type": "stream",
     "text": [
      "Processing: C3L-04746-22\n"
     ]
    },
    {
     "ename": "KeyboardInterrupt",
     "evalue": "",
     "output_type": "error",
     "traceback": [
      "\u001b[0;31m---------------------------------------------------------------------------\u001b[0m",
      "\u001b[0;31mKeyboardInterrupt\u001b[0m                         Traceback (most recent call last)",
      "\u001b[0;32m/tmp/ipykernel_2304/1413867379.py\u001b[0m in \u001b[0;36m<module>\u001b[0;34m\u001b[0m\n\u001b[1;32m      2\u001b[0m \u001b[0;32mfrom\u001b[0m \u001b[0mdata\u001b[0m\u001b[0;34m.\u001b[0m\u001b[0mtile_generation_cptac\u001b[0m \u001b[0;32mimport\u001b[0m \u001b[0mgenerate_tiles\u001b[0m\u001b[0;34m\u001b[0m\u001b[0;34m\u001b[0m\u001b[0m\n\u001b[1;32m      3\u001b[0m \u001b[0;34m\u001b[0m\u001b[0m\n\u001b[0;32m----> 4\u001b[0;31m \u001b[0mgenerate_tiles\u001b[0m\u001b[0;34m(\u001b[0m\u001b[0mslides_dir\u001b[0m\u001b[0;34m,\u001b[0m \u001b[0mos\u001b[0m\u001b[0;34m.\u001b[0m\u001b[0mpath\u001b[0m\u001b[0;34m.\u001b[0m\u001b[0mjoin\u001b[0m\u001b[0;34m(\u001b[0m\u001b[0minput_dir\u001b[0m\u001b[0;34m,\u001b[0m \u001b[0;34m'slides_metadata.csv'\u001b[0m\u001b[0;34m)\u001b[0m\u001b[0;34m,\u001b[0m \u001b[0mtiles_dir\u001b[0m\u001b[0;34m,\u001b[0m \u001b[0;34m'idc-pathomics-000'\u001b[0m\u001b[0;34m)\u001b[0m\u001b[0;34m\u001b[0m\u001b[0;34m\u001b[0m\u001b[0m\n\u001b[0m",
      "\u001b[0;32m~/idc-pathomics-use-case-1/src/data/tile_generation_cptac.py\u001b[0m in \u001b[0;36mgenerate_tiles\u001b[0;34m(slides_folder, metadata_path, output_folder, google_cloud_project_id)\u001b[0m\n\u001b[1;32m     29\u001b[0m         \u001b[0mslide_id\u001b[0m \u001b[0;34m=\u001b[0m \u001b[0mrow\u001b[0m\u001b[0;34m[\u001b[0m\u001b[0;34m'slide_id'\u001b[0m\u001b[0;34m]\u001b[0m\u001b[0;34m\u001b[0m\u001b[0;34m\u001b[0m\u001b[0m\n\u001b[1;32m     30\u001b[0m         \u001b[0mgcs_url\u001b[0m \u001b[0;34m=\u001b[0m \u001b[0mrow\u001b[0m\u001b[0;34m[\u001b[0m\u001b[0;34m'gcs_url'\u001b[0m\u001b[0;34m]\u001b[0m\u001b[0;34m\u001b[0m\u001b[0;34m\u001b[0m\u001b[0m\n\u001b[0;32m---> 31\u001b[0;31m         \u001b[0m_generate_tiles_for_slide\u001b[0m\u001b[0;34m(\u001b[0m\u001b[0mpath_to_slide\u001b[0m\u001b[0;34m,\u001b[0m \u001b[0mslide_id\u001b[0m\u001b[0;34m,\u001b[0m \u001b[0mgcs_url\u001b[0m\u001b[0;34m,\u001b[0m \u001b[0moutput_folder\u001b[0m\u001b[0;34m,\u001b[0m \u001b[0mgoogle_cloud_project_id\u001b[0m\u001b[0;34m)\u001b[0m\u001b[0;34m\u001b[0m\u001b[0;34m\u001b[0m\u001b[0m\n\u001b[0m\u001b[1;32m     32\u001b[0m \u001b[0;34m\u001b[0m\u001b[0m\n\u001b[1;32m     33\u001b[0m \u001b[0;34m\u001b[0m\u001b[0m\n",
      "\u001b[0;32m~/idc-pathomics-use-case-1/src/data/tile_generation_cptac.py\u001b[0m in \u001b[0;36m_generate_tiles_for_slide\u001b[0;34m(path_to_slide, slide_id, gcs_url, output_folder, google_cloud_project_id)\u001b[0m\n\u001b[1;32m     59\u001b[0m                 \u001b[0mtilename\u001b[0m \u001b[0;34m=\u001b[0m \u001b[0mos\u001b[0m\u001b[0;34m.\u001b[0m\u001b[0mpath\u001b[0m\u001b[0;34m.\u001b[0m\u001b[0mjoin\u001b[0m\u001b[0;34m(\u001b[0m\u001b[0moutput_dir_tiles\u001b[0m\u001b[0;34m,\u001b[0m \u001b[0;34m'%d_%d.%s'\u001b[0m \u001b[0;34m%\u001b[0m\u001b[0;34m(\u001b[0m\u001b[0mcol\u001b[0m\u001b[0;34m,\u001b[0m \u001b[0mrow\u001b[0m\u001b[0;34m,\u001b[0m \u001b[0;34m'jpeg'\u001b[0m\u001b[0;34m)\u001b[0m\u001b[0;34m)\u001b[0m\u001b[0;34m\u001b[0m\u001b[0;34m\u001b[0m\u001b[0m\n\u001b[1;32m     60\u001b[0m                 \u001b[0;32mif\u001b[0m \u001b[0;32mnot\u001b[0m \u001b[0mos\u001b[0m\u001b[0;34m.\u001b[0m\u001b[0mpath\u001b[0m\u001b[0;34m.\u001b[0m\u001b[0mexists\u001b[0m\u001b[0;34m(\u001b[0m\u001b[0mtilename\u001b[0m\u001b[0;34m)\u001b[0m\u001b[0;34m:\u001b[0m\u001b[0;34m\u001b[0m\u001b[0;34m\u001b[0m\u001b[0m\n\u001b[0;32m---> 61\u001b[0;31m                     \u001b[0mtile\u001b[0m \u001b[0;34m=\u001b[0m \u001b[0mdz\u001b[0m\u001b[0;34m.\u001b[0m\u001b[0mget_tile\u001b[0m\u001b[0;34m(\u001b[0m\u001b[0mlevel\u001b[0m\u001b[0;34m,\u001b[0m \u001b[0maddress\u001b[0m\u001b[0;34m=\u001b[0m\u001b[0;34m(\u001b[0m\u001b[0mcol\u001b[0m\u001b[0;34m,\u001b[0m \u001b[0mrow\u001b[0m\u001b[0;34m)\u001b[0m\u001b[0;34m)\u001b[0m\u001b[0;34m\u001b[0m\u001b[0;34m\u001b[0m\u001b[0m\n\u001b[0m\u001b[1;32m     62\u001b[0m                     \u001b[0;31m# only store tile if there is enough amount of information, i.e. < 50 % background and the tile size is alright\u001b[0m\u001b[0;34m\u001b[0m\u001b[0;34m\u001b[0m\u001b[0;34m\u001b[0m\u001b[0m\n\u001b[1;32m     63\u001b[0m                     \u001b[0mavg_bkg\u001b[0m \u001b[0;34m=\u001b[0m \u001b[0m_get_amount_of_background\u001b[0m\u001b[0;34m(\u001b[0m\u001b[0mtile\u001b[0m\u001b[0;34m)\u001b[0m\u001b[0;34m\u001b[0m\u001b[0;34m\u001b[0m\u001b[0m\n",
      "\u001b[0;32m/usr/local/lib/python3.7/dist-packages/openslide/deepzoom.py\u001b[0m in \u001b[0;36mget_tile\u001b[0;34m(self, level, address)\u001b[0m\n\u001b[1;32m    148\u001b[0m         \u001b[0;31m# Read tile\u001b[0m\u001b[0;34m\u001b[0m\u001b[0;34m\u001b[0m\u001b[0;34m\u001b[0m\u001b[0m\n\u001b[1;32m    149\u001b[0m         \u001b[0margs\u001b[0m\u001b[0;34m,\u001b[0m \u001b[0mz_size\u001b[0m \u001b[0;34m=\u001b[0m \u001b[0mself\u001b[0m\u001b[0;34m.\u001b[0m\u001b[0m_get_tile_info\u001b[0m\u001b[0;34m(\u001b[0m\u001b[0mlevel\u001b[0m\u001b[0;34m,\u001b[0m \u001b[0maddress\u001b[0m\u001b[0;34m)\u001b[0m\u001b[0;34m\u001b[0m\u001b[0;34m\u001b[0m\u001b[0m\n\u001b[0;32m--> 150\u001b[0;31m         \u001b[0mtile\u001b[0m \u001b[0;34m=\u001b[0m \u001b[0mself\u001b[0m\u001b[0;34m.\u001b[0m\u001b[0m_osr\u001b[0m\u001b[0;34m.\u001b[0m\u001b[0mread_region\u001b[0m\u001b[0;34m(\u001b[0m\u001b[0;34m*\u001b[0m\u001b[0margs\u001b[0m\u001b[0;34m)\u001b[0m\u001b[0;34m\u001b[0m\u001b[0;34m\u001b[0m\u001b[0m\n\u001b[0m\u001b[1;32m    151\u001b[0m \u001b[0;34m\u001b[0m\u001b[0m\n\u001b[1;32m    152\u001b[0m         \u001b[0;31m# Apply on solid background\u001b[0m\u001b[0;34m\u001b[0m\u001b[0;34m\u001b[0m\u001b[0;34m\u001b[0m\u001b[0m\n",
      "\u001b[0;32m/usr/local/lib/python3.7/dist-packages/openslide/__init__.py\u001b[0m in \u001b[0;36mread_region\u001b[0;34m(self, location, level, size)\u001b[0m\n\u001b[1;32m    227\u001b[0m         function is not premultiplied.\"\"\"\n\u001b[1;32m    228\u001b[0m         return lowlevel.read_region(self._osr, location[0], location[1],\n\u001b[0;32m--> 229\u001b[0;31m                 level, size[0], size[1])\n\u001b[0m\u001b[1;32m    230\u001b[0m \u001b[0;34m\u001b[0m\u001b[0m\n\u001b[1;32m    231\u001b[0m \u001b[0;34m\u001b[0m\u001b[0m\n",
      "\u001b[0;32m/usr/local/lib/python3.7/dist-packages/openslide/lowlevel.py\u001b[0m in \u001b[0;36mread_region\u001b[0;34m(slide, x, y, level, w, h)\u001b[0m\n\u001b[1;32m    257\u001b[0m         \u001b[0;32mreturn\u001b[0m \u001b[0mPIL\u001b[0m\u001b[0;34m.\u001b[0m\u001b[0mImage\u001b[0m\u001b[0;34m.\u001b[0m\u001b[0mnew\u001b[0m\u001b[0;34m(\u001b[0m\u001b[0;34m'RGBA'\u001b[0m\u001b[0;34m,\u001b[0m \u001b[0;34m(\u001b[0m\u001b[0mw\u001b[0m\u001b[0;34m,\u001b[0m \u001b[0mh\u001b[0m\u001b[0;34m)\u001b[0m\u001b[0;34m)\u001b[0m\u001b[0;34m\u001b[0m\u001b[0;34m\u001b[0m\u001b[0m\n\u001b[1;32m    258\u001b[0m     \u001b[0mbuf\u001b[0m \u001b[0;34m=\u001b[0m \u001b[0;34m(\u001b[0m\u001b[0mw\u001b[0m \u001b[0;34m*\u001b[0m \u001b[0mh\u001b[0m \u001b[0;34m*\u001b[0m \u001b[0mc_uint32\u001b[0m\u001b[0;34m)\u001b[0m\u001b[0;34m(\u001b[0m\u001b[0;34m)\u001b[0m\u001b[0;34m\u001b[0m\u001b[0;34m\u001b[0m\u001b[0m\n\u001b[0;32m--> 259\u001b[0;31m     \u001b[0m_read_region\u001b[0m\u001b[0;34m(\u001b[0m\u001b[0mslide\u001b[0m\u001b[0;34m,\u001b[0m \u001b[0mbuf\u001b[0m\u001b[0;34m,\u001b[0m \u001b[0mx\u001b[0m\u001b[0;34m,\u001b[0m \u001b[0my\u001b[0m\u001b[0;34m,\u001b[0m \u001b[0mlevel\u001b[0m\u001b[0;34m,\u001b[0m \u001b[0mw\u001b[0m\u001b[0;34m,\u001b[0m \u001b[0mh\u001b[0m\u001b[0;34m)\u001b[0m\u001b[0;34m\u001b[0m\u001b[0;34m\u001b[0m\u001b[0m\n\u001b[0m\u001b[1;32m    260\u001b[0m     \u001b[0;32mreturn\u001b[0m \u001b[0m_load_image\u001b[0m\u001b[0;34m(\u001b[0m\u001b[0mbuf\u001b[0m\u001b[0;34m,\u001b[0m \u001b[0;34m(\u001b[0m\u001b[0mw\u001b[0m\u001b[0;34m,\u001b[0m \u001b[0mh\u001b[0m\u001b[0;34m)\u001b[0m\u001b[0;34m)\u001b[0m\u001b[0;34m\u001b[0m\u001b[0;34m\u001b[0m\u001b[0m\n\u001b[1;32m    261\u001b[0m \u001b[0;34m\u001b[0m\u001b[0m\n",
      "\u001b[0;32m/usr/local/lib/python3.7/dist-packages/openslide/lowlevel.py\u001b[0m in \u001b[0;36m_check_error\u001b[0;34m(result, func, args)\u001b[0m\n\u001b[1;32m    191\u001b[0m \u001b[0;34m\u001b[0m\u001b[0m\n\u001b[1;32m    192\u001b[0m \u001b[0;31m# check if the library got into an error state after each library call\u001b[0m\u001b[0;34m\u001b[0m\u001b[0;34m\u001b[0m\u001b[0;34m\u001b[0m\u001b[0m\n\u001b[0;32m--> 193\u001b[0;31m \u001b[0;32mdef\u001b[0m \u001b[0m_check_error\u001b[0m\u001b[0;34m(\u001b[0m\u001b[0mresult\u001b[0m\u001b[0;34m,\u001b[0m \u001b[0mfunc\u001b[0m\u001b[0;34m,\u001b[0m \u001b[0margs\u001b[0m\u001b[0;34m)\u001b[0m\u001b[0;34m:\u001b[0m\u001b[0;34m\u001b[0m\u001b[0;34m\u001b[0m\u001b[0m\n\u001b[0m\u001b[1;32m    194\u001b[0m     \u001b[0merr\u001b[0m \u001b[0;34m=\u001b[0m \u001b[0mget_error\u001b[0m\u001b[0;34m(\u001b[0m\u001b[0margs\u001b[0m\u001b[0;34m[\u001b[0m\u001b[0;36m0\u001b[0m\u001b[0;34m]\u001b[0m\u001b[0;34m)\u001b[0m\u001b[0;34m\u001b[0m\u001b[0;34m\u001b[0m\u001b[0m\n\u001b[1;32m    195\u001b[0m     \u001b[0;32mif\u001b[0m \u001b[0merr\u001b[0m \u001b[0;32mis\u001b[0m \u001b[0;32mnot\u001b[0m \u001b[0;32mNone\u001b[0m\u001b[0;34m:\u001b[0m\u001b[0;34m\u001b[0m\u001b[0;34m\u001b[0m\u001b[0m\n",
      "\u001b[0;31mKeyboardInterrupt\u001b[0m: "
     ]
    }
   ],
   "source": [
    "# SLOW :( \n",
    "from data.tile_generation_cptac import generate_tiles\n",
    "\n",
    "generate_tiles(slides_dir, os.path.join(input_dir, 'slides_metadata.csv'), tiles_dir, 'idc-pathomics-000')"
   ]
  },
  {
   "cell_type": "code",
   "execution_count": 36,
   "metadata": {},
   "outputs": [],
   "source": [
    "from data.tile_sorting_cptac import sort_tiles\n",
    "\n",
    "#metadata_file = os.path.join(input_dir, 'metadata.cart.2017-03-02T00_36_30.276824.json')\n",
    "#sort_tiles(tiles_dir, metadata_file, input_dir, 'norm_cancer', magnification=5.0)\n",
    "#sort_tiles(tiles_dir, metadata_file, input_dir, 'luad_lusc', magnification=5.0)\n",
    "#sort_tiles(tiles_dir, metadata_file, input_dir, 'norm_luad_lusc', magnification=5.0)"
   ]
  },
  {
   "cell_type": "markdown",
   "metadata": {},
   "source": [
    "## Training\n",
    "## Evaluation"
   ]
  },
  {
   "cell_type": "markdown",
   "metadata": {},
   "source": []
  }
 ],
 "metadata": {
  "environment": {
   "name": "tf2-gpu.2-1.m75",
   "type": "gcloud",
   "uri": "gcr.io/deeplearning-platform-release/tf2-gpu.2-1:m75"
  },
  "kernelspec": {
   "display_name": "Python 3",
   "language": "python",
   "name": "python3"
  },
  "language_info": {
   "codemirror_mode": {
    "name": "ipython",
    "version": 3
   },
   "file_extension": ".py",
   "mimetype": "text/x-python",
   "name": "python",
   "nbconvert_exporter": "python",
   "pygments_lexer": "ipython3",
   "version": "3.7.10"
  }
 },
 "nbformat": 4,
 "nbformat_minor": 4
}
