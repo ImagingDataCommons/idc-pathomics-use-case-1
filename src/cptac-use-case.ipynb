{
 "cells": [
  {
   "cell_type": "markdown",
   "metadata": {},
   "source": [
    "# About"
   ]
  },
  {
   "cell_type": "code",
   "execution_count": 50,
   "metadata": {},
   "outputs": [
    {
     "name": "stdout",
     "output_type": "stream",
     "text": [
      "The autoreload extension is already loaded. To reload it, use:\n",
      "  %reload_ext autoreload\n"
     ]
    }
   ],
   "source": [
    "# only for development, can be removed later\n",
    "%load_ext autoreload\n",
    "%autoreload 2"
   ]
  },
  {
   "cell_type": "markdown",
   "metadata": {},
   "source": [
    "Text about organization of our code and this notebook"
   ]
  },
  {
   "cell_type": "markdown",
   "metadata": {},
   "source": [
    "# Prerequisites "
   ]
  },
  {
   "cell_type": "markdown",
   "metadata": {},
   "source": [
    "This notebook expects you to have:\n",
    "- stable internet access\n",
    "- a Google identity\n",
    "- configured a project under Google Cloud Platform (a description of how to do this, can be found [here](https://www.youtube.com/watch?v=i08S0KJLnyw))\n",
    "- set \"my_project_id\" in the cell below to the ID of the GCP project you have configured under your account"
   ]
  },
  {
   "cell_type": "code",
   "execution_count": 2,
   "metadata": {},
   "outputs": [],
   "source": [
    "my_project_id = \"idc-pathomics-000\""
   ]
  },
  {
   "cell_type": "markdown",
   "metadata": {},
   "source": [
    "# Environment setup"
   ]
  },
  {
   "cell_type": "code",
   "execution_count": 3,
   "metadata": {},
   "outputs": [
    {
     "name": "stdout",
     "output_type": "stream",
     "text": [
      "Current directory : /home/jupyter/idc-pathomics-use-case-1/src\n",
      "Hostname          : idc-patho-vm\n",
      "Username          : jupyter\n"
     ]
    }
   ],
   "source": [
    "curr_dir = !pwd\n",
    "curr_droid = !hostname\n",
    "curr_pilot = !whoami\n",
    "\n",
    "print(\"Current directory :\", curr_dir[-1])\n",
    "print(\"Hostname          :\", curr_droid[-1])\n",
    "print(\"Username          :\", curr_pilot[-1])"
   ]
  },
  {
   "cell_type": "code",
   "execution_count": 4,
   "metadata": {},
   "outputs": [
    {
     "name": "stdout",
     "output_type": "stream",
     "text": [
      "Hit:1 http://security.debian.org/debian-security buster/updates InRelease\n",
      "Hit:2 http://deb.debian.org/debian buster InRelease                            \n",
      "Hit:3 http://deb.debian.org/debian buster-updates InRelease                    \n",
      "Hit:4 http://deb.debian.org/debian buster-backports InRelease                  \n",
      "Hit:5 https://download.docker.com/linux/debian buster InRelease                \n",
      "Get:6 https://nvidia.github.io/libnvidia-container/stable/debian10/amd64  InRelease [1484 B]\n",
      "Get:8 https://nvidia.github.io/nvidia-container-runtime/stable/debian10/amd64  InRelease [1481 B]\n",
      "Hit:9 https://nvidia.github.io/nvidia-docker/debian10/amd64  InRelease         \n",
      "Hit:10 http://packages.cloud.google.com/apt cloud-sdk-buster InRelease\n",
      "Get:11 https://packages.cloud.google.com/apt google-fast-socket InRelease [5405 B]\n",
      "Hit:12 http://packages.cloud.google.com/apt google-cloud-packages-archive-keyring-buster InRelease\n",
      "Hit:7 https://packages.cloud.google.com/apt kubernetes-xenial InRelease\n",
      "Hit:13 http://packages.cloud.google.com/apt gcsfuse-buster InRelease\n",
      "Hit:14 http://packages.cloud.google.com/apt google-compute-engine-buster-stable InRelease\n",
      "Fetched 8370 B in 1s (6002 B/s)\n",
      "Reading package lists... Done\n",
      "Reading package lists... Done\n",
      "Building dependency tree       \n",
      "Reading state information... Done\n",
      "python3-openslide is already the newest version (1.1.1-4).\n",
      "0 upgraded, 0 newly installed, 0 to remove and 9 not upgraded.\n",
      "Requirement already satisfied: openslide-wrapper==1.1.2 in /usr/local/lib/python3.7/dist-packages (from -r ../requirements_cptac.txt (line 1)) (1.1.2)\n",
      "Requirement already satisfied: numpy==1.19.1 in /usr/local/lib/python3.7/dist-packages (from -r ../requirements_cptac.txt (line 2)) (1.19.1)\n",
      "Requirement already satisfied: scikit-learn==0.24.1 in /usr/local/lib/python3.7/dist-packages (from -r ../requirements_cptac.txt (line 3)) (0.24.1)\n",
      "Requirement already satisfied: pandas==1.1.0 in /usr/local/lib/python3.7/dist-packages (from -r ../requirements_cptac.txt (line 4)) (1.1.0)\n",
      "Requirement already satisfied: seaborn in /usr/local/lib/python3.7/dist-packages (from -r ../requirements_cptac.txt (line 5)) (0.11.1)\n",
      "Requirement already satisfied: Pillow in /usr/lib/python3/dist-packages (from openslide-wrapper==1.1.2->-r ../requirements_cptac.txt (line 1)) (5.4.1)\n",
      "Requirement already satisfied: threadpoolctl>=2.0.0 in /usr/local/lib/python3.7/dist-packages (from scikit-learn==0.24.1->-r ../requirements_cptac.txt (line 3)) (2.2.0)\n",
      "Requirement already satisfied: joblib>=0.11 in /usr/local/lib/python3.7/dist-packages (from scikit-learn==0.24.1->-r ../requirements_cptac.txt (line 3)) (1.0.1)\n",
      "Requirement already satisfied: scipy>=0.19.1 in /usr/local/lib/python3.7/dist-packages (from scikit-learn==0.24.1->-r ../requirements_cptac.txt (line 3)) (1.7.0)\n",
      "Requirement already satisfied: pytz>=2017.2 in /usr/local/lib/python3.7/dist-packages (from pandas==1.1.0->-r ../requirements_cptac.txt (line 4)) (2021.1)\n",
      "Requirement already satisfied: python-dateutil>=2.7.3 in /usr/local/lib/python3.7/dist-packages (from pandas==1.1.0->-r ../requirements_cptac.txt (line 4)) (2.8.2)\n",
      "Requirement already satisfied: matplotlib>=2.2 in /usr/local/lib/python3.7/dist-packages (from seaborn->-r ../requirements_cptac.txt (line 5)) (3.4.2)\n",
      "Requirement already satisfied: six>=1.5 in /usr/local/lib/python3.7/dist-packages (from python-dateutil>=2.7.3->pandas==1.1.0->-r ../requirements_cptac.txt (line 4)) (1.16.0)\n",
      "Requirement already satisfied: pyparsing>=2.2.1 in /usr/local/lib/python3.7/dist-packages (from matplotlib>=2.2->seaborn->-r ../requirements_cptac.txt (line 5)) (2.4.7)\n",
      "Requirement already satisfied: cycler>=0.10 in /usr/local/lib/python3.7/dist-packages (from matplotlib>=2.2->seaborn->-r ../requirements_cptac.txt (line 5)) (0.10.0)\n",
      "Requirement already satisfied: kiwisolver>=1.0.1 in /usr/local/lib/python3.7/dist-packages (from matplotlib>=2.2->seaborn->-r ../requirements_cptac.txt (line 5)) (1.3.1)\n"
     ]
    }
   ],
   "source": [
    "!sudo apt-get update\n",
    "!sudo apt-get install --no-install-recommends -y python3-openslide\n",
    "!sudo pip3 install -r ../requirements_cptac.txt # at the end, check whether all are required, maybe no requirement file needed, when only one/two things are installed\n",
    "!pip install wandb -qqq # monitoring tool "
   ]
  },
  {
   "cell_type": "code",
   "execution_count": 198,
   "metadata": {},
   "outputs": [],
   "source": [
    "# Import all required python libraries for this use case\n",
    "import os\n",
    "import sys\n",
    "sys.path.append('/usr/local/lib/python3.7/dist-packages') # otherwise Openslide can not be loaded. Maybe find a better solution?!\n",
    "import glob \n",
    "import time\n",
    "import pandas as pd\n",
    "import matplotlib.pyplot as plt\n",
    "import seaborn as sns\n",
    "sns.set_theme()\n",
    "import wandb"
   ]
  },
  {
   "cell_type": "code",
   "execution_count": 6,
   "metadata": {},
   "outputs": [],
   "source": [
    "# Create directories for input and output data \n",
    "input_dir = '/home/jupyter/idc_input/'\n",
    "output_dir = '/home/jupyter/idc_output/'\n",
    "#os.mkdir(input_dir)\n",
    "#os.mkdir(output_dir)"
   ]
  },
  {
   "cell_type": "markdown",
   "metadata": {},
   "source": [
    "# Dataset selection and exploration"
   ]
  },
  {
   "cell_type": "markdown",
   "metadata": {},
   "source": [
    "## Dataset selection using BigQuery"
   ]
  },
  {
   "cell_type": "markdown",
   "metadata": {},
   "source": [
    "IDC relies on the Google Cloud Platform (GCP) for storage and management of DICOM data. The data are contained in so-called [storage buckets](https://cloud.google.com/storage/docs/key-terms#buckets), from which they are available for the user on a requester pays basis. Currently, all pathology whole-slide images (WSI) are located in the `tbd` bucket.\n",
    "**Metadata** for the DICOM files - including standard DICOM tags, but also non-DICOM metadata - are stored in BigQuery tables from which they can easily be accessed using standard SQL queries. This gives users the opportunity to explore available data by examining metadata without the need of downloading the DICOM data in the first place. Additional information on the organization of data can be found in the [IDC Documentation](https://learn.canceridc.dev/data/organization-of-data). \n",
    "\n",
    "The easiest way to acess BigQuery tables from within a Jupyter notebook is to use the [BigQuery cell magic](https://cloud.google.com/bigquery/docs/visualize-jupyter#querying-and-visualizing-bigquery-data) provided by the BigQuery client library for Python. \n",
    "Using the `%%bigquery` command as shown below, the results of the following SQL query are stored as pandas data frame `cohort_df`.   \n",
    "Further information on how to use BigQuery within the IDC, on the attributes available and examples can be found [here](https://learn.canceridc.dev/cookbook/bigquery). "
   ]
  },
  {
   "cell_type": "code",
   "execution_count": 8,
   "metadata": {},
   "outputs": [
    {
     "name": "stderr",
     "output_type": "stream",
     "text": [
      "Query complete after 0.01s: 100%|██████████| 4/4 [00:00<00:00, 2191.38query/s]                        \n",
      "Downloading: 100%|██████████| 2211/2211 [00:01<00:00, 1444.15rows/s]\n"
     ]
    }
   ],
   "source": [
    "%%bigquery cohort_df --project=$my_project_id \n",
    "\n",
    "WITH slide_images AS (\n",
    "    SELECT\n",
    "        ContainerIdentifier AS slide_id,\n",
    "        PatientID AS patient_id,\n",
    "        ClinicalTrialProtocolID AS dataset,\n",
    "        TotalPixelMatrixColumns AS width,\n",
    "        TotalPixelMatrixRows AS height,\n",
    "        gcs_url,\n",
    "        CAST(SharedFunctionalGroupsSequence[OFFSET(0)].\n",
    "             PixelMeasuresSequence[OFFSET(0)].\n",
    "             PixelSpacing[OFFSET(0)] AS FLOAT64) AS pixel_spacing,\n",
    "        CASE TransferSyntaxUID\n",
    "            WHEN '1.2.840.10008.1.2.4.50' THEN 'jpeg'\n",
    "            WHEN '1.2.840.10008.1.2.4.91' THEN 'jpeg2000'\n",
    "            ELSE 'other'\n",
    "        END AS compression\n",
    "    FROM idc-dev-etl.idc_v3.dicom_all\n",
    "    WHERE NOT (ContainerIdentifier IS NULL)\n",
    ")\n",
    "SELECT *\n",
    "FROM slide_images\n",
    "WHERE\n",
    "    (compression = \"jpeg\")\n",
    "    AND (dataset = \"CPTAC-LUAD\" OR dataset = \"CPTAC-LSCC\")\n",
    "    -- pixel spacing between 0.00025 and 0.00051 mm corresponds to 20x magnification\n",
    "    AND (pixel_spacing > 0.00025) AND (pixel_spacing < 0.00051)"
   ]
  },
  {
   "cell_type": "markdown",
   "metadata": {},
   "source": [
    "Since up to now the information about the slide's tissue type (tumor tissue or normal tissue) is missing in the BQ table, we have to extract those from the attached TCIA metadata file and add them to our cohort's metadata. We remove slides that have no tissue type information available from our cohort. "
   ]
  },
  {
   "cell_type": "code",
   "execution_count": 19,
   "metadata": {},
   "outputs": [],
   "source": [
    "from data.utils import attach_tissue_type_information\n",
    "\n",
    "tissue_type_data = pd.read_csv(os.path.join(input_dir, 'tissue_type_data_TCIA.csv'))\n",
    "slides_metadata = attach_tissue_type_information(cohort_df, tissue_type_data)\n",
    "slides_metadata_path = os.path.join(input_dir, 'slides_metadata.csv')\n",
    "slides_metadata.to_csv(slides_metadata_path, index=False) # Save slides metadata as csv for later use"
   ]
  },
  {
   "cell_type": "markdown",
   "metadata": {},
   "source": [
    "## Dataset exploration "
   ]
  },
  {
   "cell_type": "markdown",
   "metadata": {},
   "source": [
    "Using pandas and matplotlib functionality the user can quite easily have a look at the selected cohort's metadata and visualize some aspects of interest: "
   ]
  },
  {
   "cell_type": "code",
   "execution_count": 18,
   "metadata": {},
   "outputs": [
    {
     "name": "stdout",
     "output_type": "stream",
     "text": [
      "Total number of slides in this cohort:  2129\n",
      "--> 1056 slides from 229 LUAD patients\n",
      "--> 1073 slides from 211 LSCC patients\n"
     ]
    },
    {
     "data": {
      "text/html": [
       "<div>\n",
       "<style scoped>\n",
       "    .dataframe tbody tr th:only-of-type {\n",
       "        vertical-align: middle;\n",
       "    }\n",
       "\n",
       "    .dataframe tbody tr th {\n",
       "        vertical-align: top;\n",
       "    }\n",
       "\n",
       "    .dataframe thead th {\n",
       "        text-align: right;\n",
       "    }\n",
       "</style>\n",
       "<table border=\"1\" class=\"dataframe\">\n",
       "  <thead>\n",
       "    <tr style=\"text-align: right;\">\n",
       "      <th></th>\n",
       "      <th>slide_id</th>\n",
       "      <th>patient_id</th>\n",
       "      <th>cancer_subtype</th>\n",
       "      <th>tissue_type</th>\n",
       "      <th>width</th>\n",
       "      <th>height</th>\n",
       "      <th>gcs_url</th>\n",
       "      <th>pixel_spacing</th>\n",
       "      <th>compression</th>\n",
       "    </tr>\n",
       "  </thead>\n",
       "  <tbody>\n",
       "    <tr>\n",
       "      <th>0</th>\n",
       "      <td>93e30fd5-e57e-4503-a175-863c7d_D1_D1</td>\n",
       "      <td>11LU016</td>\n",
       "      <td>luad</td>\n",
       "      <td>tumor</td>\n",
       "      <td>55775</td>\n",
       "      <td>48446</td>\n",
       "      <td>gs://idc_dev/51036e43-5622-41a9-af03-603cf2127...</td>\n",
       "      <td>0.000494</td>\n",
       "      <td>jpeg</td>\n",
       "    </tr>\n",
       "    <tr>\n",
       "      <th>1</th>\n",
       "      <td>C3L-00095-26</td>\n",
       "      <td>C3L-00095</td>\n",
       "      <td>luad</td>\n",
       "      <td>normal</td>\n",
       "      <td>27887</td>\n",
       "      <td>24718</td>\n",
       "      <td>gs://idc_dev/72cf9b5f-d467-4a86-9fc6-b9272cc42...</td>\n",
       "      <td>0.000494</td>\n",
       "      <td>jpeg</td>\n",
       "    </tr>\n",
       "    <tr>\n",
       "      <th>2</th>\n",
       "      <td>C3L-00412-21</td>\n",
       "      <td>C3L-00412</td>\n",
       "      <td>luad</td>\n",
       "      <td>tumor</td>\n",
       "      <td>33863</td>\n",
       "      <td>32867</td>\n",
       "      <td>gs://idc_dev/54fa081e-e62e-4df2-8f0f-5bd1424d4...</td>\n",
       "      <td>0.000494</td>\n",
       "      <td>jpeg</td>\n",
       "    </tr>\n",
       "    <tr>\n",
       "      <th>3</th>\n",
       "      <td>C3L-00568-23</td>\n",
       "      <td>C3L-00568</td>\n",
       "      <td>lscc</td>\n",
       "      <td>tumor</td>\n",
       "      <td>19919</td>\n",
       "      <td>18390</td>\n",
       "      <td>gs://idc_dev/80ec2c0e-e246-4a0d-bfcb-3c3d5f31c...</td>\n",
       "      <td>0.000494</td>\n",
       "      <td>jpeg</td>\n",
       "    </tr>\n",
       "    <tr>\n",
       "      <th>4</th>\n",
       "      <td>C3L-00893-21</td>\n",
       "      <td>C3L-00893</td>\n",
       "      <td>luad</td>\n",
       "      <td>tumor</td>\n",
       "      <td>19919</td>\n",
       "      <td>19138</td>\n",
       "      <td>gs://idc_dev/bd709e68-45be-4059-944a-4a42fa096...</td>\n",
       "      <td>0.000494</td>\n",
       "      <td>jpeg</td>\n",
       "    </tr>\n",
       "  </tbody>\n",
       "</table>\n",
       "</div>"
      ],
      "text/plain": [
       "                               slide_id patient_id cancer_subtype tissue_type  \\\n",
       "0  93e30fd5-e57e-4503-a175-863c7d_D1_D1    11LU016           luad       tumor   \n",
       "1                          C3L-00095-26  C3L-00095           luad      normal   \n",
       "2                          C3L-00412-21  C3L-00412           luad       tumor   \n",
       "3                          C3L-00568-23  C3L-00568           lscc       tumor   \n",
       "4                          C3L-00893-21  C3L-00893           luad       tumor   \n",
       "\n",
       "   width  height                                            gcs_url  \\\n",
       "0  55775   48446  gs://idc_dev/51036e43-5622-41a9-af03-603cf2127...   \n",
       "1  27887   24718  gs://idc_dev/72cf9b5f-d467-4a86-9fc6-b9272cc42...   \n",
       "2  33863   32867  gs://idc_dev/54fa081e-e62e-4df2-8f0f-5bd1424d4...   \n",
       "3  19919   18390  gs://idc_dev/80ec2c0e-e246-4a0d-bfcb-3c3d5f31c...   \n",
       "4  19919   19138  gs://idc_dev/bd709e68-45be-4059-944a-4a42fa096...   \n",
       "\n",
       "   pixel_spacing compression  \n",
       "0       0.000494        jpeg  \n",
       "1       0.000494        jpeg  \n",
       "2       0.000494        jpeg  \n",
       "3       0.000494        jpeg  \n",
       "4       0.000494        jpeg  "
      ]
     },
     "execution_count": 18,
     "metadata": {},
     "output_type": "execute_result"
    }
   ],
   "source": [
    "print('Total number of slides in this cohort: ', len(slides_metadata))\n",
    "nr_slides_from_luad_patients = slides_metadata.groupby('cancer_subtype').size()['luad'] # or len(slides_metadata[slides_metadata['cancer_subtype'] == 'luad']) \n",
    "nr_slides_from_lscc_patients = slides_metadata.groupby('cancer_subtype').size()['lscc'] # or len(slides_metadata[slides_metadata['cancer_subtype'] == 'lscc'])\n",
    "nr_luad_patients = slides_metadata.drop_duplicates('patient_id').groupby('cancer_subtype').size()['luad']\n",
    "nr_lscc_patients = slides_metadata.drop_duplicates('patient_id').groupby('cancer_subtype').size()['lscc']\n",
    "print('--> %d slides from %d LUAD patients' %(nr_slides_from_luad_patients, nr_luad_patients))\n",
    "print('--> %d slides from %d LSCC patients' %(nr_slides_from_lscc_patients, nr_lscc_patients))\n",
    "\n",
    "slides_metadata.head()"
   ]
  },
  {
   "cell_type": "markdown",
   "metadata": {},
   "source": [
    "Having ~1000 slides from ~200 patients for each cancer subtype, means that there are on average 5 WSI per patient. The left plot below provides more detailed information in form of a histogram. \n",
    "\n",
    "**Important:** From almost every patient (LUAD or LSCC), not only tumor tissue but both tumor tissue and healthy (\"normal\") tissue samples were collected. The right graph below reveals that in LUAD and LSCC, about one-third of the slides were derived from healthy tissue, while the other two-thirds were derived from cancer tissue. "
   ]
  },
  {
   "cell_type": "code",
   "execution_count": 204,
   "metadata": {},
   "outputs": [],
   "source": [
    "slides_metadata=pd.read_csv('/home/jupyter/idc_input/slides_metadata.csv')"
   ]
  },
  {
   "cell_type": "code",
   "execution_count": 261,
   "metadata": {},
   "outputs": [
    {
     "data": {
      "image/png": "[encoded data removed]",
      "text/plain": [
       "<Figure size 864x288 with 2 Axes>"
      ]
     },
     "metadata": {},
     "output_type": "display_data"
    }
   ],
   "source": [
    "fig1, (ax1, ax2) = plt.subplots(1, 2, figsize=(12, 4))\n",
    "\n",
    "# How many slides per patient? --> maybe also distinguish between luad and lscc pattients\n",
    "slides_per_patient = slides_metadata.groupby(['patient_id', 'cancer_subtype']).size()\n",
    "plot1 = sns.histplot(data=slides_per_patient, discrete=True, ax=ax1, shrink=0.9, color=['C7'])\n",
    "ax1.set_title('Number of slides per patient')\n",
    "ax1.set_xlabel('Number of slides')\n",
    "ax1.set_ylabel('Number of patients')\n",
    "\n",
    "# Displaying tissue type distribution \n",
    "#print(slides_metadata.groupby(['cancer_subtype', 'tissue_type']).size())\n",
    "plot2 = sns.histplot(data=slides_metadata, x='cancer_subtype', hue='tissue_type', multiple='stack', palette = ['C1', 'C2'], ax=ax2, shrink=0.7)\n",
    "ax2.set_xlabel('Cancer subtype')\n",
    "ax2.set_ylabel('Number of slides')\n",
    "ax2.set_title('Distribution of tissue types')\n",
    "legend = plot2.get_legend()\n",
    "legend.set_title('Tissue type')\n",
    "legend.set_bbox_to_anchor((1, 1))"
   ]
  },
  {
   "cell_type": "code",
   "execution_count": null,
   "metadata": {},
   "outputs": [],
   "source": [
    "# IDC viewer for some pathomics data? \n",
    "def get_idc_viewer_url(study_UID):\n",
    "    return \"https://viewer.imaging.datacommons.cancer.gov/viewer/\" + study_UID"
   ]
  },
  {
   "cell_type": "markdown",
   "metadata": {},
   "source": [
    "# Pathomics use case"
   ]
  },
  {
   "cell_type": "markdown",
   "metadata": {},
   "source": [
    "In this use case, we solve a typical pathomics classification task by training a model to reliably distinguish between healthy tissue, LUAD tissue and LSCC tissue. \n",
    "\n",
    "(maybe show three tiles / another image from Coudray? / give sources / show workflow image)"
   ]
  },
  {
   "cell_type": "markdown",
   "metadata": {},
   "source": [
    "## Preprocessing"
   ]
  },
  {
   "cell_type": "markdown",
   "metadata": {},
   "source": [
    "**Tile generation**: First, the WSI are downloaded with `gsutil` and the respective \"gcs_url\"s. Then each slide is tiled into non-overlapping 128x128 pixel windows at a magnification of 5x using the python openslide library. \n",
    "\n",
    "**Generation of datasets**: Next, the tiles are distributed among / sorted into training (70%), test (15%) and validation (15%) datasets, ensuring that tiles associated with a particular patient are not separated, but assigned as a whole to one of these sets. For this purpose, a file is created that reports the number of tiles created for each patient and is used to generate the figure below. \\\n",
    "As this code is supposed to serve as a demo requiring a minimum amount of runtime, we reduce each datasets size by taking only one in ten/twenty tiles. "
   ]
  },
  {
   "cell_type": "code",
   "execution_count": 11,
   "metadata": {
    "collapsed": true,
    "jupyter": {
     "outputs_hidden": true
    }
   },
   "outputs": [
    {
     "name": "stdout",
     "output_type": "stream",
     "text": [
      "Reading input data from /home/jupyter/idc_input/cptac_slides\n"
     ]
    },
    {
     "name": "stderr",
     "output_type": "stream",
     "text": [
      "Copying gs://idc_dev/51036e43-5622-41a9-af03-603cf2127982.dcm...\n",
      "\\ [1 files][891.1 MiB/891.1 MiB]   67.4 MiB/s                                   \n",
      "Operation completed over 1 objects/891.1 MiB.                                    \n"
     ]
    },
    {
     "name": "stdout",
     "output_type": "stream",
     "text": [
      "Processing: 93e30fd5-e57e-4503-a175-863c7d_D1_D1\n",
      "here\n",
      "there /home/jupyter/idc_input/cptac_slides/93e30fd5-e57e-4503-a175-863c7d_D1_D1.png\n",
      "Slide 93e30fd5-e57e-4503-a175-863c7d_D1_D1 already tiled\n"
     ]
    },
    {
     "name": "stderr",
     "output_type": "stream",
     "text": [
      "Copying gs://idc_dev/72cf9b5f-d467-4a86-9fc6-b9272cc421f5.dcm...\n",
      "| [1 files][174.4 MiB/174.4 MiB]                                                \n",
      "Operation completed over 1 objects/174.4 MiB.                                    \n"
     ]
    },
    {
     "name": "stdout",
     "output_type": "stream",
     "text": [
      "Processing: C3L-00095-26\n",
      "here\n",
      "there /home/jupyter/idc_input/cptac_slides/C3L-00095-26.png\n",
      "Slide C3L-00095-26 already tiled\n"
     ]
    },
    {
     "name": "stderr",
     "output_type": "stream",
     "text": [
      "Copying gs://idc_dev/54fa081e-e62e-4df2-8f0f-5bd1424d4eba.dcm...\n",
      "/ [1 files][260.1 MiB/260.1 MiB]                                                \n",
      "Operation completed over 1 objects/260.1 MiB.                                    \n"
     ]
    },
    {
     "name": "stdout",
     "output_type": "stream",
     "text": [
      "Processing: C3L-00412-21\n",
      "here\n",
      "there /home/jupyter/idc_input/cptac_slides/C3L-00412-21.png\n",
      "Slide C3L-00412-21 already tiled\n"
     ]
    },
    {
     "name": "stderr",
     "output_type": "stream",
     "text": [
      "Copying gs://idc_dev/80ec2c0e-e246-4a0d-bfcb-3c3d5f31c90b.dcm...\n",
      "- [1 files][ 57.7 MiB/ 57.7 MiB]                                                \n",
      "Operation completed over 1 objects/57.7 MiB.                                     \n"
     ]
    },
    {
     "name": "stdout",
     "output_type": "stream",
     "text": [
      "Processing: C3L-00568-23\n",
      "here\n",
      "there /home/jupyter/idc_input/cptac_slides/C3L-00568-23.png\n",
      "Slide C3L-00568-23 already tiled\n"
     ]
    },
    {
     "name": "stderr",
     "output_type": "stream",
     "text": [
      "Copying gs://idc_dev/bd709e68-45be-4059-944a-4a42fa096848.dcm...\n",
      "- [1 files][ 54.7 MiB/ 54.7 MiB]                                                \n",
      "Operation completed over 1 objects/54.7 MiB.                                     \n"
     ]
    },
    {
     "name": "stdout",
     "output_type": "stream",
     "text": [
      "Processing: C3L-00893-21\n",
      "here\n",
      "there /home/jupyter/idc_input/cptac_slides/C3L-00893-21.png\n",
      "Slide C3L-00893-21 already tiled\n"
     ]
    },
    {
     "name": "stderr",
     "output_type": "stream",
     "text": [
      "Copying gs://idc_dev/c4c93647-1e3d-48ea-9c3b-0f70fac797e0.dcm...\n",
      "- [1 files][ 89.8 MiB/ 89.8 MiB]                                                \n",
      "Operation completed over 1 objects/89.8 MiB.                                     \n"
     ]
    },
    {
     "name": "stdout",
     "output_type": "stream",
     "text": [
      "Processing: C3L-00913-23\n",
      "here\n",
      "there /home/jupyter/idc_input/cptac_slides/C3L-00913-23.png\n",
      "Slide C3L-00913-23 already tiled\n"
     ]
    },
    {
     "name": "stderr",
     "output_type": "stream",
     "text": [
      "Copying gs://idc_dev/fd572cef-6338-4f9a-bc90-14e0d0884674.dcm...\n",
      "- [1 files][ 68.5 MiB/ 68.5 MiB]                                                \n",
      "Operation completed over 1 objects/68.5 MiB.                                     \n"
     ]
    },
    {
     "name": "stdout",
     "output_type": "stream",
     "text": [
      "Processing: C3L-00923-26\n",
      "here\n",
      "there /home/jupyter/idc_input/cptac_slides/C3L-00923-26.png\n",
      "Slide C3L-00923-26 already tiled\n"
     ]
    },
    {
     "name": "stderr",
     "output_type": "stream",
     "text": [
      "Copying gs://idc_dev/889622c2-c80b-45f4-84c2-323e893bdfa7.dcm...\n",
      "| [1 files][170.1 MiB/170.1 MiB]                                                \n",
      "Operation completed over 1 objects/170.1 MiB.                                    \n"
     ]
    },
    {
     "name": "stdout",
     "output_type": "stream",
     "text": [
      "Processing: C3L-00973-28\n",
      "here\n",
      "Some processing error for slide C3L-00973-28\n"
     ]
    },
    {
     "name": "stderr",
     "output_type": "stream",
     "text": [
      "Copying gs://idc_dev/22dff2ee-46d4-4454-ad32-c1a1928c7614.dcm...\n",
      "\\ [1 files][121.8 MiB/121.8 MiB]                                                \n",
      "Operation completed over 1 objects/121.8 MiB.                                    \n"
     ]
    },
    {
     "name": "stdout",
     "output_type": "stream",
     "text": [
      "Processing: C3L-01606-21\n",
      "here\n",
      "Some processing error for slide C3L-01606-21\n"
     ]
    },
    {
     "name": "stderr",
     "output_type": "stream",
     "text": [
      "Copying gs://idc_dev/b10bee93-bc51-4a8d-b9dc-baca5813a3a1.dcm...\n",
      "\\ [1 files][334.3 MiB/334.3 MiB]                                                \n",
      "Operation completed over 1 objects/334.3 MiB.                                    \n"
     ]
    },
    {
     "name": "stdout",
     "output_type": "stream",
     "text": [
      "Processing: C3L-02168-25\n",
      "here\n",
      "there /home/jupyter/idc_input/cptac_slides/C3L-02168-25.png\n",
      "Slide C3L-02168-25 already tiled\n"
     ]
    },
    {
     "name": "stderr",
     "output_type": "stream",
     "text": [
      "Copying gs://idc_dev/0bb9925c-baef-44e9-905d-169e8aff7c13.dcm...\n",
      "- [1 files][316.0 MiB/316.0 MiB]                                                \n",
      "Operation completed over 1 objects/316.0 MiB.                                    \n"
     ]
    },
    {
     "name": "stdout",
     "output_type": "stream",
     "text": [
      "Processing: C3L-02169-26\n",
      "here\n",
      "there /home/jupyter/idc_input/cptac_slides/C3L-02169-26.png\n",
      "Slide C3L-02169-26 already tiled\n"
     ]
    },
    {
     "name": "stderr",
     "output_type": "stream",
     "text": [
      "Copying gs://idc_dev/a662782f-eed7-4117-a714-9906e554a5ca.dcm...\n",
      "| [1 files][950.3 MiB/950.3 MiB]   72.2 MiB/s                                   \n",
      "Operation completed over 1 objects/950.3 MiB.                                    \n"
     ]
    },
    {
     "name": "stdout",
     "output_type": "stream",
     "text": [
      "Processing: C3L-02170-23\n",
      "here\n",
      "there /home/jupyter/idc_input/cptac_slides/C3L-02170-23.png\n",
      "Slide C3L-02170-23 already tiled\n"
     ]
    },
    {
     "name": "stderr",
     "output_type": "stream",
     "text": [
      "Copying gs://idc_dev/3b133086-1656-4f37-ad73-5e171b51486c.dcm...\n",
      "- [1 files][ 53.3 MiB/ 53.3 MiB]                                                \n",
      "Operation completed over 1 objects/53.3 MiB.                                     \n"
     ]
    },
    {
     "name": "stdout",
     "output_type": "stream",
     "text": [
      "Processing: C3L-02219-22\n",
      "here\n",
      "there /home/jupyter/idc_input/cptac_slides/C3L-02219-22.png\n",
      "Slide C3L-02219-22 already tiled\n"
     ]
    },
    {
     "name": "stderr",
     "output_type": "stream",
     "text": [
      "Copying gs://idc_dev/1f4d7b59-ab92-4b3f-95c5-dd439df59047.dcm...\n",
      "\\ [1 files][120.2 MiB/120.2 MiB]                                                \n",
      "Operation completed over 1 objects/120.2 MiB.                                    \n"
     ]
    },
    {
     "name": "stdout",
     "output_type": "stream",
     "text": [
      "Processing: C3L-02219-21\n",
      "here\n",
      "there /home/jupyter/idc_input/cptac_slides/C3L-02219-21.png\n",
      "Slide C3L-02219-21 already tiled\n"
     ]
    },
    {
     "name": "stderr",
     "output_type": "stream",
     "text": [
      "Copying gs://idc_dev/9f392a0f-1853-44bb-bbc8-f4ceaa6fbd37.dcm...\n",
      "- [1 files][ 84.3 MiB/ 84.3 MiB]                                                \n",
      "Operation completed over 1 objects/84.3 MiB.                                     \n"
     ]
    },
    {
     "name": "stdout",
     "output_type": "stream",
     "text": [
      "Processing: C3L-02508-22\n",
      "here\n",
      "there /home/jupyter/idc_input/cptac_slides/C3L-02508-22.png\n",
      "Slide C3L-02508-22 already tiled\n"
     ]
    },
    {
     "name": "stderr",
     "output_type": "stream",
     "text": [
      "Copying gs://idc_dev/bac28122-4563-41be-b072-ca4261ddcfed.dcm...\n",
      "- [1 files][ 54.2 MiB/ 54.2 MiB]                                                \n",
      "Operation completed over 1 objects/54.2 MiB.                                     \n"
     ]
    },
    {
     "name": "stdout",
     "output_type": "stream",
     "text": [
      "Processing: C3L-02546-26\n",
      "here\n",
      "there /home/jupyter/idc_input/cptac_slides/C3L-02546-26.png\n",
      "Slide C3L-02546-26 already tiled\n"
     ]
    },
    {
     "name": "stderr",
     "output_type": "stream",
     "text": [
      "Copying gs://idc_dev/056a0877-3093-4f7f-a0a7-c4479830aa9c.dcm...\n",
      "- [1 files][ 74.6 MiB/ 74.6 MiB]                                                \n",
      "Operation completed over 1 objects/74.6 MiB.                                     \n"
     ]
    },
    {
     "name": "stdout",
     "output_type": "stream",
     "text": [
      "Processing: C3L-02552-23\n",
      "here\n",
      "there /home/jupyter/idc_input/cptac_slides/C3L-02552-23.png\n",
      "Slide C3L-02552-23 already tiled\n"
     ]
    },
    {
     "name": "stderr",
     "output_type": "stream",
     "text": [
      "Copying gs://idc_dev/39209635-61fd-4f58-a897-b8466a5f80d1.dcm...\n",
      "\\ [1 files][133.5 MiB/133.5 MiB]                                                \n",
      "Operation completed over 1 objects/133.5 MiB.                                    \n"
     ]
    },
    {
     "name": "stdout",
     "output_type": "stream",
     "text": [
      "Processing: C3L-02619-26\n",
      "here\n",
      "there /home/jupyter/idc_input/cptac_slides/C3L-02619-26.png\n",
      "Slide C3L-02619-26 already tiled\n"
     ]
    },
    {
     "name": "stderr",
     "output_type": "stream",
     "text": [
      "Copying gs://idc_dev/b8e15005-14bd-4c2b-83c6-fe6e63daff42.dcm...\n",
      "/ [1 files][236.6 MiB/236.6 MiB]                                                \n",
      "Operation completed over 1 objects/236.6 MiB.                                    \n"
     ]
    },
    {
     "name": "stdout",
     "output_type": "stream",
     "text": [
      "Processing: C3L-02627-27\n",
      "here\n",
      "there /home/jupyter/idc_input/cptac_slides/C3L-02627-27.png\n",
      "Slide C3L-02627-27 already tiled\n"
     ]
    },
    {
     "name": "stderr",
     "output_type": "stream",
     "text": [
      "Copying gs://idc_dev/2457f37d-3679-4a90-b080-967985a680c0.dcm...\n",
      "/ [1 files][435.4 MiB/435.4 MiB]                                                \n",
      "Operation completed over 1 objects/435.4 MiB.                                    \n"
     ]
    },
    {
     "name": "stdout",
     "output_type": "stream",
     "text": [
      "Processing: C3L-02643-21\n",
      "here\n",
      "there /home/jupyter/idc_input/cptac_slides/C3L-02643-21.png\n",
      "Slide C3L-02643-21 already tiled\n"
     ]
    },
    {
     "name": "stderr",
     "output_type": "stream",
     "text": [
      "Copying gs://idc_dev/ec855abe-90ec-4bcc-9106-d397de34738f.dcm...\n",
      "/ [1 files][217.8 MiB/217.8 MiB]                                                \n",
      "Operation completed over 1 objects/217.8 MiB.                                    \n"
     ]
    },
    {
     "name": "stdout",
     "output_type": "stream",
     "text": [
      "Processing: C3L-02661-23\n",
      "here\n",
      "Some processing error for slide C3L-02661-23\n"
     ]
    },
    {
     "name": "stderr",
     "output_type": "stream",
     "text": [
      "Copying gs://idc_dev/ec2c0ca2-e9d0-4df1-a1fb-44eea6b35909.dcm...\n",
      "\\ [1 files][300.1 MiB/300.1 MiB]                                                \n",
      "Operation completed over 1 objects/300.1 MiB.                                    \n"
     ]
    },
    {
     "name": "stdout",
     "output_type": "stream",
     "text": [
      "Processing: C3L-02669-23\n",
      "here\n",
      "there /home/jupyter/idc_input/cptac_slides/C3L-02669-23.png\n",
      "Slide C3L-02669-23 already tiled\n"
     ]
    },
    {
     "name": "stderr",
     "output_type": "stream",
     "text": [
      "Copying gs://idc_dev/0e1073ff-b089-40b6-a59a-f8150f57664e.dcm...\n",
      "- [1 files][ 82.0 MiB/ 82.0 MiB]                                                \n",
      "Operation completed over 1 objects/82.0 MiB.                                     \n"
     ]
    },
    {
     "name": "stdout",
     "output_type": "stream",
     "text": [
      "Processing: C3L-02834-23\n",
      "here\n",
      "there /home/jupyter/idc_input/cptac_slides/C3L-02834-23.png\n",
      "Slide C3L-02834-23 already tiled\n"
     ]
    },
    {
     "name": "stderr",
     "output_type": "stream",
     "text": [
      "Copying gs://idc_dev/cd739761-2469-4935-9e74-b5f5823cda31.dcm...\n",
      "/ [0 files][    0.0 B/594.2 MiB]                                                \r"
     ]
    },
    {
     "ename": "KeyboardInterrupt",
     "evalue": "",
     "output_type": "error",
     "traceback": [
      "\u001b[0;31m---------------------------------------------------------------------------\u001b[0m",
      "\u001b[0;31mKeyboardInterrupt\u001b[0m                         Traceback (most recent call last)",
      "\u001b[0;32m/tmp/ipykernel_8552/2303746664.py\u001b[0m in \u001b[0;36m<module>\u001b[0;34m\u001b[0m\n\u001b[1;32m      6\u001b[0m \u001b[0;31m#os.makedir(tiles_dir)\u001b[0m\u001b[0;34m\u001b[0m\u001b[0;34m\u001b[0m\u001b[0;34m\u001b[0m\u001b[0m\n\u001b[1;32m      7\u001b[0m \u001b[0;34m\u001b[0m\u001b[0m\n\u001b[0;32m----> 8\u001b[0;31m \u001b[0mgenerate_tiles\u001b[0m\u001b[0;34m(\u001b[0m\u001b[0mslides_dir\u001b[0m\u001b[0;34m,\u001b[0m \u001b[0mos\u001b[0m\u001b[0;34m.\u001b[0m\u001b[0mpath\u001b[0m\u001b[0;34m.\u001b[0m\u001b[0mjoin\u001b[0m\u001b[0;34m(\u001b[0m\u001b[0minput_dir\u001b[0m\u001b[0;34m,\u001b[0m \u001b[0;34m'slides_metadata.csv'\u001b[0m\u001b[0;34m)\u001b[0m\u001b[0;34m,\u001b[0m \u001b[0mtiles_dir\u001b[0m\u001b[0;34m,\u001b[0m \u001b[0;34m'idc-pathomics-000'\u001b[0m\u001b[0;34m)\u001b[0m\u001b[0;34m\u001b[0m\u001b[0;34m\u001b[0m\u001b[0m\n\u001b[0m",
      "\u001b[0;32m~/idc-pathomics-use-case-1/src/data/tile_generation_cptac.py\u001b[0m in \u001b[0;36mgenerate_tiles\u001b[0;34m(slides_folder, metadata_path, output_folder, google_cloud_project_id)\u001b[0m\n\u001b[1;32m     29\u001b[0m         \u001b[0mslide_id\u001b[0m \u001b[0;34m=\u001b[0m \u001b[0mrow\u001b[0m\u001b[0;34m[\u001b[0m\u001b[0;34m'slide_id'\u001b[0m\u001b[0;34m]\u001b[0m\u001b[0;34m\u001b[0m\u001b[0;34m\u001b[0m\u001b[0m\n\u001b[1;32m     30\u001b[0m         \u001b[0mgcs_url\u001b[0m \u001b[0;34m=\u001b[0m \u001b[0mrow\u001b[0m\u001b[0;34m[\u001b[0m\u001b[0;34m'gcs_url'\u001b[0m\u001b[0;34m]\u001b[0m\u001b[0;34m\u001b[0m\u001b[0;34m\u001b[0m\u001b[0m\n\u001b[0;32m---> 31\u001b[0;31m         \u001b[0m_generate_tiles_for_slide\u001b[0m\u001b[0;34m(\u001b[0m\u001b[0mpath_to_slide\u001b[0m\u001b[0;34m,\u001b[0m \u001b[0mslide_id\u001b[0m\u001b[0;34m,\u001b[0m \u001b[0mgcs_url\u001b[0m\u001b[0;34m,\u001b[0m \u001b[0moutput_folder\u001b[0m\u001b[0;34m,\u001b[0m \u001b[0mgoogle_cloud_project_id\u001b[0m\u001b[0;34m)\u001b[0m\u001b[0;34m\u001b[0m\u001b[0;34m\u001b[0m\u001b[0m\n\u001b[0m\u001b[1;32m     32\u001b[0m \u001b[0;34m\u001b[0m\u001b[0m\n\u001b[1;32m     33\u001b[0m \u001b[0;34m\u001b[0m\u001b[0m\n",
      "\u001b[0;32m~/idc-pathomics-use-case-1/src/data/tile_generation_cptac.py\u001b[0m in \u001b[0;36m_generate_tiles_for_slide\u001b[0;34m(path_to_slide, slide_id, gcs_url, output_folder, google_cloud_project_id)\u001b[0m\n\u001b[1;32m     40\u001b[0m     \u001b[0;31m# Download slide in DICOM format using gsutil\u001b[0m\u001b[0;34m\u001b[0m\u001b[0;34m\u001b[0m\u001b[0;34m\u001b[0m\u001b[0m\n\u001b[1;32m     41\u001b[0m     \u001b[0mcmd\u001b[0m \u001b[0;34m=\u001b[0m \u001b[0;34m[\u001b[0m\u001b[0;34m'gsutil -u {id}  cp {url} {local_dir}'\u001b[0m\u001b[0;34m.\u001b[0m\u001b[0mformat\u001b[0m\u001b[0;34m(\u001b[0m\u001b[0mid\u001b[0m\u001b[0;34m=\u001b[0m\u001b[0mgoogle_cloud_project_id\u001b[0m\u001b[0;34m,\u001b[0m \u001b[0murl\u001b[0m\u001b[0;34m=\u001b[0m\u001b[0mgcs_url\u001b[0m\u001b[0;34m,\u001b[0m \u001b[0mlocal_dir\u001b[0m\u001b[0;34m=\u001b[0m\u001b[0mos\u001b[0m\u001b[0;34m.\u001b[0m\u001b[0mpath\u001b[0m\u001b[0;34m.\u001b[0m\u001b[0mdirname\u001b[0m\u001b[0;34m(\u001b[0m\u001b[0mpath_to_slide\u001b[0m\u001b[0;34m)\u001b[0m\u001b[0;34m)\u001b[0m\u001b[0;34m]\u001b[0m\u001b[0;34m\u001b[0m\u001b[0;34m\u001b[0m\u001b[0m\n\u001b[0;32m---> 42\u001b[0;31m     \u001b[0msubprocess\u001b[0m\u001b[0;34m.\u001b[0m\u001b[0mrun\u001b[0m\u001b[0;34m(\u001b[0m\u001b[0mcmd\u001b[0m\u001b[0;34m,\u001b[0m \u001b[0mshell\u001b[0m\u001b[0;34m=\u001b[0m\u001b[0;32mTrue\u001b[0m\u001b[0;34m)\u001b[0m\u001b[0;34m\u001b[0m\u001b[0;34m\u001b[0m\u001b[0m\n\u001b[0m\u001b[1;32m     43\u001b[0m \u001b[0;34m\u001b[0m\u001b[0m\n\u001b[1;32m     44\u001b[0m     \u001b[0;31m# Open slide and instantiate a DeepZoomGenerator for that slide\u001b[0m\u001b[0;34m\u001b[0m\u001b[0;34m\u001b[0m\u001b[0;34m\u001b[0m\u001b[0m\n",
      "\u001b[0;32m/opt/conda/lib/python3.7/subprocess.py\u001b[0m in \u001b[0;36mrun\u001b[0;34m(input, capture_output, timeout, check, *popenargs, **kwargs)\u001b[0m\n\u001b[1;32m    488\u001b[0m     \u001b[0;32mwith\u001b[0m \u001b[0mPopen\u001b[0m\u001b[0;34m(\u001b[0m\u001b[0;34m*\u001b[0m\u001b[0mpopenargs\u001b[0m\u001b[0;34m,\u001b[0m \u001b[0;34m**\u001b[0m\u001b[0mkwargs\u001b[0m\u001b[0;34m)\u001b[0m \u001b[0;32mas\u001b[0m \u001b[0mprocess\u001b[0m\u001b[0;34m:\u001b[0m\u001b[0;34m\u001b[0m\u001b[0;34m\u001b[0m\u001b[0m\n\u001b[1;32m    489\u001b[0m         \u001b[0;32mtry\u001b[0m\u001b[0;34m:\u001b[0m\u001b[0;34m\u001b[0m\u001b[0;34m\u001b[0m\u001b[0m\n\u001b[0;32m--> 490\u001b[0;31m             \u001b[0mstdout\u001b[0m\u001b[0;34m,\u001b[0m \u001b[0mstderr\u001b[0m \u001b[0;34m=\u001b[0m \u001b[0mprocess\u001b[0m\u001b[0;34m.\u001b[0m\u001b[0mcommunicate\u001b[0m\u001b[0;34m(\u001b[0m\u001b[0minput\u001b[0m\u001b[0;34m,\u001b[0m \u001b[0mtimeout\u001b[0m\u001b[0;34m=\u001b[0m\u001b[0mtimeout\u001b[0m\u001b[0;34m)\u001b[0m\u001b[0;34m\u001b[0m\u001b[0;34m\u001b[0m\u001b[0m\n\u001b[0m\u001b[1;32m    491\u001b[0m         \u001b[0;32mexcept\u001b[0m \u001b[0mTimeoutExpired\u001b[0m \u001b[0;32mas\u001b[0m \u001b[0mexc\u001b[0m\u001b[0;34m:\u001b[0m\u001b[0;34m\u001b[0m\u001b[0;34m\u001b[0m\u001b[0m\n\u001b[1;32m    492\u001b[0m             \u001b[0mprocess\u001b[0m\u001b[0;34m.\u001b[0m\u001b[0mkill\u001b[0m\u001b[0;34m(\u001b[0m\u001b[0;34m)\u001b[0m\u001b[0;34m\u001b[0m\u001b[0;34m\u001b[0m\u001b[0m\n",
      "\u001b[0;32m/opt/conda/lib/python3.7/subprocess.py\u001b[0m in \u001b[0;36mcommunicate\u001b[0;34m(self, input, timeout)\u001b[0m\n\u001b[1;32m    954\u001b[0m                 \u001b[0mstderr\u001b[0m \u001b[0;34m=\u001b[0m \u001b[0mself\u001b[0m\u001b[0;34m.\u001b[0m\u001b[0mstderr\u001b[0m\u001b[0;34m.\u001b[0m\u001b[0mread\u001b[0m\u001b[0;34m(\u001b[0m\u001b[0;34m)\u001b[0m\u001b[0;34m\u001b[0m\u001b[0;34m\u001b[0m\u001b[0m\n\u001b[1;32m    955\u001b[0m                 \u001b[0mself\u001b[0m\u001b[0;34m.\u001b[0m\u001b[0mstderr\u001b[0m\u001b[0;34m.\u001b[0m\u001b[0mclose\u001b[0m\u001b[0;34m(\u001b[0m\u001b[0;34m)\u001b[0m\u001b[0;34m\u001b[0m\u001b[0;34m\u001b[0m\u001b[0m\n\u001b[0;32m--> 956\u001b[0;31m             \u001b[0mself\u001b[0m\u001b[0;34m.\u001b[0m\u001b[0mwait\u001b[0m\u001b[0;34m(\u001b[0m\u001b[0;34m)\u001b[0m\u001b[0;34m\u001b[0m\u001b[0;34m\u001b[0m\u001b[0m\n\u001b[0m\u001b[1;32m    957\u001b[0m         \u001b[0;32melse\u001b[0m\u001b[0;34m:\u001b[0m\u001b[0;34m\u001b[0m\u001b[0;34m\u001b[0m\u001b[0m\n\u001b[1;32m    958\u001b[0m             \u001b[0;32mif\u001b[0m \u001b[0mtimeout\u001b[0m \u001b[0;32mis\u001b[0m \u001b[0;32mnot\u001b[0m \u001b[0;32mNone\u001b[0m\u001b[0;34m:\u001b[0m\u001b[0;34m\u001b[0m\u001b[0;34m\u001b[0m\u001b[0m\n",
      "\u001b[0;32m/opt/conda/lib/python3.7/subprocess.py\u001b[0m in \u001b[0;36mwait\u001b[0;34m(self, timeout)\u001b[0m\n\u001b[1;32m   1017\u001b[0m             \u001b[0mendtime\u001b[0m \u001b[0;34m=\u001b[0m \u001b[0m_time\u001b[0m\u001b[0;34m(\u001b[0m\u001b[0;34m)\u001b[0m \u001b[0;34m+\u001b[0m \u001b[0mtimeout\u001b[0m\u001b[0;34m\u001b[0m\u001b[0;34m\u001b[0m\u001b[0m\n\u001b[1;32m   1018\u001b[0m         \u001b[0;32mtry\u001b[0m\u001b[0;34m:\u001b[0m\u001b[0;34m\u001b[0m\u001b[0;34m\u001b[0m\u001b[0m\n\u001b[0;32m-> 1019\u001b[0;31m             \u001b[0;32mreturn\u001b[0m \u001b[0mself\u001b[0m\u001b[0;34m.\u001b[0m\u001b[0m_wait\u001b[0m\u001b[0;34m(\u001b[0m\u001b[0mtimeout\u001b[0m\u001b[0;34m=\u001b[0m\u001b[0mtimeout\u001b[0m\u001b[0;34m)\u001b[0m\u001b[0;34m\u001b[0m\u001b[0;34m\u001b[0m\u001b[0m\n\u001b[0m\u001b[1;32m   1020\u001b[0m         \u001b[0;32mexcept\u001b[0m \u001b[0mKeyboardInterrupt\u001b[0m\u001b[0;34m:\u001b[0m\u001b[0;34m\u001b[0m\u001b[0;34m\u001b[0m\u001b[0m\n\u001b[1;32m   1021\u001b[0m             \u001b[0;31m# https://bugs.python.org/issue25942\u001b[0m\u001b[0;34m\u001b[0m\u001b[0;34m\u001b[0m\u001b[0;34m\u001b[0m\u001b[0m\n",
      "\u001b[0;32m/opt/conda/lib/python3.7/subprocess.py\u001b[0m in \u001b[0;36m_wait\u001b[0;34m(self, timeout)\u001b[0m\n\u001b[1;32m   1651\u001b[0m                         \u001b[0;32mif\u001b[0m \u001b[0mself\u001b[0m\u001b[0;34m.\u001b[0m\u001b[0mreturncode\u001b[0m \u001b[0;32mis\u001b[0m \u001b[0;32mnot\u001b[0m \u001b[0;32mNone\u001b[0m\u001b[0;34m:\u001b[0m\u001b[0;34m\u001b[0m\u001b[0;34m\u001b[0m\u001b[0m\n\u001b[1;32m   1652\u001b[0m                             \u001b[0;32mbreak\u001b[0m  \u001b[0;31m# Another thread waited.\u001b[0m\u001b[0;34m\u001b[0m\u001b[0;34m\u001b[0m\u001b[0m\n\u001b[0;32m-> 1653\u001b[0;31m                         \u001b[0;34m(\u001b[0m\u001b[0mpid\u001b[0m\u001b[0;34m,\u001b[0m \u001b[0msts\u001b[0m\u001b[0;34m)\u001b[0m \u001b[0;34m=\u001b[0m \u001b[0mself\u001b[0m\u001b[0;34m.\u001b[0m\u001b[0m_try_wait\u001b[0m\u001b[0;34m(\u001b[0m\u001b[0;36m0\u001b[0m\u001b[0;34m)\u001b[0m\u001b[0;34m\u001b[0m\u001b[0;34m\u001b[0m\u001b[0m\n\u001b[0m\u001b[1;32m   1654\u001b[0m                         \u001b[0;31m# Check the pid and loop as waitpid has been known to\u001b[0m\u001b[0;34m\u001b[0m\u001b[0;34m\u001b[0m\u001b[0;34m\u001b[0m\u001b[0m\n\u001b[1;32m   1655\u001b[0m                         \u001b[0;31m# return 0 even without WNOHANG in odd situations.\u001b[0m\u001b[0;34m\u001b[0m\u001b[0;34m\u001b[0m\u001b[0;34m\u001b[0m\u001b[0m\n",
      "\u001b[0;32m/opt/conda/lib/python3.7/subprocess.py\u001b[0m in \u001b[0;36m_try_wait\u001b[0;34m(self, wait_flags)\u001b[0m\n\u001b[1;32m   1609\u001b[0m             \u001b[0;34m\"\"\"All callers to this function MUST hold self._waitpid_lock.\"\"\"\u001b[0m\u001b[0;34m\u001b[0m\u001b[0;34m\u001b[0m\u001b[0m\n\u001b[1;32m   1610\u001b[0m             \u001b[0;32mtry\u001b[0m\u001b[0;34m:\u001b[0m\u001b[0;34m\u001b[0m\u001b[0;34m\u001b[0m\u001b[0m\n\u001b[0;32m-> 1611\u001b[0;31m                 \u001b[0;34m(\u001b[0m\u001b[0mpid\u001b[0m\u001b[0;34m,\u001b[0m \u001b[0msts\u001b[0m\u001b[0;34m)\u001b[0m \u001b[0;34m=\u001b[0m \u001b[0mos\u001b[0m\u001b[0;34m.\u001b[0m\u001b[0mwaitpid\u001b[0m\u001b[0;34m(\u001b[0m\u001b[0mself\u001b[0m\u001b[0;34m.\u001b[0m\u001b[0mpid\u001b[0m\u001b[0;34m,\u001b[0m \u001b[0mwait_flags\u001b[0m\u001b[0;34m)\u001b[0m\u001b[0;34m\u001b[0m\u001b[0;34m\u001b[0m\u001b[0m\n\u001b[0m\u001b[1;32m   1612\u001b[0m             \u001b[0;32mexcept\u001b[0m \u001b[0mChildProcessError\u001b[0m\u001b[0;34m:\u001b[0m\u001b[0;34m\u001b[0m\u001b[0;34m\u001b[0m\u001b[0m\n\u001b[1;32m   1613\u001b[0m                 \u001b[0;31m# This happens if SIGCLD is set to be ignored or waiting\u001b[0m\u001b[0;34m\u001b[0m\u001b[0;34m\u001b[0m\u001b[0;34m\u001b[0m\u001b[0m\n",
      "\u001b[0;31mKeyboardInterrupt\u001b[0m: "
     ]
    }
   ],
   "source": [
    "from data.tile_generation_cptac import generate_tiles\n",
    "\n",
    "slides_dir = os.path.join(input_dir, 'cptac_slides')\n",
    "tiles_dir = os.path.join(input_dir, 'cptac_tiles')\n",
    "os.makedir(slides_dir)\n",
    "os.makedir(tiles_dir)\n",
    "\n",
    "generate_tiles(slides_dir, os.path.join(input_dir, 'slides_metadata.csv'), tiles_dir, 'idc-pathomics-000')"
   ]
  },
  {
   "cell_type": "code",
   "execution_count": 24,
   "metadata": {},
   "outputs": [],
   "source": [
    "from data.tile_sorting_cptac import sort_tiles\n",
    "\n",
    "sort_tiles(tiles_dir, slides_metadata_path, input_dir, 'norm_luad_lscc')"
   ]
  },
  {
   "cell_type": "code",
   "execution_count": 264,
   "metadata": {},
   "outputs": [
    {
     "name": "stdout",
     "output_type": "stream",
     "text": [
      "Total number of tiles: 3,592,912\n"
     ]
    },
    {
     "data": {
      "image/png": "[encoded data removed]",
      "text/plain": [
       "<Figure size 432x288 with 1 Axes>"
      ]
     },
     "metadata": {},
     "output_type": "display_data"
    }
   ],
   "source": [
    "# How many tiles per patient (due to different size of slides)?\n",
    "patient_metadata = pd.read_csv(os.path.join(input_dir, 'patient_metadata.csv'))\n",
    "print('Total number of tiles: {:,}'.format(patient_metadata['nr_tiles_total'].sum()))\n",
    "\n",
    "fig2 = sns.histplot(data=patient_metadata, x='nr_tiles_total', hue='cancer_subtype', multiple='stack', binwidth=2500, palette=['r', 'b'])\n",
    "fig2.set_xlabel('Number of tiles')\n",
    "fig2.set_ylabel('Number of patients')\n",
    "legend = fig2.get_legend()\n",
    "legend.set_title('Cancer subtype')"
   ]
  },
  {
   "cell_type": "code",
   "execution_count": 144,
   "metadata": {},
   "outputs": [],
   "source": [
    "# Create smaller training / validation and test sets (1/10 of the tiles) --> final adaptation required!\n",
    "!sed -n '1p;0~10p' \"$input_dir/train_norm_luad_lscc.csv\" > \"$input_dir/train_norm_luad_lscc_medium.csv\"\n",
    "!sed -n '1p;0~10p' \"$input_dir/valid_norm_luad_lscc.csv\" > \"$input_dir/valid_norm_luad_lscc_medium.csv\"\n",
    "!sed -n '1p;0~10p' \"$input_dir/test_norm_luad_lscc.csv\" > \"$input_dir/test_norm_luad_lscc_medium.csv\""
   ]
  },
  {
   "cell_type": "markdown",
   "metadata": {},
   "source": [
    "## Training"
   ]
  },
  {
   "cell_type": "markdown",
   "metadata": {},
   "source": [
    "**Network training**: Following Coudray and colleagues, we use the InceptionV3 network architecture as implemented by Keras and shown in the figure below. The loss function is here defined as categorical cross entropy between the true labels and the network's predictions. RMSprop optimizer is utilized for learning with a learning rate of 0.1, weight decay of 0.9, momentum of 0.9 and epsilon of 1.0. Model checkpoints are automatically saved at each epoch in which the validation loss improves.  "
   ]
  },
  {
   "cell_type": "code",
   "execution_count": 145,
   "metadata": {},
   "outputs": [],
   "source": [
    "# add image from network"
   ]
  },
  {
   "cell_type": "code",
   "execution_count": 265,
   "metadata": {},
   "outputs": [
    {
     "name": "stderr",
     "output_type": "stream",
     "text": [
      "2021-08-18 16:19:46.036608: I tensorflow/stream_executor/platform/default/dso_loader.cc:48] Successfully opened dynamic library libcudart.so.11.0\n",
      "2021-08-18 16:19:47.126876: I tensorflow/stream_executor/platform/default/dso_loader.cc:48] Successfully opened dynamic library libnvinfer.so.7\n",
      "2021-08-18 16:19:47.132596: I tensorflow/stream_executor/platform/default/dso_loader.cc:48] Successfully opened dynamic library libnvinfer_plugin.so.7\n"
     ]
    },
    {
     "data": {
      "text/html": [
       "\n",
       "                Tracking run with wandb version 0.12.0<br/>\n",
       "                Syncing run <strong style=\"color:#cdcd00\">dulcet-universe-26</strong> to <a href=\"https://wandb.ai\" target=\"_blank\">Weights & Biases</a> <a href=\"https://docs.wandb.com/integrations/jupyter.html\" target=\"_blank\">(Documentation)</a>.<br/>\n",
       "                Project page: <a href=\"https://wandb.ai/daniela_/idc-pathomics-use-case-1-src\" target=\"_blank\">https://wandb.ai/daniela_/idc-pathomics-use-case-1-src</a><br/>\n",
       "                Run page: <a href=\"https://wandb.ai/daniela_/idc-pathomics-use-case-1-src/runs/2nenfbnz\" target=\"_blank\">https://wandb.ai/daniela_/idc-pathomics-use-case-1-src/runs/2nenfbnz</a><br/>\n",
       "                Run data is saved locally in <code>/home/jupyter/idc-pathomics-use-case-1/src/wandb/run-20210818_161944-2nenfbnz</code><br/><br/>\n",
       "            "
      ],
      "text/plain": [
       "<IPython.core.display.HTML object>"
      ]
     },
     "metadata": {},
     "output_type": "display_data"
    },
    {
     "name": "stderr",
     "output_type": "stream",
     "text": [
      "\n",
      "InvalidVersionSpec: Invalid version '1.0<2': invalid character(s)\n",
      "\n"
     ]
    }
   ],
   "source": [
    "wandb.login()\n",
    "run = wandb.init()"
   ]
  },
  {
   "cell_type": "code",
   "execution_count": 266,
   "metadata": {
    "collapsed": true,
    "jupyter": {
     "outputs_hidden": true
    }
   },
   "outputs": [
    {
     "name": "stdout",
     "output_type": "stream",
     "text": [
      "Train for 243 steps, validate for 54 steps\n",
      "Epoch 1/10\n",
      "242/243 [============================>.] - ETA: 1s - loss: 0.9371 - auc_1: 0.8148INFO:tensorflow:Assets written to: /home/jupyter/idc_output/20210818_161953/checkpoint_001/assets\n",
      "243/243 [==============================] - 330s 1s/step - loss: 0.9363 - auc_1: 0.8150 - val_loss: 1.3463 - val_auc_1: 0.6265\n",
      "Epoch 2/10\n",
      "242/243 [============================>.] - ETA: 1s - loss: 0.7234 - auc_1: 0.8620"
     ]
    },
    {
     "name": "stderr",
     "output_type": "stream",
     "text": [
      "2021-08-18 16:29:42.963041: W tensorflow/core/kernels/data/generator_dataset_op.cc:103] Error occurred when finalizing GeneratorDataset iterator: Cancelled: Operation was cancelled\n"
     ]
    },
    {
     "name": "stdout",
     "output_type": "stream",
     "text": [
      "INFO:tensorflow:Assets written to: /home/jupyter/idc_output/20210818_161953/checkpoint_002/assets\n",
      "243/243 [==============================] - 314s 1s/step - loss: 0.7230 - auc_1: 0.8621 - val_loss: 0.7434 - val_auc_1: 0.8537\n",
      "Epoch 3/10\n",
      "242/243 [============================>.] - ETA: 1s - loss: 0.6455 - auc_1: 0.8871"
     ]
    },
    {
     "name": "stderr",
     "output_type": "stream",
     "text": [
      "2021-08-18 16:34:56.381967: W tensorflow/core/kernels/data/generator_dataset_op.cc:103] Error occurred when finalizing GeneratorDataset iterator: Cancelled: Operation was cancelled\n"
     ]
    },
    {
     "name": "stdout",
     "output_type": "stream",
     "text": [
      "INFO:tensorflow:Assets written to: /home/jupyter/idc_output/20210818_161953/checkpoint_003/assets\n",
      "243/243 [==============================] - 317s 1s/step - loss: 0.6453 - auc_1: 0.8872 - val_loss: 0.7704 - val_auc_1: 0.8376\n",
      "Epoch 4/10\n",
      "242/243 [============================>.] - ETA: 1s - loss: 0.6129 - auc_1: 0.8981"
     ]
    },
    {
     "name": "stderr",
     "output_type": "stream",
     "text": [
      "2021-08-18 16:40:14.207241: W tensorflow/core/kernels/data/generator_dataset_op.cc:103] Error occurred when finalizing GeneratorDataset iterator: Cancelled: Operation was cancelled\n"
     ]
    },
    {
     "name": "stdout",
     "output_type": "stream",
     "text": [
      "INFO:tensorflow:Assets written to: /home/jupyter/idc_output/20210818_161953/checkpoint_004/assets\n",
      "243/243 [==============================] - 316s 1s/step - loss: 0.6128 - auc_1: 0.8981 - val_loss: 0.6372 - val_auc_1: 0.8921\n",
      "Epoch 5/10\n",
      "242/243 [============================>.] - ETA: 1s - loss: 0.5853 - auc_1: 0.9071"
     ]
    },
    {
     "name": "stderr",
     "output_type": "stream",
     "text": [
      "2021-08-18 16:45:27.666282: W tensorflow/core/kernels/data/generator_dataset_op.cc:103] Error occurred when finalizing GeneratorDataset iterator: Cancelled: Operation was cancelled\n"
     ]
    },
    {
     "name": "stdout",
     "output_type": "stream",
     "text": [
      "INFO:tensorflow:Assets written to: /home/jupyter/idc_output/20210818_161953/checkpoint_005/assets\n",
      "243/243 [==============================] - 315s 1s/step - loss: 0.5851 - auc_1: 0.9072 - val_loss: 0.6734 - val_auc_1: 0.8762\n",
      "Epoch 6/10\n",
      "242/243 [============================>.] - ETA: 1s - loss: 0.5524 - auc_1: 0.9164"
     ]
    },
    {
     "name": "stderr",
     "output_type": "stream",
     "text": [
      "2021-08-18 16:50:41.960759: W tensorflow/core/kernels/data/generator_dataset_op.cc:103] Error occurred when finalizing GeneratorDataset iterator: Cancelled: Operation was cancelled\n"
     ]
    },
    {
     "name": "stdout",
     "output_type": "stream",
     "text": [
      "INFO:tensorflow:Assets written to: /home/jupyter/idc_output/20210818_161953/checkpoint_006/assets\n",
      "243/243 [==============================] - 312s 1s/step - loss: 0.5523 - auc_1: 0.9165 - val_loss: 0.6298 - val_auc_1: 0.8915\n",
      "Epoch 7/10\n",
      "242/243 [============================>.] - ETA: 1s - loss: 0.5291 - auc_1: 0.9233"
     ]
    },
    {
     "name": "stderr",
     "output_type": "stream",
     "text": [
      "2021-08-18 16:55:53.645118: W tensorflow/core/kernels/data/generator_dataset_op.cc:103] Error occurred when finalizing GeneratorDataset iterator: Cancelled: Operation was cancelled\n"
     ]
    },
    {
     "name": "stdout",
     "output_type": "stream",
     "text": [
      "INFO:tensorflow:Assets written to: /home/jupyter/idc_output/20210818_161953/checkpoint_007/assets\n",
      "243/243 [==============================] - 314s 1s/step - loss: 0.5290 - auc_1: 0.9234 - val_loss: 0.7583 - val_auc_1: 0.8393\n",
      "Epoch 8/10\n",
      "242/243 [============================>.] - ETA: 1s - loss: 0.5098 - auc_1: 0.9288"
     ]
    },
    {
     "name": "stderr",
     "output_type": "stream",
     "text": [
      "2021-08-18 17:01:06.766472: W tensorflow/core/kernels/data/generator_dataset_op.cc:103] Error occurred when finalizing GeneratorDataset iterator: Cancelled: Operation was cancelled\n"
     ]
    },
    {
     "name": "stdout",
     "output_type": "stream",
     "text": [
      "INFO:tensorflow:Assets written to: /home/jupyter/idc_output/20210818_161953/checkpoint_008/assets\n",
      "243/243 [==============================] - 310s 1s/step - loss: 0.5099 - auc_1: 0.9288 - val_loss: 0.5649 - val_auc_1: 0.9133\n",
      "Epoch 9/10\n",
      "242/243 [============================>.] - ETA: 1s - loss: 0.4932 - auc_1: 0.9336"
     ]
    },
    {
     "name": "stderr",
     "output_type": "stream",
     "text": [
      "2021-08-18 17:06:17.501693: W tensorflow/core/kernels/data/generator_dataset_op.cc:103] Error occurred when finalizing GeneratorDataset iterator: Cancelled: Operation was cancelled\n"
     ]
    },
    {
     "name": "stdout",
     "output_type": "stream",
     "text": [
      "INFO:tensorflow:Assets written to: /home/jupyter/idc_output/20210818_161953/checkpoint_009/assets\n",
      "243/243 [==============================] - 314s 1s/step - loss: 0.4933 - auc_1: 0.9336 - val_loss: 0.5760 - val_auc_1: 0.9144\n",
      "Epoch 10/10\n",
      "242/243 [============================>.] - ETA: 1s - loss: 0.4774 - auc_1: 0.9372"
     ]
    },
    {
     "name": "stderr",
     "output_type": "stream",
     "text": [
      "2021-08-18 17:11:31.115845: W tensorflow/core/kernels/data/generator_dataset_op.cc:103] Error occurred when finalizing GeneratorDataset iterator: Cancelled: Operation was cancelled\n"
     ]
    },
    {
     "name": "stdout",
     "output_type": "stream",
     "text": [
      "INFO:tensorflow:Assets written to: /home/jupyter/idc_output/20210818_161953/checkpoint_010/assets\n",
      "243/243 [==============================] - 314s 1s/step - loss: 0.4773 - auc_1: 0.9373 - val_loss: 0.7308 - val_auc_1: 0.8669\n"
     ]
    },
    {
     "name": "stderr",
     "output_type": "stream",
     "text": [
      "2021-08-18 17:12:33.064179: W tensorflow/core/kernels/data/generator_dataset_op.cc:103] Error occurred when finalizing GeneratorDataset iterator: Cancelled: Operation was cancelled\n",
      "2021-08-18 17:12:33.070001: W tensorflow/core/kernels/data/generator_dataset_op.cc:103] Error occurred when finalizing GeneratorDataset iterator: Cancelled: Operation was cancelled\n"
     ]
    }
   ],
   "source": [
    "from data.data_set import Dataset\n",
    "from model.inceptionv3_model import InceptionModel\n",
    "\n",
    "output_dir_experiment = os.path.join(output_dir, time.strftime(\"%Y%m%d_%H%M%S\"))\n",
    "os.mkdir(output_dir_experiment)\n",
    "\n",
    "# Load datasets\n",
    "dataset_train = Dataset(os.path.join(input_dir, 'train_norm_luad_lscc_smaller.csv'), num_classes=3)\n",
    "dataset_valid = Dataset(os.path.join(input_dir, 'valid_norm_luad_lscc_smaller.csv'), num_classes=3)\n",
    "\n",
    "# Model set-up and training\n",
    "model = InceptionModel(num_classes=3, input_shape=(128,128,3), learning_rate=0.1)\n",
    "model.train(dataset_train, batch_size=512, epochs=10, output_path=output_dir_experiment, validation_dataset=dataset_valid) "
   ]
  },
  {
   "cell_type": "code",
   "execution_count": 267,
   "metadata": {},
   "outputs": [
    {
     "data": {
      "text/html": [
       "<br/>Waiting for W&B process to finish, PID 21828<br/>Program ended successfully."
      ],
      "text/plain": [
       "<IPython.core.display.HTML object>"
      ]
     },
     "metadata": {},
     "output_type": "display_data"
    },
    {
     "data": {
      "application/vnd.jupyter.widget-view+json": {
       "model_id": "",
       "version_major": 2,
       "version_minor": 0
      },
      "text/plain": [
       "VBox(children=(Label(value=' 0.00MB of 0.00MB uploaded (0.00MB deduped)\\r'), FloatProgress(value=1.0, max=1.0)…"
      ]
     },
     "metadata": {},
     "output_type": "display_data"
    },
    {
     "data": {
      "text/html": [
       "Find user logs for this run at: <code>/home/jupyter/idc-pathomics-use-case-1/src/wandb/run-20210818_161944-2nenfbnz/logs/debug.log</code>"
      ],
      "text/plain": [
       "<IPython.core.display.HTML object>"
      ]
     },
     "metadata": {},
     "output_type": "display_data"
    },
    {
     "data": {
      "text/html": [
       "Find internal logs for this run at: <code>/home/jupyter/idc-pathomics-use-case-1/src/wandb/run-20210818_161944-2nenfbnz/logs/debug-internal.log</code>"
      ],
      "text/plain": [
       "<IPython.core.display.HTML object>"
      ]
     },
     "metadata": {},
     "output_type": "display_data"
    },
    {
     "data": {
      "text/html": [
       "Synced 5 W&B file(s), 0 media file(s), 0 artifact file(s) and 0 other file(s)"
      ],
      "text/plain": [
       "<IPython.core.display.HTML object>"
      ]
     },
     "metadata": {},
     "output_type": "display_data"
    },
    {
     "data": {
      "text/html": [
       "\n",
       "                    <br/>Synced <strong style=\"color:#cdcd00\">dulcet-universe-26</strong>: <a href=\"https://wandb.ai/daniela_/idc-pathomics-use-case-1-src/runs/2nenfbnz\" target=\"_blank\">https://wandb.ai/daniela_/idc-pathomics-use-case-1-src/runs/2nenfbnz</a><br/>\n",
       "                "
      ],
      "text/plain": [
       "<IPython.core.display.HTML object>"
      ]
     },
     "metadata": {},
     "output_type": "display_data"
    }
   ],
   "source": [
    "run.finish()"
   ]
  },
  {
   "cell_type": "markdown",
   "metadata": {},
   "source": [
    "## Evaluation"
   ]
  },
  {
   "cell_type": "markdown",
   "metadata": {},
   "source": [
    "explanatory text, explain ROC analysis? micro average.../ slide-based average probability/percentage positive "
   ]
  },
  {
   "cell_type": "code",
   "execution_count": 268,
   "metadata": {},
   "outputs": [],
   "source": [
    "#checkpoints = glob.glob(os.path.join(output_dir_experiment, 'checkpoint*/'))\n",
    "#checkpoints.sort()\n",
    "#best_model_dir = checkpoints[-1] # last checkpoint is the one with the best validation loss \n",
    "from model.inceptionv3_model import InceptionModel\n",
    "from data.data_set import Dataset\n",
    "output_dir_experiment='/home/jupyter/idc_output/20210818_161953/'\n",
    "best_model_dir = '/home/jupyter/idc_output/20210818_161953/checkpoint_008'\n",
    "best_model = InceptionModel.load(best_model_dir)"
   ]
  },
  {
   "cell_type": "code",
   "execution_count": null,
   "metadata": {},
   "outputs": [],
   "source": [
    "from evaluation.predictions import Predictions\n",
    "\n",
    "test_dataset = Dataset(os.path.join(input_dir, 'test_norm_luad_lscc_small.csv'), num_classes=3)\n",
    "predictions = Predictions(best_model, test_dataset) \n",
    "predictions.save(os.path.join(output_dir_experiment, 'predictions_testset_small.json'))"
   ]
  },
  {
   "cell_type": "code",
   "execution_count": 272,
   "metadata": {},
   "outputs": [
    {
     "data": {
      "text/html": [
       "<div>\n",
       "<style scoped>\n",
       "    .dataframe tbody tr th:only-of-type {\n",
       "        vertical-align: middle;\n",
       "    }\n",
       "\n",
       "    .dataframe tbody tr th {\n",
       "        vertical-align: top;\n",
       "    }\n",
       "\n",
       "    .dataframe thead tr th {\n",
       "        text-align: left;\n",
       "    }\n",
       "</style>\n",
       "<table border=\"1\" class=\"dataframe\">\n",
       "  <thead>\n",
       "    <tr>\n",
       "      <th></th>\n",
       "      <th colspan=\"2\" halign=\"left\">tile-based</th>\n",
       "      <th colspan=\"4\" halign=\"left\">slide-based</th>\n",
       "    </tr>\n",
       "    <tr>\n",
       "      <th></th>\n",
       "      <th colspan=\"2\" halign=\"left\"></th>\n",
       "      <th colspan=\"2\" halign=\"left\">average probability</th>\n",
       "      <th colspan=\"2\" halign=\"left\">percentage positive</th>\n",
       "    </tr>\n",
       "    <tr>\n",
       "      <th></th>\n",
       "      <th>auc</th>\n",
       "      <th>confidence</th>\n",
       "      <th>auc</th>\n",
       "      <th>confidence</th>\n",
       "      <th>auc</th>\n",
       "      <th>confidence</th>\n",
       "    </tr>\n",
       "  </thead>\n",
       "  <tbody>\n",
       "    <tr>\n",
       "      <th>Normal</th>\n",
       "      <td>0.908872</td>\n",
       "      <td>[0.9048882277011108, 0.9126389463550317]</td>\n",
       "      <td>0.968394</td>\n",
       "      <td>[0.9444346755758748, 0.9867204496011603]</td>\n",
       "      <td>0.955275</td>\n",
       "      <td>[0.9223394495412844, 0.9829971314888498]</td>\n",
       "    </tr>\n",
       "    <tr>\n",
       "      <th>LUAD</th>\n",
       "      <td>0.848867</td>\n",
       "      <td>[0.844148006201662, 0.8531464239102744]</td>\n",
       "      <td>0.868591</td>\n",
       "      <td>[0.8248214095319331, 0.9076781459822395]</td>\n",
       "      <td>0.858826</td>\n",
       "      <td>[0.8160112359550562, 0.9000228414801277]</td>\n",
       "    </tr>\n",
       "    <tr>\n",
       "      <th>LUSC</th>\n",
       "      <td>0.857335</td>\n",
       "      <td>[0.8525412380917878, 0.8620733704241026]</td>\n",
       "      <td>0.897563</td>\n",
       "      <td>[0.8604513604513604, 0.9314285714285714]</td>\n",
       "      <td>0.895397</td>\n",
       "      <td>[0.8551600735080762, 0.9297385620915033]</td>\n",
       "    </tr>\n",
       "    <tr>\n",
       "      <th>Micro</th>\n",
       "      <td>0.872817</td>\n",
       "      <td>[0.8703269795094752, 0.8755047982833484]</td>\n",
       "      <td>0.913019</td>\n",
       "      <td>[0.8926495061488253, 0.9301169276979191]</td>\n",
       "      <td>0.90386</td>\n",
       "      <td>[0.8805180620761606, 0.9244890835237369]</td>\n",
       "    </tr>\n",
       "    <tr>\n",
       "      <th>Macro</th>\n",
       "      <td>0.871691</td>\n",
       "      <td>NaN</td>\n",
       "      <td>0.913281</td>\n",
       "      <td>NaN</td>\n",
       "      <td>0.904372</td>\n",
       "      <td>NaN</td>\n",
       "    </tr>\n",
       "  </tbody>\n",
       "</table>\n",
       "</div>"
      ],
      "text/plain": [
       "       tile-based                                            \\\n",
       "                                                              \n",
       "              auc                                confidence   \n",
       "Normal   0.908872  [0.9048882277011108, 0.9126389463550317]   \n",
       "LUAD     0.848867   [0.844148006201662, 0.8531464239102744]   \n",
       "LUSC     0.857335  [0.8525412380917878, 0.8620733704241026]   \n",
       "Micro    0.872817  [0.8703269795094752, 0.8755047982833484]   \n",
       "Macro    0.871691                                       NaN   \n",
       "\n",
       "               slide-based                                            \\\n",
       "       average probability                                             \n",
       "                       auc                                confidence   \n",
       "Normal            0.968394  [0.9444346755758748, 0.9867204496011603]   \n",
       "LUAD              0.868591  [0.8248214095319331, 0.9076781459822395]   \n",
       "LUSC              0.897563  [0.8604513604513604, 0.9314285714285714]   \n",
       "Micro             0.913019  [0.8926495061488253, 0.9301169276979191]   \n",
       "Macro             0.913281                                       NaN   \n",
       "\n",
       "                                                                      \n",
       "       percentage positive                                            \n",
       "                       auc                                confidence  \n",
       "Normal            0.955275  [0.9223394495412844, 0.9829971314888498]  \n",
       "LUAD              0.858826  [0.8160112359550562, 0.9000228414801277]  \n",
       "LUSC              0.895397  [0.8551600735080762, 0.9297385620915033]  \n",
       "Micro              0.90386  [0.8805180620761606, 0.9244890835237369]  \n",
       "Macro             0.904372                                       NaN  "
      ]
     },
     "metadata": {},
     "output_type": "display_data"
    },
    {
     "data": {
      "image/png": "[encoded data removed]",
      "text/plain": [
       "<Figure size 1008x288 with 2 Axes>"
      ]
     },
     "metadata": {},
     "output_type": "display_data"
    }
   ],
   "source": [
    "from evaluation.roc import ROCAnalysis\n",
    "\n",
    "roc_analysis = ROCAnalysis(predictions, experiment='norm_luad_lusc')\n",
    "roc_analysis.print_and_save_tabluar_results(os.path.join(output_dir_experiment, 'results_table_small.html'))\n",
    "roc_analysis.plot_and_save(output_dir_experiment) "
   ]
  },
  {
   "cell_type": "code",
   "execution_count": 233,
   "metadata": {},
   "outputs": [
    {
     "name": "stderr",
     "output_type": "stream",
     "text": [
      "Clipping input data to the valid range for imshow with RGB data ([0..1] for floats or [0..255] for integers).\n",
      "Clipping input data to the valid range for imshow with RGB data ([0..1] for floats or [0..255] for integers).\n",
      "Clipping input data to the valid range for imshow with RGB data ([0..1] for floats or [0..255] for integers).\n"
     ]
    },
    {
     "data": {
      "text/plain": [
       "(-0.5, 299.5, 265.5, -0.5)"
      ]
     },
     "execution_count": 233,
     "metadata": {},
     "output_type": "execute_result"
    },
    {
     "data": {
      "image/png": "[encoded data removed]",
      "text/plain": [
       "<Figure size 108x72 with 3 Axes>"
      ]
     },
     "metadata": {},
     "output_type": "display_data"
    },
    {
     "data": {
      "image/png": "[encoded data removed]",
      "text/plain": [
       "<Figure size 720x648 with 6 Axes>"
      ]
     },
     "metadata": {},
     "output_type": "display_data"
    }
   ],
   "source": [
    "from evaluation.heatmap import get_heatmap, plot_colormap_legend\n",
    "from evaluation.predictions import Predictions\n",
    "\n",
    "import matplotlib\n",
    "predictions = Predictions.load('/home/jupyter/idc_output/20210816_125633/predictions_testset_tiny.json')\n",
    "\n",
    "slide1 = plt.imread('/home/jupyter/idc_input/cptac_slides/C3L-00095-26.png')\n",
    "slide2 = plt.imread('/home/jupyter/idc_input/cptac_slides/C3L-00095-26.png')\n",
    "slide3 = plt.imread('/home/jupyter/idc_input/cptac_slides/C3L-00095-26.png')\n",
    "plot_colormap_legend()\n",
    "\n",
    "fig3, ((ax1, ax2), (ax3, ax4), (ax5, ax6)) = plt.subplots(3, 2, figsize=(10, 9))\n",
    "ax1.imshow(get_heatmap(predictions, 'C3L-00913-22'))\n",
    "ax1.axis('off')\n",
    "ax2.imshow(slide1)\n",
    "ax2.axis('off')\n",
    "ax3.imshow(get_heatmap(predictions, 'C3L-04873-21'))\n",
    "ax3.axis('off')\n",
    "ax4.imshow(slide2)\n",
    "ax4.axis('off')\n",
    "ax5.imshow(get_heatmap(predictions, 'C3L-00913-22'))\n",
    "ax5.axis('off')\n",
    "ax6.imshow(slide3)\n",
    "ax6.axis('off')"
   ]
  },
  {
   "cell_type": "markdown",
   "metadata": {},
   "source": [
    "## Notes for improvement\n",
    "- vielleicht ueberall funktionsparameter benennen zur besseren verstaendlichkeit**\n",
    "- suppress warnings that we don't want the user to see all the time\n",
    "- State some final remarks in this notebook? \n",
    "- Skip micro/macro averaging for this use case?\n",
    "- no confidence interval computation? \n",
    "- remove make_single_prediction?\n",
    "- remove wandb.logger from code \n",
    "- How many details about lr etc in code? \n",
    "- keep colors consistent (introduce in the beginning) \n",
    "- weniger Betonung auf Coudray? \n",
    "- comments about how long tile generation lasts "
   ]
  },
  {
   "cell_type": "code",
   "execution_count": null,
   "metadata": {},
   "outputs": [],
   "source": []
  }
 ],
 "metadata": {
  "environment": {
   "name": "tf2-gpu.2-1.m75",
   "type": "gcloud",
   "uri": "gcr.io/deeplearning-platform-release/tf2-gpu.2-1:m75"
  },
  "kernelspec": {
   "display_name": "Python 3",
   "language": "python",
   "name": "python3"
  },
  "language_info": {
   "codemirror_mode": {
    "name": "ipython",
    "version": 3
   },
   "file_extension": ".py",
   "mimetype": "text/x-python",
   "name": "python",
   "nbconvert_exporter": "python",
   "pygments_lexer": "ipython3",
   "version": "3.7.10"
  }
 },
 "nbformat": 4,
 "nbformat_minor": 4
}
