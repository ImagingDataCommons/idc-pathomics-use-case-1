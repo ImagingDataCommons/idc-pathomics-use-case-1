{
 "cells": [
  {
   "cell_type": "code",
   "execution_count": 1,
   "metadata": {},
   "outputs": [],
   "source": [
    "%load_ext autoreload\n",
    "%autoreload 2"
   ]
  },
  {
   "cell_type": "markdown",
   "metadata": {},
   "source": [
    "# Training only"
   ]
  },
  {
   "cell_type": "code",
   "execution_count": 3,
   "metadata": {},
   "outputs": [
    {
     "name": "stdout",
     "output_type": "stream",
     "text": [
      "Model: \"sequential\"\n",
      "_________________________________________________________________\n",
      "Layer (type)                 Output Shape              Param #   \n",
      "=================================================================\n",
      "conv2d (Conv2D)              (None, 510, 510, 32)      896       \n",
      "_________________________________________________________________\n",
      "max_pooling2d (MaxPooling2D) (None, 255, 255, 32)      0         \n",
      "_________________________________________________________________\n",
      "conv2d_1 (Conv2D)            (None, 253, 253, 64)      18496     \n",
      "_________________________________________________________________\n",
      "max_pooling2d_1 (MaxPooling2 (None, 126, 126, 64)      0         \n",
      "_________________________________________________________________\n",
      "flatten (Flatten)            (None, 1016064)           0         \n",
      "_________________________________________________________________\n",
      "dense (Dense)                (None, 1)                 1016065   \n",
      "=================================================================\n",
      "Total params: 1,035,457\n",
      "Trainable params: 1,035,457\n",
      "Non-trainable params: 0\n",
      "_________________________________________________________________\n",
      "Train for 22 steps\n",
      "Epoch 1/2\n",
      "22/22 [==============================] - 13s 606ms/step - loss: 0.0286\n",
      "Epoch 2/2\n",
      "22/22 [==============================] - 14s 656ms/step - loss: 0.0000e+00\n",
      "WARNING:tensorflow:From /usr/local/lib/python3.6/dist-packages/tensorflow_core/python/ops/resource_variable_ops.py:1786: calling BaseResourceVariable.__init__ (from tensorflow.python.ops.resource_variable_ops) with constraint is deprecated and will be removed in a future version.\n",
      "Instructions for updating:\n",
      "If using Keras pass *_constraint arguments to layers.\n",
      "INFO:tensorflow:Assets written to: /output_data/trained_model/assets\n",
      "prediction on some sample: 1.000000 (reference is 1)\n"
     ]
    }
   ],
   "source": [
    "import json\n",
    "from data.data_set import Dataset\n",
    "from model.inceptionv3_model import InceptionModel\n",
    "\n",
    "dataset_train = Dataset('/output/csv_train_norm_cancer.csv', num_classes=2)\n",
    "dataset_valid = Dataset('/output/csv_valid_norm_cancer.csv', num_classes=2)\n",
    "model = InceptionModel(num_classes=2)\n",
    "print(model)\n",
    "\n",
    "history = model.train(dataset_train, batch_size=4, epochs=2, validation_dataset=dataset_valid)\n",
    "\n",
    "# save model and history\n",
    "model.save('/output/trained_model')\n",
    "with open('/output/training_history.json', 'w') as hist:\n",
    "    json.dump(history, hist)\n",
    "\n",
    "# some prediction\n",
    "data_point = dataset.data_points[0]\n",
    "prediction = model.predict(data_point)\n",
    "print('prediction on some sample: %f (reference is %d)' % (prediction, data_point.get_reference_value()))"
   ]
  },
  {
   "cell_type": "code",
   "execution_count": null,
   "metadata": {},
   "outputs": [],
   "source": []
  }
 ],
 "metadata": {
  "kernelspec": {
   "display_name": "Python 3",
   "language": "python",
   "name": "python3"
  },
  "language_info": {
   "codemirror_mode": {
    "name": "ipython",
    "version": 3
   },
   "file_extension": ".py",
   "mimetype": "text/x-python",
   "name": "python",
   "nbconvert_exporter": "python",
   "pygments_lexer": "ipython3",
   "version": "3.6.9"
  }
 },
 "nbformat": 4,
 "nbformat_minor": 4
}